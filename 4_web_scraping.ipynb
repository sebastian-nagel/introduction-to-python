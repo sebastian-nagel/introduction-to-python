{
 "cells": [
  {
   "cell_type": "markdown",
   "id": "stupid-remedy",
   "metadata": {
    "slideshow": {
     "slide_type": "slide"
    }
   },
   "source": [
    "Web Scraping\n",
    "============\n",
    "\n",
    "- HTTP requests\n",
    "- HTML, XML, DOM, CSS selectors, XPath\n",
    "- browser automation\n",
    "- cleanse and export extracted data\n",
    "\n",
    "Web-based (or browser-based) user interfaces are ubiquitous\n",
    "\n",
    "- web browser as universal platform to run software (at least, the user interface)\n",
    "- if a human is able to access information in WWW using a web browser,\n",
    "  also a computer program can access the same information and automatically extract it\n",
    "- challenges: navigate a web page, execute user interaction (mouse clicks, forms)\n",
    "- real challenges: login forms, captchas, IP blocking, etc.\n",
    "  - not covered here\n",
    "  - also: ethical considerations whether or not to get around access blocking\n",
    "- well-defined technology stack\n",
    "  - HTTP\n",
    "  - HTML / XML\n",
    "  - DOM\n",
    "  - CSS\n",
    "  - XPath\n",
    "  - JavaScript\n"
   ]
  },
  {
   "cell_type": "markdown",
   "id": "several-waters",
   "metadata": {
    "slideshow": {
     "slide_type": "subslide"
    }
   },
   "source": [
    "## Web Browser\n",
    "\n",
    "- render HTML page to make it readable for humans\n",
    "- basic navigation in the WWW (follow links)\n",
    "- [text-based browsers](https://en.wikipedia.org/wiki/Text-based_web_browser)\n",
    "  ```\n",
    "  lynx https://www.bundestag.de/parlament/fraktionen/cducsu\n",
    "  ```\n",
    "- modern graphical browsers\n",
    "  - interpret JavaScript\n",
    "  - show multi-media content\n",
    "  - run “web applications”\n",
    "- headless vs. headful browsers\n",
    "  - headful: graphical user interface attached\n",
    "  - [headless](https://en.wikipedia.org/wiki/Headless_browser)\n",
    "    - controlled programmatically or via command-line\n",
    "    - interaction but no mandatory page rendering (saves resources: CPU, RAM)"
   ]
  },
  {
   "cell_type": "code",
   "execution_count": 1,
   "id": "authorized-pendant",
   "metadata": {},
   "outputs": [
    {
     "data": {
      "text/plain": [
       "6"
      ]
     },
     "execution_count": 1,
     "metadata": {},
     "output_type": "execute_result"
    }
   ],
   "source": [
    "(1 + 2\n",
    " + 3)"
   ]
  },
  {
   "cell_type": "markdown",
   "id": "negative-drain",
   "metadata": {
    "slideshow": {
     "slide_type": "subslide"
    }
   },
   "source": [
    "### Tip: Extract Text and Links Using a Text-Based Browser\n",
    "\n",
    "Tip: text-based browsers usually have an option to \"dump\" the text and/or link lists into a file, e.g.\n",
    "\n",
    "```\n",
    "lynx -dump https://www.bundestag.de/parlament/fraktionen/cducsu \\\n",
    "    >data/bundestag/fraktionen.cducsu.txt\n",
    "```"
   ]
  },
  {
   "cell_type": "markdown",
   "id": "wireless-character",
   "metadata": {
    "slideshow": {
     "slide_type": "subslide"
    }
   },
   "source": [
    "### Tip: Explore Web Pages and Web Technologies using the Developer Tool of your Web Browser\n",
    "\n",
    "Modern web browsers (Firefox, Chromium, IE, etc.) include a set of [web development tools](https://en.wikipedia.org/wiki/Web_development_tools). Originally addressed to web developers to test and debug the code (HTML, CSS, Javascript) used to build a web site, the browser web developer tools are the easiest way to explore and understand the technologies used to build a web site. The initial exploration later helps to scrape data from the web site."
   ]
  },
  {
   "cell_type": "markdown",
   "id": "legitimate-latter",
   "metadata": {
    "slideshow": {
     "slide_type": "subslide"
    }
   },
   "source": [
    "### Browser Automation\n",
    "\n",
    "- load a page by URL including page dependencies (CSS, Javascript, images, media)\n",
    "- simulate user interaction (clicks, input, scrolling)\n",
    "- take screenshots\n",
    "- access the DOM tree or the HTML modified by executed Javascript and user interactions\n",
    "  from/in the browser to extract data"
   ]
  },
  {
   "cell_type": "markdown",
   "id": "seven-lounge",
   "metadata": {
    "slideshow": {
     "slide_type": "slide"
    }
   },
   "source": [
    "## Process HTML Pages in Python\n",
    "\n",
    "- [requests](https://pypi.org/project/requests/) to fetch pages via HTTP\n",
    "- [beautifulsoup](https://pypi.org/project/beautifulsoup4/) to parse HTML"
   ]
  },
  {
   "cell_type": "code",
   "execution_count": 2,
   "id": "signed-listing",
   "metadata": {
    "slideshow": {
     "slide_type": "subslide"
    }
   },
   "outputs": [
    {
     "data": {
      "text/plain": [
       "<Response [200]>"
      ]
     },
     "execution_count": 2,
     "metadata": {},
     "output_type": "execute_result"
    }
   ],
   "source": [
    "import requests\n",
    "\n",
    "request_url = 'https://www.bundestag.de/parlament/fraktionen/cducsu'\n",
    "response = requests.get(request_url)\n",
    "\n",
    "response"
   ]
  },
  {
   "cell_type": "code",
   "execution_count": 3,
   "id": "mediterranean-situation",
   "metadata": {},
   "outputs": [
    {
     "data": {
      "text/plain": [
       "{'date': 'Sun, 30 Jan 2022 20:52:48 GMT', 'content-type': 'text/html;charset=UTF-8', 'content-length': '19906', 'vary': 'Origin,Access-Control-Request-Method,Access-Control-Request-Headers,Accept-Encoding', 'x-content-type-options': 'nosniff', 'x-xss-protection': '1; mode=block', 'x-frame-options': 'DENY', 'content-language': 'de', 'content-encoding': 'gzip', 'x-ua-compatible': 'IE=edge', 'x-varnish': '39805628 39637534', 'age': '261', 'via': '1.1 Varnish', 'accept-ranges': 'bytes', 'cache-control': 'max-age=900', 'strict-transport-security': 'max-age=31536000'}"
      ]
     },
     "execution_count": 3,
     "metadata": {},
     "output_type": "execute_result"
    }
   ],
   "source": [
    "response.headers"
   ]
  },
  {
   "cell_type": "code",
   "execution_count": 4,
   "id": "promising-norway",
   "metadata": {
    "slideshow": {
     "slide_type": "subslide"
    }
   },
   "outputs": [
    {
     "data": {
      "text/plain": [
       "200"
      ]
     },
     "execution_count": 4,
     "metadata": {},
     "output_type": "execute_result"
    }
   ],
   "source": [
    "response.status_code"
   ]
  },
  {
   "cell_type": "code",
   "execution_count": 5,
   "id": "forty-sunset",
   "metadata": {
    "slideshow": {
     "slide_type": "subslide"
    }
   },
   "outputs": [
    {
     "name": "stdout",
     "output_type": "stream",
     "text": [
      "Requirement already satisfied: beautifulsoup4 in ./.venv/lib/python3.9/site-packages (4.10.0)\r\n",
      "Requirement already satisfied: soupsieve>1.2 in ./.venv/lib/python3.9/site-packages (from beautifulsoup4) (2.3.1)\r\n"
     ]
    }
   ],
   "source": [
    "!pip install beautifulsoup4"
   ]
  },
  {
   "cell_type": "code",
   "execution_count": 6,
   "id": "received-satisfaction",
   "metadata": {
    "slideshow": {
     "slide_type": "subslide"
    }
   },
   "outputs": [
    {
     "data": {
      "text/plain": [
       "<title>Deutscher Bundestag - CDU/CSU-Fraktion</title>"
      ]
     },
     "execution_count": 6,
     "metadata": {},
     "output_type": "execute_result"
    }
   ],
   "source": [
    "from bs4 import BeautifulSoup\n",
    "\n",
    "html = BeautifulSoup(response.text)\n",
    "\n",
    "html.head.title  # tree-style path addressing of HTML elements"
   ]
  },
  {
   "cell_type": "markdown",
   "id": "polar-overhead",
   "metadata": {
    "slideshow": {
     "slide_type": "subslide"
    }
   },
   "source": [
    "Note: the HTML document can be represented as a tree structure aka. [DOM tree](https://en.wikipedia.org/wiki/Document_Object_Model):\n",
    "```\n",
    "html\n",
    "├── head\n",
    "│   ├── meta\n",
    "│   │   └── @charset=utf-8\n",
    "│   └── title\n",
    "│       └── ...(text)\n",
    "└── body\n",
    "    └── ...\n",
    "```\n",
    "\n",
    "The tree above is an equivalent representation for the HTML snippet\n",
    "\n",
    "```html\n",
    "<!DOCTYPE html>\n",
    "<html>\n",
    "<head>\n",
    "  <meta charset=\"utf-8\" />\n",
    "  <title>Deutscher Bundestag - CDU/CSU-Fraktion</title>\n",
    "</head>\n",
    "<body>\n",
    "  ...\n",
    "</body>\n",
    "</html>\n",
    "```"
   ]
  },
  {
   "cell_type": "code",
   "execution_count": 7,
   "id": "varied-charter",
   "metadata": {
    "slideshow": {
     "slide_type": "subslide"
    }
   },
   "outputs": [
    {
     "data": {
      "text/plain": [
       "'Deutscher Bundestag - CDU/CSU-Fraktion'"
      ]
     },
     "execution_count": 7,
     "metadata": {},
     "output_type": "execute_result"
    }
   ],
   "source": [
    "# access the plain text of an HTML element\n",
    "# (inside the opening and closing tag)\n",
    "html.head.title.text"
   ]
  },
  {
   "cell_type": "code",
   "execution_count": 8,
   "id": "reported-workplace",
   "metadata": {
    "slideshow": {
     "slide_type": "subslide"
    }
   },
   "outputs": [
    {
     "data": {
      "text/plain": [
       "'Deutscher Bundestag - CDU/CSU-Fraktion'"
      ]
     },
     "execution_count": 8,
     "metadata": {},
     "output_type": "execute_result"
    }
   ],
   "source": [
    "# beautifulsoup also allows to select elements by tag name without a tree-like path\n",
    "\n",
    "html.find('title').text"
   ]
  },
  {
   "cell_type": "code",
   "execution_count": 9,
   "id": "bottom-still",
   "metadata": {
    "slideshow": {
     "slide_type": "subslide"
    }
   },
   "outputs": [
    {
     "data": {
      "text/plain": [
       "[<a class=\"sr-only sr-only-focusable\" href=\"#main\" title=\"Direkt zum Hauptinhalt springen\">Direkt zum Hauptinhalt springen</a>,\n",
       " <a class=\"sr-only sr-only-focusable\" href=\"#main-menu\" title=\"Direkt zum Hauptmenü springen\">Direkt zum Hauptmenü springen</a>,\n",
       " <a href=\"https://www.bundestag.de/webarchiv\" hreflang=\"de\" lang=\"de\" title=\"Archiv\" xml:lang=\"de\">\n",
       " <span class=\"sr-only-sm-down\">Archiv</span>\n",
       " <span class=\"visible-xs-inline\">Archiv</span>\n",
       " </a>]"
      ]
     },
     "execution_count": 9,
     "metadata": {},
     "output_type": "execute_result"
    }
   ],
   "source": [
    "# or if a tag is expected to appear multiple times:\n",
    "# select all `a` elements and show the first three\n",
    "html.findAll('a')[0:3]"
   ]
  },
  {
   "cell_type": "code",
   "execution_count": 10,
   "id": "adjustable-reaction",
   "metadata": {
    "slideshow": {
     "slide_type": "subslide"
    }
   },
   "outputs": [
    {
     "data": {
      "text/plain": [
       "<article class=\"bt-artikel col-xs-12 col-md-6 bt-standard-content\">\n",
       "<h3 class=\"bt-artikel__title\">CDU/CSU-Fraktion</h3>\n",
       "<div class=\"bt-bild-standard bt-bild-max\" data-nosnippet=\"true\">\n",
       "<img alt=\"Beschilderung einer Tür im Bereich der CDU/CSU-Fraktion auf der Fraktionsebene im Reichstagsgebäude.\" class=\"img-responsive\" data-img-md-normal=\"/resource/image/221096/16x9/570/321/531a1f0d2ca39975478dc1986d66ca19/BV/cducsu_logo.jpg\" data-img-md-retina=\"/resource/image/221096/16x9/1140/642/531a1f0d2ca39975478dc1986d66ca19/qB/cducsu_logo.jpg\" data-img-sm-normal=\"/resource/image/221096/16x9/926/522/531a1f0d2ca39975478dc1986d66ca19/CJ/cducsu_logo.jpg\" data-img-sm-retina=\"/resource/image/221096/16x9/1852/1044/531a1f0d2ca39975478dc1986d66ca19/lc/cducsu_logo.jpg\" data-img-xs-normal=\"/resource/image/221096/16x9/730/411/531a1f0d2ca39975478dc1986d66ca19/mf/cducsu_logo.jpg\" data-img-xs-retina=\"/resource/image/221096/16x9/1460/822/531a1f0d2ca39975478dc1986d66ca19/YO/cducsu_logo.jpg\" src=\"/resource/blob/451030/23aeaa0485a3e37bcf167e1a25adc481/Image16x9_big-data.png\" title=\"Logo der CDU/CSU-Fraktion\"/>\n",
       "<span class=\"bt-bild-info-icon\"><i aria-hidden=\"true\" class=\"icon-info-1\"></i>\n",
       "</span>\n",
       "<div class=\"bt-bild-info-text\">\n",
       "<span class=\"bt-bild-info-close\">\n",
       "<i aria-hidden=\"true\" class=\"icon-close\"></i>\n",
       "</span>\n",
       "<p>\n",
       "        Logo der CDU/CSU-Fraktion</p>\n",
       "<p>© DBT/Axel Hartmann Fotografie</p>\n",
       "</div>\n",
       "</div>\n",
       "<div class=\"bt-standard-content\">\n",
       "<h4>Fraktionsvorsitzender:</h4><p><a href=\"/abgeordnete/biografien/B/brinkhaus_ralph-857212\" target=\"_self\">Ralph Brinkhaus</a></p><h4>Erster Stellvertretender Fraktionsvorsitzender:</h4><p><a href=\"/abgeordnete/biografien/D/dobrindt_alexander-857264\" target=\"_self\">Alexander Dobrindt</a></p><h4>Stellvertretende Fraktionsvorsitzende:</h4><p><a href=\"/abgeordnete/biografien/B/baer_dorothee-857110\" target=\"_self\">Dorothee Bär</a><br/><a href=\"/abgeordnete/biografien/B/bilger_steffen-857146\" target=\"_self\">Steffen Bilger</a><br/><a href=\"/abgeordnete/biografien/G/groehe_hermann-857336\" target=\"_self\">Hermann Gröhe</a><br/><a href=\"/abgeordnete/biografien/L/lange_ulrich-863316\" target=\"_self\">Ulrich Lange</a><br/><a href=\"/abgeordnete/biografien/L/lindholz_andrea-857700\" target=\"_self\">Andrea Lindholz</a><br/><a href=\"/abgeordnete/biografien/L/lips_patricia-857666\" target=\"_self\">Patricia Lips</a><br/><a href=\"/abgeordnete/biografien/M/middelberg_mathias-857718\" target=\"_self\">Dr. Matthias Middelberg</a><br/><a href=\"/abgeordnete/biografien/M/mueller_sepp-857766\" target=\"_self\">Sepp Müller</a><br/><a href=\"/abgeordnete/biografien/S/schoen_nadine-858006\" target=\"_self\">Nadine Schön</a><br/><a href=\"/abgeordnete/biografien/S/spahn_jens-858012\" target=\"_self\">Jens Spahn</a><br/><a href=\"/abgeordnete/biografien/W/wadephul_johann_david-858166\" target=\"_self\">Dr. Johann David Wadephul</a></p><h4>Erster Parlamentarischer Geschäftsführer:</h4><p><a href=\"/abgeordnete/biografien/F/frei_thorsten-857308\" target=\"_self\">Thorsten Frei</a></p><h4>Stellvertreter des Ersten Parlamentarischen Geschäftsführers:</h4><p><a href=\"/abgeordnete/biografien/M/mueller_stefan-857778\" target=\"_self\">Stefan Müller</a></p><h4>Parlamentarische Geschäftsführer:</h4><p><a href=\"/abgeordnete/biografien/H/hoppenstedt_hendrik-857418\" target=\"_self\">Dr. Hendrik Hoppenstedt</a><br/><a href=\"/abgeordnete/biografien/S/schnieder_patrick-857992\" target=\"_self\">Patrick Schnieder</a><br/><a href=\"/abgeordnete/biografien/W/warken_nina-858188\" target=\"_self\">Nina Warken</a></p><h4>Justiziare:</h4><p><a href=\"/abgeordnete/biografien/F/frieser_michael-857294\" target=\"_self\">Michael Frieser</a><br/><a href=\"/abgeordnete/biografien/H/heveling_ansgar-857460\" target=\"_self\">Ansgar Heveling</a></p></div>\n",
       "</article>"
      ]
     },
     "execution_count": 10,
     "metadata": {},
     "output_type": "execute_result"
    }
   ],
   "source": [
    "# selection by CSS class name\n",
    "html.find(class_='bt-standard-content')"
   ]
  },
  {
   "cell_type": "code",
   "execution_count": 11,
   "id": "promising-while",
   "metadata": {
    "slideshow": {
     "slide_type": "subslide"
    }
   },
   "outputs": [
    {
     "data": {
      "text/plain": [
       "[<a href=\"/abgeordnete/biografien/B/brinkhaus_ralph-857212\" target=\"_self\">Ralph Brinkhaus</a>,\n",
       " <a href=\"/abgeordnete/biografien/D/dobrindt_alexander-857264\" target=\"_self\">Alexander Dobrindt</a>,\n",
       " <a href=\"/abgeordnete/biografien/B/baer_dorothee-857110\" target=\"_self\">Dorothee Bär</a>,\n",
       " <a href=\"/abgeordnete/biografien/B/bilger_steffen-857146\" target=\"_self\">Steffen Bilger</a>,\n",
       " <a href=\"/abgeordnete/biografien/G/groehe_hermann-857336\" target=\"_self\">Hermann Gröhe</a>,\n",
       " <a href=\"/abgeordnete/biografien/L/lange_ulrich-863316\" target=\"_self\">Ulrich Lange</a>,\n",
       " <a href=\"/abgeordnete/biografien/L/lindholz_andrea-857700\" target=\"_self\">Andrea Lindholz</a>,\n",
       " <a href=\"/abgeordnete/biografien/L/lips_patricia-857666\" target=\"_self\">Patricia Lips</a>,\n",
       " <a href=\"/abgeordnete/biografien/M/middelberg_mathias-857718\" target=\"_self\">Dr. Matthias Middelberg</a>,\n",
       " <a href=\"/abgeordnete/biografien/M/mueller_sepp-857766\" target=\"_self\">Sepp Müller</a>,\n",
       " <a href=\"/abgeordnete/biografien/S/schoen_nadine-858006\" target=\"_self\">Nadine Schön</a>,\n",
       " <a href=\"/abgeordnete/biografien/S/spahn_jens-858012\" target=\"_self\">Jens Spahn</a>,\n",
       " <a href=\"/abgeordnete/biografien/W/wadephul_johann_david-858166\" target=\"_self\">Dr. Johann David Wadephul</a>,\n",
       " <a href=\"/abgeordnete/biografien/F/frei_thorsten-857308\" target=\"_self\">Thorsten Frei</a>,\n",
       " <a href=\"/abgeordnete/biografien/M/mueller_stefan-857778\" target=\"_self\">Stefan Müller</a>,\n",
       " <a href=\"/abgeordnete/biografien/H/hoppenstedt_hendrik-857418\" target=\"_self\">Dr. Hendrik Hoppenstedt</a>,\n",
       " <a href=\"/abgeordnete/biografien/S/schnieder_patrick-857992\" target=\"_self\">Patrick Schnieder</a>,\n",
       " <a href=\"/abgeordnete/biografien/W/warken_nina-858188\" target=\"_self\">Nina Warken</a>,\n",
       " <a href=\"/abgeordnete/biografien/F/frieser_michael-857294\" target=\"_self\">Michael Frieser</a>,\n",
       " <a href=\"/abgeordnete/biografien/H/heveling_ansgar-857460\" target=\"_self\">Ansgar Heveling</a>]"
      ]
     },
     "execution_count": 11,
     "metadata": {},
     "output_type": "execute_result"
    }
   ],
   "source": [
    "html.find(class_='bt-standard-content').findAll('a')"
   ]
  },
  {
   "cell_type": "code",
   "execution_count": 12,
   "id": "static-application",
   "metadata": {
    "slideshow": {
     "slide_type": "subslide"
    }
   },
   "outputs": [
    {
     "data": {
      "text/plain": [
       "[<h4>Fraktionsvorsitzender:</h4>,\n",
       " <h4>Erster Stellvertretender Fraktionsvorsitzender:</h4>,\n",
       " <h4>Stellvertretende Fraktionsvorsitzende:</h4>,\n",
       " <h4>Erster Parlamentarischer Geschäftsführer:</h4>,\n",
       " <h4>Stellvertreter des Ersten Parlamentarischen Geschäftsführers:</h4>,\n",
       " <h4>Parlamentarische Geschäftsführer:</h4>,\n",
       " <h4>Justiziare:</h4>]"
      ]
     },
     "execution_count": 12,
     "metadata": {},
     "output_type": "execute_result"
    }
   ],
   "source": [
    "# but we are also interested in the function of the members:\n",
    "html.find(class_='bt-standard-content').findAll('h4')"
   ]
  },
  {
   "cell_type": "code",
   "execution_count": 13,
   "id": "received-tumor",
   "metadata": {
    "slideshow": {
     "slide_type": "subslide"
    }
   },
   "outputs": [
    {
     "name": "stdout",
     "output_type": "stream",
     "text": [
      "Fraktionsvorsitzender Ralph Brinkhaus https://www.bundestag.de/abgeordnete/biografien/B/brinkhaus_ralph-857212\n",
      "Erster Stellvertretender Fraktionsvorsitzender Alexander Dobrindt https://www.bundestag.de/abgeordnete/biografien/D/dobrindt_alexander-857264\n",
      "Stellvertretende Fraktionsvorsitzende Dorothee Bär https://www.bundestag.de/abgeordnete/biografien/B/baer_dorothee-857110\n",
      "Stellvertretende Fraktionsvorsitzende Steffen Bilger https://www.bundestag.de/abgeordnete/biografien/B/bilger_steffen-857146\n",
      "Stellvertretende Fraktionsvorsitzende Hermann Gröhe https://www.bundestag.de/abgeordnete/biografien/G/groehe_hermann-857336\n",
      "Stellvertretende Fraktionsvorsitzende Ulrich Lange https://www.bundestag.de/abgeordnete/biografien/L/lange_ulrich-863316\n",
      "Stellvertretende Fraktionsvorsitzende Andrea Lindholz https://www.bundestag.de/abgeordnete/biografien/L/lindholz_andrea-857700\n",
      "Stellvertretende Fraktionsvorsitzende Patricia Lips https://www.bundestag.de/abgeordnete/biografien/L/lips_patricia-857666\n",
      "Stellvertretende Fraktionsvorsitzende Dr. Matthias Middelberg https://www.bundestag.de/abgeordnete/biografien/M/middelberg_mathias-857718\n",
      "Stellvertretende Fraktionsvorsitzende Sepp Müller https://www.bundestag.de/abgeordnete/biografien/M/mueller_sepp-857766\n",
      "Stellvertretende Fraktionsvorsitzende Nadine Schön https://www.bundestag.de/abgeordnete/biografien/S/schoen_nadine-858006\n",
      "Stellvertretende Fraktionsvorsitzende Jens Spahn https://www.bundestag.de/abgeordnete/biografien/S/spahn_jens-858012\n",
      "Stellvertretende Fraktionsvorsitzende Dr. Johann David Wadephul https://www.bundestag.de/abgeordnete/biografien/W/wadephul_johann_david-858166\n",
      "Erster Parlamentarischer Geschäftsführer Thorsten Frei https://www.bundestag.de/abgeordnete/biografien/F/frei_thorsten-857308\n",
      "Stellvertreter des Ersten Parlamentarischen Geschäftsführers Stefan Müller https://www.bundestag.de/abgeordnete/biografien/M/mueller_stefan-857778\n",
      "Parlamentarische Geschäftsführer Dr. Hendrik Hoppenstedt https://www.bundestag.de/abgeordnete/biografien/H/hoppenstedt_hendrik-857418\n",
      "Parlamentarische Geschäftsführer Patrick Schnieder https://www.bundestag.de/abgeordnete/biografien/S/schnieder_patrick-857992\n",
      "Parlamentarische Geschäftsführer Nina Warken https://www.bundestag.de/abgeordnete/biografien/W/warken_nina-858188\n",
      "Justiziare Michael Frieser https://www.bundestag.de/abgeordnete/biografien/F/frieser_michael-857294\n",
      "Justiziare Ansgar Heveling https://www.bundestag.de/abgeordnete/biografien/H/heveling_ansgar-857460\n"
     ]
    }
   ],
   "source": [
    "from urllib.parse import urljoin\n",
    "\n",
    "for role_node in html.find(class_='bt-standard-content').findAll('h4'):\n",
    "\n",
    "    role = role_node.text.rstrip(':')\n",
    "\n",
    "    for link_node in role_node.next_sibling.findAll('a'):\n",
    "        name = link_node.text\n",
    "        link = urljoin(request_url, link_node.get('href'))\n",
    "        print(role, name, link)\n"
   ]
  },
  {
   "cell_type": "markdown",
   "id": "thousand-hungarian",
   "metadata": {
    "slideshow": {
     "slide_type": "slide"
    }
   },
   "source": [
    "Now we put everything together, so that we can run this for all factions of the parliament:\n",
    "- we use a function to\n",
    "  - fetch the page of the faction and\n",
    "  - extract the members from the page content\n",
    "- iterate over all factions\n",
    "- store the list of faction roles and MPs in a data frame and CSV"
   ]
  },
  {
   "cell_type": "code",
   "execution_count": 14,
   "id": "unavailable-daisy",
   "metadata": {
    "slideshow": {
     "slide_type": "subslide"
    }
   },
   "outputs": [],
   "source": [
    "%%script false --no-raise-error\n",
    "# uncomment the above instruction to run this code\n",
    "# note: do not run the cell by default\n",
    "# because sending 6 HTTP requests may take long\n",
    "\n",
    "import requests\n",
    "from time import sleep\n",
    "from urllib.parse import urljoin\n",
    "from bs4 import BeautifulSoup\n",
    "import pandas as pd\n",
    "\n",
    "request_base_url = 'https://www.bundestag.de/parlament/fraktionen/'\n",
    "factions = 'cducsu spd fdp linke gruene afd'.split()\n",
    "\n",
    "def get_members_of_faction(faction):\n",
    "    global request_base_url\n",
    "\n",
    "    url = request_base_url + faction\n",
    "\n",
    "    response = requests.get(url)\n",
    "    if not response.ok:\n",
    "        return\n",
    "\n",
    "    result = []\n",
    "\n",
    "    html = BeautifulSoup(response.text)\n",
    "\n",
    "    for role_node in html.find(class_='bt-standard-content').findAll('h4'):\n",
    "\n",
    "        role = role_node.text.strip().rstrip(':')\n",
    "\n",
    "        if not role_node.next_sibling:\n",
    "            continue\n",
    "\n",
    "        for link_node in role_node.next_sibling.findAll('a'):\n",
    "            name = link_node.text\n",
    "            link = urljoin(url, link_node.get('href'))\n",
    "            result.append([name, faction, role, link])\n",
    "\n",
    "    return result\n",
    "\n",
    "\n",
    "faction_roles = []\n",
    "\n",
    "for faction in factions:\n",
    "    if faction_roles:\n",
    "        # be polite and wait before the next request\n",
    "        sleep(5)\n",
    "    faction_roles += get_members_of_faction(faction)\n",
    "\n",
    "df_faction_roles = pd.DataFrame(faction_roles, columns=['name', 'faction', 'role', 'link'])\n",
    "\n",
    "df_faction_roles.to_csv('data/bundestag/faction_roles.csv')"
   ]
  },
  {
   "cell_type": "code",
   "execution_count": 15,
   "id": "right-initial",
   "metadata": {
    "slideshow": {
     "slide_type": "subslide"
    }
   },
   "outputs": [
    {
     "data": {
      "text/plain": [
       "faction\n",
       "cducsu    20\n",
       "spd       15\n",
       "linke     13\n",
       "afd       12\n",
       "gruene    11\n",
       "fdp       11\n",
       "dtype: int64"
      ]
     },
     "execution_count": 15,
     "metadata": {},
     "output_type": "execute_result"
    }
   ],
   "source": [
    "import pandas as pd\n",
    "\n",
    "df_faction_roles = pd.read_csv('data/bundestag/faction_roles.csv')\n",
    "df_faction_roles.value_counts('faction')"
   ]
  },
  {
   "cell_type": "code",
   "execution_count": 16,
   "id": "stretch-sacramento",
   "metadata": {
    "slideshow": {
     "slide_type": "subslide"
    }
   },
   "outputs": [
    {
     "data": {
      "text/plain": [
       "(82, 5)"
      ]
     },
     "execution_count": 16,
     "metadata": {},
     "output_type": "execute_result"
    }
   ],
   "source": [
    "# not all members of the parliament have a role in their faction\n",
    "# and are listed on the landing page of the faction\n",
    "df_faction_roles.shape"
   ]
  },
  {
   "cell_type": "code",
   "execution_count": 17,
   "id": "separated-hurricane",
   "metadata": {
    "slideshow": {
     "slide_type": "subslide"
    }
   },
   "outputs": [
    {
     "data": {
      "text/html": [
       "<div>\n",
       "<style scoped>\n",
       "    .dataframe tbody tr th:only-of-type {\n",
       "        vertical-align: middle;\n",
       "    }\n",
       "\n",
       "    .dataframe tbody tr th {\n",
       "        vertical-align: top;\n",
       "    }\n",
       "\n",
       "    .dataframe thead th {\n",
       "        text-align: right;\n",
       "    }\n",
       "</style>\n",
       "<table border=\"1\" class=\"dataframe\">\n",
       "  <thead>\n",
       "    <tr style=\"text-align: right;\">\n",
       "      <th></th>\n",
       "      <th>Unnamed: 0</th>\n",
       "      <th>name</th>\n",
       "      <th>faction</th>\n",
       "      <th>role</th>\n",
       "      <th>link</th>\n",
       "    </tr>\n",
       "  </thead>\n",
       "  <tbody>\n",
       "    <tr>\n",
       "      <th>0</th>\n",
       "      <td>0</td>\n",
       "      <td>Ralph Brinkhaus</td>\n",
       "      <td>cducsu</td>\n",
       "      <td>Fraktionsvorsitzender</td>\n",
       "      <td>https://www.bundestag.de/abgeordnete/biografie...</td>\n",
       "    </tr>\n",
       "    <tr>\n",
       "      <th>20</th>\n",
       "      <td>20</td>\n",
       "      <td>Rolf Mützenich</td>\n",
       "      <td>spd</td>\n",
       "      <td>Fraktionsvorsitzender</td>\n",
       "      <td>https://www.bundestag.de/abgeordnete/biografie...</td>\n",
       "    </tr>\n",
       "    <tr>\n",
       "      <th>35</th>\n",
       "      <td>35</td>\n",
       "      <td>Christian Dürr</td>\n",
       "      <td>fdp</td>\n",
       "      <td>Fraktionsvorsitzender</td>\n",
       "      <td>https://www.bundestag.de/abgeordnete/biografie...</td>\n",
       "    </tr>\n",
       "    <tr>\n",
       "      <th>46</th>\n",
       "      <td>46</td>\n",
       "      <td>Amira Mohamed Ali</td>\n",
       "      <td>linke</td>\n",
       "      <td>Fraktionsvorsitzende</td>\n",
       "      <td>https://www.bundestag.de/abgeordnete/biografie...</td>\n",
       "    </tr>\n",
       "    <tr>\n",
       "      <th>47</th>\n",
       "      <td>47</td>\n",
       "      <td>Dr. Dietmar Bartsch</td>\n",
       "      <td>linke</td>\n",
       "      <td>Fraktionsvorsitzende</td>\n",
       "      <td>https://www.bundestag.de/abgeordnete/biografie...</td>\n",
       "    </tr>\n",
       "    <tr>\n",
       "      <th>59</th>\n",
       "      <td>59</td>\n",
       "      <td>Katharina Dröge</td>\n",
       "      <td>gruene</td>\n",
       "      <td>Fraktionsvorsitzende</td>\n",
       "      <td>https://www.bundestag.de/abgeordnete/biografie...</td>\n",
       "    </tr>\n",
       "    <tr>\n",
       "      <th>60</th>\n",
       "      <td>60</td>\n",
       "      <td>Britta Haßelmann</td>\n",
       "      <td>gruene</td>\n",
       "      <td>Fraktionsvorsitzende</td>\n",
       "      <td>https://www.bundestag.de/abgeordnete/biografie...</td>\n",
       "    </tr>\n",
       "    <tr>\n",
       "      <th>70</th>\n",
       "      <td>70</td>\n",
       "      <td>Dr. Alice Weidel</td>\n",
       "      <td>afd</td>\n",
       "      <td>Fraktionsvorsitzende</td>\n",
       "      <td>https://www.bundestag.de/abgeordnete/biografie...</td>\n",
       "    </tr>\n",
       "    <tr>\n",
       "      <th>71</th>\n",
       "      <td>71</td>\n",
       "      <td>Tino Chrupalla</td>\n",
       "      <td>afd</td>\n",
       "      <td>Fraktionsvorsitzende</td>\n",
       "      <td>https://www.bundestag.de/abgeordnete/biografie...</td>\n",
       "    </tr>\n",
       "  </tbody>\n",
       "</table>\n",
       "</div>"
      ],
      "text/plain": [
       "    Unnamed: 0                 name faction                   role  \\\n",
       "0            0      Ralph Brinkhaus  cducsu  Fraktionsvorsitzender   \n",
       "20          20       Rolf Mützenich     spd  Fraktionsvorsitzender   \n",
       "35          35       Christian Dürr     fdp  Fraktionsvorsitzender   \n",
       "46          46    Amira Mohamed Ali   linke   Fraktionsvorsitzende   \n",
       "47          47  Dr. Dietmar Bartsch   linke   Fraktionsvorsitzende   \n",
       "59          59      Katharina Dröge  gruene   Fraktionsvorsitzende   \n",
       "60          60     Britta Haßelmann  gruene   Fraktionsvorsitzende   \n",
       "70          70     Dr. Alice Weidel     afd   Fraktionsvorsitzende   \n",
       "71          71       Tino Chrupalla     afd   Fraktionsvorsitzende   \n",
       "\n",
       "                                                 link  \n",
       "0   https://www.bundestag.de/abgeordnete/biografie...  \n",
       "20  https://www.bundestag.de/abgeordnete/biografie...  \n",
       "35  https://www.bundestag.de/abgeordnete/biografie...  \n",
       "46  https://www.bundestag.de/abgeordnete/biografie...  \n",
       "47  https://www.bundestag.de/abgeordnete/biografie...  \n",
       "59  https://www.bundestag.de/abgeordnete/biografie...  \n",
       "60  https://www.bundestag.de/abgeordnete/biografie...  \n",
       "70  https://www.bundestag.de/abgeordnete/biografie...  \n",
       "71  https://www.bundestag.de/abgeordnete/biografie...  "
      ]
     },
     "execution_count": 17,
     "metadata": {},
     "output_type": "execute_result"
    }
   ],
   "source": [
    "df_faction_roles[df_faction_roles['role'].str.startswith('Fraktionsvorsitzend')]"
   ]
  },
  {
   "cell_type": "code",
   "execution_count": 18,
   "id": "framed-training",
   "metadata": {
    "slideshow": {
     "slide_type": "subslide"
    }
   },
   "outputs": [
    {
     "name": "stdout",
     "output_type": "stream",
     "text": [
      "\n",
      "\n",
      "\n",
      "Abgeordnetenbüro\n",
      "Deutscher BundestagPlatz der Republik 111011 Berlin\n",
      "\n",
      "\n",
      "\n",
      "\n",
      "                    Kontakt\n",
      "\n",
      "\n",
      "\n",
      "\n",
      "Wahlkreisbüro\n",
      "Wüllener Str. 1148683 Ahaus\n",
      "\n",
      "\n",
      "Profile im Internet\n",
      "\n",
      "\n",
      "                Homepage\n",
      "\n",
      "                Facebook\n",
      "\n",
      "                Twitter\n",
      "\n",
      "                LinkedIn\n",
      "\n",
      "                Instagram\n",
      "\n",
      "\n",
      "\n",
      "\n",
      "\n",
      "\n",
      "Geboren am 16. Mai 1980 in Ahaus; römisch-katholisch.Nach dem Abitur Ausbildung zum Bankkaufmann, anschließend Angestellter; Studium der Politikwissenschaften (M.A.).Seit 1997 Mitglied der CDU; seit 2005 Vorsitzender des CDU-Kreisverbandes Borken; seit Dezember 2014 Mitglied des CDU-Bundespräsidiums.Mitglied des Bundestages seit 2002; 2015 bis März 2018 Parlamentarischer Staatssekretär beim Bundesminister der Finanzen; März 2018 bis Dezember 2021 Bundesminister für Gesundheit; seit Dezember 2021 stellvertretender Vorsitzender der CDU/CSU-Bundestagsfraktion.[Anmerkung der Redaktion: Die biografischen Angaben beruhen auf den Selbstauskünften der Abgeordneten.]\n",
      "\n",
      "\n",
      "\n",
      "\n",
      "\n",
      "Nordrhein-Westfalen\n",
      "\n",
      "\n",
      "Wahlkreis 124: Steinfurt I – Borken I\n",
      "\n",
      "\n",
      "\n",
      "\n",
      "\n",
      "\n",
      "  Stellvertretendes Mitglied\n",
      "\n",
      "\n",
      "\n",
      "  Wirtschaftsausschuss\n",
      "\n",
      "  Ausschuss für Klimaschutz und Energie\n",
      "\n",
      "\n",
      "\n",
      "\n",
      "\n",
      "\n",
      "\n",
      "Mitglieder des Bundestages haben gemäß § 45 Absatz 5 Abgeordnetengesetz innerhalb einer Frist von drei Monaten nach Erwerb der Mitgliedschaft im Bundestag ihre Anzeigen über veröffentlichungspflichtige Angaben nach den Verhaltensregeln einzureichen.\n",
      "Die veröffentlichungspflichtigen Angaben der Abgeordneten der 20. Wahlperiode werden grundsätzlich nach Ablauf dieser Frist und Bearbeitung der Daten veröffentlicht. Zumindest in einzelnen Veröffentlichungskategorien kann sich die Veröffentlichung von Angaben jedoch noch einige Zeit verzögern, da der Umfang einzelner Anzeige- und Veröffentlichungspflichten nach der am 19. Oktober 2021 in Kraft getretenen Novelle des Abgeordnetengesetzes noch nicht abschließend geklärt ist.\n",
      "Die veröffentlichungspflichtigen Angaben der Abgeordneten der vergangenen Wahlperioden finden Sie im Archiv.\n",
      "\n",
      "\n",
      "\n",
      "\n"
     ]
    }
   ],
   "source": [
    "# now let's try whether we can fetch the biography and other information of a single MP\n",
    "\n",
    "member_url = df_faction_roles.loc[df_faction_roles['name']=='Jens Spahn','link'].values[0]\n",
    "member_response = requests.get(member_url)\n",
    "member_html = BeautifulSoup(member_response.text)\n",
    "\n",
    "# let's try first using the CSS class \"bundestag-standard-content\"\n",
    "for node in member_html.findAll(class_='bt-standard-content'):\n",
    "    print(node.text)"
   ]
  },
  {
   "cell_type": "code",
   "execution_count": 19,
   "id": "parliamentary-airfare",
   "metadata": {},
   "outputs": [
    {
     "data": {
      "text/plain": [
       "'\\n\\n\\n\\n\\n\\n\\n\\n\\n\\n\\n\\n\\n\\n\\n\\n\\n\\nDeutscher Bundestag - Jens Spahn\\n\\n\\n\\n\\n\\n\\n\\n\\n\\n\\n\\n\\n\\n\\n\\n\\n\\n\\nDirekt zum Hauptinhalt springen\\nDirekt zum Hauptmenü springen\\n\\n\\n\\n\\n\\n\\nArchiv\\nArchiv\\n\\n\\n\\nGebärdensprache\\n\\n\\n\\n\\nLeichte Sprache\\n\\n\\n\\n\\nSprachen/LanguagesDE\\n\\n\\n\\nArabisch\\n\\n                                          العربية\\n\\nBulgarisch\\n\\n                                          български\\n\\nChinesisch\\n\\n                                          中文\\n\\nDänisch\\n\\n                                          dansk\\n\\nDeutsch\\n\\n                                          Deutsch\\n\\nEnglisch\\n\\n                                          English\\n\\nFranzösisch\\n\\n                                          français\\n\\nGriechisch\\n\\n                                          Ελληνικά\\n\\nItalienisch\\n\\n                                          italiano\\n\\nKroatisch\\n\\n                                          hrvatski\\n\\nNiederländisch\\n\\n                                          Nederlands\\n\\nPolnisch\\n\\n                                          polski\\n\\nPortugiesisch\\n\\n                                          português\\n\\nRumänisch\\n\\n                                          română\\n\\nRussisch\\n\\n                                          русский\\n\\nSerbisch\\n\\n                                          српски\\n\\nSpanisch\\n\\n                                          español\\n\\nTschechisch\\n\\n                                          čeština\\n\\nTürkisch\\n\\n                                          Türkçe\\n\\nschließen\\n\\n\\n\\n\\n\\n\\n\\n\\nDeutscher Bundestag\\n\\n\\nSuche\\n\\n\\nSuche\\n\\nSuche\\n\\n\\n\\n\\nMenü\\n\\n\\n\\n\\n\\n\\n\\nStartseite \\n\\n\\n\\n\\nAbgeordnete\\n\\n\\n\\n\\n\\nParlament\\n\\n\\n\\n\\n\\nAusschüsse\\n\\n\\n\\n\\n\\nInternationales\\n\\n\\n\\n\\n\\nDokumente\\n\\n\\n\\n\\n\\nMediathek\\n\\n\\n\\n\\n\\nPresse\\n\\n\\n\\n\\n\\nBesuch\\n\\n\\n\\n\\n\\nService\\n\\n\\n\\n\\n\\n\\n\\n\\n\\nStartseite\\n\\n\\n\\n\\n\\nAbgeordnete\\n\\nAbgeordnete: Untermenü anzeigen\\n\\n\\n\\n\\n\\nStartseite\\n\\nStartseite\\n\\n\\n\\n\\nAbgeordnete\\n\\nAbgeordnete: Untermenü ausblenden\\n\\n\\n\\n\\n\\n\\n\\nBiografien\\n\\n\\n\\nStartseite\\n\\nStartseite\\n\\n\\n\\n\\nAbgeordneteAbgeordnete:  Untermenü anzeigen\\n\\n\\n\\n\\nBiografienBiografien:  Untermenü anzeigen\\n\\n\\n\\n\\n\\n\\n\\n\\n\\n\\nNebentätigkeiten\\n\\n\\n\\n\\n\\nEntschädigung\\n\\n\\n\\n\\n\\nWahlergebnisse\\n\\n\\n\\n\\n\\n\\n\\n\\nParlament\\n\\nParlament: Untermenü anzeigen\\n\\n\\n\\n\\n\\nStartseite\\n\\nStartseite\\n\\n\\n\\n\\nParlament\\n\\nParlament: Untermenü ausblenden\\n\\n\\n\\n\\n\\n\\n\\nBundestagswahl 2021\\n\\n\\n\\n\\n\\nGrundgesetz\\n\\n\\n\\nStartseite\\n\\nStartseite\\n\\n\\n\\n\\nParlamentParlament:  Untermenü anzeigen\\n\\n\\n\\n\\nGrundgesetzGrundgesetz:  Untermenü anzeigen\\n\\n\\n\\n\\n\\n\\n\\n\\n\\n\\nAufgaben\\n\\nAufgaben: Untermenü anzeigen\\n\\n\\n\\n\\n\\nStartseite\\n\\nStartseite\\n\\n\\n\\n\\nParlamentParlament:  Untermenü anzeigen\\n\\n\\n\\n\\nAufgabenAufgaben:  Untermenü anzeigen\\n\\n\\n\\n\\n\\n\\nGesetzgebung\\n\\n\\n\\n\\nKontrolle der Regierung\\n\\n\\n\\n\\nDer Bundeshaushalt\\n\\n\\n\\n\\nWahl des Kanzlers/der Kanzlerin\\n\\n\\n\\n\\nWahl des Bundespräsidenten\\n\\n\\n\\n\\nRechtliche Grundlagen\\n\\n\\n\\n\\n\\n\\n\\n\\nPlenum\\n\\nPlenum: Untermenü anzeigen\\n\\n\\n\\n\\n\\nStartseite\\n\\nStartseite\\n\\n\\n\\n\\nParlamentParlament:  Untermenü anzeigen\\n\\n\\n\\n\\nPlenumPlenum:  Untermenü anzeigen\\n\\n\\n\\n\\n\\n\\nTagesordnungen\\n\\n\\n\\n\\nNamentliche Abstimmungen\\n\\n\\n\\n\\nSitzverteilung des 20. Deutschen Bundestages\\n\\n\\n\\n\\nSitzungskalender\\n\\n\\n\\n\\nSchriftführer\\n\\n\\n\\n\\n\\n\\n\\n\\nPräsidium\\n\\nPräsidium: Untermenü anzeigen\\n\\n\\n\\n\\n\\nStartseite\\n\\nStartseite\\n\\n\\n\\n\\nParlamentParlament:  Untermenü anzeigen\\n\\n\\n\\n\\nPräsidiumPräsidium:  Untermenü anzeigen\\n\\n\\n\\n\\n\\n\\nFunktion und Aufgabe\\n\\n\\n\\n\\nWahl des Präsidiums\\n\\n\\n\\n\\nReden und Beiträge der Präsidenten\\n\\n\\n\\n\\nParteienfinanzierung\\n\\n\\n\\n\\n\\n\\n\\n\\nÄltestenrat\\n\\n\\n\\n\\n\\nFraktionen\\n\\nFraktionen: Untermenü anzeigen\\n\\n\\n\\n\\n\\nStartseite\\n\\nStartseite\\n\\n\\n\\n\\nParlamentParlament:  Untermenü anzeigen\\n\\n\\n\\n\\nFraktionenFraktionen:  Untermenü anzeigen\\n\\n\\n\\n\\n\\n\\nSPD\\n\\n\\n\\n\\nCDU/CSU\\n\\n\\n\\n\\nBündnis 90/ Die Grünen\\n\\n\\n\\n\\nFDP\\n\\n\\n\\n\\nAfD\\n\\n\\n\\n\\nDie Linke\\n\\n\\n\\n\\n\\n\\n\\n\\nPetitionen\\n\\n\\n\\n\\n\\nSED-Opferbeauftragte\\n\\n\\n\\nStartseite\\n\\nStartseite\\n\\n\\n\\n\\nParlamentParlament:  Untermenü anzeigen\\n\\n\\n\\n\\nSED-OpferbeauftragteSED-Opferbeauftragte:  Untermenü anzeigen\\n\\n\\n\\n\\n\\n\\n\\n\\n\\n\\nWehrbeauftragte\\n\\n\\n\\nStartseite\\n\\nStartseite\\n\\n\\n\\n\\nParlamentParlament:  Untermenü anzeigen\\n\\n\\n\\n\\nWehrbeauftragteWehrbeauftragte:  Untermenü anzeigen\\n\\n\\n\\n\\n\\n\\n\\n\\n\\n\\nVerwaltung\\n\\n\\n\\nStartseite\\n\\nStartseite\\n\\n\\n\\n\\nParlamentParlament:  Untermenü anzeigen\\n\\n\\n\\n\\nVerwaltungVerwaltung:  Untermenü anzeigen\\n\\n\\n\\n\\n\\n\\n\\n\\n\\n\\nGeschichte\\n\\nGeschichte: Untermenü anzeigen\\n\\n\\n\\n\\n\\nStartseite\\n\\nStartseite\\n\\n\\n\\n\\nParlamentParlament:  Untermenü anzeigen\\n\\n\\n\\n\\nGeschichteGeschichte:  Untermenü anzeigen\\n\\n\\n\\n\\n\\n\\nHistorische Ausstellungen\\n\\n\\n\\n\\nDeutscher Parlamentarismus\\n\\n\\n\\n\\nParlamentarische Schauplätze\\n\\n\\n\\n\\nBundestagspräsidenten seit 1949\\n\\n\\n\\n\\nHerbst 1918: Vom Kaiserreich zur Republik\\n\\n\\n\\n\\n\\n\\n\\n\\nStaatliche Symbole\\n\\n\\n\\nStartseite\\n\\nStartseite\\n\\n\\n\\n\\nParlamentParlament:  Untermenü anzeigen\\n\\n\\n\\n\\nStaatliche SymboleStaatliche Symbole:  Untermenü anzeigen\\n\\n\\n\\n\\n\\n\\n\\n\\n\\n\\nParlamentspreise\\n\\nParlamentspreise: Untermenü anzeigen\\n\\n\\n\\n\\n\\nStartseite\\n\\nStartseite\\n\\n\\n\\n\\nParlamentParlament:  Untermenü anzeigen\\n\\n\\n\\n\\nParlamentspreiseParlamentspreise:  Untermenü anzeigen\\n\\n\\n\\n\\n\\n\\nMedienpreis\\n\\n\\n\\n\\nDeutsch-Französischer Parlamentspreis\\n\\n\\n\\n\\nWissenschaftspreis\\n\\n\\n\\n\\n\\n\\n\\n\\nWahlen\\n\\nWahlen: Untermenü anzeigen\\n\\n\\n\\n\\n\\nStartseite\\n\\nStartseite\\n\\n\\n\\n\\nParlamentParlament:  Untermenü anzeigen\\n\\n\\n\\n\\nWahlenWahlen:  Untermenü anzeigen\\n\\n\\n\\n\\n\\n\\nWahlergebnisse\\n\\n\\n\\n\\nWahltermine in Deutschland\\n\\n\\n\\n\\n\\n\\n\\n\\nLobbyregister\\n\\n\\n\\n\\n\\n\\n\\n\\nAusschüsse\\n\\nAusschüsse: Untermenü anzeigen\\n\\n\\n\\n\\n\\nStartseite\\n\\nStartseite\\n\\n\\n\\n\\nAusschüsse\\n\\nAusschüsse: Untermenü ausblenden\\n\\n\\n\\n\\n\\n\\n\\nArbeit und Soziales\\n\\n\\n\\nStartseite\\n\\nStartseite\\n\\n\\n\\n\\nAusschüsseAusschüsse:  Untermenü anzeigen\\n\\n\\n\\n\\nArbeit und SozialesArbeit und Soziales:  Untermenü anzeigen\\n\\n\\n\\n\\n\\n\\n\\n\\n\\n\\nAuswärtiges\\n\\n\\n\\nStartseite\\n\\nStartseite\\n\\n\\n\\n\\nAusschüsseAusschüsse:  Untermenü anzeigen\\n\\n\\n\\n\\nAuswärtigesAuswärtiges:  Untermenü anzeigen\\n\\n\\n\\n\\n\\n\\n\\n\\n\\n\\nBildung, Forschung und Technikfolgenabschätzung\\n\\n\\n\\nStartseite\\n\\nStartseite\\n\\n\\n\\n\\nAusschüsseAusschüsse:  Untermenü anzeigen\\n\\n\\n\\n\\nBildung, Forschung und TechnikfolgenabschätzungBildung, Forschung und Technikfolgenabschätzung:  Untermenü anzeigen\\n\\n\\n\\n\\n\\n\\n\\n\\n\\n\\nDigitales\\n\\n\\n\\nStartseite\\n\\nStartseite\\n\\n\\n\\n\\nAusschüsseAusschüsse:  Untermenü anzeigen\\n\\n\\n\\n\\nDigitalesDigitales:  Untermenü anzeigen\\n\\n\\n\\n\\n\\n\\n\\n\\n\\n\\nErnährung und Landwirtschaft\\n\\n\\n\\nStartseite\\n\\nStartseite\\n\\n\\n\\n\\nAusschüsseAusschüsse:  Untermenü anzeigen\\n\\n\\n\\n\\nErnährung und LandwirtschaftErnährung und Landwirtschaft:  Untermenü anzeigen\\n\\n\\n\\n\\n\\n\\n\\n\\n\\n\\nEuropäische Union\\n\\n\\n\\nStartseite\\n\\nStartseite\\n\\n\\n\\n\\nAusschüsseAusschüsse:  Untermenü anzeigen\\n\\n\\n\\n\\nEuropäische UnionEuropäische Union:  Untermenü anzeigen\\n\\n\\n\\n\\n\\n\\n\\n\\n\\n\\nFamilie, Senioren, Frauen und Jugend\\n\\n\\n\\nStartseite\\n\\nStartseite\\n\\n\\n\\n\\nAusschüsseAusschüsse:  Untermenü anzeigen\\n\\n\\n\\n\\nFamilie, Senioren, Frauen und JugendFamilie, Senioren, Frauen und Jugend:  Untermenü anzeigen\\n\\n\\n\\n\\n\\n\\n\\n\\n\\n\\nFinanzen\\n\\n\\n\\nStartseite\\n\\nStartseite\\n\\n\\n\\n\\nAusschüsseAusschüsse:  Untermenü anzeigen\\n\\n\\n\\n\\nFinanzenFinanzen:  Untermenü anzeigen\\n\\n\\n\\n\\n\\n\\n\\n\\n\\n\\nGesundheit\\n\\n\\n\\nStartseite\\n\\nStartseite\\n\\n\\n\\n\\nAusschüsseAusschüsse:  Untermenü anzeigen\\n\\n\\n\\n\\nGesundheitGesundheit:  Untermenü anzeigen\\n\\n\\n\\n\\n\\n\\n\\n\\n\\n\\nHaushalt\\n\\nHaushalt: Untermenü anzeigen\\n\\n\\n\\n\\n\\nStartseite\\n\\nStartseite\\n\\n\\n\\n\\nAusschüsseAusschüsse:  Untermenü anzeigen\\n\\n\\n\\n\\nHaushaltHaushalt:  Untermenü anzeigen\\n\\n\\n\\n\\n\\n\\nRechnungsprüfungsausschuss\\n\\n\\n\\n\\nUnterausschuss zu Fragen der Europäischen Union\\n\\n\\n\\n\\n\\n\\n\\n\\nInneres und Heimat\\n\\n\\n\\nStartseite\\n\\nStartseite\\n\\n\\n\\n\\nAusschüsseAusschüsse:  Untermenü anzeigen\\n\\n\\n\\n\\nInneres und HeimatInneres und Heimat:  Untermenü anzeigen\\n\\n\\n\\n\\n\\n\\n\\n\\n\\n\\nKlimaschutz und Energie\\n\\n\\n\\nStartseite\\n\\nStartseite\\n\\n\\n\\n\\nAusschüsseAusschüsse:  Untermenü anzeigen\\n\\n\\n\\n\\nKlimaschutz und EnergieKlimaschutz und Energie:  Untermenü anzeigen\\n\\n\\n\\n\\n\\n\\n\\n\\n\\n\\nKultur und Medien\\n\\n\\n\\nStartseite\\n\\nStartseite\\n\\n\\n\\n\\nAusschüsseAusschüsse:  Untermenü anzeigen\\n\\n\\n\\n\\nKultur und MedienKultur und Medien:  Untermenü anzeigen\\n\\n\\n\\n\\n\\n\\n\\n\\n\\n\\nMenschenrechte und humanitäre Hilfe\\n\\nMenschenrechte und humanitäre Hilfe: Untermenü anzeigen\\n\\n\\n\\n\\n\\nStartseite\\n\\nStartseite\\n\\n\\n\\n\\nAusschüsseAusschüsse:  Untermenü anzeigen\\n\\n\\n\\n\\nMenschenrechte und humanitäre HilfeMenschenrechte und humanitäre Hilfe:  Untermenü anzeigen\\n\\n\\n\\n\\n\\n\\nProgramm „Parlamentarier schützen Parlamentarier“\\n\\n\\n\\n\\n\\n\\n\\n\\nPetitionsausschuss\\n\\n\\n\\nStartseite\\n\\nStartseite\\n\\n\\n\\n\\nAusschüsseAusschüsse:  Untermenü anzeigen\\n\\n\\n\\n\\nPetitionsausschussPetitionsausschuss:  Untermenü anzeigen\\n\\n\\n\\n\\n\\n\\n\\n\\n\\n\\nRecht\\n\\n\\n\\nStartseite\\n\\nStartseite\\n\\n\\n\\n\\nAusschüsseAusschüsse:  Untermenü anzeigen\\n\\n\\n\\n\\nRechtRecht:  Untermenü anzeigen\\n\\n\\n\\n\\n\\n\\n\\n\\n\\n\\nSport\\n\\n\\n\\nStartseite\\n\\nStartseite\\n\\n\\n\\n\\nAusschüsseAusschüsse:  Untermenü anzeigen\\n\\n\\n\\n\\nSportSport:  Untermenü anzeigen\\n\\n\\n\\n\\n\\n\\n\\n\\n\\n\\nTourismus\\n\\n\\n\\nStartseite\\n\\nStartseite\\n\\n\\n\\n\\nAusschüsseAusschüsse:  Untermenü anzeigen\\n\\n\\n\\n\\nTourismusTourismus:  Untermenü anzeigen\\n\\n\\n\\n\\n\\n\\n\\n\\n\\n\\nUmwelt, Naturschutz, nukleare Sicherheit und Verbraucherschutz\\n\\n\\n\\nStartseite\\n\\nStartseite\\n\\n\\n\\n\\nAusschüsseAusschüsse:  Untermenü anzeigen\\n\\n\\n\\n\\nUmwelt, Naturschutz, nukleare Sicherheit und VerbraucherschutzUmwelt, Naturschutz, nukleare Sicherheit und Verbraucherschutz:  Untermenü anzeigen\\n\\n\\n\\n\\n\\n\\n\\n\\n\\n\\nVerkehr\\n\\n\\n\\nStartseite\\n\\nStartseite\\n\\n\\n\\n\\nAusschüsseAusschüsse:  Untermenü anzeigen\\n\\n\\n\\n\\nVerkehrVerkehr:  Untermenü anzeigen\\n\\n\\n\\n\\n\\n\\n\\n\\n\\n\\nVermittlungsausschuss\\n\\n\\n\\n\\n\\nVerteidigung\\n\\n\\n\\nStartseite\\n\\nStartseite\\n\\n\\n\\n\\nAusschüsseAusschüsse:  Untermenü anzeigen\\n\\n\\n\\n\\nVerteidigungVerteidigung:  Untermenü anzeigen\\n\\n\\n\\n\\n\\n\\n\\n\\n\\n\\nWahlprüfung\\n\\n\\n\\n\\n\\nWahlprüfung, Immunität und Geschäftsordnung\\n\\n\\n\\nStartseite\\n\\nStartseite\\n\\n\\n\\n\\nAusschüsseAusschüsse:  Untermenü anzeigen\\n\\n\\n\\n\\nWahlprüfung, Immunität und GeschäftsordnungWahlprüfung, Immunität und Geschäftsordnung:  Untermenü anzeigen\\n\\n\\n\\n\\n\\n\\n\\n\\n\\n\\nWirtschaft\\n\\n\\n\\nStartseite\\n\\nStartseite\\n\\n\\n\\n\\nAusschüsseAusschüsse:  Untermenü anzeigen\\n\\n\\n\\n\\nWirtschaftWirtschaft:  Untermenü anzeigen\\n\\n\\n\\n\\n\\n\\n\\n\\n\\n\\nwirtschaftliche Zusammenarbeit und Entwicklung\\n\\n\\n\\nStartseite\\n\\nStartseite\\n\\n\\n\\n\\nAusschüsseAusschüsse:  Untermenü anzeigen\\n\\n\\n\\n\\nwirtschaftliche Zusammenarbeit und Entwicklungwirtschaftliche Zusammenarbeit und Entwicklung:  Untermenü anzeigen\\n\\n\\n\\n\\n\\n\\n\\n\\n\\n\\nWohnen, Stadtentwicklung, Bauwesen und Kommunen\\n\\n\\n\\nStartseite\\n\\nStartseite\\n\\n\\n\\n\\nAusschüsseAusschüsse:  Untermenü anzeigen\\n\\n\\n\\n\\nWohnen, Stadtentwicklung, Bauwesen und KommunenWohnen, Stadtentwicklung, Bauwesen und Kommunen:  Untermenü anzeigen\\n\\n\\n\\n\\n\\n\\n\\n\\n\\n\\nHauptausschuss\\n\\n\\n\\nStartseite\\n\\nStartseite\\n\\n\\n\\n\\nAusschüsseAusschüsse:  Untermenü anzeigen\\n\\n\\n\\n\\nHauptausschussHauptausschuss:  Untermenü anzeigen\\n\\n\\n\\n\\n\\n\\n\\n\\n\\n\\nweitere Gremien\\n\\nweitere Gremien: Untermenü anzeigen\\n\\n\\n\\n\\n\\nStartseite\\n\\nStartseite\\n\\n\\n\\n\\nAusschüsseAusschüsse:  Untermenü anzeigen\\n\\n\\n\\n\\nweitere Gremienweitere Gremien:  Untermenü anzeigen\\n\\n\\n\\n\\n\\n\\nBundesfinanzierungsgremium\\n\\n\\n\\n\\nDeutsch-Französische Parlamentarische Versammlung\\n\\n\\n\\n\\nParlamentarisches Kontrollgremium\\n\\n\\n\\n\\nG 10-Kommission\\n\\n\\n\\n\\n\\n\\n\\n\\n\\n\\n\\nInternationales\\n\\nInternationales: Untermenü anzeigen\\n\\n\\n\\n\\n\\nStartseite\\n\\nStartseite\\n\\n\\n\\n\\nInternationales\\n\\nInternationales: Untermenü ausblenden\\n\\n\\n\\n\\n\\n\\n\\nEuropapolitik im Bundestag\\n\\nEuropapolitik im Bundestag: Untermenü anzeigen\\n\\n\\n\\n\\n\\nStartseite\\n\\nStartseite\\n\\n\\n\\n\\nInternationalesInternationales:  Untermenü anzeigen\\n\\n\\n\\n\\nEuropapolitik im BundestagEuropapolitik im Bundestag:  Untermenü anzeigen\\n\\n\\n\\n\\n\\n\\nMitwirkungsrechte des Deutschen Bundestages\\n\\n\\n\\n\\nEuropa in den Ausschüssen\\n\\n\\n\\n\\nVerbindungsbüro Brüssel\\n\\n\\n\\n\\nZusammenarbeit der Parlamente in Europa\\n\\n\\n\\n\\n\\n\\n\\n\\nInternationale parlamentarische Versammlungen\\n\\nInternationale parlamentarische Versammlungen: Untermenü anzeigen\\n\\n\\n\\n\\n\\nStartseite\\n\\nStartseite\\n\\n\\n\\n\\nInternationalesInternationales:  Untermenü anzeigen\\n\\n\\n\\n\\nInternationale parlamentarische VersammlungenInternationale parlamentarische Versammlungen:  Untermenü anzeigen\\n\\n\\n\\n\\n\\n\\nParlamentarische Versammlung der OSZE\\n\\n\\n\\n\\nParlamentarische Versammlung der NATO\\n\\n\\n\\n\\nParlamentarische Versammlung des Europarates\\n\\n\\n\\n\\nInterparlamentarische Union\\n\\n\\n\\n\\nStabilität, wirtschaftspolitische Koordinierung und Steuerung in der EU\\n\\n\\n\\n\\nGemeinsame Außen-, Sicherheits- und Verteidigungspolitik\\n\\n\\n\\n\\nKonferenzen der Präsidentinnen und Präsidenten der Parlamente\\n\\n\\n\\n\\nParlamentarische Versammlung der Union für den Mittelmeerraum\\n\\n\\n\\n\\nOstseeparlamentarierkonferenz\\n\\n\\n\\n\\nParlamentarische Versammlung der Schwarzmeerwirtschaftskooperation\\n\\n\\n\\n\\n\\n\\n\\n\\nParlamentariergruppen\\n\\n\\n\\nStartseite\\n\\nStartseite\\n\\n\\n\\n\\nInternationalesInternationales:  Untermenü anzeigen\\n\\n\\n\\n\\nParlamentariergruppenParlamentariergruppen:  Untermenü anzeigen\\n\\n\\n\\n\\n\\n\\n\\n\\n\\n\\nInternationales Parlaments-Stipendium (IPS)\\n\\n\\n\\n\\n\\nParlamentarisches Patenschafts-Programm (PPP)\\n\\n\\n\\nStartseite\\n\\nStartseite\\n\\n\\n\\n\\nInternationalesInternationales:  Untermenü anzeigen\\n\\n\\n\\n\\nParlamentarisches Patenschafts-Programm (PPP)Parlamentarisches Patenschafts-Programm (PPP):  Untermenü anzeigen\\n\\n\\n\\n\\n\\n\\n\\n\\n\\n\\nWahltermine EU\\n\\n\\n\\n\\n\\nParlamentarische Dimension der EU-Ratspräsidentschaft\\n\\n\\n\\n\\n\\n\\n\\n\\nDokumente\\n\\nDokumente: Untermenü anzeigen\\n\\n\\n\\n\\n\\nStartseite\\n\\nStartseite\\n\\n\\n\\n\\nDokumente\\n\\nDokumente: Untermenü ausblenden\\n\\n\\n\\n\\n\\n\\n\\nDrucksachen\\n\\n\\n\\n\\n\\nDokumentations- und Informationssystem (DIP)\\n\\n\\n\\n\\n\\nParlamentsdokumentation\\n\\nParlamentsdokumentation: Untermenü anzeigen\\n\\n\\n\\n\\n\\nStartseite\\n\\nStartseite\\n\\n\\n\\n\\nDokumenteDokumente:  Untermenü anzeigen\\n\\n\\n\\n\\nParlamentsdokumentationParlamentsdokumentation:  Untermenü anzeigen\\n\\n\\n\\n\\n\\n\\nCorona-Dossier\\n\\n\\n\\n\\n\\n\\n\\n\\nProtokolle\\n\\nProtokolle: Untermenü anzeigen\\n\\n\\n\\n\\n\\nStartseite\\n\\nStartseite\\n\\n\\n\\n\\nDokumenteDokumente:  Untermenü anzeigen\\n\\n\\n\\n\\nProtokolleProtokolle:  Untermenü anzeigen\\n\\n\\n\\n\\n\\n\\nTagesaktuelles Plenarprotokoll\\n\\n\\n\\n\\nEndgültige Plenarprotokolle\\n\\n\\n\\n\\nAmtliche Protokolle\\n\\n\\n\\n\\n\\n\\n\\n\\nGutachten und Ausarbeitungen\\n\\n\\n\\nStartseite\\n\\nStartseite\\n\\n\\n\\n\\nDokumenteDokumente:  Untermenü anzeigen\\n\\n\\n\\n\\nGutachten und AusarbeitungenGutachten und Ausarbeitungen:  Untermenü anzeigen\\n\\n\\n\\n\\n\\n\\n\\n\\n\\n\\nParlamentsarchiv\\n\\nParlamentsarchiv: Untermenü anzeigen\\n\\n\\n\\n\\n\\nStartseite\\n\\nStartseite\\n\\n\\n\\n\\nDokumenteDokumente:  Untermenü anzeigen\\n\\n\\n\\n\\nParlamentsarchivParlamentsarchiv:  Untermenü anzeigen\\n\\n\\n\\n\\n\\n\\nDatenhandbuch\\n\\n\\n\\n\\nRegistrierte Verbände (Öffentliche Liste)\\n\\n\\n\\n\\n\\n\\n\\n\\nBibliothek\\n\\nBibliothek: Untermenü anzeigen\\n\\n\\n\\n\\n\\nStartseite\\n\\nStartseite\\n\\n\\n\\n\\nDokumenteDokumente:  Untermenü anzeigen\\n\\n\\n\\n\\nBibliothekBibliothek:  Untermenü anzeigen\\n\\n\\n\\n\\n\\n\\nBibliothekskatalog\\n\\n\\n\\n\\n\\n\\n\\n\\nPressedokumentation\\n\\n\\n\\n\\n\\nWebarchiv\\n\\n\\n\\n\\n\\nTextarchiv\\n\\nTextarchiv: Untermenü anzeigen\\n\\n\\n\\n\\n\\nStartseite\\n\\nStartseite\\n\\n\\n\\n\\nDokumenteDokumente:  Untermenü anzeigen\\n\\n\\n\\n\\nTextarchivTextarchiv:  Untermenü anzeigen\\n\\n\\n\\n\\n\\n\\n2022\\n\\n\\n\\n\\n2021\\n\\n\\n\\n\\n2020\\n\\n\\n\\n\\n2019\\n\\n\\n\\n\\n2018\\n\\n\\n\\n\\n2017\\n\\n\\n\\n\\n\\n\\n\\n\\n\\n\\n\\nMediathek\\n\\nMediathek: Untermenü anzeigen\\n\\n\\n\\n\\n\\nStartseite\\n\\nStartseite\\n\\n\\n\\n\\nMediathek\\n\\nMediathek: Untermenü ausblenden\\n\\n\\n\\n\\n\\n\\n\\nDas Parlamentsfernsehen\\n\\n\\n\\n\\n\\nGebärdensprache\\n\\n\\n\\n\\n\\nEmpfang\\n\\n\\n\\n\\n\\nAudio-Übertragungen\\n\\n\\n\\n\\n\\n\\n\\n\\nPresse\\n\\nPresse: Untermenü anzeigen\\n\\n\\n\\n\\n\\nStartseite\\n\\nStartseite\\n\\n\\n\\n\\nPresse\\n\\nPresse: Untermenü ausblenden\\n\\n\\n\\n\\n\\n\\n\\nPressemitteilungen\\n\\nPressemitteilungen: Untermenü anzeigen\\n\\n\\n\\n\\n\\nStartseite\\n\\nStartseite\\n\\n\\n\\n\\nPressePresse:  Untermenü anzeigen\\n\\n\\n\\n\\nPressemitteilungenPressemitteilungen:  Untermenü anzeigen\\n\\n\\n\\n\\n\\n\\n2022\\n\\n\\n\\n\\n2021\\n\\n\\n\\n\\n\\n\\n\\n\\nKurzmeldungen (hib)\\n\\n\\n\\n\\n\\nAkkreditierung\\n\\n\\n\\n\\n\\nBilddatenbank\\n\\n\\n\\n\\n\\nMitschnittservice\\n\\n\\n\\n\\n\\nKontakt\\n\\n\\n\\n\\n\\n\\n\\n\\nBesuch\\n\\nBesuch: Untermenü anzeigen\\n\\n\\n\\n\\n\\nStartseite\\n\\nStartseite\\n\\n\\n\\n\\nBesuch\\n\\nBesuch: Untermenü ausblenden\\n\\n\\n\\n\\n\\n\\n\\nKuppel\\n\\n\\n\\n\\n\\nBarrierefreier Zugang\\n\\n\\n\\n\\n\\nPlenarsitzung\\n\\n\\n\\n\\n\\nFührungen\\n\\nFührungen: Untermenü anzeigen\\n\\n\\n\\n\\n\\nStartseite\\n\\nStartseite\\n\\n\\n\\n\\nBesuchBesuch:  Untermenü anzeigen\\n\\n\\n\\n\\nFührungenFührungen:  Untermenü anzeigen\\n\\n\\n\\n\\n\\n\\nPlenarsitzung\\n\\n\\n\\n\\nEinladung durch Abgeordnete\\n\\n\\n\\n\\nAngebote für Kinder und Jugendliche\\n\\n\\n\\n\\n\\n\\n\\n\\nAusstellungen\\n\\nAusstellungen: Untermenü anzeigen\\n\\n\\n\\n\\n\\nStartseite\\n\\nStartseite\\n\\n\\n\\n\\nBesuchBesuch:  Untermenü anzeigen\\n\\n\\n\\n\\nAusstellungenAusstellungen:  Untermenü anzeigen\\n\\n\\n\\n\\n\\n\\nParlamentshistorische Ausstellung im Deutschen Dom\\n\\n\\n\\n\\nPolitisch-parlamentarische Ausstellungen\\n\\n\\n\\n\\nKunstausstellungen\\n\\n\\n\\n\\nBundestag in Ihrer Nähe\\n\\n\\n\\n\\n\\n\\n\\n\\nOnline-Anmeldung\\n\\n\\n\\n\\n\\nKunst\\n\\nKunst: Untermenü anzeigen\\n\\n\\n\\n\\n\\nStartseite\\n\\nStartseite\\n\\n\\n\\n\\nBesuchBesuch:  Untermenü anzeigen\\n\\n\\n\\n\\nKunstKunst:  Untermenü anzeigen\\n\\n\\n\\n\\n\\n\\nKunst am Bau\\n\\n\\n\\n\\nArtothek - die Kunstsammlung\\n\\n\\n\\n\\nWorkshops\\n\\n\\n\\n\\nKunstbeirat\\n\\n\\n\\n\\nAufträge an zeitgenössische Künstler\\n\\n\\n\\n\\nMauer-Mahnmal\\n\\n\\n\\n\\nGedenktafeln\\n\\n\\n\\n\\nAusgewählt - Aus der Kunstsammlung des Deutschen Bundestages\\n\\n\\n\\n\\n\\n\\n\\n\\nArchitektur\\n\\nArchitektur: Untermenü anzeigen\\n\\n\\n\\n\\n\\nStartseite\\n\\nStartseite\\n\\n\\n\\n\\nBesuchBesuch:  Untermenü anzeigen\\n\\n\\n\\n\\nArchitekturArchitektur:  Untermenü anzeigen\\n\\n\\n\\n\\n\\n\\nReichstagsgebäude\\n\\n\\n\\n\\nJakob-Kaiser-Haus\\n\\n\\n\\n\\nPaul-Löbe-Haus\\n\\n\\n\\n\\nMarie-Elisabeth-Lüders-Haus\\n\\n\\n\\n\\nWeitere Bundestagsgebäude\\n\\n\\n\\n\\nEnergiekonzept\\n\\n\\n\\n\\n\\n\\n\\n\\nSeminare\\n\\nSeminare: Untermenü anzeigen\\n\\n\\n\\n\\n\\nStartseite\\n\\nStartseite\\n\\n\\n\\n\\nBesuchBesuch:  Untermenü anzeigen\\n\\n\\n\\n\\nSeminareSeminare:  Untermenü anzeigen\\n\\n\\n\\n\\n\\n\\nDas Parlamentsseminar des Deutschen Bundestages\\n\\n\\n\\n\\nSeminare für Lehrerinnen und Lehrer\\n\\n\\n\\n\\nSeminare für Journalistenschülerinnen und -schüler\\n\\n\\n\\n\\n\\n\\n\\n\\nBundestag in Ihrer Nähe\\n\\nBundestag in Ihrer Nähe: Untermenü anzeigen\\n\\n\\n\\n\\n\\nStartseite\\n\\nStartseite\\n\\n\\n\\n\\nBesuchBesuch:  Untermenü anzeigen\\n\\n\\n\\n\\nBundestag in Ihrer NäheBundestag in Ihrer Nähe:  Untermenü anzeigen\\n\\n\\n\\n\\n\\n\\nInfomobil\\n\\n\\n\\n\\nWanderausstellung\\n\\n\\n\\n\\nMessestand\\n\\n\\n\\n\\n\\n\\n\\n\\n\\n\\n\\nService\\n\\nService: Untermenü anzeigen\\n\\n\\n\\n\\n\\nStartseite\\n\\nStartseite\\n\\n\\n\\n\\nService\\n\\nService: Untermenü ausblenden\\n\\n\\n\\n\\n\\n\\n\\nParlamentsbegriffe A – Z\\n\\n\\n\\nStartseite\\n\\nStartseite\\n\\n\\n\\n\\nServiceService:  Untermenü anzeigen\\n\\n\\n\\n\\nParlamentsbegriffe A – ZParlamentsbegriffe A – Z:  Untermenü anzeigen\\n\\n\\n\\n\\n\\n\\n\\n\\n\\n\\nHäufig gestellte Fragen\\n\\n\\n\\n\\n\\nVirtueller Berater\\n\\n\\n\\n\\n\\nInformationsmaterial\\n\\n\\n\\n\\n\\nBundestagsshop\\n\\n\\n\\n\\n\\nNewsletter\\n\\n\\n\\nStartseite\\n\\nStartseite\\n\\n\\n\\n\\nServiceService:  Untermenü anzeigen\\n\\n\\n\\n\\nNewsletterNewsletter:  Untermenü anzeigen\\n\\n\\n\\n\\n\\n\\n\\n\\n\\n\\nKarriere\\n\\n\\n\\nStartseite\\n\\nStartseite\\n\\n\\n\\n\\nServiceService:  Untermenü anzeigen\\n\\n\\n\\n\\nKarriereKarriere:  Untermenü anzeigen\\n\\n\\n\\n\\n\\n\\n\\n\\n\\n\\nDas Quiz zum Deutschen Bundestag\\n\\n\\n\\n\\n\\nFormulare und Anträge\\n\\n\\n\\nStartseite\\n\\nStartseite\\n\\n\\n\\n\\nServiceService:  Untermenü anzeigen\\n\\n\\n\\n\\nFormulare und AnträgeFormulare und Anträge:  Untermenü anzeigen\\n\\n\\n\\n\\n\\n\\n\\n\\n\\n\\nOpen Data\\n\\n\\n\\nStartseite\\n\\nStartseite\\n\\n\\n\\n\\nServiceService:  Untermenü anzeigen\\n\\n\\n\\n\\nOpen DataOpen Data:  Untermenü anzeigen\\n\\n\\n\\n\\n\\n\\n\\n\\n\\n\\nKontakt\\n\\n\\n\\nStartseite\\n\\nStartseite\\n\\n\\n\\n\\nServiceService:  Untermenü anzeigen\\n\\n\\n\\n\\nKontaktKontakt:  Untermenü anzeigen\\n\\n\\n\\n\\n\\n\\n\\n\\n\\n\\n\\n\\n\\n\\n\\n\\nAbgeordnete\\n\\n\\nschließen\\n\\nBiografien\\n\\n\\nNebentätigkeiten\\n\\n\\nEntschädigung\\n\\n\\nWahlergebnisse\\n\\n\\n\\n\\n\\nParlament\\n\\n\\nschließen\\n\\nGrundgesetz\\n\\n\\nAufgaben\\n\\n\\nGesetzgebung\\n\\n\\nKontrolle der Regierung\\n\\n\\nDer Bundeshaushalt\\n\\n\\nWahl des Kanzlers/der Kanzlerin\\n\\n\\nWahl des Bundespräsidenten\\n\\n\\nRechtliche Grundlagen\\n\\n\\n\\n\\nPlenum\\n\\n\\nTagesordnungen\\n\\n\\nNamentliche Abstimmungen\\n\\n\\nSitzverteilung des 20. Deutschen Bundestages\\n\\n\\nSitzungskalender\\n\\n\\nSchriftführer\\n\\n\\n\\n\\nPräsidium\\n\\n\\nFunktion und Aufgabe\\n\\n\\nWahl des Präsidiums\\n\\n\\nReden und Beiträge der Präsidenten\\n\\n\\nParteienfinanzierung\\n\\n\\n\\n\\nÄltestenrat\\n\\n\\nFraktionen\\n\\n\\nSPD\\n\\n\\nCDU/CSU\\n\\n\\nBündnis 90/ Die Grünen\\n\\n\\nFDP\\n\\n\\nAfD\\n\\n\\nDie Linke\\n\\n\\n\\n\\nPetitionen\\n\\n\\nSED-Opferbeauftragte\\n\\n\\nWehrbeauftragte\\n\\n\\nVerwaltung\\n\\n\\nGeschichte\\n\\n\\nHistorische Ausstellungen\\n\\n\\nDeutscher Parlamentarismus\\n\\n\\nParlamentarische Schauplätze\\n\\n\\nBundestagspräsidenten seit 1949\\n\\n\\nHerbst 1918: Vom Kaiserreich zur Republik\\n\\n\\n\\n\\nStaatliche Symbole\\n\\n\\nParlamentspreise\\n\\n\\nMedienpreis\\n\\n\\nDeutsch-Französischer Parlamentspreis\\n\\n\\nWissenschaftspreis\\n\\n\\n\\n\\nWahlen\\n\\n\\nWahlergebnisse\\n\\n\\nWahltermine in Deutschland\\n\\n\\n\\n\\nLobbyregister\\n\\n\\n\\n\\n\\nAusschüsse\\n\\n\\nschließen\\n\\nArbeit und Soziales\\n\\n\\nAuswärtiges\\n\\n\\nBildung, Forschung und Technikfolgenabschätzung\\n\\n\\nDigitales\\n\\n\\nErnährung und Landwirtschaft\\n\\n\\nEuropäische Union\\n\\n\\nFamilie, Senioren, Frauen und Jugend\\n\\n\\nFinanzen\\n\\n\\nGesundheit\\n\\n\\nHaushalt\\n\\n\\nRechnungsprüfungsausschuss\\n\\n\\nUnterausschuss zu Fragen der Europäischen Union\\n\\n\\n\\n\\nInneres und Heimat\\n\\n\\nKlimaschutz und Energie\\n\\n\\nKultur und Medien\\n\\n\\nMenschenrechte und humanitäre Hilfe\\n\\n\\n\\n\\nPetitionsausschuss\\n\\n\\nRecht\\n\\n\\nSport\\n\\n\\nTourismus\\n\\n\\nUmwelt, Naturschutz, nukleare Sicherheit und Verbraucherschutz\\n\\n\\nVerkehr\\n\\n\\nVermittlungsausschuss\\n\\n\\nVerteidigung\\n\\n\\nWahlprüfung\\n\\n\\nWahlprüfung, Immunität und Geschäftsordnung\\n\\n\\nWirtschaft\\n\\n\\nwirtschaftliche Zusammenarbeit und Entwicklung\\n\\n\\nWohnen, Stadtentwicklung, Bauwesen und Kommunen\\n\\n\\nHauptausschuss\\n\\n\\nweitere Gremien\\n\\n\\nBundesfinanzierungsgremium\\n\\n\\nDeutsch-Französische Parlamentarische Versammlung\\n\\n\\nParlamentarisches Kontrollgremium\\n\\n\\nG 10-Kommission\\n\\n\\n\\n\\n\\n\\n\\nInternationales\\n\\n\\nschließen\\n\\nEuropapolitik im Bundestag\\n\\n\\nMitwirkungsrechte des Deutschen Bundestages\\n\\n\\nEuropa in den Ausschüssen\\n\\n\\nVerbindungsbüro Brüssel\\n\\n\\nZusammenarbeit der Parlamente in Europa\\n\\n\\n\\n\\nInternationale parlamentarische Versammlungen\\n\\n\\nParlamentarische Versammlung der OSZE\\n\\n\\nParlamentarische Versammlung der NATO\\n\\n\\nParlamentarische Versammlung des Europarates\\n\\n\\nInterparlamentarische Union\\n\\n\\nStabilität, wirtschaftspolitische Koordinierung und Steuerung in der EU\\n\\n\\nGemeinsame Außen-, Sicherheits- und Verteidigungspolitik\\n\\n\\nKonferenzen der Präsidentinnen und Präsidenten der Parlamente\\n\\n\\nParlamentarische Versammlung der Union für den Mittelmeerraum\\n\\n\\nOstseeparlamentarierkonferenz\\n\\n\\nParlamentarische Versammlung der Schwarzmeerwirtschaftskooperation\\n\\n\\n\\n\\nParlamentariergruppen\\n\\n\\nInternationales Parlaments-Stipendium (IPS)\\n\\n\\nParlamentarisches Patenschafts-Programm (PPP)\\n\\n\\nWahltermine EU\\n\\n\\nParlamentarische Dimension der EU-Ratspräsidentschaft\\n\\n\\n\\n\\n\\nDokumente\\n\\n\\nschließen\\n\\nDrucksachen\\n\\n\\nDokumentations- und Informationssystem (DIP)\\n\\n\\nParlamentsdokumentation\\n\\n\\nCorona-Dossier\\n\\n\\n\\n\\nProtokolle\\n\\n\\nTagesaktuelles Plenarprotokoll\\n\\n\\nEndgültige Plenarprotokolle\\n\\n\\nAmtliche Protokolle\\n\\n\\n\\n\\nGutachten und Ausarbeitungen\\n\\n\\nParlamentsarchiv\\n\\n\\nDatenhandbuch\\n\\n\\nRegistrierte Verbände (Öffentliche Liste)\\n\\n\\n\\n\\nBibliothek\\n\\n\\nBibliothekskatalog\\n\\n\\n\\n\\nPressedokumentation\\n\\n\\nWebarchiv\\n\\n\\nTextarchiv\\n\\n\\n2022\\n\\n\\n2021\\n\\n\\n2020\\n\\n\\n2019\\n\\n\\n2018\\n\\n\\n2017\\n\\n\\n\\n\\n\\n\\n\\nMediathek\\n\\n\\nschließen\\n\\nDas Parlamentsfernsehen\\n\\n\\nGebärdensprache\\n\\n\\nEmpfang\\n\\n\\nAudio-Übertragungen\\n\\n\\n\\n\\n\\nPresse\\n\\n\\nschließen\\n\\nPressemitteilungen\\n\\n\\n2022\\n\\n\\n2021\\n\\n\\n\\n\\nKurzmeldungen (hib)\\n\\n\\nAkkreditierung\\n\\n\\nBilddatenbank\\n\\n\\nMitschnittservice\\n\\n\\nKontakt\\n\\n\\n\\n\\n\\nBesuch\\n\\n\\nschließen\\n\\nKuppel\\n\\n\\nBarrierefreier Zugang\\n\\n\\nPlenarsitzung\\n\\n\\nFührungen\\n\\n\\nPlenarsitzung\\n\\n\\nEinladung durch Abgeordnete\\n\\n\\nAngebote für Kinder und Jugendliche\\n\\n\\n\\n\\nAusstellungen\\n\\n\\nParlamentshistorische Ausstellung im Deutschen Dom\\n\\n\\nPolitisch-parlamentarische Ausstellungen\\n\\n\\nKunstausstellungen\\n\\n\\nBundestag in Ihrer Nähe\\n\\n\\n\\n\\nOnline-Anmeldung\\n\\n\\nKunst\\n\\n\\nKunst am Bau\\n\\n\\nArtothek - die Kunstsammlung\\n\\n\\nWorkshops\\n\\n\\nKunstbeirat\\n\\n\\nAufträge an zeitgenössische Künstler\\n\\n\\nMauer-Mahnmal\\n\\n\\nGedenktafeln\\n\\n\\nAusgewählt - Aus der Kunstsammlung des Deutschen Bundestages\\n\\n\\n\\n\\nArchitektur\\n\\n\\nReichstagsgebäude\\n\\n\\nJakob-Kaiser-Haus\\n\\n\\nPaul-Löbe-Haus\\n\\n\\nMarie-Elisabeth-Lüders-Haus\\n\\n\\nWeitere Bundestagsgebäude\\n\\n\\nEnergiekonzept\\n\\n\\n\\n\\nSeminare\\n\\n\\nDas Parlamentsseminar des Deutschen Bundestages\\n\\n\\nSeminare für Lehrerinnen und Lehrer\\n\\n\\nSeminare für Journalistenschülerinnen und -schüler\\n\\n\\n\\n\\nBundestag in Ihrer Nähe\\n\\n\\nInfomobil\\n\\n\\nWanderausstellung\\n\\n\\nMessestand\\n\\n\\n\\n\\n\\n\\n\\nService\\n\\n\\nschließen\\n\\nParlamentsbegriffe A – Z\\n\\n\\nHäufig gestellte Fragen\\n\\n\\nVirtueller Berater\\n\\n\\nInformationsmaterial\\n\\n\\nBundestagsshop\\n\\n\\nNewsletter\\n\\n\\nKarriere\\n\\n\\nDas Quiz zum Deutschen Bundestag\\n\\n\\nFormulare und Anträge\\n\\n\\nOpen Data\\n\\n\\nKontakt\\n\\n\\n\\n\\n\\n\\n\\n\\n\\n\\n\\n\\n\\n\\n\\n\\n\\n\\n\\n\\n\\n\\nAbgeordnete\\n\\n\\n\\n\\n\\n\\n\\nStartseite\\nAbgeordnete\\nBiografien\\nS\\n\\n\\n\\n\\n\\n\\n\\n\\n\\n\\n\\n\\n\\n\\n\\n\\n        Jens Spahn\\n©\\xa0Jens Spahn/ Anne Hufnagl\\n\\n\\n\\n\\n      Jens Spahn, CDU/CSU\\n\\nBankkaufmann\\n\\n\\n\\n\\n\\n\\n\\n\\nKontakt\\n\\n\\n\\nBereich \"Kontakt\" ein-/ausklappen\\n\\n\\n\\n\\n\\n\\n\\nAbgeordnetenbüro\\nDeutscher BundestagPlatz der Republik 111011 Berlin\\n\\n\\n\\n\\n                    Kontakt\\n\\n\\n\\n\\nWahlkreisbüro\\nWüllener Str. 1148683 Ahaus\\n\\n\\nProfile im Internet\\n\\n\\n                Homepage\\n\\n                Facebook\\n\\n                Twitter\\n\\n                LinkedIn\\n\\n                Instagram\\n\\n\\n\\n\\n\\n\\n\\n\\n\\n\\nBiografie\\n\\n\\nReden\\n\\n\\nAbstimmungen\\n\\n\\n\\n\\n\\nBiografie\\n\\n\\n\\nBereich \"Biografie\" ein-/ausklappen\\n\\n\\n\\n\\n\\nGeboren am 16. Mai 1980 in Ahaus; römisch-katholisch.Nach dem Abitur Ausbildung zum Bankkaufmann, anschließend Angestellter; Studium der Politikwissenschaften (M.A.).Seit 1997 Mitglied der CDU; seit 2005 Vorsitzender des CDU-Kreisverbandes Borken; seit Dezember 2014 Mitglied des CDU-Bundespräsidiums.Mitglied des Bundestages seit 2002; 2015 bis März 2018 Parlamentarischer Staatssekretär beim Bundesminister der Finanzen; März 2018 bis Dezember 2021 Bundesminister für Gesundheit; seit Dezember 2021 stellvertretender Vorsitzender der CDU/CSU-Bundestagsfraktion.[Anmerkung der Redaktion: Die biografischen Angaben beruhen auf den Selbstauskünften der Abgeordneten.]\\n\\n\\n\\n\\n\\n\\nReden\\n\\n\\n\\nBereich \"Reden\" ein-/ausklappen\\n\\n\\n\\n\\n9766+OR+6761+OR+8521+OR+2893+OR+9597+OR+12752\\n\\n\\n\\n\\n\\n\\n\\n\\n\\n\\n\\nweitere Reden\\nweniger anzeigen\\n\\n\\n\\n\\n\\n\\nAbstimmungen\\n\\n\\n\\nBereich \"Abstimmungen\" ein-/ausklappen\\n\\n\\n\\n\\n\\n\\n\\n\\nVeröffentlichung\\nAbstimmungsthema\\nAbstimmungsverhalten\\n\\n\\n\\n\\n\\n\\n\\nweitere Abstimmungen\\nweniger anzeigen\\n\\n\\n\\n\\n\\n\\n\\n\\n\\n\\n\\n\\nDirekt gewählt\\n\\n\\n\\nBereich \"Direkt gewählt\" ein-/ausklappen\\n\\n\\n\\n\\n\\n\\n\\n\\n\\nWahlkreis 124: Steinfurt I – Borken I\\n\\n\\n\\n\\n\\nNordrhein-Westfalen\\n\\n\\nWahlkreis 124: Steinfurt I – Borken I\\n\\n\\n\\n\\n\\n\\n\\n\\nMitgliedschaften und Ämter im Bundestag\\n\\n\\n\\nBereich \"Mitgliedschaften und Ämter im Bundestag\" ein-/ausklappen\\n\\n\\n\\n\\n\\n\\n  Stellvertretendes Mitglied\\n\\n\\n\\n  Wirtschaftsausschuss\\n\\n  Ausschuss für Klimaschutz und Energie\\n\\n\\n\\n\\nVeröffentlichungspflichtige Angaben\\n\\n\\n\\nBereich \"Veröffentlichungspflichtige Angaben\" ein-/ausklappen\\n\\n\\n\\n\\n\\n\\n\\n\\nMitglieder des Bundestages haben gemäß § 45 Absatz 5 Abgeordnetengesetz innerhalb einer Frist von drei Monaten nach Erwerb der Mitgliedschaft im Bundestag ihre Anzeigen über veröffentlichungspflichtige Angaben nach den Verhaltensregeln einzureichen.\\nDie veröffentlichungspflichtigen Angaben der Abgeordneten der 20. Wahlperiode werden grundsätzlich nach Ablauf dieser Frist und Bearbeitung der Daten veröffentlicht. Zumindest in einzelnen Veröffentlichungskategorien kann sich die Veröffentlichung von Angaben jedoch noch einige Zeit verzögern, da der Umfang einzelner Anzeige- und Veröffentlichungspflichten nach der am 19. Oktober 2021 in Kraft getretenen Novelle des Abgeordnetengesetzes noch nicht abschließend geklärt ist.\\nDie veröffentlichungspflichtigen Angaben der Abgeordneten der vergangenen Wahlperioden finden Sie im Archiv.\\n\\n\\n\\n\\n\\n\\n\\n\\n\\n\\nSeite teilen\\n\\n\\n\\n\\n\\n\\n\\n\\n\\n\\nStartseite\\nAbgeordnete\\nBiografien\\nS\\n\\n\\n\\n\\n\\n\\nHilfeKontaktInhaltsübersicht\\n\\n© Deutscher Bundestag\\n\\n\\nBarrierefreiheitDatenschutzImpressum\\n\\n\\n\\n\\n\\nAusdruck aus dem Internet-Angebot des Deutschen Bundestages\\nhttps://www.bundestag.de/abgeordnete/biografien/S/spahn_jens-858012\\nStand: 30.01.2022\\n\\n\\n\\n\\n\\n\\n\\n\\n\\n\\n\\n\\n\\n\\n\\n\\n\\n\\n\\n\\n\\n\\n\\n\\n\\n\\n\\n\\n\\n\\n\\n\\n\\n\\n\\n'"
      ]
     },
     "execution_count": 19,
     "metadata": {},
     "output_type": "execute_result"
    }
   ],
   "source": [
    "member_html.text"
   ]
  },
  {
   "cell_type": "markdown",
   "id": "anonymous-france",
   "metadata": {
    "slideshow": {
     "slide_type": "subslide"
    }
   },
   "source": [
    "### Automatic Cleansing of Text\n",
    "\n",
    "A trivial extraction of all text in the body of web page would include a lot of unwanted content (navigation menus, header, footer, side bars), the \"main\" content could be even only a small part in the middle of the page. There are heuristics and algorithms for automatic removal of \"boilerplate\" content:\n",
    "\n",
    "- Mozilla Readability: the [reader view](https://support.mozilla.org/en-US/kb/firefox-reader-view-clutter-free-web-pages) of the Firefox browser\n",
    "  - originally implemented in JavaScript, see [Readability.js](https://github.com/mozilla/readability/blob/master/Readability.js)\n",
    "  - but there is a Python port - [ReadabiliPy](https://github.com/alan-turing-institute/ReadabiliPy) or [ReadabiliPy on pypi](https://pypi.org/project/readabilipy/)\n",
    "- [jusText](https://nlp.fi.muni.cz/projects/justext/) or [jusText on pypi](https://pypi.org/project/jusText/)\n",
    "- [trafilatura](https://trafilatura.readthedocs.io/en/latest/) - the documentation and the [academic paper](https://aclanthology.org/2021.acl-demo.15.pdf) include a list of other boilerplate-removal Python packages\n",
    "\n",
    "First, an example usage of ReadabiliPy with the latest fetched page (without any manual selection of elements by CSS class):"
   ]
  },
  {
   "cell_type": "code",
   "execution_count": 20,
   "id": "valid-christianity",
   "metadata": {
    "slideshow": {
     "slide_type": "subslide"
    }
   },
   "outputs": [
    {
     "name": "stdout",
     "output_type": "stream",
     "text": [
      "Requirement already satisfied: readabilipy in ./.venv/lib/python3.9/site-packages (0.2.0)\r\n",
      "Requirement already satisfied: regex in ./.venv/lib/python3.9/site-packages (from readabilipy) (2022.1.18)\r\n",
      "Requirement already satisfied: html5lib in ./.venv/lib/python3.9/site-packages (from readabilipy) (1.1)\r\n",
      "Requirement already satisfied: beautifulsoup4>=4.7.1 in ./.venv/lib/python3.9/site-packages (from readabilipy) (4.10.0)\r\n",
      "Requirement already satisfied: lxml in ./.venv/lib/python3.9/site-packages (from readabilipy) (4.7.1)\r\n",
      "Requirement already satisfied: soupsieve>1.2 in ./.venv/lib/python3.9/site-packages (from beautifulsoup4>=4.7.1->readabilipy) (2.3.1)\r\n",
      "Requirement already satisfied: webencodings in ./.venv/lib/python3.9/site-packages (from html5lib->readabilipy) (0.5.1)\r\n",
      "Requirement already satisfied: six>=1.9 in ./.venv/lib/python3.9/site-packages (from html5lib->readabilipy) (1.16.0)\r\n"
     ]
    }
   ],
   "source": [
    "!pip install readabilipy\n",
    "\n",
    "from readabilipy import simple_json_from_html_string\n",
    "\n",
    "article = simple_json_from_html_string(member_response.text, use_readability=True)"
   ]
  },
  {
   "cell_type": "code",
   "execution_count": 21,
   "id": "essential-saudi",
   "metadata": {
    "slideshow": {
     "slide_type": "subslide"
    }
   },
   "outputs": [
    {
     "name": "stdout",
     "output_type": "stream",
     "text": [
      "Jens Spahn\n",
      "\n",
      "© Jens Spahn/ Anne Hufnagl\n",
      "\n",
      "Jens Spahn, CDU/CSU\n",
      "\n",
      "Bankkaufmann\n",
      "\n",
      "Abgeordnetenbüro\n",
      "\n",
      "Deutscher BundestagPlatz der Republik 111011 Berlin\n",
      "\n",
      "Kontakt\n",
      "\n",
      "Wahlkreisbüro\n",
      "\n",
      "Wüllener Str. 1148683 Ahaus\n",
      "\n",
      "Geboren am 16. Mai 1980 in Ahaus; römisch-katholisch.Nach dem Abitur Ausbildung zum Bankkaufmann, anschließend Angestellter; Studium der Politikwissenschaften (M.A.).Seit 1997 Mitglied der CDU; seit 2005 Vorsitzender des CDU-Kreisverbandes Borken; seit Dezember 2014 Mitglied des CDU-Bundespräsidiums.Mitglied des Bundestages seit 2002; 2015 bis März 2018 Parlamentarischer Staatssekretär beim Bundesminister der Finanzen; März 2018 bis Dezember 2021 Bundesminister für Gesundheit; seit Dezember 2021 stellvertretender Vorsitzender der CDU/CSU-Bundestagsfraktion.\n",
      "\n",
      "[Anmerkung der Redaktion: Die biografischen Angaben beruhen auf den Selbstauskünften der Abgeordneten.]\n",
      "\n",
      "9766+OR+6761+OR+8521+OR+2893+OR+9597+OR+12752\n",
      "\n",
      "Veröffentlichung\n",
      "\n",
      "Abstimmungsthema\n",
      "\n",
      "Abstimmungsverhalten\n",
      "\n",
      "Mitglieder des Bundestages haben gemäß § 45 Absatz 5 Abgeordnetengesetz innerhalb einer Frist von drei Monaten nach Erwerb der Mitgliedschaft im Bundestag ihre Anzeigen über veröffentlichungspflichtige Angaben nach den Verhaltensregeln einzureichen.\n",
      "\n",
      "Die veröffentlichungspflichtigen Angaben der Abgeordneten der 20. Wahlperiode werden grundsätzlich nach Ablauf dieser Frist und Bearbeitung der Daten veröffentlicht. Zumindest in einzelnen Veröffentlichungskategorien kann sich die Veröffentlichung von Angaben jedoch noch einige Zeit verzögern, da der Umfang einzelner Anzeige- und Veröffentlichungspflichten nach der am 19. Oktober 2021 in Kraft getretenen Novelle des Abgeordnetengesetzes noch nicht abschließend geklärt ist.\n",
      "\n",
      "Die veröffentlichungspflichtigen Angaben der Abgeordneten der vergangenen Wahlperioden finden Sie im Archiv.\n",
      "\n"
     ]
    }
   ],
   "source": [
    "for paragraph in article['plain_text']:\n",
    "    print(paragraph['text'])\n",
    "    print()"
   ]
  },
  {
   "cell_type": "code",
   "execution_count": 22,
   "id": "criminal-michigan",
   "metadata": {
    "slideshow": {
     "slide_type": "subslide"
    }
   },
   "outputs": [
    {
     "data": {
      "text/html": [
       "<div class=\"page\" id=\"readability-page-1\"><div dir=\"ltr\"><div id=\"mod858012\"><div><div><div><div><p></p><div><p>Jens Spahn</p><p>© Jens Spahn/ Anne Hufnagl</p></div></div></div><div><h3>Jens Spahn, CDU/CSU</h3><p>Bankkaufmann</p></div><p></p><div id=\"bt-kontakt-collapse\"><div><div><h5>Abgeordnetenbüro</h5><p>Deutscher BundestagPlatz der Republik 111011 Berlin</p><p>Kontakt</p></div><div><h5>Wahlkreisbüro</h5><p>Wüllener Str. 1148683 Ahaus</p></div></div></div></div><div><div><div><div><div aria-labelledby=\"tab_biografie_858012\" id=\"ptv1\" role=\"tabpanel\"><div><div><p>Geboren am 16. Mai 1980 in Ahaus; römisch-katholisch.Nach dem Abitur Ausbildung zum Bankkaufmann, anschließend Angestellter; Studium der Politikwissenschaften (M.A.).Seit 1997 Mitglied der CDU; seit 2005 Vorsitzender des CDU-Kreisverbandes Borken; seit Dezember 2014 Mitglied des CDU-Bundespräsidiums.Mitglied des Bundestages seit 2002; 2015 bis März 2018 Parlamentarischer Staatssekretär beim Bundesminister der Finanzen; März 2018 bis Dezember 2021 Bundesminister für Gesundheit; seit Dezember 2021 stellvertretender Vorsitzender der CDU/CSU-Bundestagsfraktion.</p><p>[Anmerkung der Redaktion: Die biografischen Angaben beruhen auf den Selbstauskünften der Abgeordneten.]</p></div><br/></div></div><div aria-labelledby=\"tab_reden_858012\" id=\"ptv2\" role=\"tabpanel\"><p>9766+OR+6761+OR+8521+OR+2893+OR+9597+OR+12752</p></div><div aria-labelledby=\"tab_abstimmungen_858012\" id=\"ptv3\" role=\"tabpanel\"><div><table><thead><tr><th>Veröffentlichung</th><th>Abstimmungsthema</th><th>Abstimmungsverhalten</th></tr></thead><tbody></tbody></table></div></div></div></div></div><div><div id=\"bt-angaben-collapse\"><div><div><br/><div><p>Mitglieder des Bundestages haben gemäß § 45 Absatz 5 Abgeordnetengesetz innerhalb einer Frist von drei Monaten nach Erwerb der Mitgliedschaft im Bundestag ihre Anzeigen über veröffentlichungspflichtige Angaben nach den Verhaltensregeln einzureichen.</p><p>Die veröffentlichungspflichtigen Angaben der Abgeordneten der 20. Wahlperiode werden grundsätzlich nach Ablauf dieser Frist und Bearbeitung der Daten veröffentlicht. Zumindest in einzelnen Veröffentlichungskategorien kann sich die Veröffentlichung von Angaben jedoch noch einige Zeit verzögern, da der Umfang einzelner Anzeige- und Veröffentlichungspflichten nach der am 19. Oktober 2021 in Kraft getretenen Novelle des Abgeordnetengesetzes noch nicht abschließend geklärt ist.</p><p>Die veröffentlichungspflichtigen Angaben der Abgeordneten der vergangenen Wahlperioden finden Sie im Archiv.</p></div></div></div></div></div></div></div></div></div></div>"
      ],
      "text/plain": [
       "<IPython.core.display.HTML object>"
      ]
     },
     "execution_count": 22,
     "metadata": {},
     "output_type": "execute_result"
    }
   ],
   "source": [
    "# but there's also a \"readable\" and simple HTML snippet\n",
    "# (shown as rendered HTML in the output)\n",
    "from IPython.core.display import HTML\n",
    "\n",
    "HTML(article['plain_content'])"
   ]
  },
  {
   "cell_type": "markdown",
   "id": "continuing-colonial",
   "metadata": {
    "slideshow": {
     "slide_type": "subslide"
    }
   },
   "source": [
    "And now another package to strip boilerplate content, jusText...\n",
    "\n",
    "As expected ReadibiliPy and jusText\n",
    "- differ in their API\n",
    "- have slightly different results for the given input\n",
    "- use different approaches under the hood"
   ]
  },
  {
   "cell_type": "code",
   "execution_count": 23,
   "id": "recreational-danish",
   "metadata": {
    "slideshow": {
     "slide_type": "subslide"
    }
   },
   "outputs": [
    {
     "name": "stdout",
     "output_type": "stream",
     "text": [
      "Requirement already satisfied: jusText in ./.venv/lib/python3.9/site-packages (3.0.0)\r\n",
      "Requirement already satisfied: lxml>=4.4.2 in ./.venv/lib/python3.9/site-packages (from jusText) (4.7.1)\r\n"
     ]
    }
   ],
   "source": [
    "!pip install jusText"
   ]
  },
  {
   "cell_type": "code",
   "execution_count": 24,
   "id": "accurate-trouble",
   "metadata": {
    "slideshow": {
     "slide_type": "subslide"
    }
   },
   "outputs": [
    {
     "data": {
      "text/plain": [
       "['Wahlkreisbüro',\n",
       " 'Profile im Internet',\n",
       " 'Biografie',\n",
       " 'Geboren am 16. Mai 1980 in Ahaus; römisch-katholisch. Nach dem Abitur Ausbildung zum Bankkaufmann, anschließend Angestellter; Studium der Politikwissenschaften (M.A.). Seit 1997 Mitglied der CDU; seit 2005 Vorsitzender des CDU-Kreisverbandes Borken; seit Dezember 2014 Mitglied des CDU-Bundespräsidiums. Mitglied des Bundestages seit 2002; 2015 bis März 2018 Parlamentarischer Staatssekretär beim Bundesminister der Finanzen; März 2018 bis Dezember 2021 Bundesminister für Gesundheit; seit Dezember 2021 stellvertretender Vorsitzender der CDU/CSU-Bundestagsfraktion.',\n",
       " '[Anmerkung der Redaktion: Die biografischen Angaben beruhen auf den Selbstauskünften der Abgeordneten.]',\n",
       " 'Stellvertretendes Mitglied',\n",
       " 'Veröffentlichungspflichtige Angaben',\n",
       " 'Mitglieder des Bundestages haben gemäß § 45 Absatz 5 Abgeordnetengesetz innerhalb einer Frist von drei Monaten nach Erwerb der Mitgliedschaft im Bundestag ihre Anzeigen über veröffentlichungspflichtige Angaben nach den Verhaltensregeln einzureichen.',\n",
       " 'Die veröffentlichungspflichtigen Angaben der Abgeordneten der 20. Wahlperiode werden grundsätzlich nach Ablauf dieser Frist und Bearbeitung der Daten veröffentlicht. Zumindest in einzelnen Veröffentlichungskategorien kann sich die Veröffentlichung von Angaben jedoch noch einige Zeit verzögern, da der Umfang einzelner Anzeige- und Veröffentlichungspflichten nach der am 19. Oktober 2021 in Kraft getretenen Novelle des Abgeordnetengesetzes noch nicht abschließend geklärt ist.',\n",
       " 'Die veröffentlichungspflichtigen Angaben der Abgeordneten der vergangenen Wahlperioden finden Sie im Archiv.']"
      ]
     },
     "execution_count": 24,
     "metadata": {},
     "output_type": "execute_result"
    }
   ],
   "source": [
    "import justext\n",
    "\n",
    "paragraphs = justext.justext(member_response.text, justext.get_stoplist(\"German\"))\n",
    "\n",
    "true_text = [p.text for p in paragraphs if not p.is_boilerplate]\n",
    "boilerplate = [p.text for p in paragraphs if p.is_boilerplate]\n",
    "\n",
    "true_text"
   ]
  },
  {
   "cell_type": "code",
   "execution_count": 25,
   "id": "likely-sperm",
   "metadata": {
    "slideshow": {
     "slide_type": "subslide"
    }
   },
   "outputs": [
    {
     "data": {
      "text/plain": [
       "['Direkt zum Hauptinhalt springenDirekt zum Hauptmenü springen',\n",
       " 'ArchivArchiv',\n",
       " 'Gebärdensprache',\n",
       " 'Leichte Sprache',\n",
       " 'Sprachen/LanguagesDE',\n",
       " 'Arabisch\\nالعربية',\n",
       " 'Bulgarisch\\nбългарски',\n",
       " 'Chinesisch\\n中文',\n",
       " 'Dänisch\\ndansk',\n",
       " 'Deutsch\\nDeutsch',\n",
       " 'Englisch\\nEnglish',\n",
       " 'Französisch\\nfrançais',\n",
       " 'Griechisch\\nΕλληνικά',\n",
       " 'Italienisch\\nitaliano',\n",
       " 'Kroatisch\\nhrvatski',\n",
       " 'Niederländisch\\nNederlands',\n",
       " 'Polnisch\\npolski',\n",
       " 'Portugiesisch\\nportuguês',\n",
       " 'Rumänisch\\nromână',\n",
       " 'Russisch\\nрусский',\n",
       " 'Serbisch\\nсрпски',\n",
       " 'Spanisch\\nespañol',\n",
       " 'Tschechisch\\nčeština',\n",
       " 'Türkisch\\nTürkçe',\n",
       " 'schließen',\n",
       " 'Deutscher Bundestag',\n",
       " 'Suche',\n",
       " 'Startseite',\n",
       " 'Abgeordnete',\n",
       " 'Parlament',\n",
       " 'Ausschüsse',\n",
       " 'Internationales',\n",
       " 'Dokumente',\n",
       " 'Mediathek',\n",
       " 'Presse',\n",
       " 'Besuch',\n",
       " 'Service',\n",
       " 'Startseite',\n",
       " 'AbgeordneteAbgeordnete: Untermenü anzeigen',\n",
       " 'StartseiteStartseite',\n",
       " 'AbgeordneteAbgeordnete: Untermenü ausblenden',\n",
       " 'Biografien',\n",
       " 'StartseiteStartseite',\n",
       " 'AbgeordneteAbgeordnete: Untermenü anzeigen',\n",
       " 'BiografienBiografien: Untermenü anzeigen',\n",
       " 'Nebentätigkeiten',\n",
       " 'Entschädigung',\n",
       " 'Wahlergebnisse',\n",
       " 'ParlamentParlament: Untermenü anzeigen',\n",
       " 'StartseiteStartseite',\n",
       " 'ParlamentParlament: Untermenü ausblenden',\n",
       " 'Bundestagswahl 2021',\n",
       " 'Grundgesetz',\n",
       " 'StartseiteStartseite',\n",
       " 'ParlamentParlament: Untermenü anzeigen',\n",
       " 'GrundgesetzGrundgesetz: Untermenü anzeigen',\n",
       " 'AufgabenAufgaben: Untermenü anzeigen',\n",
       " 'StartseiteStartseite',\n",
       " 'ParlamentParlament: Untermenü anzeigen',\n",
       " 'AufgabenAufgaben: Untermenü anzeigen',\n",
       " 'Gesetzgebung',\n",
       " 'Kontrolle der Regierung',\n",
       " 'Der Bundeshaushalt',\n",
       " 'Wahl des Kanzlers/der Kanzlerin',\n",
       " 'Wahl des Bundespräsidenten',\n",
       " 'Rechtliche Grundlagen',\n",
       " 'PlenumPlenum: Untermenü anzeigen',\n",
       " 'StartseiteStartseite',\n",
       " 'ParlamentParlament: Untermenü anzeigen',\n",
       " 'PlenumPlenum: Untermenü anzeigen',\n",
       " 'Tagesordnungen',\n",
       " 'Namentliche Abstimmungen',\n",
       " 'Sitzverteilung des 20. Deutschen Bundestages',\n",
       " 'Sitzungskalender',\n",
       " 'Schriftführer',\n",
       " 'PräsidiumPräsidium: Untermenü anzeigen',\n",
       " 'StartseiteStartseite',\n",
       " 'ParlamentParlament: Untermenü anzeigen',\n",
       " 'PräsidiumPräsidium: Untermenü anzeigen',\n",
       " 'Funktion und Aufgabe',\n",
       " 'Wahl des Präsidiums',\n",
       " 'Reden und Beiträge der Präsidenten',\n",
       " 'Parteienfinanzierung',\n",
       " 'Ältestenrat',\n",
       " 'FraktionenFraktionen: Untermenü anzeigen',\n",
       " 'StartseiteStartseite',\n",
       " 'ParlamentParlament: Untermenü anzeigen',\n",
       " 'FraktionenFraktionen: Untermenü anzeigen',\n",
       " 'SPD',\n",
       " 'CDU/CSU',\n",
       " 'Bündnis 90/ Die Grünen',\n",
       " 'FDP',\n",
       " 'AfD',\n",
       " 'Die Linke',\n",
       " 'Petitionen',\n",
       " 'SED-Opferbeauftragte',\n",
       " 'StartseiteStartseite',\n",
       " 'ParlamentParlament: Untermenü anzeigen',\n",
       " 'SED-OpferbeauftragteSED-Opferbeauftragte: Untermenü anzeigen',\n",
       " 'Wehrbeauftragte',\n",
       " 'StartseiteStartseite',\n",
       " 'ParlamentParlament: Untermenü anzeigen',\n",
       " 'WehrbeauftragteWehrbeauftragte: Untermenü anzeigen',\n",
       " 'Verwaltung',\n",
       " 'StartseiteStartseite',\n",
       " 'ParlamentParlament: Untermenü anzeigen',\n",
       " 'VerwaltungVerwaltung: Untermenü anzeigen',\n",
       " 'GeschichteGeschichte: Untermenü anzeigen',\n",
       " 'StartseiteStartseite',\n",
       " 'ParlamentParlament: Untermenü anzeigen',\n",
       " 'GeschichteGeschichte: Untermenü anzeigen',\n",
       " 'Historische Ausstellungen',\n",
       " 'Deutscher Parlamentarismus',\n",
       " 'Parlamentarische Schauplätze',\n",
       " 'Bundestagspräsidenten seit 1949',\n",
       " 'Herbst 1918: Vom Kaiserreich zur Republik',\n",
       " 'Staatliche Symbole',\n",
       " 'StartseiteStartseite',\n",
       " 'ParlamentParlament: Untermenü anzeigen',\n",
       " 'Staatliche SymboleStaatliche Symbole: Untermenü anzeigen',\n",
       " 'ParlamentspreiseParlamentspreise: Untermenü anzeigen',\n",
       " 'StartseiteStartseite',\n",
       " 'ParlamentParlament: Untermenü anzeigen',\n",
       " 'ParlamentspreiseParlamentspreise: Untermenü anzeigen',\n",
       " 'Medienpreis',\n",
       " 'Deutsch-Französischer Parlamentspreis',\n",
       " 'Wissenschaftspreis',\n",
       " 'WahlenWahlen: Untermenü anzeigen',\n",
       " 'StartseiteStartseite',\n",
       " 'ParlamentParlament: Untermenü anzeigen',\n",
       " 'WahlenWahlen: Untermenü anzeigen',\n",
       " 'Wahlergebnisse',\n",
       " 'Wahltermine in Deutschland',\n",
       " 'Lobbyregister',\n",
       " 'AusschüsseAusschüsse: Untermenü anzeigen',\n",
       " 'StartseiteStartseite',\n",
       " 'AusschüsseAusschüsse: Untermenü ausblenden',\n",
       " 'Arbeit und Soziales',\n",
       " 'StartseiteStartseite',\n",
       " 'AusschüsseAusschüsse: Untermenü anzeigen',\n",
       " 'Arbeit und SozialesArbeit und Soziales: Untermenü anzeigen',\n",
       " 'Auswärtiges',\n",
       " 'StartseiteStartseite',\n",
       " 'AusschüsseAusschüsse: Untermenü anzeigen',\n",
       " 'AuswärtigesAuswärtiges: Untermenü anzeigen',\n",
       " 'Bildung, Forschung und Technikfolgenabschätzung',\n",
       " 'StartseiteStartseite',\n",
       " 'AusschüsseAusschüsse: Untermenü anzeigen',\n",
       " 'Bildung, Forschung und TechnikfolgenabschätzungBildung, Forschung und Technikfolgenabschätzung: Untermenü anzeigen',\n",
       " 'Digitales',\n",
       " 'StartseiteStartseite',\n",
       " 'AusschüsseAusschüsse: Untermenü anzeigen',\n",
       " 'DigitalesDigitales: Untermenü anzeigen',\n",
       " 'Ernährung und Landwirtschaft',\n",
       " 'StartseiteStartseite',\n",
       " 'AusschüsseAusschüsse: Untermenü anzeigen',\n",
       " 'Ernährung und LandwirtschaftErnährung und Landwirtschaft: Untermenü anzeigen',\n",
       " 'Europäische Union',\n",
       " 'StartseiteStartseite',\n",
       " 'AusschüsseAusschüsse: Untermenü anzeigen',\n",
       " 'Europäische UnionEuropäische Union: Untermenü anzeigen',\n",
       " 'Familie, Senioren, Frauen und Jugend',\n",
       " 'StartseiteStartseite',\n",
       " 'AusschüsseAusschüsse: Untermenü anzeigen',\n",
       " 'Familie, Senioren, Frauen und JugendFamilie, Senioren, Frauen und Jugend: Untermenü anzeigen',\n",
       " 'Finanzen',\n",
       " 'StartseiteStartseite',\n",
       " 'AusschüsseAusschüsse: Untermenü anzeigen',\n",
       " 'FinanzenFinanzen: Untermenü anzeigen',\n",
       " 'Gesundheit',\n",
       " 'StartseiteStartseite',\n",
       " 'AusschüsseAusschüsse: Untermenü anzeigen',\n",
       " 'GesundheitGesundheit: Untermenü anzeigen',\n",
       " 'HaushaltHaushalt: Untermenü anzeigen',\n",
       " 'StartseiteStartseite',\n",
       " 'AusschüsseAusschüsse: Untermenü anzeigen',\n",
       " 'HaushaltHaushalt: Untermenü anzeigen',\n",
       " 'Rechnungsprüfungsausschuss',\n",
       " 'Unterausschuss zu Fragen der Europäischen Union',\n",
       " 'Inneres und Heimat',\n",
       " 'StartseiteStartseite',\n",
       " 'AusschüsseAusschüsse: Untermenü anzeigen',\n",
       " 'Inneres und HeimatInneres und Heimat: Untermenü anzeigen',\n",
       " 'Klimaschutz und Energie',\n",
       " 'StartseiteStartseite',\n",
       " 'AusschüsseAusschüsse: Untermenü anzeigen',\n",
       " 'Klimaschutz und EnergieKlimaschutz und Energie: Untermenü anzeigen',\n",
       " 'Kultur und Medien',\n",
       " 'StartseiteStartseite',\n",
       " 'AusschüsseAusschüsse: Untermenü anzeigen',\n",
       " 'Kultur und MedienKultur und Medien: Untermenü anzeigen',\n",
       " 'Menschenrechte und humanitäre HilfeMenschenrechte und humanitäre Hilfe: Untermenü anzeigen',\n",
       " 'StartseiteStartseite',\n",
       " 'AusschüsseAusschüsse: Untermenü anzeigen',\n",
       " 'Menschenrechte und humanitäre HilfeMenschenrechte und humanitäre Hilfe: Untermenü anzeigen',\n",
       " 'Programm „Parlamentarier schützen Parlamentarier“',\n",
       " 'Petitionsausschuss',\n",
       " 'StartseiteStartseite',\n",
       " 'AusschüsseAusschüsse: Untermenü anzeigen',\n",
       " 'PetitionsausschussPetitionsausschuss: Untermenü anzeigen',\n",
       " 'Recht',\n",
       " 'StartseiteStartseite',\n",
       " 'AusschüsseAusschüsse: Untermenü anzeigen',\n",
       " 'RechtRecht: Untermenü anzeigen',\n",
       " 'Sport',\n",
       " 'StartseiteStartseite',\n",
       " 'AusschüsseAusschüsse: Untermenü anzeigen',\n",
       " 'SportSport: Untermenü anzeigen',\n",
       " 'Tourismus',\n",
       " 'StartseiteStartseite',\n",
       " 'AusschüsseAusschüsse: Untermenü anzeigen',\n",
       " 'TourismusTourismus: Untermenü anzeigen',\n",
       " 'Umwelt, Naturschutz, nukleare Sicherheit und Verbraucherschutz',\n",
       " 'StartseiteStartseite',\n",
       " 'AusschüsseAusschüsse: Untermenü anzeigen',\n",
       " 'Umwelt, Naturschutz, nukleare Sicherheit und VerbraucherschutzUmwelt, Naturschutz, nukleare Sicherheit und Verbraucherschutz: Untermenü anzeigen',\n",
       " 'Verkehr',\n",
       " 'StartseiteStartseite',\n",
       " 'AusschüsseAusschüsse: Untermenü anzeigen',\n",
       " 'VerkehrVerkehr: Untermenü anzeigen',\n",
       " 'Vermittlungsausschuss',\n",
       " 'Verteidigung',\n",
       " 'StartseiteStartseite',\n",
       " 'AusschüsseAusschüsse: Untermenü anzeigen',\n",
       " 'VerteidigungVerteidigung: Untermenü anzeigen',\n",
       " 'Wahlprüfung',\n",
       " 'Wahlprüfung, Immunität und Geschäftsordnung',\n",
       " 'StartseiteStartseite',\n",
       " 'AusschüsseAusschüsse: Untermenü anzeigen',\n",
       " 'Wahlprüfung, Immunität und GeschäftsordnungWahlprüfung, Immunität und Geschäftsordnung: Untermenü anzeigen',\n",
       " 'Wirtschaft',\n",
       " 'StartseiteStartseite',\n",
       " 'AusschüsseAusschüsse: Untermenü anzeigen',\n",
       " 'WirtschaftWirtschaft: Untermenü anzeigen',\n",
       " 'wirtschaftliche Zusammenarbeit und Entwicklung',\n",
       " 'StartseiteStartseite',\n",
       " 'AusschüsseAusschüsse: Untermenü anzeigen',\n",
       " 'wirtschaftliche Zusammenarbeit und Entwicklungwirtschaftliche Zusammenarbeit und Entwicklung: Untermenü anzeigen',\n",
       " 'Wohnen, Stadtentwicklung, Bauwesen und Kommunen',\n",
       " 'StartseiteStartseite',\n",
       " 'AusschüsseAusschüsse: Untermenü anzeigen',\n",
       " 'Wohnen, Stadtentwicklung, Bauwesen und KommunenWohnen, Stadtentwicklung, Bauwesen und Kommunen: Untermenü anzeigen',\n",
       " 'Hauptausschuss',\n",
       " 'StartseiteStartseite',\n",
       " 'AusschüsseAusschüsse: Untermenü anzeigen',\n",
       " 'HauptausschussHauptausschuss: Untermenü anzeigen',\n",
       " 'weitere Gremienweitere Gremien: Untermenü anzeigen',\n",
       " 'StartseiteStartseite',\n",
       " 'AusschüsseAusschüsse: Untermenü anzeigen',\n",
       " 'weitere Gremienweitere Gremien: Untermenü anzeigen',\n",
       " 'Bundesfinanzierungsgremium',\n",
       " 'Deutsch-Französische Parlamentarische Versammlung',\n",
       " 'Parlamentarisches Kontrollgremium',\n",
       " 'G 10-Kommission',\n",
       " 'InternationalesInternationales: Untermenü anzeigen',\n",
       " 'StartseiteStartseite',\n",
       " 'InternationalesInternationales: Untermenü ausblenden',\n",
       " 'Europapolitik im BundestagEuropapolitik im Bundestag: Untermenü anzeigen',\n",
       " 'StartseiteStartseite',\n",
       " 'InternationalesInternationales: Untermenü anzeigen',\n",
       " 'Europapolitik im BundestagEuropapolitik im Bundestag: Untermenü anzeigen',\n",
       " 'Mitwirkungsrechte des Deutschen Bundestages',\n",
       " 'Europa in den Ausschüssen',\n",
       " 'Verbindungsbüro Brüssel',\n",
       " 'Zusammenarbeit der Parlamente in Europa',\n",
       " 'Internationale parlamentarische VersammlungenInternationale parlamentarische Versammlungen: Untermenü anzeigen',\n",
       " 'StartseiteStartseite',\n",
       " 'InternationalesInternationales: Untermenü anzeigen',\n",
       " 'Internationale parlamentarische VersammlungenInternationale parlamentarische Versammlungen: Untermenü anzeigen',\n",
       " 'Parlamentarische Versammlung der OSZE',\n",
       " 'Parlamentarische Versammlung der NATO',\n",
       " 'Parlamentarische Versammlung des Europarates',\n",
       " 'Interparlamentarische Union',\n",
       " 'Stabilität, wirtschaftspolitische Koordinierung und Steuerung in der EU',\n",
       " 'Gemeinsame Außen-, Sicherheits- und Verteidigungspolitik',\n",
       " 'Konferenzen der Präsidentinnen und Präsidenten der Parlamente',\n",
       " 'Parlamentarische Versammlung der Union für den Mittelmeerraum',\n",
       " 'Ostseeparlamentarierkonferenz',\n",
       " 'Parlamentarische Versammlung der Schwarzmeerwirtschaftskooperation',\n",
       " 'Parlamentariergruppen',\n",
       " 'StartseiteStartseite',\n",
       " 'InternationalesInternationales: Untermenü anzeigen',\n",
       " 'ParlamentariergruppenParlamentariergruppen: Untermenü anzeigen',\n",
       " 'Internationales Parlaments-Stipendium (IPS)',\n",
       " 'Parlamentarisches Patenschafts-Programm (PPP)',\n",
       " 'StartseiteStartseite',\n",
       " 'InternationalesInternationales: Untermenü anzeigen',\n",
       " 'Parlamentarisches Patenschafts-Programm (PPP)Parlamentarisches Patenschafts-Programm (PPP): Untermenü anzeigen',\n",
       " 'Wahltermine EU',\n",
       " 'Parlamentarische Dimension der EU-Ratspräsidentschaft',\n",
       " 'DokumenteDokumente: Untermenü anzeigen',\n",
       " 'StartseiteStartseite',\n",
       " 'DokumenteDokumente: Untermenü ausblenden',\n",
       " 'Drucksachen',\n",
       " 'Dokumentations- und Informationssystem (DIP)',\n",
       " 'ParlamentsdokumentationParlamentsdokumentation: Untermenü anzeigen',\n",
       " 'StartseiteStartseite',\n",
       " 'DokumenteDokumente: Untermenü anzeigen',\n",
       " 'ParlamentsdokumentationParlamentsdokumentation: Untermenü anzeigen',\n",
       " 'Corona-Dossier',\n",
       " 'ProtokolleProtokolle: Untermenü anzeigen',\n",
       " 'StartseiteStartseite',\n",
       " 'DokumenteDokumente: Untermenü anzeigen',\n",
       " 'ProtokolleProtokolle: Untermenü anzeigen',\n",
       " 'Tagesaktuelles Plenarprotokoll',\n",
       " 'Endgültige Plenarprotokolle',\n",
       " 'Amtliche Protokolle',\n",
       " 'Gutachten und Ausarbeitungen',\n",
       " 'StartseiteStartseite',\n",
       " 'DokumenteDokumente: Untermenü anzeigen',\n",
       " 'Gutachten und AusarbeitungenGutachten und Ausarbeitungen: Untermenü anzeigen',\n",
       " 'ParlamentsarchivParlamentsarchiv: Untermenü anzeigen',\n",
       " 'StartseiteStartseite',\n",
       " 'DokumenteDokumente: Untermenü anzeigen',\n",
       " 'ParlamentsarchivParlamentsarchiv: Untermenü anzeigen',\n",
       " 'Datenhandbuch',\n",
       " 'Registrierte Verbände (Öffentliche Liste)',\n",
       " 'BibliothekBibliothek: Untermenü anzeigen',\n",
       " 'StartseiteStartseite',\n",
       " 'DokumenteDokumente: Untermenü anzeigen',\n",
       " 'BibliothekBibliothek: Untermenü anzeigen',\n",
       " 'Bibliothekskatalog',\n",
       " 'Pressedokumentation',\n",
       " 'Webarchiv',\n",
       " 'TextarchivTextarchiv: Untermenü anzeigen',\n",
       " 'StartseiteStartseite',\n",
       " 'DokumenteDokumente: Untermenü anzeigen',\n",
       " 'TextarchivTextarchiv: Untermenü anzeigen',\n",
       " '2022',\n",
       " '2021',\n",
       " '2020',\n",
       " '2019',\n",
       " '2018',\n",
       " '2017',\n",
       " 'MediathekMediathek: Untermenü anzeigen',\n",
       " 'StartseiteStartseite',\n",
       " 'MediathekMediathek: Untermenü ausblenden',\n",
       " 'Das Parlamentsfernsehen',\n",
       " 'Gebärdensprache',\n",
       " 'Empfang',\n",
       " 'Audio-Übertragungen',\n",
       " 'PressePresse: Untermenü anzeigen',\n",
       " 'StartseiteStartseite',\n",
       " 'PressePresse: Untermenü ausblenden',\n",
       " 'PressemitteilungenPressemitteilungen: Untermenü anzeigen',\n",
       " 'StartseiteStartseite',\n",
       " 'PressePresse: Untermenü anzeigen',\n",
       " 'PressemitteilungenPressemitteilungen: Untermenü anzeigen',\n",
       " '2022',\n",
       " '2021',\n",
       " 'Kurzmeldungen (hib)',\n",
       " 'Akkreditierung',\n",
       " 'Bilddatenbank',\n",
       " 'Mitschnittservice',\n",
       " 'Kontakt',\n",
       " 'BesuchBesuch: Untermenü anzeigen',\n",
       " 'StartseiteStartseite',\n",
       " 'BesuchBesuch: Untermenü ausblenden',\n",
       " 'Kuppel',\n",
       " 'Barrierefreier Zugang',\n",
       " 'Plenarsitzung',\n",
       " 'FührungenFührungen: Untermenü anzeigen',\n",
       " 'StartseiteStartseite',\n",
       " 'BesuchBesuch: Untermenü anzeigen',\n",
       " 'FührungenFührungen: Untermenü anzeigen',\n",
       " 'Plenarsitzung',\n",
       " 'Einladung durch Abgeordnete',\n",
       " 'Angebote für Kinder und Jugendliche',\n",
       " 'AusstellungenAusstellungen: Untermenü anzeigen',\n",
       " 'StartseiteStartseite',\n",
       " 'BesuchBesuch: Untermenü anzeigen',\n",
       " 'AusstellungenAusstellungen: Untermenü anzeigen',\n",
       " 'Parlamentshistorische Ausstellung im Deutschen Dom',\n",
       " 'Politisch-parlamentarische Ausstellungen',\n",
       " 'Kunstausstellungen',\n",
       " 'Bundestag in Ihrer Nähe',\n",
       " 'Online-Anmeldung',\n",
       " 'KunstKunst: Untermenü anzeigen',\n",
       " 'StartseiteStartseite',\n",
       " 'BesuchBesuch: Untermenü anzeigen',\n",
       " 'KunstKunst: Untermenü anzeigen',\n",
       " 'Kunst am Bau',\n",
       " 'Artothek - die Kunstsammlung',\n",
       " 'Workshops',\n",
       " 'Kunstbeirat',\n",
       " 'Aufträge an zeitgenössische Künstler',\n",
       " 'Mauer-Mahnmal',\n",
       " 'Gedenktafeln',\n",
       " 'Ausgewählt - Aus der Kunstsammlung des Deutschen Bundestages',\n",
       " 'ArchitekturArchitektur: Untermenü anzeigen',\n",
       " 'StartseiteStartseite',\n",
       " 'BesuchBesuch: Untermenü anzeigen',\n",
       " 'ArchitekturArchitektur: Untermenü anzeigen',\n",
       " 'Reichstagsgebäude',\n",
       " 'Jakob-Kaiser-Haus',\n",
       " 'Paul-Löbe-Haus',\n",
       " 'Marie-Elisabeth-Lüders-Haus',\n",
       " 'Weitere Bundestagsgebäude',\n",
       " 'Energiekonzept',\n",
       " 'SeminareSeminare: Untermenü anzeigen',\n",
       " 'StartseiteStartseite',\n",
       " 'BesuchBesuch: Untermenü anzeigen',\n",
       " 'SeminareSeminare: Untermenü anzeigen',\n",
       " 'Das Parlamentsseminar des Deutschen Bundestages',\n",
       " 'Seminare für Lehrerinnen und Lehrer',\n",
       " 'Seminare für Journalistenschülerinnen und -schüler',\n",
       " 'Bundestag in Ihrer NäheBundestag in Ihrer Nähe: Untermenü anzeigen',\n",
       " 'StartseiteStartseite',\n",
       " 'BesuchBesuch: Untermenü anzeigen',\n",
       " 'Bundestag in Ihrer NäheBundestag in Ihrer Nähe: Untermenü anzeigen',\n",
       " 'Infomobil',\n",
       " 'Wanderausstellung',\n",
       " 'Messestand',\n",
       " 'ServiceService: Untermenü anzeigen',\n",
       " 'StartseiteStartseite',\n",
       " 'ServiceService: Untermenü ausblenden',\n",
       " 'Parlamentsbegriffe A – Z',\n",
       " 'StartseiteStartseite',\n",
       " 'ServiceService: Untermenü anzeigen',\n",
       " 'Parlamentsbegriffe A – ZParlamentsbegriffe A – Z: Untermenü anzeigen',\n",
       " 'Häufig gestellte Fragen',\n",
       " 'Virtueller Berater',\n",
       " 'Informationsmaterial',\n",
       " 'Bundestagsshop',\n",
       " 'Newsletter',\n",
       " 'StartseiteStartseite',\n",
       " 'ServiceService: Untermenü anzeigen',\n",
       " 'NewsletterNewsletter: Untermenü anzeigen',\n",
       " 'Karriere',\n",
       " 'StartseiteStartseite',\n",
       " 'ServiceService: Untermenü anzeigen',\n",
       " 'KarriereKarriere: Untermenü anzeigen',\n",
       " 'Das Quiz zum Deutschen Bundestag',\n",
       " 'Formulare und Anträge',\n",
       " 'StartseiteStartseite',\n",
       " 'ServiceService: Untermenü anzeigen',\n",
       " 'Formulare und AnträgeFormulare und Anträge: Untermenü anzeigen',\n",
       " 'Open Data',\n",
       " 'StartseiteStartseite',\n",
       " 'ServiceService: Untermenü anzeigen',\n",
       " 'Open DataOpen Data: Untermenü anzeigen',\n",
       " 'Kontakt',\n",
       " 'StartseiteStartseite',\n",
       " 'ServiceService: Untermenü anzeigen',\n",
       " 'KontaktKontakt: Untermenü anzeigen',\n",
       " 'Abgeordnete',\n",
       " 'schließen',\n",
       " 'Biografien',\n",
       " 'Nebentätigkeiten',\n",
       " 'Entschädigung',\n",
       " 'Wahlergebnisse',\n",
       " 'Parlament',\n",
       " 'schließen',\n",
       " 'Grundgesetz',\n",
       " 'Aufgaben',\n",
       " 'Gesetzgebung',\n",
       " 'Kontrolle der Regierung',\n",
       " 'Der Bundeshaushalt',\n",
       " 'Wahl des Kanzlers/der Kanzlerin',\n",
       " 'Wahl des Bundespräsidenten',\n",
       " 'Rechtliche Grundlagen',\n",
       " 'Plenum',\n",
       " 'Tagesordnungen',\n",
       " 'Namentliche Abstimmungen',\n",
       " 'Sitzverteilung des 20. Deutschen Bundestages',\n",
       " 'Sitzungskalender',\n",
       " 'Schriftführer',\n",
       " 'Präsidium',\n",
       " 'Funktion und Aufgabe',\n",
       " 'Wahl des Präsidiums',\n",
       " 'Reden und Beiträge der Präsidenten',\n",
       " 'Parteienfinanzierung',\n",
       " 'Ältestenrat',\n",
       " 'Fraktionen',\n",
       " 'SPD',\n",
       " 'CDU/CSU',\n",
       " 'Bündnis 90/ Die Grünen',\n",
       " 'FDP',\n",
       " 'AfD',\n",
       " 'Die Linke',\n",
       " 'Petitionen',\n",
       " 'SED-Opferbeauftragte',\n",
       " 'Wehrbeauftragte',\n",
       " 'Verwaltung',\n",
       " 'Geschichte',\n",
       " 'Historische Ausstellungen',\n",
       " 'Deutscher Parlamentarismus',\n",
       " 'Parlamentarische Schauplätze',\n",
       " 'Bundestagspräsidenten seit 1949',\n",
       " 'Herbst 1918: Vom Kaiserreich zur Republik',\n",
       " 'Staatliche Symbole',\n",
       " 'Parlamentspreise',\n",
       " 'Medienpreis',\n",
       " 'Deutsch-Französischer Parlamentspreis',\n",
       " 'Wissenschaftspreis',\n",
       " 'Wahlen',\n",
       " 'Wahlergebnisse',\n",
       " 'Wahltermine in Deutschland',\n",
       " 'Lobbyregister',\n",
       " 'Ausschüsse',\n",
       " 'schließen',\n",
       " 'Arbeit und Soziales',\n",
       " 'Auswärtiges',\n",
       " 'Bildung, Forschung und Technikfolgenabschätzung',\n",
       " 'Digitales',\n",
       " 'Ernährung und Landwirtschaft',\n",
       " 'Europäische Union',\n",
       " 'Familie, Senioren, Frauen und Jugend',\n",
       " 'Finanzen',\n",
       " 'Gesundheit',\n",
       " 'Haushalt',\n",
       " 'Rechnungsprüfungsausschuss',\n",
       " 'Unterausschuss zu Fragen der Europäischen Union',\n",
       " 'Inneres und Heimat',\n",
       " 'Klimaschutz und Energie',\n",
       " 'Kultur und Medien',\n",
       " 'Menschenrechte und humanitäre Hilfe',\n",
       " 'Petitionsausschuss',\n",
       " 'Recht',\n",
       " 'Sport',\n",
       " 'Tourismus',\n",
       " 'Umwelt, Naturschutz, nukleare Sicherheit und Verbraucherschutz',\n",
       " 'Verkehr',\n",
       " 'Vermittlungsausschuss',\n",
       " 'Verteidigung',\n",
       " 'Wahlprüfung',\n",
       " 'Wahlprüfung, Immunität und Geschäftsordnung',\n",
       " 'Wirtschaft',\n",
       " 'wirtschaftliche Zusammenarbeit und Entwicklung',\n",
       " 'Wohnen, Stadtentwicklung, Bauwesen und Kommunen',\n",
       " 'Hauptausschuss',\n",
       " 'weitere Gremien',\n",
       " 'Bundesfinanzierungsgremium',\n",
       " 'Deutsch-Französische Parlamentarische Versammlung',\n",
       " 'Parlamentarisches Kontrollgremium',\n",
       " 'G 10-Kommission',\n",
       " 'Internationales',\n",
       " 'schließen',\n",
       " 'Europapolitik im Bundestag',\n",
       " 'Mitwirkungsrechte des Deutschen Bundestages',\n",
       " 'Europa in den Ausschüssen',\n",
       " 'Verbindungsbüro Brüssel',\n",
       " 'Zusammenarbeit der Parlamente in Europa',\n",
       " 'Internationale parlamentarische Versammlungen',\n",
       " 'Parlamentarische Versammlung der OSZE',\n",
       " 'Parlamentarische Versammlung der NATO',\n",
       " 'Parlamentarische Versammlung des Europarates',\n",
       " 'Interparlamentarische Union',\n",
       " 'Stabilität, wirtschaftspolitische Koordinierung und Steuerung in der EU',\n",
       " 'Gemeinsame Außen-, Sicherheits- und Verteidigungspolitik',\n",
       " 'Konferenzen der Präsidentinnen und Präsidenten der Parlamente',\n",
       " 'Parlamentarische Versammlung der Union für den Mittelmeerraum',\n",
       " 'Ostseeparlamentarierkonferenz',\n",
       " 'Parlamentarische Versammlung der Schwarzmeerwirtschaftskooperation',\n",
       " 'Parlamentariergruppen',\n",
       " 'Internationales Parlaments-Stipendium (IPS)',\n",
       " 'Parlamentarisches Patenschafts-Programm (PPP)',\n",
       " 'Wahltermine EU',\n",
       " 'Parlamentarische Dimension der EU-Ratspräsidentschaft',\n",
       " 'Dokumente',\n",
       " 'schließen',\n",
       " 'Drucksachen',\n",
       " 'Dokumentations- und Informationssystem (DIP)',\n",
       " 'Parlamentsdokumentation',\n",
       " 'Corona-Dossier',\n",
       " 'Protokolle',\n",
       " 'Tagesaktuelles Plenarprotokoll',\n",
       " 'Endgültige Plenarprotokolle',\n",
       " 'Amtliche Protokolle',\n",
       " 'Gutachten und Ausarbeitungen',\n",
       " 'Parlamentsarchiv',\n",
       " 'Datenhandbuch',\n",
       " 'Registrierte Verbände (Öffentliche Liste)',\n",
       " 'Bibliothek',\n",
       " 'Bibliothekskatalog',\n",
       " 'Pressedokumentation',\n",
       " 'Webarchiv',\n",
       " 'Textarchiv',\n",
       " '2022',\n",
       " '2021',\n",
       " '2020',\n",
       " '2019',\n",
       " '2018',\n",
       " '2017',\n",
       " 'Mediathek',\n",
       " 'schließen',\n",
       " 'Das Parlamentsfernsehen',\n",
       " 'Gebärdensprache',\n",
       " 'Empfang',\n",
       " 'Audio-Übertragungen',\n",
       " 'Presse',\n",
       " 'schließen',\n",
       " 'Pressemitteilungen',\n",
       " '2022',\n",
       " '2021',\n",
       " 'Kurzmeldungen (hib)',\n",
       " 'Akkreditierung',\n",
       " 'Bilddatenbank',\n",
       " 'Mitschnittservice',\n",
       " 'Kontakt',\n",
       " 'Besuch',\n",
       " 'schließen',\n",
       " 'Kuppel',\n",
       " 'Barrierefreier Zugang',\n",
       " 'Plenarsitzung',\n",
       " 'Führungen',\n",
       " 'Plenarsitzung',\n",
       " 'Einladung durch Abgeordnete',\n",
       " 'Angebote für Kinder und Jugendliche',\n",
       " 'Ausstellungen',\n",
       " 'Parlamentshistorische Ausstellung im Deutschen Dom',\n",
       " 'Politisch-parlamentarische Ausstellungen',\n",
       " 'Kunstausstellungen',\n",
       " 'Bundestag in Ihrer Nähe',\n",
       " 'Online-Anmeldung',\n",
       " 'Kunst',\n",
       " 'Kunst am Bau',\n",
       " 'Artothek - die Kunstsammlung',\n",
       " 'Workshops',\n",
       " 'Kunstbeirat',\n",
       " 'Aufträge an zeitgenössische Künstler',\n",
       " 'Mauer-Mahnmal',\n",
       " 'Gedenktafeln',\n",
       " 'Ausgewählt - Aus der Kunstsammlung des Deutschen Bundestages',\n",
       " 'Architektur',\n",
       " 'Reichstagsgebäude',\n",
       " 'Jakob-Kaiser-Haus',\n",
       " 'Paul-Löbe-Haus',\n",
       " 'Marie-Elisabeth-Lüders-Haus',\n",
       " 'Weitere Bundestagsgebäude',\n",
       " 'Energiekonzept',\n",
       " 'Seminare',\n",
       " 'Das Parlamentsseminar des Deutschen Bundestages',\n",
       " 'Seminare für Lehrerinnen und Lehrer',\n",
       " 'Seminare für Journalistenschülerinnen und -schüler',\n",
       " 'Bundestag in Ihrer Nähe',\n",
       " 'Infomobil',\n",
       " 'Wanderausstellung',\n",
       " 'Messestand',\n",
       " 'Service',\n",
       " 'schließen',\n",
       " 'Parlamentsbegriffe A – Z',\n",
       " 'Häufig gestellte Fragen',\n",
       " 'Virtueller Berater',\n",
       " 'Informationsmaterial',\n",
       " 'Bundestagsshop',\n",
       " 'Newsletter',\n",
       " 'Karriere',\n",
       " 'Das Quiz zum Deutschen Bundestag',\n",
       " 'Formulare und Anträge',\n",
       " 'Open Data',\n",
       " 'Kontakt',\n",
       " 'Abgeordnete',\n",
       " 'Startseite',\n",
       " 'Abgeordnete',\n",
       " 'Biografien',\n",
       " 'S',\n",
       " 'Jens Spahn',\n",
       " '© Jens Spahn/ Anne Hufnagl',\n",
       " 'Jens Spahn, CDU/CSU',\n",
       " 'Bankkaufmann',\n",
       " 'Kontakt',\n",
       " 'Bereich \"Kontakt\" ein-/ausklappen',\n",
       " 'Abgeordnetenbüro',\n",
       " 'Deutscher Bundestag Platz der Republik 1 11011 Berlin',\n",
       " 'Kontakt',\n",
       " 'Wüllener Str. 11 48683 Ahaus',\n",
       " 'Homepage',\n",
       " 'Facebook',\n",
       " 'Twitter',\n",
       " 'LinkedIn',\n",
       " 'Instagram',\n",
       " 'Biografie',\n",
       " 'Reden',\n",
       " 'Abstimmungen',\n",
       " 'Bereich \"Biografie\" ein-/ausklappen',\n",
       " 'Reden',\n",
       " 'Bereich \"Reden\" ein-/ausklappen',\n",
       " '9766+OR+6761+OR+8521+OR+2893+OR+9597+OR+12752',\n",
       " 'Abstimmungen',\n",
       " 'Bereich \"Abstimmungen\" ein-/ausklappen',\n",
       " 'Veröffentlichung',\n",
       " 'Abstimmungsthema',\n",
       " 'Abstimmungsverhalten',\n",
       " 'Direkt gewählt',\n",
       " 'Bereich \"Direkt gewählt\" ein-/ausklappen',\n",
       " 'Wahlkreis 124: Steinfurt I – Borken I',\n",
       " 'Nordrhein-Westfalen',\n",
       " 'Wahlkreis 124: Steinfurt I – Borken I',\n",
       " 'Mitgliedschaften und Ämter im Bundestag',\n",
       " 'Bereich \"Mitgliedschaften und Ämter im Bundestag\" ein-/ausklappen',\n",
       " 'Wirtschaftsausschuss',\n",
       " 'Ausschuss für Klimaschutz und Energie',\n",
       " 'Bereich \"Veröffentlichungspflichtige Angaben\" ein-/ausklappen',\n",
       " 'Startseite',\n",
       " 'Abgeordnete',\n",
       " 'Biografien',\n",
       " 'S',\n",
       " 'Hilfe',\n",
       " 'Kontakt',\n",
       " 'Inhaltsübersicht',\n",
       " '© Deutscher Bundestag',\n",
       " 'Barrierefreiheit',\n",
       " 'Datenschutz',\n",
       " 'Impressum',\n",
       " 'Ausdruck aus dem Internet-Angebot des Deutschen Bundestages',\n",
       " 'https://www.bundestag.de/abgeordnete/biografien/S/spahn_jens-858012',\n",
       " 'Stand: 30.01.2022']"
      ]
     },
     "execution_count": 25,
     "metadata": {},
     "output_type": "execute_result"
    }
   ],
   "source": [
    "# what has been skipped?\n",
    "boilerplate"
   ]
  },
  {
   "cell_type": "markdown",
   "id": "trained-research",
   "metadata": {
    "slideshow": {
     "slide_type": "slide"
    }
   },
   "source": [
    "## Processing XML\n",
    "\n",
    "The [Open Data](https://www.bundestag.de/services/opendata) portal of the German parliament offers a zip file      \"Stammdaten aller Abgeordneten seit 1949 im XML-Format (Stand 04.11.2021)\" for free download. Most likely we should get the information about all PMs from this source. But how do we process XML?\n",
    "\n",
    "Assumed the zip archive has been downloaded, unzipped and the files are all placed in `data/bundestag/`, we can simply read the file and pass it to beautifulsoup which will parse it. But we request a specific parser feature (`lxml-xml`) so that the casing of XML elements is preserved."
   ]
  },
  {
   "cell_type": "code",
   "execution_count": 26,
   "id": "strange-barbados",
   "metadata": {
    "slideshow": {
     "slide_type": "subslide"
    }
   },
   "outputs": [
    {
     "data": {
      "text/plain": [
       "<MDB>\n",
       "<ID>11000001</ID>\n",
       "<NAMEN>\n",
       "<NAME>\n",
       "<NACHNAME>Abelein</NACHNAME>\n",
       "<VORNAME>Manfred</VORNAME>\n",
       "<ORTSZUSATZ/>\n",
       "<ADEL/>\n",
       "<PRAEFIX/>\n",
       "<ANREDE_TITEL>Dr.</ANREDE_TITEL>\n",
       "<AKAD_TITEL>Prof. Dr.</AKAD_TITEL>\n",
       "<HISTORIE_VON>19.10.1965</HISTORIE_VON>\n",
       "<HISTORIE_BIS/>\n",
       "</NAME>\n",
       "</NAMEN>\n",
       "<BIOGRAFISCHE_ANGABEN>\n",
       "<GEBURTSDATUM>20.10.1930</GEBURTSDATUM>\n",
       "<GEBURTSORT>Stuttgart</GEBURTSORT>\n",
       "<GEBURTSLAND/>\n",
       "<STERBEDATUM>17.01.2008</STERBEDATUM>\n",
       "<GESCHLECHT>männlich</GESCHLECHT>\n",
       "<FAMILIENSTAND>keine Angaben</FAMILIENSTAND>\n",
       "<RELIGION>katholisch</RELIGION>\n",
       "<BERUF>Rechtsanwalt, Wirtschaftsprüfer, Universitätsprofessor</BERUF>\n",
       "<PARTEI_KURZ>CDU</PARTEI_KURZ>\n",
       "<VITA_KURZ/>\n",
       "<VEROEFFENTLICHUNGSPFLICHTIGES/>\n",
       "</BIOGRAFISCHE_ANGABEN>\n",
       "<WAHLPERIODEN>\n",
       "<WAHLPERIODE>\n",
       "<WP>5</WP>\n",
       "<MDBWP_VON>19.10.1965</MDBWP_VON>\n",
       "<MDBWP_BIS>19.10.1969</MDBWP_BIS>\n",
       "<WKR_NUMMER>174</WKR_NUMMER>\n",
       "<WKR_NAME/>\n",
       "<WKR_LAND>BWG</WKR_LAND>\n",
       "<LISTE/>\n",
       "<MANDATSART>Direktwahl</MANDATSART>\n",
       "<INSTITUTIONEN>\n",
       "<INSTITUTION>\n",
       "<INSART_LANG>Fraktion/Gruppe</INSART_LANG>\n",
       "<INS_LANG>Fraktion der Christlich Demokratischen Union/Christlich - Sozialen Union</INS_LANG>\n",
       "<MDBINS_VON/>\n",
       "<MDBINS_BIS/>\n",
       "<FKT_LANG/>\n",
       "<FKTINS_VON/>\n",
       "<FKTINS_BIS/>\n",
       "</INSTITUTION>\n",
       "</INSTITUTIONEN>\n",
       "</WAHLPERIODE>\n",
       "<WAHLPERIODE>\n",
       "<WP>6</WP>\n",
       "<MDBWP_VON>20.10.1969</MDBWP_VON>\n",
       "<MDBWP_BIS>22.09.1972</MDBWP_BIS>\n",
       "<WKR_NUMMER>174</WKR_NUMMER>\n",
       "<WKR_NAME/>\n",
       "<WKR_LAND>BWG</WKR_LAND>\n",
       "<LISTE/>\n",
       "<MANDATSART>Direktwahl</MANDATSART>\n",
       "<INSTITUTIONEN>\n",
       "<INSTITUTION>\n",
       "<INSART_LANG>Fraktion/Gruppe</INSART_LANG>\n",
       "<INS_LANG>Fraktion der Christlich Demokratischen Union/Christlich - Sozialen Union</INS_LANG>\n",
       "<MDBINS_VON/>\n",
       "<MDBINS_BIS/>\n",
       "<FKT_LANG/>\n",
       "<FKTINS_VON/>\n",
       "<FKTINS_BIS/>\n",
       "</INSTITUTION>\n",
       "</INSTITUTIONEN>\n",
       "</WAHLPERIODE>\n",
       "<WAHLPERIODE>\n",
       "<WP>7</WP>\n",
       "<MDBWP_VON>13.12.1972</MDBWP_VON>\n",
       "<MDBWP_BIS>13.12.1976</MDBWP_BIS>\n",
       "<WKR_NUMMER>174</WKR_NUMMER>\n",
       "<WKR_NAME/>\n",
       "<WKR_LAND>BWG</WKR_LAND>\n",
       "<LISTE/>\n",
       "<MANDATSART>Direktwahl</MANDATSART>\n",
       "<INSTITUTIONEN>\n",
       "<INSTITUTION>\n",
       "<INSART_LANG>Fraktion/Gruppe</INSART_LANG>\n",
       "<INS_LANG>Fraktion der Christlich Demokratischen Union/Christlich - Sozialen Union</INS_LANG>\n",
       "<MDBINS_VON/>\n",
       "<MDBINS_BIS/>\n",
       "<FKT_LANG/>\n",
       "<FKTINS_VON/>\n",
       "<FKTINS_BIS/>\n",
       "</INSTITUTION>\n",
       "</INSTITUTIONEN>\n",
       "</WAHLPERIODE>\n",
       "<WAHLPERIODE>\n",
       "<WP>8</WP>\n",
       "<MDBWP_VON>14.12.1976</MDBWP_VON>\n",
       "<MDBWP_BIS>04.11.1980</MDBWP_BIS>\n",
       "<WKR_NUMMER>174</WKR_NUMMER>\n",
       "<WKR_NAME/>\n",
       "<WKR_LAND>BWG</WKR_LAND>\n",
       "<LISTE/>\n",
       "<MANDATSART>Direktwahl</MANDATSART>\n",
       "<INSTITUTIONEN>\n",
       "<INSTITUTION>\n",
       "<INSART_LANG>Fraktion/Gruppe</INSART_LANG>\n",
       "<INS_LANG>Fraktion der Christlich Demokratischen Union/Christlich - Sozialen Union</INS_LANG>\n",
       "<MDBINS_VON/>\n",
       "<MDBINS_BIS/>\n",
       "<FKT_LANG/>\n",
       "<FKTINS_VON/>\n",
       "<FKTINS_BIS/>\n",
       "</INSTITUTION>\n",
       "</INSTITUTIONEN>\n",
       "</WAHLPERIODE>\n",
       "<WAHLPERIODE>\n",
       "<WP>9</WP>\n",
       "<MDBWP_VON>04.11.1980</MDBWP_VON>\n",
       "<MDBWP_BIS>29.03.1983</MDBWP_BIS>\n",
       "<WKR_NUMMER>174</WKR_NUMMER>\n",
       "<WKR_NAME/>\n",
       "<WKR_LAND>BWG</WKR_LAND>\n",
       "<LISTE/>\n",
       "<MANDATSART>Direktwahl</MANDATSART>\n",
       "<INSTITUTIONEN>\n",
       "<INSTITUTION>\n",
       "<INSART_LANG>Fraktion/Gruppe</INSART_LANG>\n",
       "<INS_LANG>Fraktion der Christlich Demokratischen Union/Christlich - Sozialen Union</INS_LANG>\n",
       "<MDBINS_VON/>\n",
       "<MDBINS_BIS/>\n",
       "<FKT_LANG/>\n",
       "<FKTINS_VON/>\n",
       "<FKTINS_BIS/>\n",
       "</INSTITUTION>\n",
       "</INSTITUTIONEN>\n",
       "</WAHLPERIODE>\n",
       "<WAHLPERIODE>\n",
       "<WP>10</WP>\n",
       "<MDBWP_VON>29.03.1983</MDBWP_VON>\n",
       "<MDBWP_BIS>18.02.1987</MDBWP_BIS>\n",
       "<WKR_NUMMER>174</WKR_NUMMER>\n",
       "<WKR_NAME/>\n",
       "<WKR_LAND>BWG</WKR_LAND>\n",
       "<LISTE/>\n",
       "<MANDATSART>Direktwahl</MANDATSART>\n",
       "<INSTITUTIONEN>\n",
       "<INSTITUTION>\n",
       "<INSART_LANG>Fraktion/Gruppe</INSART_LANG>\n",
       "<INS_LANG>Fraktion der Christlich Demokratischen Union/Christlich - Sozialen Union</INS_LANG>\n",
       "<MDBINS_VON/>\n",
       "<MDBINS_BIS/>\n",
       "<FKT_LANG/>\n",
       "<FKTINS_VON/>\n",
       "<FKTINS_BIS/>\n",
       "</INSTITUTION>\n",
       "</INSTITUTIONEN>\n",
       "</WAHLPERIODE>\n",
       "<WAHLPERIODE>\n",
       "<WP>11</WP>\n",
       "<MDBWP_VON>18.02.1987</MDBWP_VON>\n",
       "<MDBWP_BIS>20.12.1990</MDBWP_BIS>\n",
       "<WKR_NUMMER>174</WKR_NUMMER>\n",
       "<WKR_NAME/>\n",
       "<WKR_LAND>BWG</WKR_LAND>\n",
       "<LISTE/>\n",
       "<MANDATSART>Direktwahl</MANDATSART>\n",
       "<INSTITUTIONEN>\n",
       "<INSTITUTION>\n",
       "<INSART_LANG>Fraktion/Gruppe</INSART_LANG>\n",
       "<INS_LANG>Fraktion der Christlich Demokratischen Union/Christlich - Sozialen Union</INS_LANG>\n",
       "<MDBINS_VON>18.02.1987</MDBINS_VON>\n",
       "<MDBINS_BIS>20.12.1990</MDBINS_BIS>\n",
       "<FKT_LANG/>\n",
       "<FKTINS_VON/>\n",
       "<FKTINS_BIS/>\n",
       "</INSTITUTION>\n",
       "</INSTITUTIONEN>\n",
       "</WAHLPERIODE>\n",
       "</WAHLPERIODEN>\n",
       "</MDB>"
      ]
     },
     "execution_count": 26,
     "metadata": {},
     "output_type": "execute_result"
    }
   ],
   "source": [
    "from bs4 import BeautifulSoup\n",
    "\n",
    "xml = BeautifulSoup(open('data/bundestag/MDB_STAMMDATEN.XML').read(),\n",
    "                    features='lxml-xml')\n",
    "\n",
    "xml.MDB"
   ]
  },
  {
   "cell_type": "code",
   "execution_count": 27,
   "id": "essential-passing",
   "metadata": {
    "slideshow": {
     "slide_type": "subslide"
    }
   },
   "outputs": [
    {
     "data": {
      "text/plain": [
       "4365"
      ]
     },
     "execution_count": 27,
     "metadata": {},
     "output_type": "execute_result"
    }
   ],
   "source": [
    "len(xml.findAll('MDB'))"
   ]
  },
  {
   "cell_type": "markdown",
   "id": "consistent-athens",
   "metadata": {
    "slideshow": {
     "slide_type": "subslide"
    }
   },
   "source": [
    "For the 4365 members of the German parliament (active and previous members), let's now look for their academic titles..."
   ]
  },
  {
   "cell_type": "code",
   "execution_count": 28,
   "id": "patient-roads",
   "metadata": {
    "slideshow": {
     "slide_type": "subslide"
    }
   },
   "outputs": [
    {
     "data": {
      "text/plain": [
       "0.2510882016036655"
      ]
     },
     "execution_count": 28,
     "metadata": {},
     "output_type": "execute_result"
    }
   ],
   "source": [
    "from collections import defaultdict, Counter\n",
    "\n",
    "mp_acad_title = Counter()\n",
    "\n",
    "mp_with_acad_title, mp_total = 0, 0\n",
    "\n",
    "election_periods = defaultdict(Counter)\n",
    "\n",
    "\n",
    "for mp in xml.findAll('MDB'):\n",
    "\n",
    "    mp_total += 1\n",
    "\n",
    "    has_academic_title = False\n",
    "    for nn in mp.findAll(\"NAME\"):\n",
    "        if nn.AKAD_TITEL.text:\n",
    "            has_academic_title = True\n",
    "            mp_acad_title[nn.AKAD_TITEL.text] += 1\n",
    "\n",
    "    if has_academic_title:\n",
    "        # count a title only once (in case of multiple names)\n",
    "        mp_with_acad_title += 1\n",
    "\n",
    "    for ep in mp.findAll('WAHLPERIODE'):\n",
    "        period = int(ep.WP.text)\n",
    "        election_periods[period]['mp_total'] += 1\n",
    "        if has_academic_title:\n",
    "            election_periods[period]['mp_with_academic_title'] += 1\n",
    "\n",
    "mp_with_acad_title / mp_total"
   ]
  },
  {
   "cell_type": "code",
   "execution_count": 29,
   "id": "alike-construction",
   "metadata": {},
   "outputs": [
    {
     "data": {
      "text/plain": [
       "defaultdict(collections.Counter,\n",
       "            {5: Counter({'mp_total': 559, 'mp_with_academic_title': 173}),\n",
       "             6: Counter({'mp_total': 556, 'mp_with_academic_title': 182}),\n",
       "             7: Counter({'mp_total': 549, 'mp_with_academic_title': 185}),\n",
       "             8: Counter({'mp_total': 553, 'mp_with_academic_title': 187}),\n",
       "             9: Counter({'mp_total': 549, 'mp_with_academic_title': 171}),\n",
       "             10: Counter({'mp_total': 576, 'mp_with_academic_title': 178}),\n",
       "             11: Counter({'mp_total': 702, 'mp_with_academic_title': 241}),\n",
       "             3: Counter({'mp_total': 562, 'mp_with_academic_title': 169}),\n",
       "             4: Counter({'mp_total': 580, 'mp_with_academic_title': 182}),\n",
       "             2: Counter({'mp_total': 558, 'mp_with_academic_title': 166}),\n",
       "             12: Counter({'mp_total': 699, 'mp_with_academic_title': 218}),\n",
       "             13: Counter({'mp_total': 693, 'mp_with_academic_title': 167}),\n",
       "             14: Counter({'mp_total': 699, 'mp_with_academic_title': 146}),\n",
       "             15: Counter({'mp_total': 628, 'mp_with_academic_title': 115}),\n",
       "             16: Counter({'mp_total': 642, 'mp_with_academic_title': 132}),\n",
       "             1: Counter({'mp_total': 474, 'mp_with_academic_title': 149}),\n",
       "             17: Counter({'mp_total': 652, 'mp_with_academic_title': 130}),\n",
       "             18: Counter({'mp_total': 658, 'mp_with_academic_title': 127}),\n",
       "             19: Counter({'mp_total': 750, 'mp_with_academic_title': 149}),\n",
       "             20: Counter({'mp_total': 736, 'mp_with_academic_title': 121})})"
      ]
     },
     "execution_count": 29,
     "metadata": {},
     "output_type": "execute_result"
    }
   ],
   "source": [
    "election_periods"
   ]
  },
  {
   "cell_type": "code",
   "execution_count": 30,
   "id": "lesser-senate",
   "metadata": {
    "slideshow": {
     "slide_type": "subslide"
    }
   },
   "outputs": [
    {
     "data": {
      "text/html": [
       "<div>\n",
       "<style scoped>\n",
       "    .dataframe tbody tr th:only-of-type {\n",
       "        vertical-align: middle;\n",
       "    }\n",
       "\n",
       "    .dataframe tbody tr th {\n",
       "        vertical-align: top;\n",
       "    }\n",
       "\n",
       "    .dataframe thead th {\n",
       "        text-align: right;\n",
       "    }\n",
       "</style>\n",
       "<table border=\"1\" class=\"dataframe\">\n",
       "  <thead>\n",
       "    <tr style=\"text-align: right;\">\n",
       "      <th></th>\n",
       "      <th>mp_total</th>\n",
       "      <th>mp_with_academic_title</th>\n",
       "      <th>% with acad. title</th>\n",
       "    </tr>\n",
       "  </thead>\n",
       "  <tbody>\n",
       "    <tr>\n",
       "      <th>1</th>\n",
       "      <td>474</td>\n",
       "      <td>149</td>\n",
       "      <td>31.434599</td>\n",
       "    </tr>\n",
       "    <tr>\n",
       "      <th>2</th>\n",
       "      <td>558</td>\n",
       "      <td>166</td>\n",
       "      <td>29.749104</td>\n",
       "    </tr>\n",
       "    <tr>\n",
       "      <th>3</th>\n",
       "      <td>562</td>\n",
       "      <td>169</td>\n",
       "      <td>30.071174</td>\n",
       "    </tr>\n",
       "    <tr>\n",
       "      <th>4</th>\n",
       "      <td>580</td>\n",
       "      <td>182</td>\n",
       "      <td>31.379310</td>\n",
       "    </tr>\n",
       "    <tr>\n",
       "      <th>5</th>\n",
       "      <td>559</td>\n",
       "      <td>173</td>\n",
       "      <td>30.948122</td>\n",
       "    </tr>\n",
       "    <tr>\n",
       "      <th>6</th>\n",
       "      <td>556</td>\n",
       "      <td>182</td>\n",
       "      <td>32.733813</td>\n",
       "    </tr>\n",
       "    <tr>\n",
       "      <th>7</th>\n",
       "      <td>549</td>\n",
       "      <td>185</td>\n",
       "      <td>33.697632</td>\n",
       "    </tr>\n",
       "    <tr>\n",
       "      <th>8</th>\n",
       "      <td>553</td>\n",
       "      <td>187</td>\n",
       "      <td>33.815552</td>\n",
       "    </tr>\n",
       "    <tr>\n",
       "      <th>9</th>\n",
       "      <td>549</td>\n",
       "      <td>171</td>\n",
       "      <td>31.147541</td>\n",
       "    </tr>\n",
       "    <tr>\n",
       "      <th>10</th>\n",
       "      <td>576</td>\n",
       "      <td>178</td>\n",
       "      <td>30.902778</td>\n",
       "    </tr>\n",
       "    <tr>\n",
       "      <th>11</th>\n",
       "      <td>702</td>\n",
       "      <td>241</td>\n",
       "      <td>34.330484</td>\n",
       "    </tr>\n",
       "    <tr>\n",
       "      <th>12</th>\n",
       "      <td>699</td>\n",
       "      <td>218</td>\n",
       "      <td>31.187411</td>\n",
       "    </tr>\n",
       "    <tr>\n",
       "      <th>13</th>\n",
       "      <td>693</td>\n",
       "      <td>167</td>\n",
       "      <td>24.098124</td>\n",
       "    </tr>\n",
       "    <tr>\n",
       "      <th>14</th>\n",
       "      <td>699</td>\n",
       "      <td>146</td>\n",
       "      <td>20.886981</td>\n",
       "    </tr>\n",
       "    <tr>\n",
       "      <th>15</th>\n",
       "      <td>628</td>\n",
       "      <td>115</td>\n",
       "      <td>18.312102</td>\n",
       "    </tr>\n",
       "    <tr>\n",
       "      <th>16</th>\n",
       "      <td>642</td>\n",
       "      <td>132</td>\n",
       "      <td>20.560748</td>\n",
       "    </tr>\n",
       "    <tr>\n",
       "      <th>17</th>\n",
       "      <td>652</td>\n",
       "      <td>130</td>\n",
       "      <td>19.938650</td>\n",
       "    </tr>\n",
       "    <tr>\n",
       "      <th>18</th>\n",
       "      <td>658</td>\n",
       "      <td>127</td>\n",
       "      <td>19.300912</td>\n",
       "    </tr>\n",
       "    <tr>\n",
       "      <th>19</th>\n",
       "      <td>750</td>\n",
       "      <td>149</td>\n",
       "      <td>19.866667</td>\n",
       "    </tr>\n",
       "    <tr>\n",
       "      <th>20</th>\n",
       "      <td>736</td>\n",
       "      <td>121</td>\n",
       "      <td>16.440217</td>\n",
       "    </tr>\n",
       "  </tbody>\n",
       "</table>\n",
       "</div>"
      ],
      "text/plain": [
       "    mp_total  mp_with_academic_title  % with acad. title\n",
       "1        474                     149           31.434599\n",
       "2        558                     166           29.749104\n",
       "3        562                     169           30.071174\n",
       "4        580                     182           31.379310\n",
       "5        559                     173           30.948122\n",
       "6        556                     182           32.733813\n",
       "7        549                     185           33.697632\n",
       "8        553                     187           33.815552\n",
       "9        549                     171           31.147541\n",
       "10       576                     178           30.902778\n",
       "11       702                     241           34.330484\n",
       "12       699                     218           31.187411\n",
       "13       693                     167           24.098124\n",
       "14       699                     146           20.886981\n",
       "15       628                     115           18.312102\n",
       "16       642                     132           20.560748\n",
       "17       652                     130           19.938650\n",
       "18       658                     127           19.300912\n",
       "19       750                     149           19.866667\n",
       "20       736                     121           16.440217"
      ]
     },
     "execution_count": 30,
     "metadata": {},
     "output_type": "execute_result"
    }
   ],
   "source": [
    "df = pd.DataFrame.from_dict(election_periods, orient='index').sort_index()\n",
    "\n",
    "df['% with acad. title'] = 100.0 * df['mp_with_academic_title'] / df['mp_total']\n",
    "df"
   ]
  },
  {
   "cell_type": "code",
   "execution_count": 31,
   "id": "large-whale",
   "metadata": {
    "slideshow": {
     "slide_type": "subslide"
    }
   },
   "outputs": [
    {
     "data": {
      "text/plain": [
       "[('Dr.', 965),\n",
       " ('Prof. Dr.', 85),\n",
       " ('Dr. h. c.', 42),\n",
       " ('Dr. Dr. h. c.', 17),\n",
       " ('Prof.', 13),\n",
       " ('Dr. - Ing.', 12),\n",
       " ('Prof. Dr. h. c.', 3),\n",
       " ('Dipl. - Ing.', 3),\n",
       " ('Dr. Dr.', 3),\n",
       " ('Prof. Dr. Dr. h. c.', 3),\n",
       " ('Dr. - Ing. e. h.', 2),\n",
       " ('Prof. Dr. Dr.', 2),\n",
       " ('Dr. - Ing. Dr. h. c.', 1),\n",
       " ('Prof. h. c.', 1),\n",
       " ('Prof. Dr. - Ing.', 1),\n",
       " ('Dr. h. c. Dr. - Ing. e. h.', 1),\n",
       " ('Dr. - Ing. Dr. - Ing. e. h. Dr. h. c.', 1),\n",
       " ('Dr. h. c. Dr. e. h.', 1),\n",
       " ('Prof. h. c. Dr.', 1),\n",
       " ('Dr. h. c. (Univ Kyiv)', 1),\n",
       " ('HonD', 1),\n",
       " ('Dr. h. c. (NUACA)', 1)]"
      ]
     },
     "execution_count": 31,
     "metadata": {},
     "output_type": "execute_result"
    }
   ],
   "source": [
    "mp_acad_title.most_common()"
   ]
  },
  {
   "cell_type": "markdown",
   "id": "important-equipment",
   "metadata": {
    "slideshow": {
     "slide_type": "subslide"
    }
   },
   "source": [
    "A final note: Reading the XML file describing the members of the German parliament into a tabular data structure will be painful (similar as for JSON data source) because of\n",
    "- the nested structure\n",
    "- some list-like data, for example the fact that one MP can have multiple names\n",
    "\n",
    "Instead of coding the conversion in Python: with [XSLT](https://en.wikipedia.org/wiki/XSLT) there is a dedicated language for transforming XML documents into other document formats."
   ]
  },
  {
   "cell_type": "markdown",
   "id": "heavy-bride",
   "metadata": {
    "slideshow": {
     "slide_type": "subslide"
    }
   },
   "source": [
    "The [Open Discourse](https://opendiscourse.de/) projects hosts the proceedings of the German parliament and also a list of MPs in data formats easy to consume. See the [Open Discourse data sets](https://dataverse.harvard.edu/dataverse/opendiscourse) page."
   ]
  },
  {
   "cell_type": "markdown",
   "id": "moved-northwest",
   "metadata": {
    "slideshow": {
     "slide_type": "slide"
    }
   },
   "source": [
    "## Browser automation with Python\n",
    "\n",
    "- [Selenium](https://pypi.org/project/selenium/)\n",
    "  - nice example: [impf-botpy](https://github.com/alfonsrv/impf-botpy)\n",
    "- [Playwright](https://playwright.dev/python/docs/intro)\n",
    "  - [Playwright on pypi](https://pypi.org/project/playwright/) including nice examples (some cited below)\n",
    "  - [Python API docs](https://playwright.dev/python/docs/api/class-playwright)\n",
    "  \n",
    "Note: Playwright does not run in a Jupyter notebook. We'll run the scripts directly in the Python interpreter.\n",
    "\n",
    "Installation:\n",
    "```\n",
    "pip install playwright\n",
    "playwright install\n",
    "```"
   ]
  },
  {
   "cell_type": "markdown",
   "id": "portuguese-ceremony",
   "metadata": {
    "slideshow": {
     "slide_type": "subslide"
    }
   },
   "source": [
    "Take a screenshot using two different browsers:\n",
    "\n",
    "```python\n",
    "from playwright.sync_api import sync_playwright\n",
    "\n",
    "with sync_playwright() as p:\n",
    "    for browser_type in [p.chromium, p.firefox]:\n",
    "        browser = browser_type.launch()\n",
    "        page = browser.new_page()\n",
    "        page.goto('http://whatsmyuseragent.org/')\n",
    "        _ = page.screenshot(path=f'figures/example-{browser_type.name}.png')\n",
    "        browser.close()\n",
    "```\n",
    "\n",
    "Just run the script [scripts/playwright_whatsmyuseragent_screenshot.py](scripts/playwright_whatsmyuseragent_screenshot.py) in the console / shell:\n",
    "\n",
    "```\n",
    "python ./scripts/playwright_whatsmyuseragent_screenshot.py\n",
    "```\n",
    "\n",
    "The screenshots are then found in the folder `figures/` for [chromium](./figures/example-chromium.png) and [firefox](./figures/example-firefox.png)."
   ]
  },
  {
   "cell_type": "markdown",
   "id": "subtle-surge",
   "metadata": {
    "slideshow": {
     "slide_type": "subslide"
    }
   },
   "source": [
    "Playwright can record user interactions (mouse clicks, keyboard input) and create Python code to replay the recorded actions:\n",
    "\n",
    "```\n",
    "playwright codegen https://www.bundestag.de/abgeordnete/biografien\n",
    "```\n",
    "\n",
    "The created Python code is then modified, here to loop over all overlays showing the members of the parliament:\n",
    "\n",
    "```python\n",
    "from time import sleep\n",
    "\n",
    "from playwright.sync_api import sync_playwright\n",
    "\n",
    "def run(playwright):\n",
    "    browser = playwright.chromium.launch(headless=False)\n",
    "    context = browser.new_context(viewport={'height': 1080, 'width': 1920})\n",
    "    page = context.new_page()\n",
    "    page.goto(\"https://www.bundestag.de/abgeordnete/biografien\")\n",
    "    while True:\n",
    "        try:\n",
    "            sleep(3)\n",
    "            page.click(\"button:has-text(\\\"Vor\\\")\")\n",
    "        except Exception:\n",
    "            break\n",
    "\n",
    "with sync_playwright() as p:\n",
    "    run(p)\n",
    "```\n",
    "\n",
    "Again: best run the [replay script](./scripts/playwright_replay.py) in the console:\n",
    "\n",
    "```\n",
    "python ./scripts/playwright_replay.py\n",
    "```\n"
   ]
  }
 ],
 "metadata": {
  "celltoolbar": "Slideshow",
  "kernelspec": {
   "display_name": "Python 3",
   "language": "python",
   "name": "python3"
  },
  "language_info": {
   "codemirror_mode": {
    "name": "ipython",
    "version": 3
   },
   "file_extension": ".py",
   "mimetype": "text/x-python",
   "name": "python",
   "nbconvert_exporter": "python",
   "pygments_lexer": "ipython3",
   "version": "3.9.7"
  }
 },
 "nbformat": 4,
 "nbformat_minor": 5
}
