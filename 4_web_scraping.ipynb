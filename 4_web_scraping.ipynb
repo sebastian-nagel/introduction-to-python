{
 "cells": [
  {
   "cell_type": "markdown",
   "id": "stupid-remedy",
   "metadata": {
    "slideshow": {
     "slide_type": "slide"
    }
   },
   "source": [
    "Web Scraping\n",
    "============\n",
    "\n",
    "- HTTP requests\n",
    "- HTML, XML, DOM, CSS selectors, XPath\n",
    "- browser automation\n",
    "- cleanse and export extracted data\n",
    "\n",
    "Web-based (or browser-based) user interfaces are ubiquitous\n",
    "\n",
    "- web browser as universal platform to run software (at least, the user interface)\n",
    "- if a human is able to access information in WWW using a web browser,\n",
    "  also a computer program can access the same information and automatically extract it\n",
    "- challenges: navigate a web page, execute user interaction (mouse clicks, forms)\n",
    "- real challenges: login forms, captchas, IP blocking, etc.\n",
    "  - not covered here\n",
    "  - also: ethical considerations whether or not to get around access blocking\n",
    "- well-defined technology stack\n",
    "  - HTTP\n",
    "  - HTML / XML\n",
    "  - DOM\n",
    "  - CSS\n",
    "  - XPath\n",
    "  - JavaScript\n"
   ]
  },
  {
   "cell_type": "markdown",
   "id": "several-waters",
   "metadata": {
    "slideshow": {
     "slide_type": "subslide"
    }
   },
   "source": [
    "## Web Browser\n",
    "\n",
    "- render HTML page to make it readable for humans\n",
    "- basic navigation in the WWW (follow links)\n",
    "- [text-based browsers](https://en.wikipedia.org/wiki/Text-based_web_browser)\n",
    "  ```\n",
    "  lynx https://www.bundestag.de/parlament/fraktionen/cducsu\n",
    "  ```\n",
    "- modern graphical browsers\n",
    "  - interpret JavaScript\n",
    "  - show multi-media content\n",
    "  - run “web applications”\n",
    "- headless vs. headful browsers\n",
    "  - headful: graphical user interface attached\n",
    "  - [headless](https://en.wikipedia.org/wiki/Headless_browser)\n",
    "    - controlled programmatically or via command-line\n",
    "    - interaction but no mandatory page rendering (saves resources: CPU, RAM)"
   ]
  },
  {
   "cell_type": "markdown",
   "id": "negative-drain",
   "metadata": {
    "slideshow": {
     "slide_type": "subslide"
    }
   },
   "source": [
    "### Tip: Extract Text and Links Using a Text-Based Browser\n",
    "\n",
    "Tip: text-based browsers usually have an option to \"dump\" the text and/or link lists into a file, e.g.\n",
    "\n",
    "```\n",
    "lynx -dump https://www.bundestag.de/parlament/fraktionen/cducsu \\\n",
    "    >data/bundestag/fraktionen.cducsu.txt\n",
    "```"
   ]
  },
  {
   "cell_type": "markdown",
   "id": "wireless-character",
   "metadata": {
    "slideshow": {
     "slide_type": "subslide"
    }
   },
   "source": [
    "### Tip: Explore Web Pages and Web Technologies using the Developer Tool of your Web Browser\n",
    "\n",
    "Modern web browsers (Firefox, Chromium, IE, etc.) include a set of [web development tools](https://en.wikipedia.org/wiki/Web_development_tools). Originally addressed to web developers to test and debug the code (HTML, CSS, Javascript) used to build a web site, the browser web developer tools are the easiest way to explore and understand the technologies used to build a web site. The initial exploration later helps to scrape data from the web site."
   ]
  },
  {
   "cell_type": "markdown",
   "id": "legitimate-latter",
   "metadata": {
    "slideshow": {
     "slide_type": "subslide"
    }
   },
   "source": [
    "### Browser Automation\n",
    "\n",
    "- load a page by URL including page dependencies (CSS, Javascript, images, media)\n",
    "- simulate user interaction (clicks, input, scrolling)\n",
    "- take screenshots\n",
    "- access the DOM tree or the HTML modified by executed Javascript and user interactions\n",
    "  from/in the browser to extract data"
   ]
  },
  {
   "cell_type": "markdown",
   "id": "seven-lounge",
   "metadata": {
    "slideshow": {
     "slide_type": "slide"
    }
   },
   "source": [
    "## Process HTML Pages in Python\n",
    "\n",
    "- [requests](https://pypi.org/project/requests/) to fetch pages via HTTP\n",
    "- [beautifulsoup](https://pypi.org/project/beautifulsoup4/) to parse HTML"
   ]
  },
  {
   "cell_type": "code",
   "execution_count": 1,
   "id": "signed-listing",
   "metadata": {
    "slideshow": {
     "slide_type": "subslide"
    }
   },
   "outputs": [
    {
     "data": {
      "text/plain": [
       "<Response [200]>"
      ]
     },
     "execution_count": 1,
     "metadata": {},
     "output_type": "execute_result"
    }
   ],
   "source": [
    "import requests\n",
    "\n",
    "request_url = 'https://www.bundestag.de/parlament/fraktionen/cducsu'\n",
    "response = requests.get(request_url)\n",
    "\n",
    "response"
   ]
  },
  {
   "cell_type": "code",
   "execution_count": 2,
   "id": "mediterranean-situation",
   "metadata": {},
   "outputs": [
    {
     "data": {
      "text/plain": [
       "{'date': 'Tue, 13 Jul 2021 13:51:15 GMT', 'content-type': 'text/html;charset=UTF-8', 'content-length': '23620', 'vary': 'Origin,Access-Control-Request-Method,Access-Control-Request-Headers,Accept-Encoding', 'x-content-type-options': 'nosniff', 'x-xss-protection': '1; mode=block', 'x-frame-options': 'DENY', 'content-language': 'de', 'content-encoding': 'gzip', 'x-ua-compatible': 'IE=edge', 'x-varnish': '73764308 72440053', 'age': '771', 'via': '1.1 Varnish', 'accept-ranges': 'bytes', 'cache-control': 'max-age=900', 'strict-transport-security': 'max-age=604800'}"
      ]
     },
     "execution_count": 2,
     "metadata": {},
     "output_type": "execute_result"
    }
   ],
   "source": [
    "response.headers"
   ]
  },
  {
   "cell_type": "code",
   "execution_count": 3,
   "id": "promising-norway",
   "metadata": {
    "slideshow": {
     "slide_type": "subslide"
    }
   },
   "outputs": [
    {
     "data": {
      "text/plain": [
       "200"
      ]
     },
     "execution_count": 3,
     "metadata": {},
     "output_type": "execute_result"
    }
   ],
   "source": [
    "response.status_code"
   ]
  },
  {
   "cell_type": "code",
   "execution_count": 4,
   "id": "forty-sunset",
   "metadata": {
    "slideshow": {
     "slide_type": "subslide"
    }
   },
   "outputs": [
    {
     "name": "stdout",
     "output_type": "stream",
     "text": [
      "Requirement already satisfied: beautifulsoup4 in ./.venv/lib/python3.9/site-packages (4.9.3)\r\n",
      "Requirement already satisfied: soupsieve>1.2 in ./.venv/lib/python3.9/site-packages (from beautifulsoup4) (2.2.1)\r\n"
     ]
    }
   ],
   "source": [
    "!pip install beautifulsoup4"
   ]
  },
  {
   "cell_type": "code",
   "execution_count": 5,
   "id": "received-satisfaction",
   "metadata": {
    "slideshow": {
     "slide_type": "subslide"
    }
   },
   "outputs": [
    {
     "data": {
      "text/plain": [
       "<title>Deutscher Bundestag - CDU/CSU-Fraktion</title>"
      ]
     },
     "execution_count": 5,
     "metadata": {},
     "output_type": "execute_result"
    }
   ],
   "source": [
    "from bs4 import BeautifulSoup\n",
    "\n",
    "html = BeautifulSoup(response.text)\n",
    "\n",
    "html.head.title  # tree-style path addressing of HTML elements"
   ]
  },
  {
   "cell_type": "markdown",
   "id": "polar-overhead",
   "metadata": {
    "slideshow": {
     "slide_type": "subslide"
    }
   },
   "source": [
    "Note: the HTML document can be represented as a tree structure aka. [DOM tree](https://en.wikipedia.org/wiki/Document_Object_Model):\n",
    "```\n",
    "html\n",
    "├── head\n",
    "│   ├── meta\n",
    "│   │   └── @charset=utf-8\n",
    "│   └── title\n",
    "│       └── ...(text)\n",
    "└── body\n",
    "    └── ...\n",
    "```\n",
    "\n",
    "The tree above is an equivalent representation for the HTML snippet\n",
    "\n",
    "```html\n",
    "<!DOCTYPE html>\n",
    "<html>\n",
    "<head>\n",
    "  <meta charset=\"utf-8\" />\n",
    "  <title>Deutscher Bundestag - CDU/CSU-Fraktion</title>\n",
    "</head>\n",
    "<body>\n",
    "  ...\n",
    "</body>\n",
    "</html>\n",
    "```"
   ]
  },
  {
   "cell_type": "code",
   "execution_count": 6,
   "id": "varied-charter",
   "metadata": {
    "slideshow": {
     "slide_type": "subslide"
    }
   },
   "outputs": [
    {
     "data": {
      "text/plain": [
       "'Deutscher Bundestag - CDU/CSU-Fraktion'"
      ]
     },
     "execution_count": 6,
     "metadata": {},
     "output_type": "execute_result"
    }
   ],
   "source": [
    "# access the plain text of an HTML element\n",
    "# (inside the opening and closing tag)\n",
    "html.head.title.text"
   ]
  },
  {
   "cell_type": "code",
   "execution_count": 7,
   "id": "reported-workplace",
   "metadata": {
    "slideshow": {
     "slide_type": "subslide"
    }
   },
   "outputs": [
    {
     "data": {
      "text/plain": [
       "'Deutscher Bundestag - CDU/CSU-Fraktion'"
      ]
     },
     "execution_count": 7,
     "metadata": {},
     "output_type": "execute_result"
    }
   ],
   "source": [
    "# beautifulsoup also allows to select elements by tag name without a tree-like path\n",
    "\n",
    "html.find('title').text"
   ]
  },
  {
   "cell_type": "code",
   "execution_count": 8,
   "id": "bottom-still",
   "metadata": {
    "slideshow": {
     "slide_type": "subslide"
    }
   },
   "outputs": [
    {
     "data": {
      "text/plain": [
       "[<a class=\"sr-only sr-only-focusable\" href=\"#main\" title=\"Direkt zum Hauptinhalt springen\">Direkt zum Hauptinhalt springen</a>,\n",
       " <a class=\"sr-only sr-only-focusable\" href=\"#main-menu\" title=\"Direkt zum Hauptmenü springen\">Direkt zum Hauptmenü springen</a>,\n",
       " <a href=\"https://www.bundestag.de/webarchiv\" hreflang=\"de\" lang=\"de\" title=\"Archiv\" xml:lang=\"de\">\n",
       " <span class=\"sr-only-sm-down\">Archiv</span>\n",
       " <span class=\"visible-xs-inline\">Archiv</span>\n",
       " </a>]"
      ]
     },
     "execution_count": 8,
     "metadata": {},
     "output_type": "execute_result"
    }
   ],
   "source": [
    "# or if a tag is expected to appear multiple times:\n",
    "# select all `a` elements and show the first three\n",
    "html.findAll('a')[0:3]"
   ]
  },
  {
   "cell_type": "code",
   "execution_count": 9,
   "id": "adjustable-reaction",
   "metadata": {
    "slideshow": {
     "slide_type": "subslide"
    }
   },
   "outputs": [
    {
     "data": {
      "text/plain": [
       "<article class=\"bt-artikel col-xs-12 col-md-6 bt-standard-content\">\n",
       "<h3 class=\"bt-artikel__title\">CDU/CSU-Fraktion</h3>\n",
       "<div class=\"bt-bild-standard bt-bild-max\" data-nosnippet=\"true\">\n",
       "<img alt=\"Beschilderung einer Tür im Bereich der CDU/CSU-Fraktion auf der Fraktionsebene im Reichstagsgebäude.\" class=\"img-responsive\" data-img-md-normal=\"/resource/image/221096/16x9/570/321/531a1f0d2ca39975478dc1986d66ca19/BV/cducsu_logo.jpg\" data-img-md-retina=\"/resource/image/221096/16x9/1140/642/531a1f0d2ca39975478dc1986d66ca19/qB/cducsu_logo.jpg\" data-img-sm-normal=\"/resource/image/221096/16x9/926/522/531a1f0d2ca39975478dc1986d66ca19/CJ/cducsu_logo.jpg\" data-img-sm-retina=\"/resource/image/221096/16x9/1852/1044/531a1f0d2ca39975478dc1986d66ca19/lc/cducsu_logo.jpg\" data-img-xs-normal=\"/resource/image/221096/16x9/730/411/531a1f0d2ca39975478dc1986d66ca19/mf/cducsu_logo.jpg\" data-img-xs-retina=\"/resource/image/221096/16x9/1460/822/531a1f0d2ca39975478dc1986d66ca19/YO/cducsu_logo.jpg\" src=\"/resource/blob/451030/23aeaa0485a3e37bcf167e1a25adc481/Image16x9_big-data.png\" title=\"Logo der CDU/CSU-Fraktion\"/>\n",
       "<span class=\"bt-bild-info-icon\"><i aria-hidden=\"true\" class=\"icon-info-1\"></i>\n",
       "</span>\n",
       "<div class=\"bt-bild-info-text\">\n",
       "<span class=\"bt-bild-info-close\" tabindex=\"0\">\n",
       "<i aria-hidden=\"true\" class=\"icon-close\"></i>\n",
       "</span>\n",
       "<p>\n",
       "        Logo der CDU/CSU-Fraktion</p>\n",
       "<p>© DBT/Axel Hartmann Fotografie</p>\n",
       "</div>\n",
       "</div>\n",
       "<div class=\"bt-standard-content\">\n",
       "<h4>Fraktionsvorsitzender:</h4><p><a href=\"/abgeordnete/biografien/B/brinkhaus_ralph-518692\" target=\"_self\">Ralph Brinkhaus</a></p><h4>Erster Stellvertretender Fraktionsvorsitzender:</h4><p><a href=\"/abgeordnete/biografien/D/dobrindt_alexander-519076\" target=\"_self\">Alexander Dobrindt</a>, Vorsitzender der CSU-Landesgruppe</p><h4>Stellvertretende Fraktionsvorsitzende:</h4><p><a href=\"/abgeordnete/biografien/C/connemann_gitta-518902\" target=\"_self\">Gitta Connemann</a><br/><a href=\"/abgeordnete/biografien/F/frei_thorsten-519532\" rel=\"noopener\" target=\"_blank\">Thorsten Frei</a><br/><a href=\"/abgeordnete/biografien/G/groehe_hermann-519870\" target=\"_self\">Hermann Gröhe</a><br/><a href=\"https://www.bundestag.de/webarchiv/abgeordnete/biografien18/J/jung_andreas-258538\" target=\"_self\">Andreas Jung</a><br/><a href=\"/abgeordnete/biografien/L/lange_ulrich-521486\" target=\"_self\">Ulrich Lange</a><br/><a href=\"/abgeordnete/biografien/L/leikert_katja-521554\" target=\"_self\">Dr. Katja Leikert</a><br/><a href=\"/abgeordnete/biografien/L/linnemann_carsten-521654\" target=\"_self\">Dr. Carsten Linnemann</a><br/><a href=\"/abgeordnete/biografien/S/schoen_nadine-523428\" target=\"_self\">Nadine Schön</a><br/><a href=\"/abgeordnete/biografien/S/stracke_stephan-523926\" rel=\"noopener\" target=\"_blank\">Stephan Stracke</a><br/><a href=\"/abgeordnete/biografien/V/vaatz_arnold-524242\" target=\"_self\">Arnold Vaatz</a><br/><a href=\"/abgeordnete/biografien/W/wadephul_johann-524332\" target=\"_self\">Dr. Johann David Wadephul</a></p><h4>Erster Parlamentarischer Geschäftsführer:</h4><p><a href=\"/abgeordnete/biografien/G/grosse_broemer_michael-519894\" target=\"_self\" title=\"Michael Grosse-Brömer\">Michael Grosse-Brömer</a></p><h4>Stellvertreter des Ersten Parlamentarischen Geschäftsführers:</h4><p><a href=\"/abgeordnete/biografien/M/mueller_stefan-522218\" target=\"_self\">Stefan Müller</a></p><h4>Parlamentarische Geschäftsführer:</h4><p><a href=\"/abgeordnete/biografien/B/brehmer_heike-518658\" target=\"_self\">Heike Brehmer</a><br/><a href=\"/abgeordnete/biografien/G/grund_manfred-519946\" target=\"_self\">Manfred Grund</a><br/><a href=\"/abgeordnete/biografien/S/schnieder_patrick-523412\" target=\"_self\">Patrick Schnieder</a></p><h4>Sprecher der CDU-Landesgruppen:</h4><p><a href=\"/abgeordnete/biografien/R/rehberg_eckhardt-522826\" target=\"_self\">Eckhardt Rehberg</a></p><h4>Vorsitzende der Arbeitsgruppen/Sprecher/Obleute:</h4><p><a href=\"/abgeordnete/biografien/B/brand_michael-518618\" target=\"_self\">Michael Brand</a>, Menschenrechte und humanitäre Hilfe<br/><a href=\"/abgeordnete/biografien/D/doett_marie_luise-519098\" target=\"_self\">Marie-Luise Dött</a>, Umwelt, Naturschutz und nukleare Sicherheit<br/><a href=\"/abgeordnete/biografien/G/gienger_eberhard-519728\" target=\"_self\">Eberhard Gienger</a>, Sport und Ehrenamt<br/><a href=\"/abgeordnete/biografien/H/hahn_florian-520046\" target=\"_self\">Florian Hahn</a>, Angelegenheiten der Europäischen Union<br/><a href=\"/abgeordnete/biografien/H/hardt_juergen-520110\" target=\"_self\">Jürgen Hardt</a>, Auswärtiges<br/><a href=\"/abgeordnete/biografien/K/klein_volkmar-521070\" target=\"_self\">Volkmar Klein</a>, Wirtschaftliche Zusammenarbeit und Entwicklung<br/><a href=\"/abgeordnete/biografien/L/lehrieder_paul-521542\" target=\"_self\">Paul Lehrieder</a>, Tourismus<br/>N.N., Verkehr und digitale Infrastruktur <br/><a href=\"/abgeordnete/biografien/M/maag_karin-521780\" target=\"_self\">Karin Maag</a>, Gesundheit<br/><a href=\"/abgeordnete/biografien/M/middelberg_mathias-522026\" target=\"_self\">Dr. Mathias Middelberg</a>, Innen und Heimat<br/><a href=\"/abgeordnete/biografien/M/motschmann_elisabeth-522132\" target=\"_self\">Elisabeth Motschmann</a>, Kultur und Medien<br/><a href=\"/abgeordnete/biografien/O/otte_henning-522506\" target=\"_self\">Henning Otte</a>, Verteidigung<br/><a href=\"/abgeordnete/biografien/P/pfeiffer_joachim-522616\" target=\"_self\">Dr. Joachim Pfeiffer</a>, Wirtschaft und Energie<br/><a href=\"/abgeordnete/biografien/R/rehberg_eckhardt-522826\" target=\"_self\">Eckhardt Rehberg</a>, Haushalt<br/><a href=\"/abgeordnete/biografien/R/rupprecht_albert-523090\" target=\"_self\">Albert Rupprecht</a>, Bildung und Forschung<br/><a href=\"/abgeordnete/biografien/S/schipanski_tankred-523278\" target=\"_self\">Tankred Schipanski</a>, Digitale Agenda<br/><a href=\"/abgeordnete/biografien/S/stegemann_albert-523834\" target=\"_self\">Albert Stegemann</a>, Vorsitzender AG Ernährung und Landwirtschaft<br/><a href=\"/abgeordnete/biografien/S/storjohann_gero-523920\" target=\"_self\">Gero Storjohann</a>, Petitionen<br/><a href=\"/abgeordnete/biografien/T/tillmann_antje-524124\" target=\"_self\">Antje Tillmann</a>, Finanzen<br/><a href=\"/abgeordnete/biografien/W/wegner_kai-524464\" target=\"_self\">Kai Wegner</a>, Bau, Wohnen, Stadtentwicklung und Kommunen<br/><a href=\"/abgeordnete/biografien/W/weinberg_marcus-524490\" target=\"_self\">Marcus Weinberg</a>, Familie, Senioren, Frauen und Jugend<br/><a href=\"/abgeordnete/biografien/W/weiss_peter-524514\" target=\"_self\">Peter Weiß</a>, Arbeit und Soziales<br/><a href=\"/abgeordnete/biografien/W/winkelmeier_becker_elisabeth-524618\" target=\"_self\">Elisabeth Winkelmeier-Becker</a>, Recht und Verbraucherschutz</p><h4>Vorsitzende der sechs soziologischen Gruppen:</h4><p><a href=\"/abgeordnete/biografien/H/haase_christian-519998\" target=\"_self\">Christian Haase</a>, Arbeitsgemeinschaft Kommunalpolitik<br/><a href=\"/abgeordnete/biografien/Z/zeulner_emmi-524762\" rel=\"noopener\" target=\"_blank\">Emmi Zeulner</a>, kommisarische Vors. der Jungen Gruppe<br/><a href=\"/abgeordnete/biografien/M/magwas_yvonne-521800\" target=\"_self\">Yvonne Magwas</a>, Gruppe der Frauen<br/><a href=\"/abgeordnete/biografien/P/pols_eckhard-522682\" target=\"_self\">Eckhard Pols</a>, Gruppe der Vertriebenen, Aussiedler und deutschen Minderheiten<br/><a href=\"/abgeordnete/biografien/S/schummer_uwe-523544\" target=\"_self\">Uwe, Schummer</a>, Arbeitnehmergruppe<br/><a href=\"/abgeordnete/biografien/S/stetten_christian-523882\" target=\"_self\">Christian Freiherr von Stetten</a>, Parlamentskreis Mittelstand</p><h4>Beisitzer:</h4><p><a href=\"/abgeordnete/biografien/F/fischer_axel-519454\" target=\"_self\">Axel E. Fischer</a><br/><a href=\"/abgeordnete/biografien/G/gutting_olav-519978\" target=\"_self\">Olav Gutting</a><br/><a href=\"/abgeordnete/biografien/G/guentzler_fritz-519962\" target=\"_self\">Fritz Güntzler</a><br/><a href=\"/abgeordnete/biografien/H/heider_matthias-520192\" target=\"_self\">Matthias Heider</a><br/><a href=\"/abgeordnete/biografien/H/520204-520204\" target=\"_self\">Thomas Heilmann</a><br/><a href=\"/abgeordnete/biografien/H/helfrich_mark-520256\" target=\"_self\">Mark Helfrich</a><br/><a href=\"/abgeordnete/biografien/H/henke_rudolf-520294\" target=\"_self\">Rudolf​​​​​​​ Henke</a><br/><a href=\"/abgeordnete/biografien/H/holmeier_karl-520494\" target=\"_self\">Karl​​​​​​​ Holmeier</a><br/><a href=\"/abgeordnete/biografien/K/kiesewetter_roderich-520990\" target=\"_self\">Roderich​​​​​​​ Kiesewetter</a><br/><a href=\"/abgeordnete/biografien/M/metzler_jan-521988\" target=\"_self\">Jan​​​​​​​ Metzler</a><br/><a href=\"/abgeordnete/biografien/M/michelbach_hans-522016\" target=\"_self\">Dr. h. c. Hans Michelbach</a><br/><a href=\"/abgeordnete/biografien/M/mueller_carsten-522166\" target=\"_self\">Carsten​​​​​​​ Müller</a><br/><a href=\"/abgeordnete/biografien/N/noll_michaela-522382\" target=\"_self\">Michaela​​​​​​​ Noll</a><br/><a href=\"/abgeordnete/biografien/R/roering_johannes-522980\" target=\"_self\">Johannes Röring</a><br/><a href=\"/abgeordnete/biografien/S/schimke_jana-523268\" target=\"_self\">Jana​​​​​​​ Schimke</a><br/><a href=\"/abgeordnete/biografien/S/sorge_tino-523744\" target=\"_self\">Tino​​​​​​​ Sorge</a><br/><a href=\"/abgeordnete/biografien/Z/zimmer_matthias-524810\" target=\"_self\">Prof. Dr. Matthias Zimmer</a>​​​​​​​</p></div>\n",
       "</article>"
      ]
     },
     "execution_count": 9,
     "metadata": {},
     "output_type": "execute_result"
    }
   ],
   "source": [
    "# selection by CSS class name\n",
    "html.find(class_='bt-standard-content')"
   ]
  },
  {
   "cell_type": "code",
   "execution_count": 10,
   "id": "promising-while",
   "metadata": {
    "slideshow": {
     "slide_type": "subslide"
    }
   },
   "outputs": [
    {
     "data": {
      "text/plain": [
       "[<a href=\"/abgeordnete/biografien/B/brinkhaus_ralph-518692\" target=\"_self\">Ralph Brinkhaus</a>,\n",
       " <a href=\"/abgeordnete/biografien/D/dobrindt_alexander-519076\" target=\"_self\">Alexander Dobrindt</a>,\n",
       " <a href=\"/abgeordnete/biografien/C/connemann_gitta-518902\" target=\"_self\">Gitta Connemann</a>,\n",
       " <a href=\"/abgeordnete/biografien/F/frei_thorsten-519532\" rel=\"noopener\" target=\"_blank\">Thorsten Frei</a>,\n",
       " <a href=\"/abgeordnete/biografien/G/groehe_hermann-519870\" target=\"_self\">Hermann Gröhe</a>,\n",
       " <a href=\"https://www.bundestag.de/webarchiv/abgeordnete/biografien18/J/jung_andreas-258538\" target=\"_self\">Andreas Jung</a>,\n",
       " <a href=\"/abgeordnete/biografien/L/lange_ulrich-521486\" target=\"_self\">Ulrich Lange</a>,\n",
       " <a href=\"/abgeordnete/biografien/L/leikert_katja-521554\" target=\"_self\">Dr. Katja Leikert</a>,\n",
       " <a href=\"/abgeordnete/biografien/L/linnemann_carsten-521654\" target=\"_self\">Dr. Carsten Linnemann</a>,\n",
       " <a href=\"/abgeordnete/biografien/S/schoen_nadine-523428\" target=\"_self\">Nadine Schön</a>,\n",
       " <a href=\"/abgeordnete/biografien/S/stracke_stephan-523926\" rel=\"noopener\" target=\"_blank\">Stephan Stracke</a>,\n",
       " <a href=\"/abgeordnete/biografien/V/vaatz_arnold-524242\" target=\"_self\">Arnold Vaatz</a>,\n",
       " <a href=\"/abgeordnete/biografien/W/wadephul_johann-524332\" target=\"_self\">Dr. Johann David Wadephul</a>,\n",
       " <a href=\"/abgeordnete/biografien/G/grosse_broemer_michael-519894\" target=\"_self\" title=\"Michael Grosse-Brömer\">Michael Grosse-Brömer</a>,\n",
       " <a href=\"/abgeordnete/biografien/M/mueller_stefan-522218\" target=\"_self\">Stefan Müller</a>,\n",
       " <a href=\"/abgeordnete/biografien/B/brehmer_heike-518658\" target=\"_self\">Heike Brehmer</a>,\n",
       " <a href=\"/abgeordnete/biografien/G/grund_manfred-519946\" target=\"_self\">Manfred Grund</a>,\n",
       " <a href=\"/abgeordnete/biografien/S/schnieder_patrick-523412\" target=\"_self\">Patrick Schnieder</a>,\n",
       " <a href=\"/abgeordnete/biografien/R/rehberg_eckhardt-522826\" target=\"_self\">Eckhardt Rehberg</a>,\n",
       " <a href=\"/abgeordnete/biografien/B/brand_michael-518618\" target=\"_self\">Michael Brand</a>,\n",
       " <a href=\"/abgeordnete/biografien/D/doett_marie_luise-519098\" target=\"_self\">Marie-Luise Dött</a>,\n",
       " <a href=\"/abgeordnete/biografien/G/gienger_eberhard-519728\" target=\"_self\">Eberhard Gienger</a>,\n",
       " <a href=\"/abgeordnete/biografien/H/hahn_florian-520046\" target=\"_self\">Florian Hahn</a>,\n",
       " <a href=\"/abgeordnete/biografien/H/hardt_juergen-520110\" target=\"_self\">Jürgen Hardt</a>,\n",
       " <a href=\"/abgeordnete/biografien/K/klein_volkmar-521070\" target=\"_self\">Volkmar Klein</a>,\n",
       " <a href=\"/abgeordnete/biografien/L/lehrieder_paul-521542\" target=\"_self\">Paul Lehrieder</a>,\n",
       " <a href=\"/abgeordnete/biografien/M/maag_karin-521780\" target=\"_self\">Karin Maag</a>,\n",
       " <a href=\"/abgeordnete/biografien/M/middelberg_mathias-522026\" target=\"_self\">Dr. Mathias Middelberg</a>,\n",
       " <a href=\"/abgeordnete/biografien/M/motschmann_elisabeth-522132\" target=\"_self\">Elisabeth Motschmann</a>,\n",
       " <a href=\"/abgeordnete/biografien/O/otte_henning-522506\" target=\"_self\">Henning Otte</a>,\n",
       " <a href=\"/abgeordnete/biografien/P/pfeiffer_joachim-522616\" target=\"_self\">Dr. Joachim Pfeiffer</a>,\n",
       " <a href=\"/abgeordnete/biografien/R/rehberg_eckhardt-522826\" target=\"_self\">Eckhardt Rehberg</a>,\n",
       " <a href=\"/abgeordnete/biografien/R/rupprecht_albert-523090\" target=\"_self\">Albert Rupprecht</a>,\n",
       " <a href=\"/abgeordnete/biografien/S/schipanski_tankred-523278\" target=\"_self\">Tankred Schipanski</a>,\n",
       " <a href=\"/abgeordnete/biografien/S/stegemann_albert-523834\" target=\"_self\">Albert Stegemann</a>,\n",
       " <a href=\"/abgeordnete/biografien/S/storjohann_gero-523920\" target=\"_self\">Gero Storjohann</a>,\n",
       " <a href=\"/abgeordnete/biografien/T/tillmann_antje-524124\" target=\"_self\">Antje Tillmann</a>,\n",
       " <a href=\"/abgeordnete/biografien/W/wegner_kai-524464\" target=\"_self\">Kai Wegner</a>,\n",
       " <a href=\"/abgeordnete/biografien/W/weinberg_marcus-524490\" target=\"_self\">Marcus Weinberg</a>,\n",
       " <a href=\"/abgeordnete/biografien/W/weiss_peter-524514\" target=\"_self\">Peter Weiß</a>,\n",
       " <a href=\"/abgeordnete/biografien/W/winkelmeier_becker_elisabeth-524618\" target=\"_self\">Elisabeth Winkelmeier-Becker</a>,\n",
       " <a href=\"/abgeordnete/biografien/H/haase_christian-519998\" target=\"_self\">Christian Haase</a>,\n",
       " <a href=\"/abgeordnete/biografien/Z/zeulner_emmi-524762\" rel=\"noopener\" target=\"_blank\">Emmi Zeulner</a>,\n",
       " <a href=\"/abgeordnete/biografien/M/magwas_yvonne-521800\" target=\"_self\">Yvonne Magwas</a>,\n",
       " <a href=\"/abgeordnete/biografien/P/pols_eckhard-522682\" target=\"_self\">Eckhard Pols</a>,\n",
       " <a href=\"/abgeordnete/biografien/S/schummer_uwe-523544\" target=\"_self\">Uwe, Schummer</a>,\n",
       " <a href=\"/abgeordnete/biografien/S/stetten_christian-523882\" target=\"_self\">Christian Freiherr von Stetten</a>,\n",
       " <a href=\"/abgeordnete/biografien/F/fischer_axel-519454\" target=\"_self\">Axel E. Fischer</a>,\n",
       " <a href=\"/abgeordnete/biografien/G/gutting_olav-519978\" target=\"_self\">Olav Gutting</a>,\n",
       " <a href=\"/abgeordnete/biografien/G/guentzler_fritz-519962\" target=\"_self\">Fritz Güntzler</a>,\n",
       " <a href=\"/abgeordnete/biografien/H/heider_matthias-520192\" target=\"_self\">Matthias Heider</a>,\n",
       " <a href=\"/abgeordnete/biografien/H/520204-520204\" target=\"_self\">Thomas Heilmann</a>,\n",
       " <a href=\"/abgeordnete/biografien/H/helfrich_mark-520256\" target=\"_self\">Mark Helfrich</a>,\n",
       " <a href=\"/abgeordnete/biografien/H/henke_rudolf-520294\" target=\"_self\">Rudolf​​​​​​​ Henke</a>,\n",
       " <a href=\"/abgeordnete/biografien/H/holmeier_karl-520494\" target=\"_self\">Karl​​​​​​​ Holmeier</a>,\n",
       " <a href=\"/abgeordnete/biografien/K/kiesewetter_roderich-520990\" target=\"_self\">Roderich​​​​​​​ Kiesewetter</a>,\n",
       " <a href=\"/abgeordnete/biografien/M/metzler_jan-521988\" target=\"_self\">Jan​​​​​​​ Metzler</a>,\n",
       " <a href=\"/abgeordnete/biografien/M/michelbach_hans-522016\" target=\"_self\">Dr. h. c. Hans Michelbach</a>,\n",
       " <a href=\"/abgeordnete/biografien/M/mueller_carsten-522166\" target=\"_self\">Carsten​​​​​​​ Müller</a>,\n",
       " <a href=\"/abgeordnete/biografien/N/noll_michaela-522382\" target=\"_self\">Michaela​​​​​​​ Noll</a>,\n",
       " <a href=\"/abgeordnete/biografien/R/roering_johannes-522980\" target=\"_self\">Johannes Röring</a>,\n",
       " <a href=\"/abgeordnete/biografien/S/schimke_jana-523268\" target=\"_self\">Jana​​​​​​​ Schimke</a>,\n",
       " <a href=\"/abgeordnete/biografien/S/sorge_tino-523744\" target=\"_self\">Tino​​​​​​​ Sorge</a>,\n",
       " <a href=\"/abgeordnete/biografien/Z/zimmer_matthias-524810\" target=\"_self\">Prof. Dr. Matthias Zimmer</a>]"
      ]
     },
     "execution_count": 10,
     "metadata": {},
     "output_type": "execute_result"
    }
   ],
   "source": [
    "html.find(class_='bt-standard-content').findAll('a')"
   ]
  },
  {
   "cell_type": "code",
   "execution_count": 11,
   "id": "static-application",
   "metadata": {
    "slideshow": {
     "slide_type": "subslide"
    }
   },
   "outputs": [
    {
     "data": {
      "text/plain": [
       "[<h4>Fraktionsvorsitzender:</h4>,\n",
       " <h4>Erster Stellvertretender Fraktionsvorsitzender:</h4>,\n",
       " <h4>Stellvertretende Fraktionsvorsitzende:</h4>,\n",
       " <h4>Erster Parlamentarischer Geschäftsführer:</h4>,\n",
       " <h4>Stellvertreter des Ersten Parlamentarischen Geschäftsführers:</h4>,\n",
       " <h4>Parlamentarische Geschäftsführer:</h4>,\n",
       " <h4>Sprecher der CDU-Landesgruppen:</h4>,\n",
       " <h4>Vorsitzende der Arbeitsgruppen/Sprecher/Obleute:</h4>,\n",
       " <h4>Vorsitzende der sechs soziologischen Gruppen:</h4>,\n",
       " <h4>Beisitzer:</h4>]"
      ]
     },
     "execution_count": 11,
     "metadata": {},
     "output_type": "execute_result"
    }
   ],
   "source": [
    "# but we are also interested in the function of the members:\n",
    "html.find(class_='bt-standard-content').findAll('h4')"
   ]
  },
  {
   "cell_type": "code",
   "execution_count": 12,
   "id": "received-tumor",
   "metadata": {
    "slideshow": {
     "slide_type": "subslide"
    }
   },
   "outputs": [
    {
     "name": "stdout",
     "output_type": "stream",
     "text": [
      "Fraktionsvorsitzender Ralph Brinkhaus https://www.bundestag.de/abgeordnete/biografien/B/brinkhaus_ralph-518692\n",
      "Erster Stellvertretender Fraktionsvorsitzender Alexander Dobrindt https://www.bundestag.de/abgeordnete/biografien/D/dobrindt_alexander-519076\n",
      "Stellvertretende Fraktionsvorsitzende Gitta Connemann https://www.bundestag.de/abgeordnete/biografien/C/connemann_gitta-518902\n",
      "Stellvertretende Fraktionsvorsitzende Thorsten Frei https://www.bundestag.de/abgeordnete/biografien/F/frei_thorsten-519532\n",
      "Stellvertretende Fraktionsvorsitzende Hermann Gröhe https://www.bundestag.de/abgeordnete/biografien/G/groehe_hermann-519870\n",
      "Stellvertretende Fraktionsvorsitzende Andreas Jung https://www.bundestag.de/webarchiv/abgeordnete/biografien18/J/jung_andreas-258538\n",
      "Stellvertretende Fraktionsvorsitzende Ulrich Lange https://www.bundestag.de/abgeordnete/biografien/L/lange_ulrich-521486\n",
      "Stellvertretende Fraktionsvorsitzende Dr. Katja Leikert https://www.bundestag.de/abgeordnete/biografien/L/leikert_katja-521554\n",
      "Stellvertretende Fraktionsvorsitzende Dr. Carsten Linnemann https://www.bundestag.de/abgeordnete/biografien/L/linnemann_carsten-521654\n",
      "Stellvertretende Fraktionsvorsitzende Nadine Schön https://www.bundestag.de/abgeordnete/biografien/S/schoen_nadine-523428\n",
      "Stellvertretende Fraktionsvorsitzende Stephan Stracke https://www.bundestag.de/abgeordnete/biografien/S/stracke_stephan-523926\n",
      "Stellvertretende Fraktionsvorsitzende Arnold Vaatz https://www.bundestag.de/abgeordnete/biografien/V/vaatz_arnold-524242\n",
      "Stellvertretende Fraktionsvorsitzende Dr. Johann David Wadephul https://www.bundestag.de/abgeordnete/biografien/W/wadephul_johann-524332\n",
      "Erster Parlamentarischer Geschäftsführer Michael Grosse-Brömer https://www.bundestag.de/abgeordnete/biografien/G/grosse_broemer_michael-519894\n",
      "Stellvertreter des Ersten Parlamentarischen Geschäftsführers Stefan Müller https://www.bundestag.de/abgeordnete/biografien/M/mueller_stefan-522218\n",
      "Parlamentarische Geschäftsführer Heike Brehmer https://www.bundestag.de/abgeordnete/biografien/B/brehmer_heike-518658\n",
      "Parlamentarische Geschäftsführer Manfred Grund https://www.bundestag.de/abgeordnete/biografien/G/grund_manfred-519946\n",
      "Parlamentarische Geschäftsführer Patrick Schnieder https://www.bundestag.de/abgeordnete/biografien/S/schnieder_patrick-523412\n",
      "Sprecher der CDU-Landesgruppen Eckhardt Rehberg https://www.bundestag.de/abgeordnete/biografien/R/rehberg_eckhardt-522826\n",
      "Vorsitzende der Arbeitsgruppen/Sprecher/Obleute Michael Brand https://www.bundestag.de/abgeordnete/biografien/B/brand_michael-518618\n",
      "Vorsitzende der Arbeitsgruppen/Sprecher/Obleute Marie-Luise Dött https://www.bundestag.de/abgeordnete/biografien/D/doett_marie_luise-519098\n",
      "Vorsitzende der Arbeitsgruppen/Sprecher/Obleute Eberhard Gienger https://www.bundestag.de/abgeordnete/biografien/G/gienger_eberhard-519728\n",
      "Vorsitzende der Arbeitsgruppen/Sprecher/Obleute Florian Hahn https://www.bundestag.de/abgeordnete/biografien/H/hahn_florian-520046\n",
      "Vorsitzende der Arbeitsgruppen/Sprecher/Obleute Jürgen Hardt https://www.bundestag.de/abgeordnete/biografien/H/hardt_juergen-520110\n",
      "Vorsitzende der Arbeitsgruppen/Sprecher/Obleute Volkmar Klein https://www.bundestag.de/abgeordnete/biografien/K/klein_volkmar-521070\n",
      "Vorsitzende der Arbeitsgruppen/Sprecher/Obleute Paul Lehrieder https://www.bundestag.de/abgeordnete/biografien/L/lehrieder_paul-521542\n",
      "Vorsitzende der Arbeitsgruppen/Sprecher/Obleute Karin Maag https://www.bundestag.de/abgeordnete/biografien/M/maag_karin-521780\n",
      "Vorsitzende der Arbeitsgruppen/Sprecher/Obleute Dr. Mathias Middelberg https://www.bundestag.de/abgeordnete/biografien/M/middelberg_mathias-522026\n",
      "Vorsitzende der Arbeitsgruppen/Sprecher/Obleute Elisabeth Motschmann https://www.bundestag.de/abgeordnete/biografien/M/motschmann_elisabeth-522132\n",
      "Vorsitzende der Arbeitsgruppen/Sprecher/Obleute Henning Otte https://www.bundestag.de/abgeordnete/biografien/O/otte_henning-522506\n",
      "Vorsitzende der Arbeitsgruppen/Sprecher/Obleute Dr. Joachim Pfeiffer https://www.bundestag.de/abgeordnete/biografien/P/pfeiffer_joachim-522616\n",
      "Vorsitzende der Arbeitsgruppen/Sprecher/Obleute Eckhardt Rehberg https://www.bundestag.de/abgeordnete/biografien/R/rehberg_eckhardt-522826\n",
      "Vorsitzende der Arbeitsgruppen/Sprecher/Obleute Albert Rupprecht https://www.bundestag.de/abgeordnete/biografien/R/rupprecht_albert-523090\n",
      "Vorsitzende der Arbeitsgruppen/Sprecher/Obleute Tankred Schipanski https://www.bundestag.de/abgeordnete/biografien/S/schipanski_tankred-523278\n",
      "Vorsitzende der Arbeitsgruppen/Sprecher/Obleute Albert Stegemann https://www.bundestag.de/abgeordnete/biografien/S/stegemann_albert-523834\n",
      "Vorsitzende der Arbeitsgruppen/Sprecher/Obleute Gero Storjohann https://www.bundestag.de/abgeordnete/biografien/S/storjohann_gero-523920\n",
      "Vorsitzende der Arbeitsgruppen/Sprecher/Obleute Antje Tillmann https://www.bundestag.de/abgeordnete/biografien/T/tillmann_antje-524124\n",
      "Vorsitzende der Arbeitsgruppen/Sprecher/Obleute Kai Wegner https://www.bundestag.de/abgeordnete/biografien/W/wegner_kai-524464\n",
      "Vorsitzende der Arbeitsgruppen/Sprecher/Obleute Marcus Weinberg https://www.bundestag.de/abgeordnete/biografien/W/weinberg_marcus-524490\n",
      "Vorsitzende der Arbeitsgruppen/Sprecher/Obleute Peter Weiß https://www.bundestag.de/abgeordnete/biografien/W/weiss_peter-524514\n",
      "Vorsitzende der Arbeitsgruppen/Sprecher/Obleute Elisabeth Winkelmeier-Becker https://www.bundestag.de/abgeordnete/biografien/W/winkelmeier_becker_elisabeth-524618\n",
      "Vorsitzende der sechs soziologischen Gruppen Christian Haase https://www.bundestag.de/abgeordnete/biografien/H/haase_christian-519998\n",
      "Vorsitzende der sechs soziologischen Gruppen Emmi Zeulner https://www.bundestag.de/abgeordnete/biografien/Z/zeulner_emmi-524762\n",
      "Vorsitzende der sechs soziologischen Gruppen Yvonne Magwas https://www.bundestag.de/abgeordnete/biografien/M/magwas_yvonne-521800\n",
      "Vorsitzende der sechs soziologischen Gruppen Eckhard Pols https://www.bundestag.de/abgeordnete/biografien/P/pols_eckhard-522682\n",
      "Vorsitzende der sechs soziologischen Gruppen Uwe, Schummer https://www.bundestag.de/abgeordnete/biografien/S/schummer_uwe-523544\n",
      "Vorsitzende der sechs soziologischen Gruppen Christian Freiherr von Stetten https://www.bundestag.de/abgeordnete/biografien/S/stetten_christian-523882\n",
      "Beisitzer Axel E. Fischer https://www.bundestag.de/abgeordnete/biografien/F/fischer_axel-519454\n",
      "Beisitzer Olav Gutting https://www.bundestag.de/abgeordnete/biografien/G/gutting_olav-519978\n",
      "Beisitzer Fritz Güntzler https://www.bundestag.de/abgeordnete/biografien/G/guentzler_fritz-519962\n",
      "Beisitzer Matthias Heider https://www.bundestag.de/abgeordnete/biografien/H/heider_matthias-520192\n",
      "Beisitzer Thomas Heilmann https://www.bundestag.de/abgeordnete/biografien/H/520204-520204\n",
      "Beisitzer Mark Helfrich https://www.bundestag.de/abgeordnete/biografien/H/helfrich_mark-520256\n",
      "Beisitzer Rudolf​​​​​​​ Henke https://www.bundestag.de/abgeordnete/biografien/H/henke_rudolf-520294\n",
      "Beisitzer Karl​​​​​​​ Holmeier https://www.bundestag.de/abgeordnete/biografien/H/holmeier_karl-520494\n",
      "Beisitzer Roderich​​​​​​​ Kiesewetter https://www.bundestag.de/abgeordnete/biografien/K/kiesewetter_roderich-520990\n",
      "Beisitzer Jan​​​​​​​ Metzler https://www.bundestag.de/abgeordnete/biografien/M/metzler_jan-521988\n",
      "Beisitzer Dr. h. c. Hans Michelbach https://www.bundestag.de/abgeordnete/biografien/M/michelbach_hans-522016\n",
      "Beisitzer Carsten​​​​​​​ Müller https://www.bundestag.de/abgeordnete/biografien/M/mueller_carsten-522166\n",
      "Beisitzer Michaela​​​​​​​ Noll https://www.bundestag.de/abgeordnete/biografien/N/noll_michaela-522382\n",
      "Beisitzer Johannes Röring https://www.bundestag.de/abgeordnete/biografien/R/roering_johannes-522980\n",
      "Beisitzer Jana​​​​​​​ Schimke https://www.bundestag.de/abgeordnete/biografien/S/schimke_jana-523268\n",
      "Beisitzer Tino​​​​​​​ Sorge https://www.bundestag.de/abgeordnete/biografien/S/sorge_tino-523744\n",
      "Beisitzer Prof. Dr. Matthias Zimmer https://www.bundestag.de/abgeordnete/biografien/Z/zimmer_matthias-524810\n"
     ]
    }
   ],
   "source": [
    "from urllib.parse import urljoin\n",
    "\n",
    "for role_node in html.find(class_='bt-standard-content').findAll('h4'):\n",
    "\n",
    "    role = role_node.text.rstrip(':')\n",
    "\n",
    "    for link_node in role_node.next_sibling.findAll('a'):\n",
    "        name = link_node.text\n",
    "        link = urljoin(request_url, link_node.get('href'))\n",
    "        print(role, name, link)\n"
   ]
  },
  {
   "cell_type": "markdown",
   "id": "thousand-hungarian",
   "metadata": {
    "slideshow": {
     "slide_type": "slide"
    }
   },
   "source": [
    "Now we put everything together, so that we can run this for all factions of the parliament:\n",
    "- we use a function to\n",
    "  - fetch the page of the faction and\n",
    "  - extract the members from the page content\n",
    "- iterate over all factions\n",
    "- store the list of faction roles and MPs in a data frame and CSV"
   ]
  },
  {
   "cell_type": "code",
   "execution_count": 13,
   "id": "unavailable-daisy",
   "metadata": {
    "slideshow": {
     "slide_type": "subslide"
    }
   },
   "outputs": [],
   "source": [
    "%%script false --no-raise-error\n",
    "# uncomment the above instruction to run this code\n",
    "# note: do not run the cell by default\n",
    "# because sending 6 HTTP requests may take long\n",
    "\n",
    "import requests\n",
    "from time import sleep\n",
    "from urllib.parse import urljoin\n",
    "from bs4 import BeautifulSoup\n",
    "import pandas as pd\n",
    "\n",
    "request_base_url = 'https://www.bundestag.de/parlament/fraktionen/'\n",
    "factions = 'cducsu spd fdp linke gruene afd'.split()\n",
    "\n",
    "def get_members_of_faction(faction):\n",
    "    global request_base_url\n",
    "\n",
    "    url = request_base_url + faction\n",
    "\n",
    "    response = requests.get(url)\n",
    "    if not response.ok:\n",
    "        return\n",
    "\n",
    "    result = []\n",
    "\n",
    "    html = BeautifulSoup(response.text)\n",
    "\n",
    "    for role_node in html.find(class_='bt-standard-content').findAll('h4'):\n",
    "\n",
    "        role = role_node.text.strip().rstrip(':')\n",
    "\n",
    "        if not role_node.next_sibling:\n",
    "            continue\n",
    "\n",
    "        for link_node in role_node.next_sibling.findAll('a'):\n",
    "            name = link_node.text\n",
    "            link = urljoin(url, link_node.get('href'))\n",
    "            result.append([name, faction, role, link])\n",
    "\n",
    "    return result\n",
    "\n",
    "\n",
    "faction_roles = []\n",
    "\n",
    "for faction in factions:\n",
    "    if faction_roles:\n",
    "        # be polite and wait before the next request\n",
    "        sleep(5)\n",
    "    faction_roles += get_members_of_faction(faction)\n",
    "\n",
    "df_faction_roles = pd.DataFrame(faction_roles, columns=['name', 'faction', 'role', 'link'])\n",
    "\n",
    "df_faction_roles.to_csv('data/bundestag/faction_roles.csv')"
   ]
  },
  {
   "cell_type": "code",
   "execution_count": 14,
   "id": "right-initial",
   "metadata": {
    "slideshow": {
     "slide_type": "subslide"
    }
   },
   "outputs": [
    {
     "data": {
      "text/plain": [
       "faction\n",
       "cducsu    64\n",
       "spd       37\n",
       "linke     22\n",
       "gruene    12\n",
       "afd       12\n",
       "fdp       11\n",
       "dtype: int64"
      ]
     },
     "execution_count": 14,
     "metadata": {},
     "output_type": "execute_result"
    }
   ],
   "source": [
    "import pandas as pd\n",
    "\n",
    "df_faction_roles = pd.read_csv('data/bundestag/faction_roles.csv')\n",
    "df_faction_roles.value_counts('faction')"
   ]
  },
  {
   "cell_type": "code",
   "execution_count": 15,
   "id": "stretch-sacramento",
   "metadata": {
    "slideshow": {
     "slide_type": "subslide"
    }
   },
   "outputs": [
    {
     "data": {
      "text/plain": [
       "(158, 5)"
      ]
     },
     "execution_count": 15,
     "metadata": {},
     "output_type": "execute_result"
    }
   ],
   "source": [
    "# not all members of the parliament have a role in their faction\n",
    "# and are listed on the landing page of the faction\n",
    "df_faction_roles.shape"
   ]
  },
  {
   "cell_type": "code",
   "execution_count": 16,
   "id": "separated-hurricane",
   "metadata": {
    "slideshow": {
     "slide_type": "subslide"
    }
   },
   "outputs": [
    {
     "data": {
      "text/html": [
       "<div>\n",
       "<style scoped>\n",
       "    .dataframe tbody tr th:only-of-type {\n",
       "        vertical-align: middle;\n",
       "    }\n",
       "\n",
       "    .dataframe tbody tr th {\n",
       "        vertical-align: top;\n",
       "    }\n",
       "\n",
       "    .dataframe thead th {\n",
       "        text-align: right;\n",
       "    }\n",
       "</style>\n",
       "<table border=\"1\" class=\"dataframe\">\n",
       "  <thead>\n",
       "    <tr style=\"text-align: right;\">\n",
       "      <th></th>\n",
       "      <th>Unnamed: 0</th>\n",
       "      <th>name</th>\n",
       "      <th>faction</th>\n",
       "      <th>role</th>\n",
       "      <th>link</th>\n",
       "    </tr>\n",
       "  </thead>\n",
       "  <tbody>\n",
       "    <tr>\n",
       "      <th>0</th>\n",
       "      <td>0</td>\n",
       "      <td>Ralph Brinkhaus</td>\n",
       "      <td>cducsu</td>\n",
       "      <td>Fraktionsvorsitzender</td>\n",
       "      <td>https://www.bundestag.de/abgeordnete/biografie...</td>\n",
       "    </tr>\n",
       "    <tr>\n",
       "      <th>64</th>\n",
       "      <td>64</td>\n",
       "      <td>Rolf Mützenich</td>\n",
       "      <td>spd</td>\n",
       "      <td>Fraktionsvorsitzender</td>\n",
       "      <td>https://www.bundestag.de/abgeordnete/biografie...</td>\n",
       "    </tr>\n",
       "    <tr>\n",
       "      <th>101</th>\n",
       "      <td>101</td>\n",
       "      <td>Christian Lindner</td>\n",
       "      <td>fdp</td>\n",
       "      <td>Fraktionsvorsitzender</td>\n",
       "      <td>https://www.bundestag.de/abgeordnete/biografie...</td>\n",
       "    </tr>\n",
       "    <tr>\n",
       "      <th>112</th>\n",
       "      <td>112</td>\n",
       "      <td>Amira Mohamed Ali</td>\n",
       "      <td>linke</td>\n",
       "      <td>Fraktionsvorsitzende</td>\n",
       "      <td>https://www.bundestag.de/abgeordnete/biografie...</td>\n",
       "    </tr>\n",
       "    <tr>\n",
       "      <th>113</th>\n",
       "      <td>113</td>\n",
       "      <td>Dr. Dietmar Bartsch</td>\n",
       "      <td>linke</td>\n",
       "      <td>Fraktionsvorsitzende</td>\n",
       "      <td>https://www.bundestag.de/abgeordnete/biografie...</td>\n",
       "    </tr>\n",
       "    <tr>\n",
       "      <th>134</th>\n",
       "      <td>134</td>\n",
       "      <td>Katrin Göring-Eckardt</td>\n",
       "      <td>gruene</td>\n",
       "      <td>Fraktionsvorsitzende</td>\n",
       "      <td>https://www.bundestag.de/abgeordnete/biografie...</td>\n",
       "    </tr>\n",
       "    <tr>\n",
       "      <th>135</th>\n",
       "      <td>135</td>\n",
       "      <td>Dr. Anton Hofreiter</td>\n",
       "      <td>gruene</td>\n",
       "      <td>Fraktionsvorsitzende</td>\n",
       "      <td>https://www.bundestag.de/abgeordnete/biografie...</td>\n",
       "    </tr>\n",
       "    <tr>\n",
       "      <th>146</th>\n",
       "      <td>146</td>\n",
       "      <td>Dr. Alexander Gauland</td>\n",
       "      <td>afd</td>\n",
       "      <td>Fraktionsvorsitzende</td>\n",
       "      <td>https://www.bundestag.de/abgeordnete/biografie...</td>\n",
       "    </tr>\n",
       "    <tr>\n",
       "      <th>147</th>\n",
       "      <td>147</td>\n",
       "      <td>Dr. Alice Weidel</td>\n",
       "      <td>afd</td>\n",
       "      <td>Fraktionsvorsitzende</td>\n",
       "      <td>https://www.bundestag.de/abgeordnete/biografie...</td>\n",
       "    </tr>\n",
       "  </tbody>\n",
       "</table>\n",
       "</div>"
      ],
      "text/plain": [
       "     Unnamed: 0                   name faction                   role  \\\n",
       "0             0        Ralph Brinkhaus  cducsu  Fraktionsvorsitzender   \n",
       "64           64         Rolf Mützenich     spd  Fraktionsvorsitzender   \n",
       "101         101      Christian Lindner     fdp  Fraktionsvorsitzender   \n",
       "112         112      Amira Mohamed Ali   linke   Fraktionsvorsitzende   \n",
       "113         113    Dr. Dietmar Bartsch   linke   Fraktionsvorsitzende   \n",
       "134         134  Katrin Göring-Eckardt  gruene   Fraktionsvorsitzende   \n",
       "135         135    Dr. Anton Hofreiter  gruene   Fraktionsvorsitzende   \n",
       "146         146  Dr. Alexander Gauland     afd   Fraktionsvorsitzende   \n",
       "147         147       Dr. Alice Weidel     afd   Fraktionsvorsitzende   \n",
       "\n",
       "                                                  link  \n",
       "0    https://www.bundestag.de/abgeordnete/biografie...  \n",
       "64   https://www.bundestag.de/abgeordnete/biografie...  \n",
       "101  https://www.bundestag.de/abgeordnete/biografie...  \n",
       "112  https://www.bundestag.de/abgeordnete/biografie...  \n",
       "113  https://www.bundestag.de/abgeordnete/biografie...  \n",
       "134  https://www.bundestag.de/abgeordnete/biografie...  \n",
       "135  https://www.bundestag.de/abgeordnete/biografie...  \n",
       "146  https://www.bundestag.de/abgeordnete/biografie...  \n",
       "147  https://www.bundestag.de/abgeordnete/biografie...  "
      ]
     },
     "execution_count": 16,
     "metadata": {},
     "output_type": "execute_result"
    }
   ],
   "source": [
    "df_faction_roles[df_faction_roles['role'].str.startswith('Fraktionsvorsitz')]"
   ]
  },
  {
   "cell_type": "code",
   "execution_count": 17,
   "id": "framed-training",
   "metadata": {
    "slideshow": {
     "slide_type": "subslide"
    }
   },
   "outputs": [
    {
     "name": "stdout",
     "output_type": "stream",
     "text": [
      "\n",
      "\n",
      "\n",
      "Abgeordnetenbüro\n",
      "Deutscher BundestagPlatz der Republik 111011 Berlin\n",
      "\n",
      "\n",
      "\n",
      "\n",
      "\n",
      "\n",
      "\n",
      "\n",
      "\n",
      "Geboren am 13. Mai 1975 in Freiburg im Breisgau; aufgewachsen in Stockach am Bodensee; katholisch; verheiratet; ein Kind.1981 bis 1985 Grundschule Stockach; 1985 bis 1994 Nellenburggymnasium Stockach; 1994 bis 2000 Studium der Rechtswissenschaft an der Universität Konstanz; Juli 2000 Erstes juristisches Staatsexamen; 2000 bis 2002 Rechtsreferendariat am Landgericht Freiburg; Oktober 2002 Zweites juristisches Staatsexamen in Freiburg; Februar 2003 Zulassung als Rechtsanwalt.1990 bis 2010 Mitglied der Jungen Union; 1991 bis 1993 Ortsvorsitzender der Jungen Union Stockach; 1993 bis 1999 Kreisvorsitzender der Jungen Union Konstanz; 2000 bis 2002 Mitglied im Bundesvorstand der Jungen Union Deutschlands; Umweltpolitischer Sprecher; 2002 bis 2006 Bezirksvorsitzender der Jungen Union Südbaden.Seit 1993 Mitglied der CDU; 1995 bis 2011 gewähltes Mitglied im Kreisvorstand des CDU Kreisverbandes Konstanz; 2007 bis 2011 Kreisvorsitzender des CDU Kreisverbandes Konstanz; seit 2001 Mitglied im Landesvorstand der CDU Baden- Württemberg; seit 2011 Bezirksvorsitzender der CDU Südbaden.18. September 2005 Wahl zum Bundestagsabgeordneten für den Wahlkreis Konstanz; Ordentliches Mitglied im Ausschuss für Umwelt, Naturschutz und Reaktorsicherheit; Ordentliches Mitglied im Petitionsausschuss; Stellvertretendes Mitglied im Ausschuss für Angelegenheiten der Europäischen Union; Stellvertretender Vorsitzender der Jungen Gruppe der CDU/CSU Bundestagsfraktion.27. September 2009 Wiederwahl zum Bundestagsabgeordneten für den Wahlkreis Konstanz; Ordentliches Mitglied im Ausschuss für Umwelt, Naturschutz und Reaktorsicherheit (Berichterstatter für Klimaschutz, Emissionshandel); Stellvertretendes Mitglied im Ausschuss für Wirtschaft und Technologie; Vorsitzender des Parlamentarischen Beirats für nachhaltige Entwicklung; Beauftragter der CDU/CSU Bundestagsfraktion für Elektromobilität.22. September 2013 Wiederwahl zum Bundestagsabgeordneten für den WahlkreisKonstanz, Ordentliches Mitglied im Ausschuss für Wirtschaft und Energie;Stellvertretendes Mitglied im Ausschuss für Umwelt, Naturschutz, Bau undRekatorsicherheit; Vorsitzender des Parlamentarischen Beirats fürnachhaltige Entwicklung; Beauftragter der CDU/CSU Bundestagsfraktion fürKlimaschutz.Seit 6. Februar 2015 Vorsitzender der Deutsch-Französischen Parlamentariergruppe.Seit 4. Juli 2016 Vorsitzender der CDU-Landesgruppe Baden-Württemberg im Deutschen Bundestag.\n",
      "\n",
      "\n",
      "\n",
      "\n",
      "\n",
      "Baden-Württemberg\n",
      "\n",
      "\n",
      "                Wahlkreis 287: Konstanz\n",
      "\n",
      "\n",
      "\n",
      "\n",
      "\n",
      "  Vorsitzender\n",
      "\n",
      "\n",
      "\n",
      "  Parlamentarischer Beirat für nachhaltige Entwicklung\n",
      "\n",
      "  Ordentliches Mitglied\n",
      "\n",
      "\n",
      "\n",
      "  Ausschuss für Wirtschaft und Energie\n",
      "\n",
      "  Parlamentarischer Beirat für nachhaltige Entwicklung\n",
      "\n",
      "  Stellvertretendes Mitglied\n",
      "\n",
      "\n",
      "\n",
      "  Ausschuss für Umwelt, Naturschutz, Bau und Reaktorsicherheit\n",
      "\n",
      "\n",
      "\n",
      "\n",
      "\n",
      "  Ordentliches Mitglied\n",
      "\n",
      "\n",
      "\n",
      "\n",
      "\n",
      "\n",
      "\n",
      "\n",
      "\n",
      "Funktionen in Unternehmen\n",
      "\n",
      "Mainau GmbH, Insel Mainau, Mitglied des Beirates \n",
      "Funktionen in Vereinen, Verbänden und Stiftungen\n",
      "\n",
      "Bundesverband Erneuerbare Energie e.V. (BEE), Berlin, Vorsitzender des Parlamentarischen Beirates \n",
      "\n",
      "Deutsch-Französisches Institut e.V. (dfi), Ludwigsburg, Mitglied des Vorstandes \n",
      "\n",
      "Fondation Entente Franco-Allemande (FEFA), Straßburg, Mitglied des Verwaltungsrates \n",
      "\n",
      "GLOBE Deutschland, Berlin, Präsident \n",
      "\n",
      "Stiftung Energie & Klimaschutz Baden-Württemberg, Karlsruhe, Mitglied des Kuratoriums \n",
      "\n",
      "Vereinigung Deutsch-Französischer Gesellschaften für Europa e.V. (VDFG), Mainz, Mitglied des Parlamentarischen Beirates \n",
      "Für die Höhe der Einkünfte sind nach den Verhaltensregeln die geleisteten Bruttobeträge einschließlich Entschädigungs-, Ausgleichs- und Sachleistungen maßgebend. Unberücksichtigt bleiben insbesondere eigene Aufwendungen, Werbungskosten und sonstige Kosten aller Art. Die Höhe der Einkünfte aus einer Tätigkeit bezeichnet nicht das zu versteuernde Einkommen.Soweit sich für anzeigepflichtige Tätigkeiten, die in Personen- oder Kapitalgesellschaften ausgeübt werden, Bruttobeträge nicht ermitteln lassen, werden die ausgekehrten Anteile am Gesellschaftsgewinn mit der Angabe \"Gewinn\" veröffentlicht\n",
      "Zum Inhalt der veröffentlichungspflichtigen Angaben im Übrigen siehe auch die Hinweise zur Veröffentlichung der Angaben nach den Verhaltensregeln im Amtlichen Handbuch und auf den Internetseiten des Deutschen Bundestages.\n",
      "\n",
      "\n",
      "\n"
     ]
    }
   ],
   "source": [
    "# now let's try whether we can fetch the biography and other information of a single MP\n",
    "\n",
    "member_url = df_faction_roles.loc[df_faction_roles['name']=='Andreas Jung','link'].values[0]\n",
    "member_response = requests.get(member_url)\n",
    "member_html = BeautifulSoup(member_response.text)\n",
    "\n",
    "# let's try first using the CSS class \"bundestag-standard-content\"\n",
    "for node in member_html.findAll(class_='bt-standard-content'):\n",
    "    print(node.text)"
   ]
  },
  {
   "cell_type": "markdown",
   "id": "anonymous-france",
   "metadata": {
    "slideshow": {
     "slide_type": "subslide"
    }
   },
   "source": [
    "### Automatic Cleansing of Text\n",
    "\n",
    "A trivial extraction of all text in the body of web page would include a lot of unwanted content (navigation menus, header, footer, side bars), the \"main\" content could be even only a small part in the middle of the page. There are heuristics and algorithms for automatic removal of \"boilerplate\" content:\n",
    "\n",
    "- Mozilla Readability: the [reader view](https://support.mozilla.org/en-US/kb/firefox-reader-view-clutter-free-web-pages) of the Firefox browser\n",
    "  - originally implemented in JavaScript, see [Readability.js](https://github.com/mozilla/readability/blob/master/Readability.js)\n",
    "  - but there is a Python port - [ReadabiliPy](https://github.com/alan-turing-institute/ReadabiliPy) or [ReadabiliPy on pypi](https://pypi.org/project/readabilipy/)\n",
    "- [jusText](https://nlp.fi.muni.cz/projects/justext/) or [jusText on pypi](https://pypi.org/project/jusText/)\n",
    "\n",
    "Here an example usage of ReadabiliPy with the latest fetched page (without any manual selection of elements by CSS class):"
   ]
  },
  {
   "cell_type": "code",
   "execution_count": 18,
   "id": "valid-christianity",
   "metadata": {},
   "outputs": [
    {
     "name": "stdout",
     "output_type": "stream",
     "text": [
      "Requirement already satisfied: readabilipy in ./.venv/lib/python3.9/site-packages (0.2.0)\n",
      "Requirement already satisfied: lxml in ./.venv/lib/python3.9/site-packages (from readabilipy) (4.6.3)\n",
      "Requirement already satisfied: html5lib in ./.venv/lib/python3.9/site-packages (from readabilipy) (1.1)\n",
      "Requirement already satisfied: regex in ./.venv/lib/python3.9/site-packages (from readabilipy) (2021.7.6)\n",
      "Requirement already satisfied: beautifulsoup4>=4.7.1 in ./.venv/lib/python3.9/site-packages (from readabilipy) (4.9.3)\n",
      "Requirement already satisfied: soupsieve>1.2 in ./.venv/lib/python3.9/site-packages (from beautifulsoup4>=4.7.1->readabilipy) (2.2.1)\n",
      "Requirement already satisfied: webencodings in ./.venv/lib/python3.9/site-packages (from html5lib->readabilipy) (0.5.1)\n",
      "Requirement already satisfied: six>=1.9 in ./.venv/lib/python3.9/site-packages (from html5lib->readabilipy) (1.15.0)\n"
     ]
    }
   ],
   "source": [
    "!pip install readabilipy\n",
    "\n",
    "from readabilipy import simple_json_from_html_string\n",
    "\n",
    "article = simple_json_from_html_string(member_response.text, use_readability=True)"
   ]
  },
  {
   "cell_type": "code",
   "execution_count": 19,
   "id": "essential-saudi",
   "metadata": {
    "slideshow": {
     "slide_type": "subslide"
    }
   },
   "outputs": [
    {
     "name": "stdout",
     "output_type": "stream",
     "text": [
      "Geboren am 13. Mai 1975 in Freiburg im Breisgau; aufgewachsen in Stockach am Bodensee; katholisch; verheiratet; ein Kind.\n",
      "\n",
      "1981 bis 1985 Grundschule Stockach; 1985 bis 1994 Nellenburggymnasium Stockach; 1994 bis 2000 Studium der Rechtswissenschaft an der Universität Konstanz; Juli 2000 Erstes juristisches Staatsexamen; 2000 bis 2002 Rechtsreferendariat am Landgericht Freiburg; Oktober 2002 Zweites juristisches Staatsexamen in Freiburg; Februar 2003 Zulassung als Rechtsanwalt.\n",
      "\n",
      "1990 bis 2010 Mitglied der Jungen Union; 1991 bis 1993 Ortsvorsitzender der Jungen Union Stockach; 1993 bis 1999 Kreisvorsitzender der Jungen Union Konstanz; 2000 bis 2002 Mitglied im Bundesvorstand der Jungen Union Deutschlands; Umweltpolitischer Sprecher; 2002 bis 2006 Bezirksvorsitzender der Jungen Union Südbaden.\n",
      "\n",
      "Seit 1993 Mitglied der CDU; 1995 bis 2011 gewähltes Mitglied im Kreisvorstand des CDU Kreisverbandes Konstanz; 2007 bis 2011 Kreisvorsitzender des CDU Kreisverbandes Konstanz; seit 2001 Mitglied im Landesvorstand der CDU Baden- Württemberg; seit 2011 Bezirksvorsitzender der CDU Südbaden.\n",
      "\n",
      "18. September 2005 Wahl zum Bundestagsabgeordneten für den Wahlkreis Konstanz; Ordentliches Mitglied im Ausschuss für Umwelt, Naturschutz und Reaktorsicherheit; Ordentliches Mitglied im Petitionsausschuss; Stellvertretendes Mitglied im Ausschuss für Angelegenheiten der Europäischen Union; Stellvertretender Vorsitzender der Jungen Gruppe der CDU/CSU Bundestagsfraktion.\n",
      "\n",
      "27. September 2009 Wiederwahl zum Bundestagsabgeordneten für den Wahlkreis Konstanz; Ordentliches Mitglied im Ausschuss für Umwelt, Naturschutz und Reaktorsicherheit (Berichterstatter für Klimaschutz, Emissionshandel); Stellvertretendes Mitglied im Ausschuss für Wirtschaft und Technologie; Vorsitzender des Parlamentarischen Beirats für nachhaltige Entwicklung; Beauftragter der CDU/CSU Bundestagsfraktion für Elektromobilität.\n",
      "\n",
      "22. September 2013 Wiederwahl zum Bundestagsabgeordneten für den WahlkreisKonstanz, Ordentliches Mitglied im Ausschuss für Wirtschaft und Energie;Stellvertretendes Mitglied im Ausschuss für Umwelt, Naturschutz, Bau undRekatorsicherheit; Vorsitzender des Parlamentarischen Beirats fürnachhaltige Entwicklung; Beauftragter der CDU/CSU Bundestagsfraktion fürKlimaschutz.\n",
      "\n",
      "Seit 6. Februar 2015 Vorsitzender der Deutsch-Französischen Parlamentariergruppe.\n",
      "\n",
      "Seit 4. Juli 2016 Vorsitzender der CDU-Landesgruppe Baden-Württemberg im Deutschen Bundestag.\n",
      "\n"
     ]
    }
   ],
   "source": [
    "for paragraph in article['plain_text']:\n",
    "    print(paragraph['text'])\n",
    "    print()"
   ]
  },
  {
   "cell_type": "code",
   "execution_count": 20,
   "id": "criminal-michigan",
   "metadata": {},
   "outputs": [
    {
     "data": {
      "text/html": [
       "<div class=\"page\" id=\"readability-page-1\"><div aria-labelledby=\"tab_biografie_258538\" id=\"ptv1\" role=\"tabpanel\"><div><div><p>Geboren am 13. Mai 1975 in Freiburg im Breisgau; aufgewachsen in Stockach am Bodensee; katholisch; verheiratet; ein Kind.</p><p>1981 bis 1985 Grundschule Stockach; 1985 bis 1994 Nellenburggymnasium Stockach; 1994 bis 2000 Studium der Rechtswissenschaft an der Universität Konstanz; Juli 2000 Erstes juristisches Staatsexamen; 2000 bis 2002 Rechtsreferendariat am Landgericht Freiburg; Oktober 2002 Zweites juristisches Staatsexamen in Freiburg; Februar 2003 Zulassung als Rechtsanwalt.</p><p>1990 bis 2010 Mitglied der Jungen Union; 1991 bis 1993 Ortsvorsitzender der Jungen Union Stockach; 1993 bis 1999 Kreisvorsitzender der Jungen Union Konstanz; 2000 bis 2002 Mitglied im Bundesvorstand der Jungen Union Deutschlands; Umweltpolitischer Sprecher; 2002 bis 2006 Bezirksvorsitzender der Jungen Union Südbaden.</p><p>Seit 1993 Mitglied der CDU; 1995 bis 2011 gewähltes Mitglied im Kreisvorstand des CDU Kreisverbandes Konstanz; 2007 bis 2011 Kreisvorsitzender des CDU Kreisverbandes Konstanz; seit 2001 Mitglied im Landesvorstand der CDU Baden- Württemberg; seit 2011 Bezirksvorsitzender der CDU Südbaden.</p><p>18. September 2005 Wahl zum Bundestagsabgeordneten für den Wahlkreis Konstanz; Ordentliches Mitglied im Ausschuss für Umwelt, Naturschutz und Reaktorsicherheit; Ordentliches Mitglied im Petitionsausschuss; Stellvertretendes Mitglied im Ausschuss für Angelegenheiten der Europäischen Union; Stellvertretender Vorsitzender der Jungen Gruppe der CDU/CSU Bundestagsfraktion.</p><p>27. September 2009 Wiederwahl zum Bundestagsabgeordneten für den Wahlkreis Konstanz; Ordentliches Mitglied im Ausschuss für Umwelt, Naturschutz und Reaktorsicherheit (Berichterstatter für Klimaschutz, Emissionshandel); Stellvertretendes Mitglied im Ausschuss für Wirtschaft und Technologie; Vorsitzender des Parlamentarischen Beirats für nachhaltige Entwicklung; Beauftragter der CDU/CSU Bundestagsfraktion für Elektromobilität.</p><p>22. September 2013 Wiederwahl zum Bundestagsabgeordneten für den WahlkreisKonstanz, Ordentliches Mitglied im Ausschuss für Wirtschaft und Energie;Stellvertretendes Mitglied im Ausschuss für Umwelt, Naturschutz, Bau undRekatorsicherheit; Vorsitzender des Parlamentarischen Beirats fürnachhaltige Entwicklung; Beauftragter der CDU/CSU Bundestagsfraktion fürKlimaschutz.</p><p>Seit 6. Februar 2015 Vorsitzender der Deutsch-Französischen Parlamentariergruppe.</p><p>Seit 4. Juli 2016 Vorsitzender der CDU-Landesgruppe Baden-Württemberg im Deutschen Bundestag.</p></div><br/></div></div></div>"
      ],
      "text/plain": [
       "<IPython.core.display.HTML object>"
      ]
     },
     "execution_count": 20,
     "metadata": {},
     "output_type": "execute_result"
    }
   ],
   "source": [
    "# but there's also a \"readable\" and simple HTML snippet\n",
    "# (shown as rendered HTML in the output)\n",
    "from IPython.core.display import HTML\n",
    "\n",
    "HTML(article['plain_content'])"
   ]
  },
  {
   "cell_type": "markdown",
   "id": "trained-research",
   "metadata": {
    "slideshow": {
     "slide_type": "slide"
    }
   },
   "source": [
    "## Processing XML\n",
    "\n",
    "The [Open Data](https://www.bundestag.de/services/opendata) portal of the German parliament offers a zip file      \"Stammdaten aller Abgeordneten seit 1949 im XML-Format (Stand 12.03.2021)\" for free download. Most likely we should get the information about all PMs from this source. But how do we process XML?\n",
    "\n",
    "Assumed the zip archive has been downloaded, unzipped and the files are all placed in `data/bundestag/`, we can simply read the file and pass it to beautifulsoup which will parse it. But we request a specific parser feature (`lxml-xml`) so that the casing of XML elements is preserved."
   ]
  },
  {
   "cell_type": "code",
   "execution_count": 21,
   "id": "strange-barbados",
   "metadata": {
    "slideshow": {
     "slide_type": "subslide"
    }
   },
   "outputs": [
    {
     "data": {
      "text/plain": [
       "<MDB>\n",
       "<ID>11000001</ID>\n",
       "<NAMEN>\n",
       "<NAME>\n",
       "<NACHNAME>Abelein</NACHNAME>\n",
       "<VORNAME>Manfred</VORNAME>\n",
       "<ORTSZUSATZ/>\n",
       "<ADEL/>\n",
       "<PRAEFIX/>\n",
       "<ANREDE_TITEL>Dr.</ANREDE_TITEL>\n",
       "<AKAD_TITEL>Prof. Dr.</AKAD_TITEL>\n",
       "<HISTORIE_VON>19.10.1965</HISTORIE_VON>\n",
       "<HISTORIE_BIS/>\n",
       "</NAME>\n",
       "</NAMEN>\n",
       "<BIOGRAFISCHE_ANGABEN>\n",
       "<GEBURTSDATUM>20.10.1930</GEBURTSDATUM>\n",
       "<GEBURTSORT>Stuttgart</GEBURTSORT>\n",
       "<GEBURTSLAND/>\n",
       "<STERBEDATUM>17.01.2008</STERBEDATUM>\n",
       "<GESCHLECHT>männlich</GESCHLECHT>\n",
       "<FAMILIENSTAND>keine Angaben</FAMILIENSTAND>\n",
       "<RELIGION>katholisch</RELIGION>\n",
       "<BERUF>Rechtsanwalt, Wirtschaftsprüfer, Universitätsprofessor</BERUF>\n",
       "<PARTEI_KURZ>CDU</PARTEI_KURZ>\n",
       "<VITA_KURZ/>\n",
       "<VEROEFFENTLICHUNGSPFLICHTIGES/>\n",
       "</BIOGRAFISCHE_ANGABEN>\n",
       "<WAHLPERIODEN>\n",
       "<WAHLPERIODE>\n",
       "<WP>5</WP>\n",
       "<MDBWP_VON>19.10.1965</MDBWP_VON>\n",
       "<MDBWP_BIS>19.10.1969</MDBWP_BIS>\n",
       "<WKR_NUMMER>174</WKR_NUMMER>\n",
       "<WKR_NAME/>\n",
       "<WKR_LAND>BWG</WKR_LAND>\n",
       "<LISTE/>\n",
       "<MANDATSART>Direktwahl</MANDATSART>\n",
       "<INSTITUTIONEN>\n",
       "<INSTITUTION>\n",
       "<INSART_LANG>Fraktion/Gruppe</INSART_LANG>\n",
       "<INS_LANG>Fraktion der Christlich Demokratischen Union/Christlich - Sozialen Union</INS_LANG>\n",
       "<MDBINS_VON/>\n",
       "<MDBINS_BIS/>\n",
       "<FKT_LANG/>\n",
       "<FKTINS_VON/>\n",
       "<FKTINS_BIS/>\n",
       "</INSTITUTION>\n",
       "</INSTITUTIONEN>\n",
       "</WAHLPERIODE>\n",
       "<WAHLPERIODE>\n",
       "<WP>6</WP>\n",
       "<MDBWP_VON>20.10.1969</MDBWP_VON>\n",
       "<MDBWP_BIS>22.09.1972</MDBWP_BIS>\n",
       "<WKR_NUMMER>174</WKR_NUMMER>\n",
       "<WKR_NAME/>\n",
       "<WKR_LAND>BWG</WKR_LAND>\n",
       "<LISTE/>\n",
       "<MANDATSART>Direktwahl</MANDATSART>\n",
       "<INSTITUTIONEN>\n",
       "<INSTITUTION>\n",
       "<INSART_LANG>Fraktion/Gruppe</INSART_LANG>\n",
       "<INS_LANG>Fraktion der Christlich Demokratischen Union/Christlich - Sozialen Union</INS_LANG>\n",
       "<MDBINS_VON/>\n",
       "<MDBINS_BIS/>\n",
       "<FKT_LANG/>\n",
       "<FKTINS_VON/>\n",
       "<FKTINS_BIS/>\n",
       "</INSTITUTION>\n",
       "</INSTITUTIONEN>\n",
       "</WAHLPERIODE>\n",
       "<WAHLPERIODE>\n",
       "<WP>7</WP>\n",
       "<MDBWP_VON>13.12.1972</MDBWP_VON>\n",
       "<MDBWP_BIS>13.12.1976</MDBWP_BIS>\n",
       "<WKR_NUMMER>174</WKR_NUMMER>\n",
       "<WKR_NAME/>\n",
       "<WKR_LAND>BWG</WKR_LAND>\n",
       "<LISTE/>\n",
       "<MANDATSART>Direktwahl</MANDATSART>\n",
       "<INSTITUTIONEN>\n",
       "<INSTITUTION>\n",
       "<INSART_LANG>Fraktion/Gruppe</INSART_LANG>\n",
       "<INS_LANG>Fraktion der Christlich Demokratischen Union/Christlich - Sozialen Union</INS_LANG>\n",
       "<MDBINS_VON/>\n",
       "<MDBINS_BIS/>\n",
       "<FKT_LANG/>\n",
       "<FKTINS_VON/>\n",
       "<FKTINS_BIS/>\n",
       "</INSTITUTION>\n",
       "</INSTITUTIONEN>\n",
       "</WAHLPERIODE>\n",
       "<WAHLPERIODE>\n",
       "<WP>8</WP>\n",
       "<MDBWP_VON>14.12.1976</MDBWP_VON>\n",
       "<MDBWP_BIS>04.11.1980</MDBWP_BIS>\n",
       "<WKR_NUMMER>174</WKR_NUMMER>\n",
       "<WKR_NAME/>\n",
       "<WKR_LAND>BWG</WKR_LAND>\n",
       "<LISTE/>\n",
       "<MANDATSART>Direktwahl</MANDATSART>\n",
       "<INSTITUTIONEN>\n",
       "<INSTITUTION>\n",
       "<INSART_LANG>Fraktion/Gruppe</INSART_LANG>\n",
       "<INS_LANG>Fraktion der Christlich Demokratischen Union/Christlich - Sozialen Union</INS_LANG>\n",
       "<MDBINS_VON/>\n",
       "<MDBINS_BIS/>\n",
       "<FKT_LANG/>\n",
       "<FKTINS_VON/>\n",
       "<FKTINS_BIS/>\n",
       "</INSTITUTION>\n",
       "</INSTITUTIONEN>\n",
       "</WAHLPERIODE>\n",
       "<WAHLPERIODE>\n",
       "<WP>9</WP>\n",
       "<MDBWP_VON>04.11.1980</MDBWP_VON>\n",
       "<MDBWP_BIS>29.03.1983</MDBWP_BIS>\n",
       "<WKR_NUMMER>174</WKR_NUMMER>\n",
       "<WKR_NAME/>\n",
       "<WKR_LAND>BWG</WKR_LAND>\n",
       "<LISTE/>\n",
       "<MANDATSART>Direktwahl</MANDATSART>\n",
       "<INSTITUTIONEN>\n",
       "<INSTITUTION>\n",
       "<INSART_LANG>Fraktion/Gruppe</INSART_LANG>\n",
       "<INS_LANG>Fraktion der Christlich Demokratischen Union/Christlich - Sozialen Union</INS_LANG>\n",
       "<MDBINS_VON/>\n",
       "<MDBINS_BIS/>\n",
       "<FKT_LANG/>\n",
       "<FKTINS_VON/>\n",
       "<FKTINS_BIS/>\n",
       "</INSTITUTION>\n",
       "</INSTITUTIONEN>\n",
       "</WAHLPERIODE>\n",
       "<WAHLPERIODE>\n",
       "<WP>10</WP>\n",
       "<MDBWP_VON>29.03.1983</MDBWP_VON>\n",
       "<MDBWP_BIS>18.02.1987</MDBWP_BIS>\n",
       "<WKR_NUMMER>174</WKR_NUMMER>\n",
       "<WKR_NAME/>\n",
       "<WKR_LAND>BWG</WKR_LAND>\n",
       "<LISTE/>\n",
       "<MANDATSART>Direktwahl</MANDATSART>\n",
       "<INSTITUTIONEN>\n",
       "<INSTITUTION>\n",
       "<INSART_LANG>Fraktion/Gruppe</INSART_LANG>\n",
       "<INS_LANG>Fraktion der Christlich Demokratischen Union/Christlich - Sozialen Union</INS_LANG>\n",
       "<MDBINS_VON/>\n",
       "<MDBINS_BIS/>\n",
       "<FKT_LANG/>\n",
       "<FKTINS_VON/>\n",
       "<FKTINS_BIS/>\n",
       "</INSTITUTION>\n",
       "</INSTITUTIONEN>\n",
       "</WAHLPERIODE>\n",
       "<WAHLPERIODE>\n",
       "<WP>11</WP>\n",
       "<MDBWP_VON>18.02.1987</MDBWP_VON>\n",
       "<MDBWP_BIS>20.12.1990</MDBWP_BIS>\n",
       "<WKR_NUMMER>174</WKR_NUMMER>\n",
       "<WKR_NAME/>\n",
       "<WKR_LAND>BWG</WKR_LAND>\n",
       "<LISTE/>\n",
       "<MANDATSART>Direktwahl</MANDATSART>\n",
       "<INSTITUTIONEN>\n",
       "<INSTITUTION>\n",
       "<INSART_LANG>Fraktion/Gruppe</INSART_LANG>\n",
       "<INS_LANG>Fraktion der Christlich Demokratischen Union/Christlich - Sozialen Union</INS_LANG>\n",
       "<MDBINS_VON>18.02.1987</MDBINS_VON>\n",
       "<MDBINS_BIS>20.12.1990</MDBINS_BIS>\n",
       "<FKT_LANG/>\n",
       "<FKTINS_VON/>\n",
       "<FKTINS_BIS/>\n",
       "</INSTITUTION>\n",
       "</INSTITUTIONEN>\n",
       "</WAHLPERIODE>\n",
       "</WAHLPERIODEN>\n",
       "</MDB>"
      ]
     },
     "execution_count": 21,
     "metadata": {},
     "output_type": "execute_result"
    }
   ],
   "source": [
    "from bs4 import BeautifulSoup\n",
    "\n",
    "xml = BeautifulSoup(open('data/bundestag/MDB_STAMMDATEN.XML').read(),\n",
    "                    features='lxml-xml')\n",
    "\n",
    "xml.MDB"
   ]
  },
  {
   "cell_type": "code",
   "execution_count": 22,
   "id": "essential-passing",
   "metadata": {
    "slideshow": {
     "slide_type": "subslide"
    }
   },
   "outputs": [
    {
     "data": {
      "text/plain": [
       "4089"
      ]
     },
     "execution_count": 22,
     "metadata": {},
     "output_type": "execute_result"
    }
   ],
   "source": [
    "len(xml.findAll('MDB'))"
   ]
  },
  {
   "cell_type": "code",
   "execution_count": 23,
   "id": "patient-roads",
   "metadata": {
    "slideshow": {
     "slide_type": "subslide"
    }
   },
   "outputs": [
    {
     "data": {
      "text/plain": [
       "0.2582538517975055"
      ]
     },
     "execution_count": 23,
     "metadata": {},
     "output_type": "execute_result"
    }
   ],
   "source": [
    "from collections import Counter\n",
    "\n",
    "mp_acad_title = Counter()\n",
    "\n",
    "mp_with_acad_title, mp_total = 0, 0\n",
    "\n",
    "for mp in xml.findAll('MDB'):\n",
    "\n",
    "    mp_total += 1\n",
    "\n",
    "    has_academic_title = False\n",
    "    for nn in mp.findAll(\"NAME\"):\n",
    "        if nn.AKAD_TITEL.text:\n",
    "            has_academic_title = True\n",
    "            mp_acad_title[nn.AKAD_TITEL.text] += 1\n",
    "\n",
    "    if has_academic_title:\n",
    "        # count a title only once (in case of multiple names)\n",
    "        mp_with_acad_title += 1\n",
    "\n",
    "mp_with_acad_title / mp_total"
   ]
  },
  {
   "cell_type": "code",
   "execution_count": 24,
   "id": "large-whale",
   "metadata": {
    "slideshow": {
     "slide_type": "subslide"
    }
   },
   "outputs": [
    {
     "data": {
      "text/plain": [
       "[('Dr.', 930),\n",
       " ('Prof. Dr.', 81),\n",
       " ('Dr. h. c.', 42),\n",
       " ('Dr. Dr. h. c.', 17),\n",
       " ('Prof.', 13),\n",
       " ('Dr. - Ing.', 11),\n",
       " ('Prof. Dr. h. c.', 3),\n",
       " ('Dipl. - Ing.', 3),\n",
       " ('Dr. Dr.', 3),\n",
       " ('Prof. Dr. Dr. h. c.', 3),\n",
       " ('Dr. - Ing. e. h.', 2),\n",
       " ('Prof. Dr. Dr.', 2),\n",
       " ('Dr. - Ing. Dr. h. c.', 1),\n",
       " ('Prof. h. c.', 1),\n",
       " ('Prof. Dr. - Ing.', 1),\n",
       " ('Dr. h. c. Dr. - Ing. e. h.', 1),\n",
       " ('Dr. - Ing. Dr. - Ing. e. h. Dr. h. c.', 1),\n",
       " ('Dr. h. c. Dr. e. h.', 1),\n",
       " ('Prof. h. c. Dr.', 1),\n",
       " ('Dr. h. c. (Univ Kyiv)', 1),\n",
       " ('HonD', 1),\n",
       " ('Dr. h. c. (NUACA)', 1)]"
      ]
     },
     "execution_count": 24,
     "metadata": {},
     "output_type": "execute_result"
    }
   ],
   "source": [
    "mp_acad_title.most_common()"
   ]
  },
  {
   "cell_type": "markdown",
   "id": "important-equipment",
   "metadata": {
    "slideshow": {
     "slide_type": "subslide"
    }
   },
   "source": [
    "A final note: Reading the XML file describing the members of the German parliament into a tabular data structure will be painful (similar as for JSON data source) because of\n",
    "- the nested structure\n",
    "- some list-like data, for example the fact that one MP can have multiple names\n",
    "\n",
    "Instead of coding the conversion in Python: with [XSLT](https://en.wikipedia.org/wiki/XSLT) there is a dedicated language for transforming XML documents into other document formats."
   ]
  },
  {
   "cell_type": "markdown",
   "id": "heavy-bride",
   "metadata": {
    "slideshow": {
     "slide_type": "subslide"
    }
   },
   "source": [
    "The [Open Discourse](https://opendiscourse.de/) projects hosts the proceedings of the German parliament and also a list of MPs in data formats easy to consume. See the [Open Discourse data sets](https://dataverse.harvard.edu/dataverse/opendiscourse) page."
   ]
  },
  {
   "cell_type": "markdown",
   "id": "moved-northwest",
   "metadata": {
    "slideshow": {
     "slide_type": "slide"
    }
   },
   "source": [
    "## Browser automation with Python\n",
    "\n",
    "- [Selenium](https://pypi.org/project/selenium/)\n",
    "  - nice example: [impf-botpy](https://github.com/alfonsrv/impf-botpy)\n",
    "- [Playwright](https://playwright.dev/python/docs/intro)\n",
    "  - [Playwright on pypi](https://pypi.org/project/playwright/) including nice examples (some cited below)\n",
    "  - [Python API docs](https://playwright.dev/python/docs/api/class-playwright)\n",
    "  \n",
    "Note: Playwright does not run in a Jupyter notebook. We'll run the scripts directly in the Python interpreter.\n",
    "\n",
    "Installation:\n",
    "```\n",
    "pip install playwright\n",
    "playwright install\n",
    "```"
   ]
  },
  {
   "cell_type": "markdown",
   "id": "portuguese-ceremony",
   "metadata": {
    "slideshow": {
     "slide_type": "subslide"
    }
   },
   "source": [
    "Take a screenshot using two different browsers:\n",
    "\n",
    "```python\n",
    "from playwright.sync_api import sync_playwright\n",
    "\n",
    "with sync_playwright() as p:\n",
    "    for browser_type in [p.chromium, p.firefox]:\n",
    "        browser = browser_type.launch()\n",
    "        page = browser.new_page()\n",
    "        page.goto('http://whatsmyuseragent.org/')\n",
    "        _ = page.screenshot(path=f'figures/example-{browser_type.name}.png')\n",
    "        browser.close()\n",
    "```\n",
    "\n",
    "Just run the script [scripts/playwright_whatsmyuseragent_screenshot.py](scripts/playwright_whatsmyuseragent_screenshot.py) in the console / shell:\n",
    "\n",
    "```\n",
    "python ./scripts/playwright_whatsmyuseragent_screenshot.py\n",
    "```\n",
    "\n",
    "The screenshots are then found in the folder `figures/` for [chromium](./figures/example-chromium.png) and [firefox](./figures/example-firefox.png)."
   ]
  },
  {
   "cell_type": "markdown",
   "id": "subtle-surge",
   "metadata": {
    "slideshow": {
     "slide_type": "subslide"
    }
   },
   "source": [
    "Playwright can record user interactions (mouse clicks, keyboard input) and create Python code to replay the recorded actions:\n",
    "\n",
    "```\n",
    "playwright codegen https://www.bundestag.de/abgeordnete/biografien\n",
    "```\n",
    "\n",
    "The created Python code is then modified, here to loop over all overlays showing the members of the parliament:\n",
    "\n",
    "```python\n",
    "from time import sleep\n",
    "\n",
    "from playwright.sync_api import sync_playwright\n",
    "\n",
    "def run(playwright):\n",
    "    browser = playwright.chromium.launch(headless=False)\n",
    "    context = browser.new_context(viewport={'height': 1080, 'width': 1920})\n",
    "    page = context.new_page()\n",
    "    page.goto(\"https://www.bundestag.de/abgeordnete/biografien\")\n",
    "    while True:\n",
    "        try:\n",
    "            sleep(3)\n",
    "            page.click(\"button:has-text(\\\"Vor\\\")\")\n",
    "        except Exception:\n",
    "            break\n",
    "\n",
    "with sync_playwright() as p:\n",
    "    run(p)\n",
    "```\n",
    "\n",
    "Again: best run the [replay script](./scripts/playwright_replay.py) in the console:\n",
    "\n",
    "```\n",
    "python ./scripts/playwright_replay.py\n",
    "```"
   ]
  }
 ],
 "metadata": {
  "celltoolbar": "Slideshow",
  "kernelspec": {
   "display_name": "Python 3",
   "language": "python",
   "name": "python3"
  },
  "language_info": {
   "codemirror_mode": {
    "name": "ipython",
    "version": 3
   },
   "file_extension": ".py",
   "mimetype": "text/x-python",
   "name": "python",
   "nbconvert_exporter": "python",
   "pygments_lexer": "ipython3",
   "version": "3.9.5"
  }
 },
 "nbformat": 4,
 "nbformat_minor": 5
}
