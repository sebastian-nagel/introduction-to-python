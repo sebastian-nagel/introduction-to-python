{
 "cells": [
  {
   "cell_type": "markdown",
   "id": "choice-prevention",
   "metadata": {
    "slideshow": {
     "slide_type": "slide"
    }
   },
   "source": [
    "The Twitter API\n",
    "===============\n",
    "\n",
    "- what is an API?\n",
    "- get access to the Twitter API\n",
    "- use a client: [DocNow/twarc](https://github.com/docnow/twarc)\n",
    "- tweets, user timelines, followers, trends\n",
    "- text statistics, language, sentiment\n",
    "\n",
    "\n",
    "## What is an API?\n",
    "\n",
    "The [Application Programming\n",
    "Interface](https://en.wikipedia.org/wiki/API) (API) allows computer\n",
    "programs to interact with software libraries (the [pandas API](https://pandas.pydata.org/pandas-docs/stable/reference/index.html)) or services (eg. Twitter\n",
    "or Mediawiki) in a similar way a [user\n",
    "interface](https://en.wikipedia.org/wiki/User_interface) allows humans\n",
    "to interact with computers.\n",
    "\n",
    "\n",
    "## Why social media and why [Twitter](https://twitter.com/)?\n",
    "\n",
    "Social media is an important data source for social science research:\n",
    " “social media platforms are, in one sense, vast collections of\n",
    "  freely available unscripted opinions, experiences and insights on\n",
    "  any number of topics“ (Phillip D. Brooker\n",
    "  [#1](#brooker-python-social-scientists))\n",
    "\n",
    "The [Twitter API](https://twitter.com/TwitterAPI) is easy to set up\n",
    "and usage is less restrictive compared to the APIs of other social\n",
    "media platforms.\n",
    "\n",
    "\n",
    "## Get Access to the Twitter API\n",
    "\n",
    "Before [apply for access](https://developer.twitter.com/en/apply-for-access) you definitely should read about the [restrictions](https://developer.twitter.com/en/developer-terms/more-on-restricted-use-cases) on using and sharing Twitter data. You may also start browsing the [API documentation](https://developer.twitter.com/en/docs).\n",
    "\n",
    "After having registered for an API account, you need to follow the documentation about [getting started](https://developer.twitter.com/en/docs/twitter-api/getting-started/getting-access-to-the-twitter-api).\n",
    "\n",
    "Note that\n",
    "- the registration and setup process requires some time\n",
    "- the examples given below can only replayed if you have registered for the Twitter API"
   ]
  },
  {
   "cell_type": "code",
   "execution_count": null,
   "id": "homeless-blake",
   "metadata": {
    "slideshow": {
     "slide_type": "subslide"
    }
   },
   "outputs": [],
   "source": []
  },
  {
   "cell_type": "markdown",
   "id": "specific-strategy",
   "metadata": {
    "slideshow": {
     "slide_type": "slide"
    }
   },
   "source": [
    "## Links and References\n",
    "\n",
    "- <a name=\"brooker-python-social-scientists\"/>Phillip Brooker's book [Programming with Python for Social Scientists ](https://uk.sagepub.com/en-gb/eur/programming-with-python-for-social-scientists/book259581) includes a chapter about using the Twitter API\n",
    "- https://developer.twitter.com/en/products/twitter-api ([@TwitterAPI](https://twitter.com/TwitterAPI))\n",
    "- https://developer.twitter.com/en/use-cases/do-research\n",
    "- https://developer.twitter.com/en/products/twitter-api/academic-research\n"
   ]
  }
 ],
 "metadata": {
  "celltoolbar": "Slideshow",
  "kernelspec": {
   "display_name": "Python 3",
   "language": "python",
   "name": "python3"
  },
  "language_info": {
   "codemirror_mode": {
    "name": "ipython",
    "version": 3
   },
   "file_extension": ".py",
   "mimetype": "text/x-python",
   "name": "python",
   "nbconvert_exporter": "python",
   "pygments_lexer": "ipython3",
   "version": "3.9.5"
  }
 },
 "nbformat": 4,
 "nbformat_minor": 5
}
