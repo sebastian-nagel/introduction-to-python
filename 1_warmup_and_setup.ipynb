{
 "cells": [
  {
   "cell_type": "markdown",
   "id": "closed-pakistan",
   "metadata": {
    "slideshow": {
     "slide_type": "slide"
    }
   },
   "source": [
    "Introduction, Warm Up, Set Up\n",
    "=============================\n",
    "\n",
    "- Python puzzles / recap\n",
    "  - data types\n",
    "  - control structures\n",
    "  - classes and objects\n",
    "  - modules\n",
    "\n",
    "- Python runtime and development environments\n",
    "  - Python interpreter\n",
    "  - editors, IDEs\n",
    "  - Jupyter notebooks, Anaconda\n",
    "  - virtual environment, Docker\n",
    "\n",
    "## Python Puzzles / Recap\n",
    "\n",
    "What will the Python3 interpreter return on the following statements...\n",
    "\n",
    "### Data Types\n"
   ]
  },
  {
   "cell_type": "code",
   "execution_count": null,
   "id": "wrong-kitchen",
   "metadata": {
    "slideshow": {
     "slide_type": "subslide"
    }
   },
   "outputs": [],
   "source": [
    "a = 3 # integer\n",
    "b = 2\n",
    "a * b"
   ]
  },
  {
   "cell_type": "code",
   "execution_count": null,
   "id": "threatened-archive",
   "metadata": {
    "slideshow": {
     "slide_type": "subslide"
    }
   },
   "outputs": [],
   "source": [
    "c = 2.0 # floating point number\n",
    "a * c"
   ]
  },
  {
   "cell_type": "code",
   "execution_count": null,
   "id": "otherwise-charlotte",
   "metadata": {
    "slideshow": {
     "slide_type": "subslide"
    }
   },
   "outputs": [],
   "source": [
    "t = True # boolean value\n",
    "f = False\n",
    "t and f"
   ]
  },
  {
   "cell_type": "code",
   "execution_count": null,
   "id": "scenic-answer",
   "metadata": {
    "slideshow": {
     "slide_type": "subslide"
    }
   },
   "outputs": [],
   "source": [
    "t or f"
   ]
  },
  {
   "cell_type": "code",
   "execution_count": null,
   "id": "smooth-realtor",
   "metadata": {
    "slideshow": {
     "slide_type": "subslide"
    }
   },
   "outputs": [],
   "source": [
    "s = 'foo' # string\n",
    "s + s"
   ]
  },
  {
   "cell_type": "code",
   "execution_count": null,
   "id": "collective-london",
   "metadata": {
    "slideshow": {
     "slide_type": "subslide"
    }
   },
   "outputs": [],
   "source": [
    "s[0]"
   ]
  },
  {
   "cell_type": "code",
   "execution_count": null,
   "id": "racial-tennis",
   "metadata": {
    "slideshow": {
     "slide_type": "subslide"
    }
   },
   "outputs": [],
   "source": [
    "l = [1, 2, 3] # list\n",
    "l[0]"
   ]
  },
  {
   "cell_type": "code",
   "execution_count": null,
   "id": "demonstrated-treasury",
   "metadata": {
    "slideshow": {
     "slide_type": "subslide"
    }
   },
   "outputs": [],
   "source": [
    "l[3]"
   ]
  },
  {
   "cell_type": "code",
   "execution_count": null,
   "id": "hungry-airport",
   "metadata": {
    "slideshow": {
     "slide_type": "subslide"
    }
   },
   "outputs": [],
   "source": [
    "l[-1]"
   ]
  },
  {
   "cell_type": "code",
   "execution_count": null,
   "id": "increased-ferry",
   "metadata": {
    "slideshow": {
     "slide_type": "subslide"
    }
   },
   "outputs": [],
   "source": [
    "d = {'a': 1, 'b': 2, 'c': 3, 'b': 1.5} # dictionary\n",
    "d['b']"
   ]
  },
  {
   "cell_type": "code",
   "execution_count": null,
   "id": "piano-prediction",
   "metadata": {
    "slideshow": {
     "slide_type": "subslide"
    }
   },
   "outputs": [],
   "source": [
    "s = {'a', 'b', 'c', 'a'} # set\n",
    "s"
   ]
  },
  {
   "cell_type": "code",
   "execution_count": null,
   "id": "earlier-flexibility",
   "metadata": {
    "slideshow": {
     "slide_type": "subslide"
    }
   },
   "outputs": [],
   "source": [
    "t = (1, 2) # tuple\n",
    "t[0]"
   ]
  },
  {
   "cell_type": "code",
   "execution_count": null,
   "id": "infectious-haven",
   "metadata": {
    "slideshow": {
     "slide_type": "subslide"
    }
   },
   "outputs": [],
   "source": [
    "l[2] = 4\n",
    "l"
   ]
  },
  {
   "cell_type": "code",
   "execution_count": null,
   "id": "descending-teach",
   "metadata": {
    "slideshow": {
     "slide_type": "subslide"
    }
   },
   "outputs": [],
   "source": [
    "t = (1, 2)\n",
    "t[1] = 3"
   ]
  },
  {
   "cell_type": "markdown",
   "id": "traditional-million",
   "metadata": {
    "slideshow": {
     "slide_type": "subslide"
    }
   },
   "source": [
    "##### Mutable and Immutable Data Types\n",
    "- tuples are immutable, i.e. once created you cannot change the content\n",
    "- lists, dictionaries, sets are mutable\n",
    "- numbers and strings are also immutable\n",
    "- immutable data types avoid programming errors and also allow for certain optimizations"
   ]
  },
  {
   "cell_type": "code",
   "execution_count": null,
   "id": "polish-height",
   "metadata": {
    "slideshow": {
     "slide_type": "subslide"
    }
   },
   "outputs": [],
   "source": [
    "s = 'foo'\n",
    "s[0] = 'F'"
   ]
  },
  {
   "cell_type": "code",
   "execution_count": null,
   "id": "heavy-canyon",
   "metadata": {
    "slideshow": {
     "slide_type": "subslide"
    }
   },
   "outputs": [],
   "source": [
    "# but you can assign a new string to the variable `s`\n",
    "s = 'Foo'\n",
    "s"
   ]
  },
  {
   "cell_type": "code",
   "execution_count": null,
   "id": "valid-receptor",
   "metadata": {
    "slideshow": {
     "slide_type": "subslide"
    }
   },
   "outputs": [],
   "source": [
    "l = [1, 2, 3]\n",
    "l2 = l\n",
    "l2"
   ]
  },
  {
   "cell_type": "code",
   "execution_count": null,
   "id": "organizational-durham",
   "metadata": {
    "slideshow": {
     "slide_type": "subslide"
    }
   },
   "outputs": [],
   "source": [
    "l[2] = 4\n",
    "l2"
   ]
  },
  {
   "cell_type": "markdown",
   "id": "iraqi-cabinet",
   "metadata": {
    "slideshow": {
     "slide_type": "slide"
    }
   },
   "source": [
    "### Control Structures\n",
    "#### Loops"
   ]
  },
  {
   "cell_type": "code",
   "execution_count": null,
   "id": "dynamic-specialist",
   "metadata": {
    "slideshow": {
     "slide_type": "subslide"
    }
   },
   "outputs": [],
   "source": [
    "l = [1, 2, 3]\n",
    "for i in l:\n",
    "    print(i)"
   ]
  },
  {
   "cell_type": "code",
   "execution_count": null,
   "id": "great-relevance",
   "metadata": {
    "slideshow": {
     "slide_type": "subslide"
    }
   },
   "outputs": [],
   "source": [
    "i = 1\n",
    "while i <= 3:\n",
    "    print(i)\n",
    "    i += 1"
   ]
  },
  {
   "cell_type": "markdown",
   "id": "respective-daily",
   "metadata": {
    "slideshow": {
     "slide_type": "subslide"
    }
   },
   "source": [
    "#### If-Else Conditions"
   ]
  },
  {
   "cell_type": "code",
   "execution_count": null,
   "id": "supposed-mattress",
   "metadata": {
    "slideshow": {
     "slide_type": "subslide"
    }
   },
   "outputs": [],
   "source": [
    "for i in range(0, 5):\n",
    "    if i % 2 == 0:\n",
    "        print(\"Even:\", i)\n",
    "    else:\n",
    "        print(\"Odd:\", i)"
   ]
  },
  {
   "cell_type": "code",
   "execution_count": null,
   "id": "leading-superior",
   "metadata": {
    "slideshow": {
     "slide_type": "subslide"
    }
   },
   "outputs": [],
   "source": [
    "i = 1\n",
    "while True:\n",
    "    print(i)\n",
    "    if i == 3:\n",
    "        break\n",
    "    i += 1"
   ]
  },
  {
   "cell_type": "markdown",
   "id": "atmospheric-fantasy",
   "metadata": {
    "slideshow": {
     "slide_type": "subslide"
    }
   },
   "source": [
    "#### Functions\n",
    "\n",
    "Functions are...\n",
    "\n",
    "- code blocks only executed when called\n",
    "- reusable (can be called repeatedly from various places in the code)\n",
    "- the primary method to organize code and make it readable and understandable"
   ]
  },
  {
   "cell_type": "code",
   "execution_count": null,
   "id": "adjacent-implement",
   "metadata": {
    "slideshow": {
     "slide_type": "subslide"
    }
   },
   "outputs": [],
   "source": [
    "def fun(n): # one required argument\n",
    "    for i in range(0, n):\n",
    "        print(\"You called me?\")\n",
    "fun(2)"
   ]
  },
  {
   "cell_type": "code",
   "execution_count": null,
   "id": "serious-value",
   "metadata": {
    "slideshow": {
     "slide_type": "subslide"
    }
   },
   "outputs": [],
   "source": [
    "def fun(x='You'): # one optional argument\n",
    "    \"\"\"Ask whether X called me\"\"\"\n",
    "    print(x, \"called me?\")\n",
    "\n",
    "fun()\n",
    "fun('Who')\n",
    "fun(x='They')"
   ]
  },
  {
   "cell_type": "code",
   "execution_count": null,
   "id": "selective-glass",
   "metadata": {
    "slideshow": {
     "slide_type": "subslide"
    }
   },
   "outputs": [],
   "source": [
    "def fun(x='You'):\n",
    "    return \"%s called me?\" % x\n",
    "\n",
    "question = fun('Who')\n",
    "question"
   ]
  },
  {
   "cell_type": "markdown",
   "id": "palestinian-hypothesis",
   "metadata": {
    "slideshow": {
     "slide_type": "slide"
    }
   },
   "source": [
    "### Classes and Objects\n",
    "\n",
    "The [object-oriented programming](https://en.wikipedia.org/wiki/Object-oriented_programming) paradigm combines data and code in \"objects\". Every \"object\" is an instance of a \"class\". The \"class\" defines\n",
    "\n",
    "- the data types and possible values an object of the class holds\n",
    "- \"methods\" - functions to read, write or interact with data values hold by the object\n",
    "\n",
    "#### Object Methods\n",
    "\n",
    "Variables of built-in data types are all objects of built-in classes and provide multiple methods..."
   ]
  },
  {
   "cell_type": "code",
   "execution_count": null,
   "id": "sacred-fight",
   "metadata": {
    "slideshow": {
     "slide_type": "subslide"
    }
   },
   "outputs": [],
   "source": [
    "s.capitalize() # call a method of a string object"
   ]
  },
  {
   "cell_type": "markdown",
   "id": "canadian-connection",
   "metadata": {
    "slideshow": {
     "slide_type": "subslide"
    }
   },
   "source": [
    "Tip: many Python editors let you show a list of available methods for a given object variable.\n",
    "\n",
    "In the Jupyter notebook editor: enter `s.` and press `<tab>` to get a list of methods of `str` objects."
   ]
  },
  {
   "cell_type": "code",
   "execution_count": null,
   "id": "sexual-detection",
   "metadata": {
    "slideshow": {
     "slide_type": "subslide"
    }
   },
   "outputs": [],
   "source": [
    "#s."
   ]
  },
  {
   "cell_type": "code",
   "execution_count": null,
   "id": "detailed-cement",
   "metadata": {
    "slideshow": {
     "slide_type": "subslide"
    }
   },
   "outputs": [],
   "source": [
    "type(s)"
   ]
  },
  {
   "cell_type": "code",
   "execution_count": null,
   "id": "burning-marketing",
   "metadata": {
    "slideshow": {
     "slide_type": "subslide"
    }
   },
   "outputs": [],
   "source": [
    "help(str)"
   ]
  },
  {
   "cell_type": "code",
   "execution_count": null,
   "id": "uniform-reverse",
   "metadata": {
    "slideshow": {
     "slide_type": "subslide"
    }
   },
   "outputs": [],
   "source": [
    "help(str.endswith)"
   ]
  },
  {
   "cell_type": "code",
   "execution_count": null,
   "id": "selected-bedroom",
   "metadata": {
    "slideshow": {
     "slide_type": "subslide"
    }
   },
   "outputs": [],
   "source": [
    "!pydoc str.endswith  # `!` runs another command (not the Python interpreter)"
   ]
  },
  {
   "cell_type": "markdown",
   "id": "young-breakfast",
   "metadata": {
    "slideshow": {
     "slide_type": "subslide"
    }
   },
   "source": [
    "What could be the methods provided by the `list` built-in class? Think about it before calling `help(list)`!"
   ]
  },
  {
   "cell_type": "markdown",
   "id": "committed-aberdeen",
   "metadata": {
    "slideshow": {
     "slide_type": "subslide"
    }
   },
   "source": [
    "#### Defining Classes"
   ]
  },
  {
   "cell_type": "code",
   "execution_count": null,
   "id": "unique-friday",
   "metadata": {
    "slideshow": {
     "slide_type": "subslide"
    }
   },
   "outputs": [],
   "source": [
    "class Sentiment:\n",
    "\n",
    "    values = {'sad', 'neutral', 'happy'}\n",
    "\n",
    "    def __init__(self, value='neutral'):\n",
    "        if value not in Sentiment.values:\n",
    "            raise ValueError(\"Only the following values are supported: %s\"\n",
    "                             % Sentiment.values)\n",
    "        self.value = value\n",
    "\n",
    "    def get(self):\n",
    "        return self.value\n",
    "\n",
    "    def __repr__(self):\n",
    "        return self.value\n",
    "\n",
    "    @staticmethod\n",
    "    def guess(text):\n",
    "        if 'happy' in text or 'excited' in text:\n",
    "            return Sentiment('happy')\n",
    "        if 'sad' in text or 'angry' in text:\n",
    "            return Sentiment('sad')\n",
    "        return Sentiment('neutral')\n",
    "\n",
    "\n",
    "im_feeling = Sentiment.guess(\"I'm really happy!\")\n",
    "\n",
    "print(im_feeling)"
   ]
  },
  {
   "cell_type": "code",
   "execution_count": null,
   "id": "personal-garlic",
   "metadata": {
    "slideshow": {
     "slide_type": "subslide"
    }
   },
   "outputs": [],
   "source": [
    "im_feeling = Sentiment('sick')"
   ]
  },
  {
   "cell_type": "markdown",
   "id": "eastern-equivalent",
   "metadata": {
    "slideshow": {
     "slide_type": "slide"
    }
   },
   "source": [
    "### Modules\n",
    "\n",
    "Modules make Python code reusable.\n",
    "\n",
    "#### Create a Python Module\n",
    "\n",
    "Copy the definition of the class \"Sentiment\" into a file [sentiment.py](./scripts/sentiment.py) in the folder `scripts`. Now you can load the class by..."
   ]
  },
  {
   "cell_type": "code",
   "execution_count": null,
   "id": "crude-richards",
   "metadata": {
    "slideshow": {
     "slide_type": "subslide"
    }
   },
   "outputs": [],
   "source": [
    "from scripts.sentiment import Sentiment\n",
    "\n",
    "Sentiment()"
   ]
  },
  {
   "cell_type": "markdown",
   "id": "conditional-development",
   "metadata": {
    "slideshow": {
     "slide_type": "subslide"
    }
   },
   "source": [
    "#### The Python Standard Library\n",
    "\n",
    "The [Python Standard Library](https://docs.python.org/3/library/index.html) includes many modules\n",
    "to handle file formats, process texts, use the internet, etc., etc. Just import one of the modules or functions or classes defined there:\n"
   ]
  },
  {
   "cell_type": "code",
   "execution_count": null,
   "id": "owned-future",
   "metadata": {
    "slideshow": {
     "slide_type": "subslide"
    }
   },
   "outputs": [],
   "source": [
    "import time\n",
    "\n",
    "time.asctime()"
   ]
  },
  {
   "cell_type": "code",
   "execution_count": null,
   "id": "perfect-setup",
   "metadata": {
    "slideshow": {
     "slide_type": "subslide"
    }
   },
   "outputs": [],
   "source": [
    "from time import asctime, sleep\n",
    "\n",
    "print(asctime())\n",
    "sleep(3)\n",
    "print(asctime())"
   ]
  },
  {
   "cell_type": "markdown",
   "id": "iraqi-harbor",
   "metadata": {
    "slideshow": {
     "slide_type": "subslide"
    }
   },
   "source": [
    "#### Third-Party Modules\n",
    "\n",
    "To install a package from the [Python Package Index](https://pypi.org/), run `pip install <package>`..."
   ]
  },
  {
   "cell_type": "code",
   "execution_count": null,
   "id": "common-savannah",
   "metadata": {
    "slideshow": {
     "slide_type": "subslide"
    }
   },
   "outputs": [],
   "source": [
    "!pip install matplotlib"
   ]
  },
  {
   "cell_type": "markdown",
   "id": "thirty-roulette",
   "metadata": {
    "slideshow": {
     "slide_type": "subslide"
    }
   },
   "source": [
    "... but before run `pip list` or `pip show matplotlib` (or just try `import matplotlib`) to figure out whether it is already installed.\n",
    "\n",
    "A good and common practice is to list all modules required by a project in a file `requirements.txt`. The entire list of requirements can then be installed by `pip install -r requirements.txt`."
   ]
  },
  {
   "cell_type": "markdown",
   "id": "vulnerable-acquisition",
   "metadata": {
    "slideshow": {
     "slide_type": "slide"
    }
   },
   "source": [
    "## Python Runtime and Development Environments\n",
    "\n",
    "### The Python Interpreter\n",
    "\n",
    "- installed from [python.org](https://docs.python.org/3/using/index.html)\n",
    "- on Linux: already installed or installable as package of the Linux Distribution (Debina, Ubuntu, Red Hat, SuSE, etc.)\n",
    "- otherwise: it's recommended to rely on a distribution which bundles the Python interpreter with common Python modules and tools - esp. [Anaconda](https://docs.anaconda.com/anaconda/), a distribution of Python and R for scientific computing\n",
    "\n",
    "### Jupyter Notebooks\n",
    "\n",
    "The [Jupyter notebook](https://jupyter-notebook.readthedocs.io/en/stable/) is an enviroment to interactively create a \"notebook\", a JSON-encoded document containing a list of input/output pairs (code, text using Markdown markup, images/plots). Notebooks are served by the notebook server and viewed/edited in the browser or can be converted into various document formats.\n",
    "\n",
    "### Editor and IDE\n",
    "\n",
    "A good editor or an [integrated development environment (IDE)](https://en.wikipedia.org/wiki/Integrated_development_environment) will speed up coding by providing autocompletion, syntax highlighting and syntax checking. If your code gets bigger, an IDE supports the development by automated builds and deployments of the code, a runtime for tests and a visual debugger to locate errors (\"bugs\") in your code.\n",
    "\n",
    "Unfortunately, there are many good IDEs available for Python, to list just a few:\n",
    "\n",
    "- [PyDev](https://www.pydev.org/)\n",
    "- [Visual Studio Code](https://code.visualstudio.com/docs/languages/python)\n",
    "- [PyCharm](https://www.jetbrains.com/pycharm/) (commercial)\n",
    "\n",
    "\n",
    "### Virtual Environment and Docker\n",
    "\n",
    "Why you need encapsulated environments to run applications or projects? The documentation of the [Python virtual environements](https://docs.python.org/3/tutorial/venv.html) explains...\n",
    "\n",
    "> Python applications will often use packages and modules that don’t come as part of the standard library. Applications will sometimes need a specific version of a library, because the application may require that a particular bug has been fixed or the application may be written using an obsolete version of the library’s interface.\n",
    "> \n",
    "> This means it may not be possible for one Python installation to meet the requirements of every application. If application A needs version 1.0 of a particular module but application B needs version 2.0, then the requirements are in conflict and installing either version 1.0 or 2.0 will leave one application unable to run.\n",
    "\n",
    "1. create a virtual environment in current director in the subfolder `.venv/`\n",
    "   ```\n",
    "   virtualenv .venv\n",
    "   ```\n",
    "2. activate the environment\n",
    "   ```\n",
    "   source .venv/bin/activate\n",
    "   ```\n",
    "3. install packages (placed below `./.venv/`)\n",
    "   ```\n",
    "   pip install ...\n",
    "   ```\n",
    "4. run Python...\n",
    "5. deactivate the environment\n",
    "   ```\n",
    "   deactivate\n",
    "   ```\n",
    "\n",
    "If more than Python modules are project-specific: [Docker](https://docs.docker.com/get-started/) allows to bundle a Python interpreter (eg. an older version), specific modules and additional software, pack it as runtime image and run it in a \"container\" without the need to install anything on the host system."
   ]
  }
 ],
 "metadata": {
  "celltoolbar": "Slideshow",
  "kernelspec": {
   "display_name": "Python 3",
   "language": "python",
   "name": "python3"
  },
  "language_info": {
   "codemirror_mode": {
    "name": "ipython",
    "version": 3
   },
   "file_extension": ".py",
   "mimetype": "text/x-python",
   "name": "python",
   "nbconvert_exporter": "python",
   "pygments_lexer": "ipython3",
   "version": "3.9.5"
  }
 },
 "nbformat": 4,
 "nbformat_minor": 5
}
