{
 "cells": [
  {
   "cell_type": "markdown",
   "id": "applicable-newsletter",
   "metadata": {
    "slideshow": {
     "slide_type": "slide"
    }
   },
   "source": [
    "Text Processing and Machine Learning\n",
    "====================================\n",
    "\n",
    "- quick overview on natural language processing\n",
    "- pre-processing and tokenization (splitting text into words)\n",
    "- n-grams, vectorization and word embeddings\n",
    "- train and evaluate a text classifier\n",
    "- a short look into [Hugging Face's transformers library](https://huggingface.co/transformers/)\n"
   ]
  },
  {
   "cell_type": "markdown",
   "id": "australian-community",
   "metadata": {
    "slideshow": {
     "slide_type": "slide"
    }
   },
   "source": [
    "## Natural Language Processing\n",
    "\n",
    "[Natural language processing (NLP)](https://en.wikipedia.org/wiki/Natural_language_processing) is about programming computers to process and analyze natural language data (text and speech).\n",
    "\n",
    "For Python, there are two main NLP modules:\n",
    "- [spaCy](https://spacy.io/) or [spaCy on pypi](https://pypi.org/project/spacy/)\n",
    "- [NLTK](https://www.nltk.org/) or [NLTK on pypi](https://pypi.org/project/nltk/)\n",
    "\n",
    "Both modules implement the following NLP applications (and more), at least, for some languates:\n",
    "- named entity recognition (NER)\n",
    "- sentiment detection\n",
    "- tokenization: splitting a text into words (aka. tokens)\n",
    "- part-of-speech tagging (POS)\n",
    "- lemmatization: mapping a word in text to its base form (aka. lemma)\n",
    "- syntax parsing\n",
    "- semantic representation of words\n",
    "\n",
    "We'll first look into spaCy to explore NLP applications. Later, during the text classification we'll also touch some aspects of NLP, namely tokenization and the semantic representation of words in a vector space (word embeddings).\n",
    "\n",
    "Work with spaCy also requires to install code modules for the natural languages to be processed:"
   ]
  },
  {
   "cell_type": "code",
   "execution_count": 1,
   "id": "industrial-skiing",
   "metadata": {
    "slideshow": {
     "slide_type": "subslide"
    }
   },
   "outputs": [],
   "source": [
    "%%script false --no-raise-error\n",
    "# comment the above instruction to run this code\n",
    "#\n",
    "# spaCy installation and core modules for English and German\n",
    "# - https://spacy.io/models/en\n",
    "# - https://spacy.io/models/de\n",
    "# note: download modules only once!\n",
    "!pip install spacy\n",
    "!python -m spacy download en_core_web_sm\n",
    "!python -m spacy download de_core_news_sm"
   ]
  },
  {
   "cell_type": "code",
   "execution_count": 2,
   "id": "hindu-emperor",
   "metadata": {
    "slideshow": {
     "slide_type": "subslide"
    }
   },
   "outputs": [
    {
     "data": {
      "text/plain": [
       "{'text': 'Geboren am 16. Mai 1980 in Ahaus; römisch-katholisch.Nach dem Abitur Ausbildung zum Bankkaufmann, anschließend Angestellter; Studium der Politikwissenschaften (M.A.).Seit 1997 Mitglied der CDU; seit 2005 Vorsitzender des CDU-Kreisverbandes Borken; seit Dezember 2014 Mitglied des CDU-Bundespräsidiums.Mitglied des Bundestages seit 2002; 2015 bis März 2018 Parlamentarischer Staatssekretär beim Bundesminister der Finanzen; März 2018 bis Dezember 2021 Bundesminister für Gesundheit; seit Dezember 2021 stellvertretender Vorsitzender der CDU/CSU-Bundestagsfraktion.',\n",
       " 'ents': [{'start': 27, 'end': 32, 'label': 'LOC'},\n",
       "  {'start': 189, 'end': 192, 'label': 'ORG'},\n",
       "  {'start': 221, 'end': 246, 'label': 'ORG'},\n",
       "  {'start': 280, 'end': 300, 'label': 'MISC'},\n",
       "  {'start': 394, 'end': 421, 'label': 'LOC'},\n",
       "  {'start': 451, 'end': 480, 'label': 'ORG'},\n",
       "  {'start': 536, 'end': 539, 'label': 'ORG'},\n",
       "  {'start': 540, 'end': 562, 'label': 'MISC'}],\n",
       " 'sents': [{'start': 0, 'end': 33},\n",
       "  {'start': 34, 'end': 53},\n",
       "  {'start': 53, 'end': 124},\n",
       "  {'start': 125, 'end': 193},\n",
       "  {'start': 194, 'end': 247},\n",
       "  {'start': 248, 'end': 301},\n",
       "  {'start': 301, 'end': 336},\n",
       "  {'start': 337, 'end': 422},\n",
       "  {'start': 423, 'end': 481},\n",
       "  {'start': 482, 'end': 563}],\n",
       " 'tokens': [{'id': 0,\n",
       "   'start': 0,\n",
       "   'end': 7,\n",
       "   'tag': 'VVPP',\n",
       "   'pos': 'VERB',\n",
       "   'morph': 'VerbForm=Part',\n",
       "   'lemma': 'Geboren',\n",
       "   'dep': 'ROOT',\n",
       "   'head': 0},\n",
       "  {'id': 1,\n",
       "   'start': 8,\n",
       "   'end': 10,\n",
       "   'tag': 'APPRART',\n",
       "   'pos': 'ADP',\n",
       "   'morph': 'Case=Dat|Gender=Masc|Number=Sing',\n",
       "   'lemma': 'am',\n",
       "   'dep': 'mnr',\n",
       "   'head': 0},\n",
       "  {'id': 2,\n",
       "   'start': 11,\n",
       "   'end': 14,\n",
       "   'tag': 'ADJA',\n",
       "   'pos': 'ADJ',\n",
       "   'morph': 'Case=Dat|Degree=Pos|Gender=Masc|Number=Sing',\n",
       "   'lemma': '16.',\n",
       "   'dep': 'nk',\n",
       "   'head': 3},\n",
       "  {'id': 3,\n",
       "   'start': 15,\n",
       "   'end': 18,\n",
       "   'tag': 'NN',\n",
       "   'pos': 'NOUN',\n",
       "   'morph': 'Case=Dat|Gender=Masc|Number=Sing',\n",
       "   'lemma': 'Mai',\n",
       "   'dep': 'nk',\n",
       "   'head': 1},\n",
       "  {'id': 4,\n",
       "   'start': 19,\n",
       "   'end': 23,\n",
       "   'tag': 'CARD',\n",
       "   'pos': 'NUM',\n",
       "   'morph': '',\n",
       "   'lemma': '1980',\n",
       "   'dep': 'nk',\n",
       "   'head': 3},\n",
       "  {'id': 5,\n",
       "   'start': 24,\n",
       "   'end': 26,\n",
       "   'tag': 'APPR',\n",
       "   'pos': 'ADP',\n",
       "   'morph': '',\n",
       "   'lemma': 'in',\n",
       "   'dep': 'mo',\n",
       "   'head': 0},\n",
       "  {'id': 6,\n",
       "   'start': 27,\n",
       "   'end': 32,\n",
       "   'tag': 'NE',\n",
       "   'pos': 'PROPN',\n",
       "   'morph': 'Case=Dat|Gender=Neut|Number=Sing',\n",
       "   'lemma': 'Ahaus',\n",
       "   'dep': 'nk',\n",
       "   'head': 5},\n",
       "  {'id': 7,\n",
       "   'start': 32,\n",
       "   'end': 33,\n",
       "   'tag': '$.',\n",
       "   'pos': 'PUNCT',\n",
       "   'morph': '',\n",
       "   'lemma': ';',\n",
       "   'dep': 'punct',\n",
       "   'head': 0},\n",
       "  {'id': 8,\n",
       "   'start': 34,\n",
       "   'end': 52,\n",
       "   'tag': 'ADJD',\n",
       "   'pos': 'ADV',\n",
       "   'morph': 'Degree=Pos',\n",
       "   'lemma': 'römisch-katholisch',\n",
       "   'dep': 'ROOT',\n",
       "   'head': 8},\n",
       "  {'id': 9,\n",
       "   'start': 52,\n",
       "   'end': 53,\n",
       "   'tag': '$.',\n",
       "   'pos': 'PUNCT',\n",
       "   'morph': '',\n",
       "   'lemma': '.',\n",
       "   'dep': 'punct',\n",
       "   'head': 8},\n",
       "  {'id': 10,\n",
       "   'start': 53,\n",
       "   'end': 57,\n",
       "   'tag': 'APPR',\n",
       "   'pos': 'ADP',\n",
       "   'morph': '',\n",
       "   'lemma': 'Nach',\n",
       "   'dep': 'ROOT',\n",
       "   'head': 10},\n",
       "  {'id': 11,\n",
       "   'start': 58,\n",
       "   'end': 61,\n",
       "   'tag': 'ART',\n",
       "   'pos': 'DET',\n",
       "   'morph': 'Case=Dat|Definite=Def|Gender=Masc|Number=Sing|PronType=Art',\n",
       "   'lemma': 'der',\n",
       "   'dep': 'nk',\n",
       "   'head': 12},\n",
       "  {'id': 12,\n",
       "   'start': 62,\n",
       "   'end': 68,\n",
       "   'tag': 'NN',\n",
       "   'pos': 'NOUN',\n",
       "   'morph': 'Case=Dat|Gender=Masc|Number=Sing',\n",
       "   'lemma': 'Abitur',\n",
       "   'dep': 'nk',\n",
       "   'head': 10},\n",
       "  {'id': 13,\n",
       "   'start': 69,\n",
       "   'end': 79,\n",
       "   'tag': 'NN',\n",
       "   'pos': 'NOUN',\n",
       "   'morph': 'Case=Nom|Gender=Fem|Number=Sing',\n",
       "   'lemma': 'Ausbildung',\n",
       "   'dep': 'nk',\n",
       "   'head': 12},\n",
       "  {'id': 14,\n",
       "   'start': 80,\n",
       "   'end': 83,\n",
       "   'tag': 'APPRART',\n",
       "   'pos': 'ADP',\n",
       "   'morph': 'Case=Dat|Gender=Masc|Number=Sing',\n",
       "   'lemma': 'zum',\n",
       "   'dep': 'mnr',\n",
       "   'head': 13},\n",
       "  {'id': 15,\n",
       "   'start': 84,\n",
       "   'end': 96,\n",
       "   'tag': 'NN',\n",
       "   'pos': 'NOUN',\n",
       "   'morph': 'Case=Dat|Gender=Masc|Number=Sing',\n",
       "   'lemma': 'Bankkaufmann',\n",
       "   'dep': 'nk',\n",
       "   'head': 14},\n",
       "  {'id': 16,\n",
       "   'start': 96,\n",
       "   'end': 97,\n",
       "   'tag': '$,',\n",
       "   'pos': 'PUNCT',\n",
       "   'morph': '',\n",
       "   'lemma': ',',\n",
       "   'dep': 'punct',\n",
       "   'head': 10},\n",
       "  {'id': 17,\n",
       "   'start': 98,\n",
       "   'end': 110,\n",
       "   'tag': 'ADJD',\n",
       "   'pos': 'ADV',\n",
       "   'morph': 'Degree=Pos',\n",
       "   'lemma': 'anschließen',\n",
       "   'dep': 'mo',\n",
       "   'head': 18},\n",
       "  {'id': 18,\n",
       "   'start': 111,\n",
       "   'end': 123,\n",
       "   'tag': 'NN',\n",
       "   'pos': 'NOUN',\n",
       "   'morph': 'Case=Nom|Gender=Masc|Number=Sing',\n",
       "   'lemma': 'Angestellter',\n",
       "   'dep': 'par',\n",
       "   'head': 10},\n",
       "  {'id': 19,\n",
       "   'start': 123,\n",
       "   'end': 124,\n",
       "   'tag': '$.',\n",
       "   'pos': 'PUNCT',\n",
       "   'morph': '',\n",
       "   'lemma': ';',\n",
       "   'dep': 'punct',\n",
       "   'head': 18},\n",
       "  {'id': 20,\n",
       "   'start': 125,\n",
       "   'end': 132,\n",
       "   'tag': 'NN',\n",
       "   'pos': 'NOUN',\n",
       "   'morph': 'Case=Nom|Gender=Neut|Number=Sing',\n",
       "   'lemma': 'Studium',\n",
       "   'dep': 'ROOT',\n",
       "   'head': 20},\n",
       "  {'id': 21,\n",
       "   'start': 133,\n",
       "   'end': 136,\n",
       "   'tag': 'ART',\n",
       "   'pos': 'DET',\n",
       "   'morph': 'Case=Gen|Definite=Def|Gender=Neut|Number=Plur|PronType=Art',\n",
       "   'lemma': 'der',\n",
       "   'dep': 'nk',\n",
       "   'head': 22},\n",
       "  {'id': 22,\n",
       "   'start': 137,\n",
       "   'end': 158,\n",
       "   'tag': 'NN',\n",
       "   'pos': 'NOUN',\n",
       "   'morph': 'Case=Gen|Gender=Neut|Number=Plur',\n",
       "   'lemma': 'Politikwissenschaften',\n",
       "   'dep': 'ag',\n",
       "   'head': 20},\n",
       "  {'id': 23,\n",
       "   'start': 159,\n",
       "   'end': 160,\n",
       "   'tag': '$(',\n",
       "   'pos': 'PUNCT',\n",
       "   'morph': '',\n",
       "   'lemma': '(',\n",
       "   'dep': 'punct',\n",
       "   'head': 24},\n",
       "  {'id': 24,\n",
       "   'start': 160,\n",
       "   'end': 170,\n",
       "   'tag': 'APPR',\n",
       "   'pos': 'ADP',\n",
       "   'morph': '',\n",
       "   'lemma': 'M.A.).Seit',\n",
       "   'dep': 'par',\n",
       "   'head': 20},\n",
       "  {'id': 25,\n",
       "   'start': 171,\n",
       "   'end': 175,\n",
       "   'tag': 'CARD',\n",
       "   'pos': 'NUM',\n",
       "   'morph': '',\n",
       "   'lemma': '1997',\n",
       "   'dep': 'nk',\n",
       "   'head': 24},\n",
       "  {'id': 26,\n",
       "   'start': 176,\n",
       "   'end': 184,\n",
       "   'tag': 'NN',\n",
       "   'pos': 'NOUN',\n",
       "   'morph': 'Case=Nom|Gender=Neut|Number=Sing',\n",
       "   'lemma': 'Mitglied',\n",
       "   'dep': 'nk',\n",
       "   'head': 24},\n",
       "  {'id': 27,\n",
       "   'start': 185,\n",
       "   'end': 188,\n",
       "   'tag': 'ART',\n",
       "   'pos': 'DET',\n",
       "   'morph': 'Case=Gen|Definite=Def|Gender=Fem|Number=Sing|PronType=Art',\n",
       "   'lemma': 'der',\n",
       "   'dep': 'nk',\n",
       "   'head': 28},\n",
       "  {'id': 28,\n",
       "   'start': 189,\n",
       "   'end': 192,\n",
       "   'tag': 'NE',\n",
       "   'pos': 'PROPN',\n",
       "   'morph': 'Case=Gen|Gender=Fem|Number=Sing',\n",
       "   'lemma': 'CDU',\n",
       "   'dep': 'ag',\n",
       "   'head': 26},\n",
       "  {'id': 29,\n",
       "   'start': 192,\n",
       "   'end': 193,\n",
       "   'tag': '$.',\n",
       "   'pos': 'PUNCT',\n",
       "   'morph': '',\n",
       "   'lemma': ';',\n",
       "   'dep': 'punct',\n",
       "   'head': 24},\n",
       "  {'id': 30,\n",
       "   'start': 194,\n",
       "   'end': 198,\n",
       "   'tag': 'APPR',\n",
       "   'pos': 'ADP',\n",
       "   'morph': '',\n",
       "   'lemma': 'seit',\n",
       "   'dep': 'ROOT',\n",
       "   'head': 30},\n",
       "  {'id': 31,\n",
       "   'start': 199,\n",
       "   'end': 203,\n",
       "   'tag': 'CARD',\n",
       "   'pos': 'NUM',\n",
       "   'morph': '',\n",
       "   'lemma': '2005',\n",
       "   'dep': 'nk',\n",
       "   'head': 32},\n",
       "  {'id': 32,\n",
       "   'start': 204,\n",
       "   'end': 216,\n",
       "   'tag': 'NN',\n",
       "   'pos': 'NOUN',\n",
       "   'morph': 'Case=Nom|Gender=Masc|Number=Sing',\n",
       "   'lemma': 'Vorsitzender',\n",
       "   'dep': 'nk',\n",
       "   'head': 30},\n",
       "  {'id': 33,\n",
       "   'start': 217,\n",
       "   'end': 220,\n",
       "   'tag': 'ART',\n",
       "   'pos': 'DET',\n",
       "   'morph': 'Case=Gen|Definite=Def|Gender=Masc|Number=Sing|PronType=Art',\n",
       "   'lemma': 'der',\n",
       "   'dep': 'nk',\n",
       "   'head': 34},\n",
       "  {'id': 34,\n",
       "   'start': 221,\n",
       "   'end': 239,\n",
       "   'tag': 'NN',\n",
       "   'pos': 'NOUN',\n",
       "   'morph': 'Case=Gen|Gender=Masc|Number=Sing',\n",
       "   'lemma': 'CDU-Kreisverbandes',\n",
       "   'dep': 'ag',\n",
       "   'head': 32},\n",
       "  {'id': 35,\n",
       "   'start': 240,\n",
       "   'end': 246,\n",
       "   'tag': 'NN',\n",
       "   'pos': 'NOUN',\n",
       "   'morph': 'Case=Nom|Gender=Neut|Number=Sing',\n",
       "   'lemma': 'Borke',\n",
       "   'dep': 'nk',\n",
       "   'head': 34},\n",
       "  {'id': 36,\n",
       "   'start': 246,\n",
       "   'end': 247,\n",
       "   'tag': '$.',\n",
       "   'pos': 'PUNCT',\n",
       "   'morph': '',\n",
       "   'lemma': ';',\n",
       "   'dep': 'punct',\n",
       "   'head': 30},\n",
       "  {'id': 37,\n",
       "   'start': 248,\n",
       "   'end': 252,\n",
       "   'tag': 'APPR',\n",
       "   'pos': 'ADP',\n",
       "   'morph': '',\n",
       "   'lemma': 'seit',\n",
       "   'dep': 'mo',\n",
       "   'head': 40},\n",
       "  {'id': 38,\n",
       "   'start': 253,\n",
       "   'end': 261,\n",
       "   'tag': 'NN',\n",
       "   'pos': 'NOUN',\n",
       "   'morph': 'Case=Dat|Gender=Masc|Number=Sing',\n",
       "   'lemma': 'Dezember',\n",
       "   'dep': 'nk',\n",
       "   'head': 37},\n",
       "  {'id': 39,\n",
       "   'start': 262,\n",
       "   'end': 266,\n",
       "   'tag': 'CARD',\n",
       "   'pos': 'NUM',\n",
       "   'morph': '',\n",
       "   'lemma': '2014',\n",
       "   'dep': 'nk',\n",
       "   'head': 38},\n",
       "  {'id': 40,\n",
       "   'start': 267,\n",
       "   'end': 275,\n",
       "   'tag': 'NN',\n",
       "   'pos': 'NOUN',\n",
       "   'morph': 'Case=Nom|Gender=Neut|Number=Sing',\n",
       "   'lemma': 'Mitglied',\n",
       "   'dep': 'ROOT',\n",
       "   'head': 40},\n",
       "  {'id': 41,\n",
       "   'start': 276,\n",
       "   'end': 279,\n",
       "   'tag': 'ART',\n",
       "   'pos': 'DET',\n",
       "   'morph': 'Case=Gen|Definite=Def|Gender=Neut|Number=Sing|PronType=Art',\n",
       "   'lemma': 'der',\n",
       "   'dep': 'nk',\n",
       "   'head': 42},\n",
       "  {'id': 42,\n",
       "   'start': 280,\n",
       "   'end': 300,\n",
       "   'tag': 'NN',\n",
       "   'pos': 'NOUN',\n",
       "   'morph': 'Case=Gen|Gender=Neut|Number=Sing',\n",
       "   'lemma': 'CDU-Bundespräsidiums',\n",
       "   'dep': 'ag',\n",
       "   'head': 40},\n",
       "  {'id': 43,\n",
       "   'start': 300,\n",
       "   'end': 301,\n",
       "   'tag': '$.',\n",
       "   'pos': 'PUNCT',\n",
       "   'morph': '',\n",
       "   'lemma': '.',\n",
       "   'dep': 'punct',\n",
       "   'head': 40},\n",
       "  {'id': 44,\n",
       "   'start': 301,\n",
       "   'end': 309,\n",
       "   'tag': 'NN',\n",
       "   'pos': 'NOUN',\n",
       "   'morph': 'Case=Nom|Gender=Neut|Number=Sing',\n",
       "   'lemma': 'Mitglied',\n",
       "   'dep': 'ROOT',\n",
       "   'head': 44},\n",
       "  {'id': 45,\n",
       "   'start': 310,\n",
       "   'end': 313,\n",
       "   'tag': 'ART',\n",
       "   'pos': 'DET',\n",
       "   'morph': 'Case=Gen|Definite=Def|Gender=Masc|Number=Sing|PronType=Art',\n",
       "   'lemma': 'der',\n",
       "   'dep': 'nk',\n",
       "   'head': 46},\n",
       "  {'id': 46,\n",
       "   'start': 314,\n",
       "   'end': 325,\n",
       "   'tag': 'NN',\n",
       "   'pos': 'NOUN',\n",
       "   'morph': 'Case=Gen|Gender=Masc|Number=Sing',\n",
       "   'lemma': 'Bundestag',\n",
       "   'dep': 'ag',\n",
       "   'head': 44},\n",
       "  {'id': 47,\n",
       "   'start': 326,\n",
       "   'end': 330,\n",
       "   'tag': 'APPR',\n",
       "   'pos': 'ADP',\n",
       "   'morph': '',\n",
       "   'lemma': 'seit',\n",
       "   'dep': 'mnr',\n",
       "   'head': 44},\n",
       "  {'id': 48,\n",
       "   'start': 331,\n",
       "   'end': 335,\n",
       "   'tag': 'CARD',\n",
       "   'pos': 'NUM',\n",
       "   'morph': '',\n",
       "   'lemma': '2002',\n",
       "   'dep': 'nk',\n",
       "   'head': 47},\n",
       "  {'id': 49,\n",
       "   'start': 335,\n",
       "   'end': 336,\n",
       "   'tag': '$.',\n",
       "   'pos': 'PUNCT',\n",
       "   'morph': '',\n",
       "   'lemma': ';',\n",
       "   'dep': 'punct',\n",
       "   'head': 44},\n",
       "  {'id': 50,\n",
       "   'start': 337,\n",
       "   'end': 341,\n",
       "   'tag': 'CARD',\n",
       "   'pos': 'NUM',\n",
       "   'morph': '',\n",
       "   'lemma': '2015',\n",
       "   'dep': 'nmc',\n",
       "   'head': 53},\n",
       "  {'id': 51,\n",
       "   'start': 342,\n",
       "   'end': 345,\n",
       "   'tag': 'APPR',\n",
       "   'pos': 'CCONJ',\n",
       "   'morph': '',\n",
       "   'lemma': 'bis',\n",
       "   'dep': 'cd',\n",
       "   'head': 50},\n",
       "  {'id': 52,\n",
       "   'start': 346,\n",
       "   'end': 350,\n",
       "   'tag': 'NN',\n",
       "   'pos': 'NOUN',\n",
       "   'morph': 'Case=Acc|Gender=Masc|Number=Sing',\n",
       "   'lemma': 'März',\n",
       "   'dep': 'cj',\n",
       "   'head': 51},\n",
       "  {'id': 53,\n",
       "   'start': 351,\n",
       "   'end': 355,\n",
       "   'tag': 'CARD',\n",
       "   'pos': 'NUM',\n",
       "   'morph': '',\n",
       "   'lemma': '2018',\n",
       "   'dep': 'nk',\n",
       "   'head': 55},\n",
       "  {'id': 54,\n",
       "   'start': 356,\n",
       "   'end': 373,\n",
       "   'tag': 'ADJA',\n",
       "   'pos': 'ADJ',\n",
       "   'morph': 'Case=Nom|Degree=Pos|Gender=Masc|Number=Sing',\n",
       "   'lemma': 'Parlamentarischer',\n",
       "   'dep': 'nk',\n",
       "   'head': 55},\n",
       "  {'id': 55,\n",
       "   'start': 374,\n",
       "   'end': 388,\n",
       "   'tag': 'NN',\n",
       "   'pos': 'NOUN',\n",
       "   'morph': 'Case=Nom|Gender=Masc|Number=Sing',\n",
       "   'lemma': 'Staatssekretär',\n",
       "   'dep': 'ROOT',\n",
       "   'head': 55},\n",
       "  {'id': 56,\n",
       "   'start': 389,\n",
       "   'end': 393,\n",
       "   'tag': 'APPRART',\n",
       "   'pos': 'ADP',\n",
       "   'morph': 'Case=Dat|Gender=Masc|Number=Sing',\n",
       "   'lemma': 'beim',\n",
       "   'dep': 'mnr',\n",
       "   'head': 55},\n",
       "  {'id': 57,\n",
       "   'start': 394,\n",
       "   'end': 408,\n",
       "   'tag': 'NN',\n",
       "   'pos': 'NOUN',\n",
       "   'morph': 'Case=Dat|Gender=Masc|Number=Sing',\n",
       "   'lemma': 'Bundesminister',\n",
       "   'dep': 'nk',\n",
       "   'head': 56},\n",
       "  {'id': 58,\n",
       "   'start': 409,\n",
       "   'end': 412,\n",
       "   'tag': 'ART',\n",
       "   'pos': 'DET',\n",
       "   'morph': 'Case=Gen|Definite=Def|Gender=Fem|Number=Plur|PronType=Art',\n",
       "   'lemma': 'der',\n",
       "   'dep': 'nk',\n",
       "   'head': 59},\n",
       "  {'id': 59,\n",
       "   'start': 413,\n",
       "   'end': 421,\n",
       "   'tag': 'NN',\n",
       "   'pos': 'NOUN',\n",
       "   'morph': 'Case=Gen|Gender=Fem|Number=Plur',\n",
       "   'lemma': 'Finanz',\n",
       "   'dep': 'ag',\n",
       "   'head': 57},\n",
       "  {'id': 60,\n",
       "   'start': 421,\n",
       "   'end': 422,\n",
       "   'tag': '$.',\n",
       "   'pos': 'PUNCT',\n",
       "   'morph': '',\n",
       "   'lemma': ';',\n",
       "   'dep': 'punct',\n",
       "   'head': 55},\n",
       "  {'id': 61,\n",
       "   'start': 423,\n",
       "   'end': 427,\n",
       "   'tag': 'NN',\n",
       "   'pos': 'NOUN',\n",
       "   'morph': 'Case=Nom|Gender=Masc|Number=Sing',\n",
       "   'lemma': 'März',\n",
       "   'dep': 'ROOT',\n",
       "   'head': 61},\n",
       "  {'id': 62,\n",
       "   'start': 428,\n",
       "   'end': 432,\n",
       "   'tag': 'CARD',\n",
       "   'pos': 'NUM',\n",
       "   'morph': '',\n",
       "   'lemma': '2018',\n",
       "   'dep': 'nk',\n",
       "   'head': 61},\n",
       "  {'id': 63,\n",
       "   'start': 433,\n",
       "   'end': 436,\n",
       "   'tag': 'APPR',\n",
       "   'pos': 'ADP',\n",
       "   'morph': '',\n",
       "   'lemma': 'bis',\n",
       "   'dep': 'mo',\n",
       "   'head': 61},\n",
       "  {'id': 64,\n",
       "   'start': 437,\n",
       "   'end': 445,\n",
       "   'tag': 'NN',\n",
       "   'pos': 'NOUN',\n",
       "   'morph': 'Case=Acc|Gender=Masc|Number=Sing',\n",
       "   'lemma': 'Dezember',\n",
       "   'dep': 'nk',\n",
       "   'head': 63},\n",
       "  {'id': 65,\n",
       "   'start': 446,\n",
       "   'end': 450,\n",
       "   'tag': 'CARD',\n",
       "   'pos': 'NUM',\n",
       "   'morph': '',\n",
       "   'lemma': '2021',\n",
       "   'dep': 'nk',\n",
       "   'head': 66},\n",
       "  {'id': 66,\n",
       "   'start': 451,\n",
       "   'end': 465,\n",
       "   'tag': 'NN',\n",
       "   'pos': 'NOUN',\n",
       "   'morph': 'Case=Nom|Gender=Masc|Number=Plur',\n",
       "   'lemma': 'Bundesminister',\n",
       "   'dep': 'pd',\n",
       "   'head': 61},\n",
       "  {'id': 67,\n",
       "   'start': 466,\n",
       "   'end': 469,\n",
       "   'tag': 'APPR',\n",
       "   'pos': 'ADP',\n",
       "   'morph': '',\n",
       "   'lemma': 'für',\n",
       "   'dep': 'mnr',\n",
       "   'head': 66},\n",
       "  {'id': 68,\n",
       "   'start': 470,\n",
       "   'end': 480,\n",
       "   'tag': 'NN',\n",
       "   'pos': 'NOUN',\n",
       "   'morph': 'Case=Acc|Gender=Fem|Number=Sing',\n",
       "   'lemma': 'Gesundheit',\n",
       "   'dep': 'nk',\n",
       "   'head': 67},\n",
       "  {'id': 69,\n",
       "   'start': 480,\n",
       "   'end': 481,\n",
       "   'tag': '$.',\n",
       "   'pos': 'PUNCT',\n",
       "   'morph': '',\n",
       "   'lemma': ';',\n",
       "   'dep': 'punct',\n",
       "   'head': 61},\n",
       "  {'id': 70,\n",
       "   'start': 482,\n",
       "   'end': 486,\n",
       "   'tag': 'APPR',\n",
       "   'pos': 'ADP',\n",
       "   'morph': '',\n",
       "   'lemma': 'seit',\n",
       "   'dep': 'ROOT',\n",
       "   'head': 70},\n",
       "  {'id': 71,\n",
       "   'start': 487,\n",
       "   'end': 495,\n",
       "   'tag': 'NN',\n",
       "   'pos': 'NOUN',\n",
       "   'morph': 'Case=Dat|Gender=Masc|Number=Sing',\n",
       "   'lemma': 'Dezember',\n",
       "   'dep': 'nk',\n",
       "   'head': 70},\n",
       "  {'id': 72,\n",
       "   'start': 496,\n",
       "   'end': 500,\n",
       "   'tag': 'CARD',\n",
       "   'pos': 'NUM',\n",
       "   'morph': '',\n",
       "   'lemma': '2021',\n",
       "   'dep': 'nk',\n",
       "   'head': 71},\n",
       "  {'id': 73,\n",
       "   'start': 501,\n",
       "   'end': 518,\n",
       "   'tag': 'ADJA',\n",
       "   'pos': 'ADJ',\n",
       "   'morph': 'Case=Nom|Degree=Pos|Gender=Masc|Number=Sing',\n",
       "   'lemma': 'stellvertretend',\n",
       "   'dep': 'nk',\n",
       "   'head': 74},\n",
       "  {'id': 74,\n",
       "   'start': 519,\n",
       "   'end': 531,\n",
       "   'tag': 'NN',\n",
       "   'pos': 'NOUN',\n",
       "   'morph': 'Case=Nom|Gender=Masc|Number=Sing',\n",
       "   'lemma': 'Vorsitzender',\n",
       "   'dep': 'pd',\n",
       "   'head': 70},\n",
       "  {'id': 75,\n",
       "   'start': 532,\n",
       "   'end': 535,\n",
       "   'tag': 'ART',\n",
       "   'pos': 'DET',\n",
       "   'morph': 'Case=Gen|Definite=Def|Gender=Fem|Number=Sing|PronType=Art',\n",
       "   'lemma': 'der',\n",
       "   'dep': 'nk',\n",
       "   'head': 76},\n",
       "  {'id': 76,\n",
       "   'start': 536,\n",
       "   'end': 539,\n",
       "   'tag': 'NN',\n",
       "   'pos': 'NOUN',\n",
       "   'morph': 'Case=Gen|Gender=Fem|Number=Sing',\n",
       "   'lemma': 'CDU',\n",
       "   'dep': 'ag',\n",
       "   'head': 74},\n",
       "  {'id': 77,\n",
       "   'start': 539,\n",
       "   'end': 540,\n",
       "   'tag': 'NN',\n",
       "   'pos': 'NOUN',\n",
       "   'morph': 'Case=Gen|Gender=Fem|Number=Sing',\n",
       "   'lemma': '/',\n",
       "   'dep': 'ag',\n",
       "   'head': 74},\n",
       "  {'id': 78,\n",
       "   'start': 540,\n",
       "   'end': 562,\n",
       "   'tag': 'NN',\n",
       "   'pos': 'NOUN',\n",
       "   'morph': 'Case=Gen|Gender=Fem|Number=Sing',\n",
       "   'lemma': 'CSU-Bundestagsfraktion',\n",
       "   'dep': 'ag',\n",
       "   'head': 74},\n",
       "  {'id': 79,\n",
       "   'start': 562,\n",
       "   'end': 563,\n",
       "   'tag': '$.',\n",
       "   'pos': 'PUNCT',\n",
       "   'morph': '',\n",
       "   'lemma': '.',\n",
       "   'dep': 'punct',\n",
       "   'head': 70}]}"
      ]
     },
     "execution_count": 2,
     "metadata": {},
     "output_type": "execute_result"
    }
   ],
   "source": [
    "import spacy\n",
    "\n",
    "nlp = spacy.load(\"de_core_news_sm\")\n",
    "\n",
    "# we use a text from notebook 4 \"Web Scraping\"\n",
    "text = 'Geboren am 16. Mai 1980 in Ahaus; römisch-katholisch.Nach dem Abitur Ausbildung zum Bankkaufmann, anschließend Angestellter; Studium der Politikwissenschaften (M.A.).Seit 1997 Mitglied der CDU; seit 2005 Vorsitzender des CDU-Kreisverbandes Borken; seit Dezember 2014 Mitglied des CDU-Bundespräsidiums.Mitglied des Bundestages seit 2002; 2015 bis März 2018 Parlamentarischer Staatssekretär beim Bundesminister der Finanzen; März 2018 bis Dezember 2021 Bundesminister für Gesundheit; seit Dezember 2021 stellvertretender Vorsitzender der CDU/CSU-Bundestagsfraktion.'\n",
    "\n",
    "doc = nlp(text)\n",
    "\n",
    "doc.to_json()"
   ]
  },
  {
   "cell_type": "markdown",
   "id": "growing-framing",
   "metadata": {
    "slideshow": {
     "slide_type": "subslide"
    }
   },
   "source": [
    "What does the JSON representation of the short text contain? Which NLP applications are involved?"
   ]
  },
  {
   "cell_type": "code",
   "execution_count": 3,
   "id": "qualified-planet",
   "metadata": {
    "slideshow": {
     "slide_type": "subslide"
    }
   },
   "outputs": [
    {
     "data": {
      "text/plain": [
       "[Mai,\n",
       " Abitur,\n",
       " Ausbildung,\n",
       " Bankkaufmann,\n",
       " Angestellter,\n",
       " Studium,\n",
       " Politikwissenschaften,\n",
       " Mitglied,\n",
       " Vorsitzender,\n",
       " CDU-Kreisverbandes,\n",
       " Borken,\n",
       " Dezember,\n",
       " Mitglied,\n",
       " CDU-Bundespräsidiums,\n",
       " Mitglied,\n",
       " Bundestages,\n",
       " März,\n",
       " Staatssekretär,\n",
       " Bundesminister,\n",
       " Finanzen,\n",
       " März,\n",
       " Dezember,\n",
       " Bundesminister,\n",
       " Gesundheit,\n",
       " Dezember,\n",
       " Vorsitzender,\n",
       " CDU,\n",
       " /,\n",
       " CSU-Bundestagsfraktion]"
      ]
     },
     "execution_count": 3,
     "metadata": {},
     "output_type": "execute_result"
    }
   ],
   "source": [
    "# filter tokens tagged as nouns\n",
    "list(filter(lambda t: t.pos_ == 'NOUN', doc))"
   ]
  },
  {
   "cell_type": "markdown",
   "id": "subtle-salon",
   "metadata": {
    "slideshow": {
     "slide_type": "subslide"
    }
   },
   "source": [
    "For some NLP applications, spaCy provides [nice visualizations](https://spacy.io/usage/visualizers):\n",
    "- [named entities](https://en.wikipedia.org/wiki/Named-entity_recognition)\n",
    "- syntax trees of [dependency parsing](https://en.wikipedia.org/wiki/Dependency_grammar)"
   ]
  },
  {
   "cell_type": "code",
   "execution_count": 4,
   "id": "organized-prospect",
   "metadata": {
    "slideshow": {
     "slide_type": "subslide"
    }
   },
   "outputs": [
    {
     "data": {
      "text/html": [
       "<span class=\"tex2jax_ignore\"><div class=\"entities\" style=\"line-height: 2.5; direction: ltr\">Geboren am 16. Mai 1980 in \n",
       "<mark class=\"entity\" style=\"background: #ff9561; padding: 0.45em 0.6em; margin: 0 0.25em; line-height: 1; border-radius: 0.35em;\">\n",
       "    Ahaus\n",
       "    <span style=\"font-size: 0.8em; font-weight: bold; line-height: 1; border-radius: 0.35em; vertical-align: middle; margin-left: 0.5rem\">LOC</span>\n",
       "</mark>\n",
       "; römisch-katholisch.Nach dem Abitur Ausbildung zum Bankkaufmann, anschließend Angestellter; Studium der Politikwissenschaften (M.A.).Seit 1997 Mitglied der \n",
       "<mark class=\"entity\" style=\"background: #7aecec; padding: 0.45em 0.6em; margin: 0 0.25em; line-height: 1; border-radius: 0.35em;\">\n",
       "    CDU\n",
       "    <span style=\"font-size: 0.8em; font-weight: bold; line-height: 1; border-radius: 0.35em; vertical-align: middle; margin-left: 0.5rem\">ORG</span>\n",
       "</mark>\n",
       "; seit 2005 Vorsitzender des \n",
       "<mark class=\"entity\" style=\"background: #7aecec; padding: 0.45em 0.6em; margin: 0 0.25em; line-height: 1; border-radius: 0.35em;\">\n",
       "    CDU-Kreisverbandes Borken\n",
       "    <span style=\"font-size: 0.8em; font-weight: bold; line-height: 1; border-radius: 0.35em; vertical-align: middle; margin-left: 0.5rem\">ORG</span>\n",
       "</mark>\n",
       "; seit Dezember 2014 Mitglied des \n",
       "<mark class=\"entity\" style=\"background: #ddd; padding: 0.45em 0.6em; margin: 0 0.25em; line-height: 1; border-radius: 0.35em;\">\n",
       "    CDU-Bundespräsidiums\n",
       "    <span style=\"font-size: 0.8em; font-weight: bold; line-height: 1; border-radius: 0.35em; vertical-align: middle; margin-left: 0.5rem\">MISC</span>\n",
       "</mark>\n",
       ".Mitglied des Bundestages seit 2002; 2015 bis März 2018 Parlamentarischer Staatssekretär beim \n",
       "<mark class=\"entity\" style=\"background: #ff9561; padding: 0.45em 0.6em; margin: 0 0.25em; line-height: 1; border-radius: 0.35em;\">\n",
       "    Bundesminister der Finanzen\n",
       "    <span style=\"font-size: 0.8em; font-weight: bold; line-height: 1; border-radius: 0.35em; vertical-align: middle; margin-left: 0.5rem\">LOC</span>\n",
       "</mark>\n",
       "; März 2018 bis Dezember 2021 \n",
       "<mark class=\"entity\" style=\"background: #7aecec; padding: 0.45em 0.6em; margin: 0 0.25em; line-height: 1; border-radius: 0.35em;\">\n",
       "    Bundesminister für Gesundheit\n",
       "    <span style=\"font-size: 0.8em; font-weight: bold; line-height: 1; border-radius: 0.35em; vertical-align: middle; margin-left: 0.5rem\">ORG</span>\n",
       "</mark>\n",
       "; seit Dezember 2021 stellvertretender Vorsitzender der \n",
       "<mark class=\"entity\" style=\"background: #7aecec; padding: 0.45em 0.6em; margin: 0 0.25em; line-height: 1; border-radius: 0.35em;\">\n",
       "    CDU\n",
       "    <span style=\"font-size: 0.8em; font-weight: bold; line-height: 1; border-radius: 0.35em; vertical-align: middle; margin-left: 0.5rem\">ORG</span>\n",
       "</mark>\n",
       "/\n",
       "<mark class=\"entity\" style=\"background: #ddd; padding: 0.45em 0.6em; margin: 0 0.25em; line-height: 1; border-radius: 0.35em;\">\n",
       "    CSU-Bundestagsfraktion\n",
       "    <span style=\"font-size: 0.8em; font-weight: bold; line-height: 1; border-radius: 0.35em; vertical-align: middle; margin-left: 0.5rem\">MISC</span>\n",
       "</mark>\n",
       ".</div></span>"
      ],
      "text/plain": [
       "<IPython.core.display.HTML object>"
      ]
     },
     "metadata": {},
     "output_type": "display_data"
    }
   ],
   "source": [
    "from spacy import displacy\n",
    "\n",
    "displacy.render(doc, style=\"ent\")"
   ]
  },
  {
   "cell_type": "code",
   "execution_count": 5,
   "id": "recognized-logging",
   "metadata": {
    "slideshow": {
     "slide_type": "subslide"
    }
   },
   "outputs": [
    {
     "data": {
      "text/html": [
       "<span class=\"tex2jax_ignore\"><svg xmlns=\"http://www.w3.org/2000/svg\" xmlns:xlink=\"http://www.w3.org/1999/xlink\" xml:lang=\"de\" id=\"be62406c30d14a3e951c82f01358ad7d-0\" class=\"displacy\" width=\"11775\" height=\"662.0\" direction=\"ltr\" style=\"max-width: none; height: 662.0px; color: #000000; background: #ffffff; font-family: Arial; direction: ltr\">\n",
       "<text class=\"displacy-token\" fill=\"currentColor\" text-anchor=\"middle\" y=\"572.0\">\n",
       "    <tspan class=\"displacy-word\" fill=\"currentColor\" x=\"50\">Geboren</tspan>\n",
       "    <tspan class=\"displacy-tag\" dy=\"2em\" fill=\"currentColor\" x=\"50\">VERB</tspan>\n",
       "</text>\n",
       "\n",
       "<text class=\"displacy-token\" fill=\"currentColor\" text-anchor=\"middle\" y=\"572.0\">\n",
       "    <tspan class=\"displacy-word\" fill=\"currentColor\" x=\"225\">am</tspan>\n",
       "    <tspan class=\"displacy-tag\" dy=\"2em\" fill=\"currentColor\" x=\"225\">ADP</tspan>\n",
       "</text>\n",
       "\n",
       "<text class=\"displacy-token\" fill=\"currentColor\" text-anchor=\"middle\" y=\"572.0\">\n",
       "    <tspan class=\"displacy-word\" fill=\"currentColor\" x=\"400\">16.</tspan>\n",
       "    <tspan class=\"displacy-tag\" dy=\"2em\" fill=\"currentColor\" x=\"400\">ADJ</tspan>\n",
       "</text>\n",
       "\n",
       "<text class=\"displacy-token\" fill=\"currentColor\" text-anchor=\"middle\" y=\"572.0\">\n",
       "    <tspan class=\"displacy-word\" fill=\"currentColor\" x=\"575\">Mai</tspan>\n",
       "    <tspan class=\"displacy-tag\" dy=\"2em\" fill=\"currentColor\" x=\"575\">NOUN</tspan>\n",
       "</text>\n",
       "\n",
       "<text class=\"displacy-token\" fill=\"currentColor\" text-anchor=\"middle\" y=\"572.0\">\n",
       "    <tspan class=\"displacy-word\" fill=\"currentColor\" x=\"750\">1980</tspan>\n",
       "    <tspan class=\"displacy-tag\" dy=\"2em\" fill=\"currentColor\" x=\"750\">NUM</tspan>\n",
       "</text>\n",
       "\n",
       "<text class=\"displacy-token\" fill=\"currentColor\" text-anchor=\"middle\" y=\"572.0\">\n",
       "    <tspan class=\"displacy-word\" fill=\"currentColor\" x=\"925\">in</tspan>\n",
       "    <tspan class=\"displacy-tag\" dy=\"2em\" fill=\"currentColor\" x=\"925\">ADP</tspan>\n",
       "</text>\n",
       "\n",
       "<text class=\"displacy-token\" fill=\"currentColor\" text-anchor=\"middle\" y=\"572.0\">\n",
       "    <tspan class=\"displacy-word\" fill=\"currentColor\" x=\"1100\">Ahaus;</tspan>\n",
       "    <tspan class=\"displacy-tag\" dy=\"2em\" fill=\"currentColor\" x=\"1100\">PROPN</tspan>\n",
       "</text>\n",
       "\n",
       "<text class=\"displacy-token\" fill=\"currentColor\" text-anchor=\"middle\" y=\"572.0\">\n",
       "    <tspan class=\"displacy-word\" fill=\"currentColor\" x=\"1275\">römisch-katholisch.</tspan>\n",
       "    <tspan class=\"displacy-tag\" dy=\"2em\" fill=\"currentColor\" x=\"1275\">ADV</tspan>\n",
       "</text>\n",
       "\n",
       "<text class=\"displacy-token\" fill=\"currentColor\" text-anchor=\"middle\" y=\"572.0\">\n",
       "    <tspan class=\"displacy-word\" fill=\"currentColor\" x=\"1450\">Nach</tspan>\n",
       "    <tspan class=\"displacy-tag\" dy=\"2em\" fill=\"currentColor\" x=\"1450\">ADP</tspan>\n",
       "</text>\n",
       "\n",
       "<text class=\"displacy-token\" fill=\"currentColor\" text-anchor=\"middle\" y=\"572.0\">\n",
       "    <tspan class=\"displacy-word\" fill=\"currentColor\" x=\"1625\">dem</tspan>\n",
       "    <tspan class=\"displacy-tag\" dy=\"2em\" fill=\"currentColor\" x=\"1625\">DET</tspan>\n",
       "</text>\n",
       "\n",
       "<text class=\"displacy-token\" fill=\"currentColor\" text-anchor=\"middle\" y=\"572.0\">\n",
       "    <tspan class=\"displacy-word\" fill=\"currentColor\" x=\"1800\">Abitur</tspan>\n",
       "    <tspan class=\"displacy-tag\" dy=\"2em\" fill=\"currentColor\" x=\"1800\">NOUN</tspan>\n",
       "</text>\n",
       "\n",
       "<text class=\"displacy-token\" fill=\"currentColor\" text-anchor=\"middle\" y=\"572.0\">\n",
       "    <tspan class=\"displacy-word\" fill=\"currentColor\" x=\"1975\">Ausbildung</tspan>\n",
       "    <tspan class=\"displacy-tag\" dy=\"2em\" fill=\"currentColor\" x=\"1975\">NOUN</tspan>\n",
       "</text>\n",
       "\n",
       "<text class=\"displacy-token\" fill=\"currentColor\" text-anchor=\"middle\" y=\"572.0\">\n",
       "    <tspan class=\"displacy-word\" fill=\"currentColor\" x=\"2150\">zum</tspan>\n",
       "    <tspan class=\"displacy-tag\" dy=\"2em\" fill=\"currentColor\" x=\"2150\">ADP</tspan>\n",
       "</text>\n",
       "\n",
       "<text class=\"displacy-token\" fill=\"currentColor\" text-anchor=\"middle\" y=\"572.0\">\n",
       "    <tspan class=\"displacy-word\" fill=\"currentColor\" x=\"2325\">Bankkaufmann,</tspan>\n",
       "    <tspan class=\"displacy-tag\" dy=\"2em\" fill=\"currentColor\" x=\"2325\">NOUN</tspan>\n",
       "</text>\n",
       "\n",
       "<text class=\"displacy-token\" fill=\"currentColor\" text-anchor=\"middle\" y=\"572.0\">\n",
       "    <tspan class=\"displacy-word\" fill=\"currentColor\" x=\"2500\">anschließend</tspan>\n",
       "    <tspan class=\"displacy-tag\" dy=\"2em\" fill=\"currentColor\" x=\"2500\">ADV</tspan>\n",
       "</text>\n",
       "\n",
       "<text class=\"displacy-token\" fill=\"currentColor\" text-anchor=\"middle\" y=\"572.0\">\n",
       "    <tspan class=\"displacy-word\" fill=\"currentColor\" x=\"2675\">Angestellter;</tspan>\n",
       "    <tspan class=\"displacy-tag\" dy=\"2em\" fill=\"currentColor\" x=\"2675\">NOUN</tspan>\n",
       "</text>\n",
       "\n",
       "<text class=\"displacy-token\" fill=\"currentColor\" text-anchor=\"middle\" y=\"572.0\">\n",
       "    <tspan class=\"displacy-word\" fill=\"currentColor\" x=\"2850\">Studium</tspan>\n",
       "    <tspan class=\"displacy-tag\" dy=\"2em\" fill=\"currentColor\" x=\"2850\">NOUN</tspan>\n",
       "</text>\n",
       "\n",
       "<text class=\"displacy-token\" fill=\"currentColor\" text-anchor=\"middle\" y=\"572.0\">\n",
       "    <tspan class=\"displacy-word\" fill=\"currentColor\" x=\"3025\">der</tspan>\n",
       "    <tspan class=\"displacy-tag\" dy=\"2em\" fill=\"currentColor\" x=\"3025\">DET</tspan>\n",
       "</text>\n",
       "\n",
       "<text class=\"displacy-token\" fill=\"currentColor\" text-anchor=\"middle\" y=\"572.0\">\n",
       "    <tspan class=\"displacy-word\" fill=\"currentColor\" x=\"3200\">Politikwissenschaften (</tspan>\n",
       "    <tspan class=\"displacy-tag\" dy=\"2em\" fill=\"currentColor\" x=\"3200\">NOUN</tspan>\n",
       "</text>\n",
       "\n",
       "<text class=\"displacy-token\" fill=\"currentColor\" text-anchor=\"middle\" y=\"572.0\">\n",
       "    <tspan class=\"displacy-word\" fill=\"currentColor\" x=\"3375\">M.A.).Seit</tspan>\n",
       "    <tspan class=\"displacy-tag\" dy=\"2em\" fill=\"currentColor\" x=\"3375\">ADP</tspan>\n",
       "</text>\n",
       "\n",
       "<text class=\"displacy-token\" fill=\"currentColor\" text-anchor=\"middle\" y=\"572.0\">\n",
       "    <tspan class=\"displacy-word\" fill=\"currentColor\" x=\"3550\">1997</tspan>\n",
       "    <tspan class=\"displacy-tag\" dy=\"2em\" fill=\"currentColor\" x=\"3550\">NUM</tspan>\n",
       "</text>\n",
       "\n",
       "<text class=\"displacy-token\" fill=\"currentColor\" text-anchor=\"middle\" y=\"572.0\">\n",
       "    <tspan class=\"displacy-word\" fill=\"currentColor\" x=\"3725\">Mitglied</tspan>\n",
       "    <tspan class=\"displacy-tag\" dy=\"2em\" fill=\"currentColor\" x=\"3725\">NOUN</tspan>\n",
       "</text>\n",
       "\n",
       "<text class=\"displacy-token\" fill=\"currentColor\" text-anchor=\"middle\" y=\"572.0\">\n",
       "    <tspan class=\"displacy-word\" fill=\"currentColor\" x=\"3900\">der</tspan>\n",
       "    <tspan class=\"displacy-tag\" dy=\"2em\" fill=\"currentColor\" x=\"3900\">DET</tspan>\n",
       "</text>\n",
       "\n",
       "<text class=\"displacy-token\" fill=\"currentColor\" text-anchor=\"middle\" y=\"572.0\">\n",
       "    <tspan class=\"displacy-word\" fill=\"currentColor\" x=\"4075\">CDU;</tspan>\n",
       "    <tspan class=\"displacy-tag\" dy=\"2em\" fill=\"currentColor\" x=\"4075\">PROPN</tspan>\n",
       "</text>\n",
       "\n",
       "<text class=\"displacy-token\" fill=\"currentColor\" text-anchor=\"middle\" y=\"572.0\">\n",
       "    <tspan class=\"displacy-word\" fill=\"currentColor\" x=\"4250\">seit</tspan>\n",
       "    <tspan class=\"displacy-tag\" dy=\"2em\" fill=\"currentColor\" x=\"4250\">ADP</tspan>\n",
       "</text>\n",
       "\n",
       "<text class=\"displacy-token\" fill=\"currentColor\" text-anchor=\"middle\" y=\"572.0\">\n",
       "    <tspan class=\"displacy-word\" fill=\"currentColor\" x=\"4425\">2005</tspan>\n",
       "    <tspan class=\"displacy-tag\" dy=\"2em\" fill=\"currentColor\" x=\"4425\">NUM</tspan>\n",
       "</text>\n",
       "\n",
       "<text class=\"displacy-token\" fill=\"currentColor\" text-anchor=\"middle\" y=\"572.0\">\n",
       "    <tspan class=\"displacy-word\" fill=\"currentColor\" x=\"4600\">Vorsitzender</tspan>\n",
       "    <tspan class=\"displacy-tag\" dy=\"2em\" fill=\"currentColor\" x=\"4600\">NOUN</tspan>\n",
       "</text>\n",
       "\n",
       "<text class=\"displacy-token\" fill=\"currentColor\" text-anchor=\"middle\" y=\"572.0\">\n",
       "    <tspan class=\"displacy-word\" fill=\"currentColor\" x=\"4775\">des</tspan>\n",
       "    <tspan class=\"displacy-tag\" dy=\"2em\" fill=\"currentColor\" x=\"4775\">DET</tspan>\n",
       "</text>\n",
       "\n",
       "<text class=\"displacy-token\" fill=\"currentColor\" text-anchor=\"middle\" y=\"572.0\">\n",
       "    <tspan class=\"displacy-word\" fill=\"currentColor\" x=\"4950\">CDU-Kreisverbandes</tspan>\n",
       "    <tspan class=\"displacy-tag\" dy=\"2em\" fill=\"currentColor\" x=\"4950\">NOUN</tspan>\n",
       "</text>\n",
       "\n",
       "<text class=\"displacy-token\" fill=\"currentColor\" text-anchor=\"middle\" y=\"572.0\">\n",
       "    <tspan class=\"displacy-word\" fill=\"currentColor\" x=\"5125\">Borken;</tspan>\n",
       "    <tspan class=\"displacy-tag\" dy=\"2em\" fill=\"currentColor\" x=\"5125\">NOUN</tspan>\n",
       "</text>\n",
       "\n",
       "<text class=\"displacy-token\" fill=\"currentColor\" text-anchor=\"middle\" y=\"572.0\">\n",
       "    <tspan class=\"displacy-word\" fill=\"currentColor\" x=\"5300\">seit</tspan>\n",
       "    <tspan class=\"displacy-tag\" dy=\"2em\" fill=\"currentColor\" x=\"5300\">ADP</tspan>\n",
       "</text>\n",
       "\n",
       "<text class=\"displacy-token\" fill=\"currentColor\" text-anchor=\"middle\" y=\"572.0\">\n",
       "    <tspan class=\"displacy-word\" fill=\"currentColor\" x=\"5475\">Dezember</tspan>\n",
       "    <tspan class=\"displacy-tag\" dy=\"2em\" fill=\"currentColor\" x=\"5475\">NOUN</tspan>\n",
       "</text>\n",
       "\n",
       "<text class=\"displacy-token\" fill=\"currentColor\" text-anchor=\"middle\" y=\"572.0\">\n",
       "    <tspan class=\"displacy-word\" fill=\"currentColor\" x=\"5650\">2014</tspan>\n",
       "    <tspan class=\"displacy-tag\" dy=\"2em\" fill=\"currentColor\" x=\"5650\">NUM</tspan>\n",
       "</text>\n",
       "\n",
       "<text class=\"displacy-token\" fill=\"currentColor\" text-anchor=\"middle\" y=\"572.0\">\n",
       "    <tspan class=\"displacy-word\" fill=\"currentColor\" x=\"5825\">Mitglied</tspan>\n",
       "    <tspan class=\"displacy-tag\" dy=\"2em\" fill=\"currentColor\" x=\"5825\">NOUN</tspan>\n",
       "</text>\n",
       "\n",
       "<text class=\"displacy-token\" fill=\"currentColor\" text-anchor=\"middle\" y=\"572.0\">\n",
       "    <tspan class=\"displacy-word\" fill=\"currentColor\" x=\"6000\">des</tspan>\n",
       "    <tspan class=\"displacy-tag\" dy=\"2em\" fill=\"currentColor\" x=\"6000\">DET</tspan>\n",
       "</text>\n",
       "\n",
       "<text class=\"displacy-token\" fill=\"currentColor\" text-anchor=\"middle\" y=\"572.0\">\n",
       "    <tspan class=\"displacy-word\" fill=\"currentColor\" x=\"6175\">CDU-Bundespräsidiums.</tspan>\n",
       "    <tspan class=\"displacy-tag\" dy=\"2em\" fill=\"currentColor\" x=\"6175\">NOUN</tspan>\n",
       "</text>\n",
       "\n",
       "<text class=\"displacy-token\" fill=\"currentColor\" text-anchor=\"middle\" y=\"572.0\">\n",
       "    <tspan class=\"displacy-word\" fill=\"currentColor\" x=\"6350\">Mitglied</tspan>\n",
       "    <tspan class=\"displacy-tag\" dy=\"2em\" fill=\"currentColor\" x=\"6350\">NOUN</tspan>\n",
       "</text>\n",
       "\n",
       "<text class=\"displacy-token\" fill=\"currentColor\" text-anchor=\"middle\" y=\"572.0\">\n",
       "    <tspan class=\"displacy-word\" fill=\"currentColor\" x=\"6525\">des</tspan>\n",
       "    <tspan class=\"displacy-tag\" dy=\"2em\" fill=\"currentColor\" x=\"6525\">DET</tspan>\n",
       "</text>\n",
       "\n",
       "<text class=\"displacy-token\" fill=\"currentColor\" text-anchor=\"middle\" y=\"572.0\">\n",
       "    <tspan class=\"displacy-word\" fill=\"currentColor\" x=\"6700\">Bundestages</tspan>\n",
       "    <tspan class=\"displacy-tag\" dy=\"2em\" fill=\"currentColor\" x=\"6700\">NOUN</tspan>\n",
       "</text>\n",
       "\n",
       "<text class=\"displacy-token\" fill=\"currentColor\" text-anchor=\"middle\" y=\"572.0\">\n",
       "    <tspan class=\"displacy-word\" fill=\"currentColor\" x=\"6875\">seit</tspan>\n",
       "    <tspan class=\"displacy-tag\" dy=\"2em\" fill=\"currentColor\" x=\"6875\">ADP</tspan>\n",
       "</text>\n",
       "\n",
       "<text class=\"displacy-token\" fill=\"currentColor\" text-anchor=\"middle\" y=\"572.0\">\n",
       "    <tspan class=\"displacy-word\" fill=\"currentColor\" x=\"7050\">2002;</tspan>\n",
       "    <tspan class=\"displacy-tag\" dy=\"2em\" fill=\"currentColor\" x=\"7050\">NUM</tspan>\n",
       "</text>\n",
       "\n",
       "<text class=\"displacy-token\" fill=\"currentColor\" text-anchor=\"middle\" y=\"572.0\">\n",
       "    <tspan class=\"displacy-word\" fill=\"currentColor\" x=\"7225\">2015</tspan>\n",
       "    <tspan class=\"displacy-tag\" dy=\"2em\" fill=\"currentColor\" x=\"7225\">NUM</tspan>\n",
       "</text>\n",
       "\n",
       "<text class=\"displacy-token\" fill=\"currentColor\" text-anchor=\"middle\" y=\"572.0\">\n",
       "    <tspan class=\"displacy-word\" fill=\"currentColor\" x=\"7400\">bis</tspan>\n",
       "    <tspan class=\"displacy-tag\" dy=\"2em\" fill=\"currentColor\" x=\"7400\">CCONJ</tspan>\n",
       "</text>\n",
       "\n",
       "<text class=\"displacy-token\" fill=\"currentColor\" text-anchor=\"middle\" y=\"572.0\">\n",
       "    <tspan class=\"displacy-word\" fill=\"currentColor\" x=\"7575\">März</tspan>\n",
       "    <tspan class=\"displacy-tag\" dy=\"2em\" fill=\"currentColor\" x=\"7575\">NOUN</tspan>\n",
       "</text>\n",
       "\n",
       "<text class=\"displacy-token\" fill=\"currentColor\" text-anchor=\"middle\" y=\"572.0\">\n",
       "    <tspan class=\"displacy-word\" fill=\"currentColor\" x=\"7750\">2018</tspan>\n",
       "    <tspan class=\"displacy-tag\" dy=\"2em\" fill=\"currentColor\" x=\"7750\">NUM</tspan>\n",
       "</text>\n",
       "\n",
       "<text class=\"displacy-token\" fill=\"currentColor\" text-anchor=\"middle\" y=\"572.0\">\n",
       "    <tspan class=\"displacy-word\" fill=\"currentColor\" x=\"7925\">Parlamentarischer</tspan>\n",
       "    <tspan class=\"displacy-tag\" dy=\"2em\" fill=\"currentColor\" x=\"7925\">ADJ</tspan>\n",
       "</text>\n",
       "\n",
       "<text class=\"displacy-token\" fill=\"currentColor\" text-anchor=\"middle\" y=\"572.0\">\n",
       "    <tspan class=\"displacy-word\" fill=\"currentColor\" x=\"8100\">Staatssekretär</tspan>\n",
       "    <tspan class=\"displacy-tag\" dy=\"2em\" fill=\"currentColor\" x=\"8100\">NOUN</tspan>\n",
       "</text>\n",
       "\n",
       "<text class=\"displacy-token\" fill=\"currentColor\" text-anchor=\"middle\" y=\"572.0\">\n",
       "    <tspan class=\"displacy-word\" fill=\"currentColor\" x=\"8275\">beim</tspan>\n",
       "    <tspan class=\"displacy-tag\" dy=\"2em\" fill=\"currentColor\" x=\"8275\">ADP</tspan>\n",
       "</text>\n",
       "\n",
       "<text class=\"displacy-token\" fill=\"currentColor\" text-anchor=\"middle\" y=\"572.0\">\n",
       "    <tspan class=\"displacy-word\" fill=\"currentColor\" x=\"8450\">Bundesminister</tspan>\n",
       "    <tspan class=\"displacy-tag\" dy=\"2em\" fill=\"currentColor\" x=\"8450\">NOUN</tspan>\n",
       "</text>\n",
       "\n",
       "<text class=\"displacy-token\" fill=\"currentColor\" text-anchor=\"middle\" y=\"572.0\">\n",
       "    <tspan class=\"displacy-word\" fill=\"currentColor\" x=\"8625\">der</tspan>\n",
       "    <tspan class=\"displacy-tag\" dy=\"2em\" fill=\"currentColor\" x=\"8625\">DET</tspan>\n",
       "</text>\n",
       "\n",
       "<text class=\"displacy-token\" fill=\"currentColor\" text-anchor=\"middle\" y=\"572.0\">\n",
       "    <tspan class=\"displacy-word\" fill=\"currentColor\" x=\"8800\">Finanzen;</tspan>\n",
       "    <tspan class=\"displacy-tag\" dy=\"2em\" fill=\"currentColor\" x=\"8800\">NOUN</tspan>\n",
       "</text>\n",
       "\n",
       "<text class=\"displacy-token\" fill=\"currentColor\" text-anchor=\"middle\" y=\"572.0\">\n",
       "    <tspan class=\"displacy-word\" fill=\"currentColor\" x=\"8975\">März</tspan>\n",
       "    <tspan class=\"displacy-tag\" dy=\"2em\" fill=\"currentColor\" x=\"8975\">NOUN</tspan>\n",
       "</text>\n",
       "\n",
       "<text class=\"displacy-token\" fill=\"currentColor\" text-anchor=\"middle\" y=\"572.0\">\n",
       "    <tspan class=\"displacy-word\" fill=\"currentColor\" x=\"9150\">2018</tspan>\n",
       "    <tspan class=\"displacy-tag\" dy=\"2em\" fill=\"currentColor\" x=\"9150\">NUM</tspan>\n",
       "</text>\n",
       "\n",
       "<text class=\"displacy-token\" fill=\"currentColor\" text-anchor=\"middle\" y=\"572.0\">\n",
       "    <tspan class=\"displacy-word\" fill=\"currentColor\" x=\"9325\">bis</tspan>\n",
       "    <tspan class=\"displacy-tag\" dy=\"2em\" fill=\"currentColor\" x=\"9325\">ADP</tspan>\n",
       "</text>\n",
       "\n",
       "<text class=\"displacy-token\" fill=\"currentColor\" text-anchor=\"middle\" y=\"572.0\">\n",
       "    <tspan class=\"displacy-word\" fill=\"currentColor\" x=\"9500\">Dezember</tspan>\n",
       "    <tspan class=\"displacy-tag\" dy=\"2em\" fill=\"currentColor\" x=\"9500\">NOUN</tspan>\n",
       "</text>\n",
       "\n",
       "<text class=\"displacy-token\" fill=\"currentColor\" text-anchor=\"middle\" y=\"572.0\">\n",
       "    <tspan class=\"displacy-word\" fill=\"currentColor\" x=\"9675\">2021</tspan>\n",
       "    <tspan class=\"displacy-tag\" dy=\"2em\" fill=\"currentColor\" x=\"9675\">NUM</tspan>\n",
       "</text>\n",
       "\n",
       "<text class=\"displacy-token\" fill=\"currentColor\" text-anchor=\"middle\" y=\"572.0\">\n",
       "    <tspan class=\"displacy-word\" fill=\"currentColor\" x=\"9850\">Bundesminister</tspan>\n",
       "    <tspan class=\"displacy-tag\" dy=\"2em\" fill=\"currentColor\" x=\"9850\">NOUN</tspan>\n",
       "</text>\n",
       "\n",
       "<text class=\"displacy-token\" fill=\"currentColor\" text-anchor=\"middle\" y=\"572.0\">\n",
       "    <tspan class=\"displacy-word\" fill=\"currentColor\" x=\"10025\">für</tspan>\n",
       "    <tspan class=\"displacy-tag\" dy=\"2em\" fill=\"currentColor\" x=\"10025\">ADP</tspan>\n",
       "</text>\n",
       "\n",
       "<text class=\"displacy-token\" fill=\"currentColor\" text-anchor=\"middle\" y=\"572.0\">\n",
       "    <tspan class=\"displacy-word\" fill=\"currentColor\" x=\"10200\">Gesundheit;</tspan>\n",
       "    <tspan class=\"displacy-tag\" dy=\"2em\" fill=\"currentColor\" x=\"10200\">NOUN</tspan>\n",
       "</text>\n",
       "\n",
       "<text class=\"displacy-token\" fill=\"currentColor\" text-anchor=\"middle\" y=\"572.0\">\n",
       "    <tspan class=\"displacy-word\" fill=\"currentColor\" x=\"10375\">seit</tspan>\n",
       "    <tspan class=\"displacy-tag\" dy=\"2em\" fill=\"currentColor\" x=\"10375\">ADP</tspan>\n",
       "</text>\n",
       "\n",
       "<text class=\"displacy-token\" fill=\"currentColor\" text-anchor=\"middle\" y=\"572.0\">\n",
       "    <tspan class=\"displacy-word\" fill=\"currentColor\" x=\"10550\">Dezember</tspan>\n",
       "    <tspan class=\"displacy-tag\" dy=\"2em\" fill=\"currentColor\" x=\"10550\">NOUN</tspan>\n",
       "</text>\n",
       "\n",
       "<text class=\"displacy-token\" fill=\"currentColor\" text-anchor=\"middle\" y=\"572.0\">\n",
       "    <tspan class=\"displacy-word\" fill=\"currentColor\" x=\"10725\">2021</tspan>\n",
       "    <tspan class=\"displacy-tag\" dy=\"2em\" fill=\"currentColor\" x=\"10725\">NUM</tspan>\n",
       "</text>\n",
       "\n",
       "<text class=\"displacy-token\" fill=\"currentColor\" text-anchor=\"middle\" y=\"572.0\">\n",
       "    <tspan class=\"displacy-word\" fill=\"currentColor\" x=\"10900\">stellvertretender</tspan>\n",
       "    <tspan class=\"displacy-tag\" dy=\"2em\" fill=\"currentColor\" x=\"10900\">ADJ</tspan>\n",
       "</text>\n",
       "\n",
       "<text class=\"displacy-token\" fill=\"currentColor\" text-anchor=\"middle\" y=\"572.0\">\n",
       "    <tspan class=\"displacy-word\" fill=\"currentColor\" x=\"11075\">Vorsitzender</tspan>\n",
       "    <tspan class=\"displacy-tag\" dy=\"2em\" fill=\"currentColor\" x=\"11075\">NOUN</tspan>\n",
       "</text>\n",
       "\n",
       "<text class=\"displacy-token\" fill=\"currentColor\" text-anchor=\"middle\" y=\"572.0\">\n",
       "    <tspan class=\"displacy-word\" fill=\"currentColor\" x=\"11250\">der</tspan>\n",
       "    <tspan class=\"displacy-tag\" dy=\"2em\" fill=\"currentColor\" x=\"11250\">DET</tspan>\n",
       "</text>\n",
       "\n",
       "<text class=\"displacy-token\" fill=\"currentColor\" text-anchor=\"middle\" y=\"572.0\">\n",
       "    <tspan class=\"displacy-word\" fill=\"currentColor\" x=\"11425\">CDU/</tspan>\n",
       "    <tspan class=\"displacy-tag\" dy=\"2em\" fill=\"currentColor\" x=\"11425\">NOUN</tspan>\n",
       "</text>\n",
       "\n",
       "<text class=\"displacy-token\" fill=\"currentColor\" text-anchor=\"middle\" y=\"572.0\">\n",
       "    <tspan class=\"displacy-word\" fill=\"currentColor\" x=\"11600\">CSU-Bundestagsfraktion.</tspan>\n",
       "    <tspan class=\"displacy-tag\" dy=\"2em\" fill=\"currentColor\" x=\"11600\">NOUN</tspan>\n",
       "</text>\n",
       "\n",
       "<g class=\"displacy-arrow\">\n",
       "    <path class=\"displacy-arc\" id=\"arrow-be62406c30d14a3e951c82f01358ad7d-0-0\" stroke-width=\"2px\" d=\"M70,527.0 C70,439.5 200.0,439.5 200.0,527.0\" fill=\"none\" stroke=\"currentColor\"/>\n",
       "    <text dy=\"1.25em\" style=\"font-size: 0.8em; letter-spacing: 1px\">\n",
       "        <textPath xlink:href=\"#arrow-be62406c30d14a3e951c82f01358ad7d-0-0\" class=\"displacy-label\" startOffset=\"50%\" side=\"left\" fill=\"currentColor\" text-anchor=\"middle\">mnr</textPath>\n",
       "    </text>\n",
       "    <path class=\"displacy-arrowhead\" d=\"M200.0,529.0 L208.0,517.0 192.0,517.0\" fill=\"currentColor\"/>\n",
       "</g>\n",
       "\n",
       "<g class=\"displacy-arrow\">\n",
       "    <path class=\"displacy-arc\" id=\"arrow-be62406c30d14a3e951c82f01358ad7d-0-1\" stroke-width=\"2px\" d=\"M420,527.0 C420,439.5 550.0,439.5 550.0,527.0\" fill=\"none\" stroke=\"currentColor\"/>\n",
       "    <text dy=\"1.25em\" style=\"font-size: 0.8em; letter-spacing: 1px\">\n",
       "        <textPath xlink:href=\"#arrow-be62406c30d14a3e951c82f01358ad7d-0-1\" class=\"displacy-label\" startOffset=\"50%\" side=\"left\" fill=\"currentColor\" text-anchor=\"middle\">nk</textPath>\n",
       "    </text>\n",
       "    <path class=\"displacy-arrowhead\" d=\"M420,529.0 L412,517.0 428,517.0\" fill=\"currentColor\"/>\n",
       "</g>\n",
       "\n",
       "<g class=\"displacy-arrow\">\n",
       "    <path class=\"displacy-arc\" id=\"arrow-be62406c30d14a3e951c82f01358ad7d-0-2\" stroke-width=\"2px\" d=\"M245,527.0 C245,352.0 555.0,352.0 555.0,527.0\" fill=\"none\" stroke=\"currentColor\"/>\n",
       "    <text dy=\"1.25em\" style=\"font-size: 0.8em; letter-spacing: 1px\">\n",
       "        <textPath xlink:href=\"#arrow-be62406c30d14a3e951c82f01358ad7d-0-2\" class=\"displacy-label\" startOffset=\"50%\" side=\"left\" fill=\"currentColor\" text-anchor=\"middle\">nk</textPath>\n",
       "    </text>\n",
       "    <path class=\"displacy-arrowhead\" d=\"M555.0,529.0 L563.0,517.0 547.0,517.0\" fill=\"currentColor\"/>\n",
       "</g>\n",
       "\n",
       "<g class=\"displacy-arrow\">\n",
       "    <path class=\"displacy-arc\" id=\"arrow-be62406c30d14a3e951c82f01358ad7d-0-3\" stroke-width=\"2px\" d=\"M595,527.0 C595,439.5 725.0,439.5 725.0,527.0\" fill=\"none\" stroke=\"currentColor\"/>\n",
       "    <text dy=\"1.25em\" style=\"font-size: 0.8em; letter-spacing: 1px\">\n",
       "        <textPath xlink:href=\"#arrow-be62406c30d14a3e951c82f01358ad7d-0-3\" class=\"displacy-label\" startOffset=\"50%\" side=\"left\" fill=\"currentColor\" text-anchor=\"middle\">nk</textPath>\n",
       "    </text>\n",
       "    <path class=\"displacy-arrowhead\" d=\"M725.0,529.0 L733.0,517.0 717.0,517.0\" fill=\"currentColor\"/>\n",
       "</g>\n",
       "\n",
       "<g class=\"displacy-arrow\">\n",
       "    <path class=\"displacy-arc\" id=\"arrow-be62406c30d14a3e951c82f01358ad7d-0-4\" stroke-width=\"2px\" d=\"M70,527.0 C70,89.5 920.0,89.5 920.0,527.0\" fill=\"none\" stroke=\"currentColor\"/>\n",
       "    <text dy=\"1.25em\" style=\"font-size: 0.8em; letter-spacing: 1px\">\n",
       "        <textPath xlink:href=\"#arrow-be62406c30d14a3e951c82f01358ad7d-0-4\" class=\"displacy-label\" startOffset=\"50%\" side=\"left\" fill=\"currentColor\" text-anchor=\"middle\">mo</textPath>\n",
       "    </text>\n",
       "    <path class=\"displacy-arrowhead\" d=\"M920.0,529.0 L928.0,517.0 912.0,517.0\" fill=\"currentColor\"/>\n",
       "</g>\n",
       "\n",
       "<g class=\"displacy-arrow\">\n",
       "    <path class=\"displacy-arc\" id=\"arrow-be62406c30d14a3e951c82f01358ad7d-0-5\" stroke-width=\"2px\" d=\"M945,527.0 C945,439.5 1075.0,439.5 1075.0,527.0\" fill=\"none\" stroke=\"currentColor\"/>\n",
       "    <text dy=\"1.25em\" style=\"font-size: 0.8em; letter-spacing: 1px\">\n",
       "        <textPath xlink:href=\"#arrow-be62406c30d14a3e951c82f01358ad7d-0-5\" class=\"displacy-label\" startOffset=\"50%\" side=\"left\" fill=\"currentColor\" text-anchor=\"middle\">nk</textPath>\n",
       "    </text>\n",
       "    <path class=\"displacy-arrowhead\" d=\"M1075.0,529.0 L1083.0,517.0 1067.0,517.0\" fill=\"currentColor\"/>\n",
       "</g>\n",
       "\n",
       "<g class=\"displacy-arrow\">\n",
       "    <path class=\"displacy-arc\" id=\"arrow-be62406c30d14a3e951c82f01358ad7d-0-6\" stroke-width=\"2px\" d=\"M1645,527.0 C1645,439.5 1775.0,439.5 1775.0,527.0\" fill=\"none\" stroke=\"currentColor\"/>\n",
       "    <text dy=\"1.25em\" style=\"font-size: 0.8em; letter-spacing: 1px\">\n",
       "        <textPath xlink:href=\"#arrow-be62406c30d14a3e951c82f01358ad7d-0-6\" class=\"displacy-label\" startOffset=\"50%\" side=\"left\" fill=\"currentColor\" text-anchor=\"middle\">nk</textPath>\n",
       "    </text>\n",
       "    <path class=\"displacy-arrowhead\" d=\"M1645,529.0 L1637,517.0 1653,517.0\" fill=\"currentColor\"/>\n",
       "</g>\n",
       "\n",
       "<g class=\"displacy-arrow\">\n",
       "    <path class=\"displacy-arc\" id=\"arrow-be62406c30d14a3e951c82f01358ad7d-0-7\" stroke-width=\"2px\" d=\"M1470,527.0 C1470,352.0 1780.0,352.0 1780.0,527.0\" fill=\"none\" stroke=\"currentColor\"/>\n",
       "    <text dy=\"1.25em\" style=\"font-size: 0.8em; letter-spacing: 1px\">\n",
       "        <textPath xlink:href=\"#arrow-be62406c30d14a3e951c82f01358ad7d-0-7\" class=\"displacy-label\" startOffset=\"50%\" side=\"left\" fill=\"currentColor\" text-anchor=\"middle\">nk</textPath>\n",
       "    </text>\n",
       "    <path class=\"displacy-arrowhead\" d=\"M1780.0,529.0 L1788.0,517.0 1772.0,517.0\" fill=\"currentColor\"/>\n",
       "</g>\n",
       "\n",
       "<g class=\"displacy-arrow\">\n",
       "    <path class=\"displacy-arc\" id=\"arrow-be62406c30d14a3e951c82f01358ad7d-0-8\" stroke-width=\"2px\" d=\"M1820,527.0 C1820,439.5 1950.0,439.5 1950.0,527.0\" fill=\"none\" stroke=\"currentColor\"/>\n",
       "    <text dy=\"1.25em\" style=\"font-size: 0.8em; letter-spacing: 1px\">\n",
       "        <textPath xlink:href=\"#arrow-be62406c30d14a3e951c82f01358ad7d-0-8\" class=\"displacy-label\" startOffset=\"50%\" side=\"left\" fill=\"currentColor\" text-anchor=\"middle\">nk</textPath>\n",
       "    </text>\n",
       "    <path class=\"displacy-arrowhead\" d=\"M1950.0,529.0 L1958.0,517.0 1942.0,517.0\" fill=\"currentColor\"/>\n",
       "</g>\n",
       "\n",
       "<g class=\"displacy-arrow\">\n",
       "    <path class=\"displacy-arc\" id=\"arrow-be62406c30d14a3e951c82f01358ad7d-0-9\" stroke-width=\"2px\" d=\"M1995,527.0 C1995,439.5 2125.0,439.5 2125.0,527.0\" fill=\"none\" stroke=\"currentColor\"/>\n",
       "    <text dy=\"1.25em\" style=\"font-size: 0.8em; letter-spacing: 1px\">\n",
       "        <textPath xlink:href=\"#arrow-be62406c30d14a3e951c82f01358ad7d-0-9\" class=\"displacy-label\" startOffset=\"50%\" side=\"left\" fill=\"currentColor\" text-anchor=\"middle\">mnr</textPath>\n",
       "    </text>\n",
       "    <path class=\"displacy-arrowhead\" d=\"M2125.0,529.0 L2133.0,517.0 2117.0,517.0\" fill=\"currentColor\"/>\n",
       "</g>\n",
       "\n",
       "<g class=\"displacy-arrow\">\n",
       "    <path class=\"displacy-arc\" id=\"arrow-be62406c30d14a3e951c82f01358ad7d-0-10\" stroke-width=\"2px\" d=\"M2170,527.0 C2170,439.5 2300.0,439.5 2300.0,527.0\" fill=\"none\" stroke=\"currentColor\"/>\n",
       "    <text dy=\"1.25em\" style=\"font-size: 0.8em; letter-spacing: 1px\">\n",
       "        <textPath xlink:href=\"#arrow-be62406c30d14a3e951c82f01358ad7d-0-10\" class=\"displacy-label\" startOffset=\"50%\" side=\"left\" fill=\"currentColor\" text-anchor=\"middle\">nk</textPath>\n",
       "    </text>\n",
       "    <path class=\"displacy-arrowhead\" d=\"M2300.0,529.0 L2308.0,517.0 2292.0,517.0\" fill=\"currentColor\"/>\n",
       "</g>\n",
       "\n",
       "<g class=\"displacy-arrow\">\n",
       "    <path class=\"displacy-arc\" id=\"arrow-be62406c30d14a3e951c82f01358ad7d-0-11\" stroke-width=\"2px\" d=\"M2520,527.0 C2520,439.5 2650.0,439.5 2650.0,527.0\" fill=\"none\" stroke=\"currentColor\"/>\n",
       "    <text dy=\"1.25em\" style=\"font-size: 0.8em; letter-spacing: 1px\">\n",
       "        <textPath xlink:href=\"#arrow-be62406c30d14a3e951c82f01358ad7d-0-11\" class=\"displacy-label\" startOffset=\"50%\" side=\"left\" fill=\"currentColor\" text-anchor=\"middle\">mo</textPath>\n",
       "    </text>\n",
       "    <path class=\"displacy-arrowhead\" d=\"M2520,529.0 L2512,517.0 2528,517.0\" fill=\"currentColor\"/>\n",
       "</g>\n",
       "\n",
       "<g class=\"displacy-arrow\">\n",
       "    <path class=\"displacy-arc\" id=\"arrow-be62406c30d14a3e951c82f01358ad7d-0-12\" stroke-width=\"2px\" d=\"M1470,527.0 C1470,2.0 2675.0,2.0 2675.0,527.0\" fill=\"none\" stroke=\"currentColor\"/>\n",
       "    <text dy=\"1.25em\" style=\"font-size: 0.8em; letter-spacing: 1px\">\n",
       "        <textPath xlink:href=\"#arrow-be62406c30d14a3e951c82f01358ad7d-0-12\" class=\"displacy-label\" startOffset=\"50%\" side=\"left\" fill=\"currentColor\" text-anchor=\"middle\">par</textPath>\n",
       "    </text>\n",
       "    <path class=\"displacy-arrowhead\" d=\"M2675.0,529.0 L2683.0,517.0 2667.0,517.0\" fill=\"currentColor\"/>\n",
       "</g>\n",
       "\n",
       "<g class=\"displacy-arrow\">\n",
       "    <path class=\"displacy-arc\" id=\"arrow-be62406c30d14a3e951c82f01358ad7d-0-13\" stroke-width=\"2px\" d=\"M3045,527.0 C3045,439.5 3175.0,439.5 3175.0,527.0\" fill=\"none\" stroke=\"currentColor\"/>\n",
       "    <text dy=\"1.25em\" style=\"font-size: 0.8em; letter-spacing: 1px\">\n",
       "        <textPath xlink:href=\"#arrow-be62406c30d14a3e951c82f01358ad7d-0-13\" class=\"displacy-label\" startOffset=\"50%\" side=\"left\" fill=\"currentColor\" text-anchor=\"middle\">nk</textPath>\n",
       "    </text>\n",
       "    <path class=\"displacy-arrowhead\" d=\"M3045,529.0 L3037,517.0 3053,517.0\" fill=\"currentColor\"/>\n",
       "</g>\n",
       "\n",
       "<g class=\"displacy-arrow\">\n",
       "    <path class=\"displacy-arc\" id=\"arrow-be62406c30d14a3e951c82f01358ad7d-0-14\" stroke-width=\"2px\" d=\"M2870,527.0 C2870,352.0 3180.0,352.0 3180.0,527.0\" fill=\"none\" stroke=\"currentColor\"/>\n",
       "    <text dy=\"1.25em\" style=\"font-size: 0.8em; letter-spacing: 1px\">\n",
       "        <textPath xlink:href=\"#arrow-be62406c30d14a3e951c82f01358ad7d-0-14\" class=\"displacy-label\" startOffset=\"50%\" side=\"left\" fill=\"currentColor\" text-anchor=\"middle\">ag</textPath>\n",
       "    </text>\n",
       "    <path class=\"displacy-arrowhead\" d=\"M3180.0,529.0 L3188.0,517.0 3172.0,517.0\" fill=\"currentColor\"/>\n",
       "</g>\n",
       "\n",
       "<g class=\"displacy-arrow\">\n",
       "    <path class=\"displacy-arc\" id=\"arrow-be62406c30d14a3e951c82f01358ad7d-0-15\" stroke-width=\"2px\" d=\"M2870,527.0 C2870,264.5 3360.0,264.5 3360.0,527.0\" fill=\"none\" stroke=\"currentColor\"/>\n",
       "    <text dy=\"1.25em\" style=\"font-size: 0.8em; letter-spacing: 1px\">\n",
       "        <textPath xlink:href=\"#arrow-be62406c30d14a3e951c82f01358ad7d-0-15\" class=\"displacy-label\" startOffset=\"50%\" side=\"left\" fill=\"currentColor\" text-anchor=\"middle\">par</textPath>\n",
       "    </text>\n",
       "    <path class=\"displacy-arrowhead\" d=\"M3360.0,529.0 L3368.0,517.0 3352.0,517.0\" fill=\"currentColor\"/>\n",
       "</g>\n",
       "\n",
       "<g class=\"displacy-arrow\">\n",
       "    <path class=\"displacy-arc\" id=\"arrow-be62406c30d14a3e951c82f01358ad7d-0-16\" stroke-width=\"2px\" d=\"M3395,527.0 C3395,439.5 3525.0,439.5 3525.0,527.0\" fill=\"none\" stroke=\"currentColor\"/>\n",
       "    <text dy=\"1.25em\" style=\"font-size: 0.8em; letter-spacing: 1px\">\n",
       "        <textPath xlink:href=\"#arrow-be62406c30d14a3e951c82f01358ad7d-0-16\" class=\"displacy-label\" startOffset=\"50%\" side=\"left\" fill=\"currentColor\" text-anchor=\"middle\">nk</textPath>\n",
       "    </text>\n",
       "    <path class=\"displacy-arrowhead\" d=\"M3525.0,529.0 L3533.0,517.0 3517.0,517.0\" fill=\"currentColor\"/>\n",
       "</g>\n",
       "\n",
       "<g class=\"displacy-arrow\">\n",
       "    <path class=\"displacy-arc\" id=\"arrow-be62406c30d14a3e951c82f01358ad7d-0-17\" stroke-width=\"2px\" d=\"M3395,527.0 C3395,352.0 3705.0,352.0 3705.0,527.0\" fill=\"none\" stroke=\"currentColor\"/>\n",
       "    <text dy=\"1.25em\" style=\"font-size: 0.8em; letter-spacing: 1px\">\n",
       "        <textPath xlink:href=\"#arrow-be62406c30d14a3e951c82f01358ad7d-0-17\" class=\"displacy-label\" startOffset=\"50%\" side=\"left\" fill=\"currentColor\" text-anchor=\"middle\">nk</textPath>\n",
       "    </text>\n",
       "    <path class=\"displacy-arrowhead\" d=\"M3705.0,529.0 L3713.0,517.0 3697.0,517.0\" fill=\"currentColor\"/>\n",
       "</g>\n",
       "\n",
       "<g class=\"displacy-arrow\">\n",
       "    <path class=\"displacy-arc\" id=\"arrow-be62406c30d14a3e951c82f01358ad7d-0-18\" stroke-width=\"2px\" d=\"M3920,527.0 C3920,439.5 4050.0,439.5 4050.0,527.0\" fill=\"none\" stroke=\"currentColor\"/>\n",
       "    <text dy=\"1.25em\" style=\"font-size: 0.8em; letter-spacing: 1px\">\n",
       "        <textPath xlink:href=\"#arrow-be62406c30d14a3e951c82f01358ad7d-0-18\" class=\"displacy-label\" startOffset=\"50%\" side=\"left\" fill=\"currentColor\" text-anchor=\"middle\">nk</textPath>\n",
       "    </text>\n",
       "    <path class=\"displacy-arrowhead\" d=\"M3920,529.0 L3912,517.0 3928,517.0\" fill=\"currentColor\"/>\n",
       "</g>\n",
       "\n",
       "<g class=\"displacy-arrow\">\n",
       "    <path class=\"displacy-arc\" id=\"arrow-be62406c30d14a3e951c82f01358ad7d-0-19\" stroke-width=\"2px\" d=\"M3745,527.0 C3745,352.0 4055.0,352.0 4055.0,527.0\" fill=\"none\" stroke=\"currentColor\"/>\n",
       "    <text dy=\"1.25em\" style=\"font-size: 0.8em; letter-spacing: 1px\">\n",
       "        <textPath xlink:href=\"#arrow-be62406c30d14a3e951c82f01358ad7d-0-19\" class=\"displacy-label\" startOffset=\"50%\" side=\"left\" fill=\"currentColor\" text-anchor=\"middle\">ag</textPath>\n",
       "    </text>\n",
       "    <path class=\"displacy-arrowhead\" d=\"M4055.0,529.0 L4063.0,517.0 4047.0,517.0\" fill=\"currentColor\"/>\n",
       "</g>\n",
       "\n",
       "<g class=\"displacy-arrow\">\n",
       "    <path class=\"displacy-arc\" id=\"arrow-be62406c30d14a3e951c82f01358ad7d-0-20\" stroke-width=\"2px\" d=\"M4445,527.0 C4445,439.5 4575.0,439.5 4575.0,527.0\" fill=\"none\" stroke=\"currentColor\"/>\n",
       "    <text dy=\"1.25em\" style=\"font-size: 0.8em; letter-spacing: 1px\">\n",
       "        <textPath xlink:href=\"#arrow-be62406c30d14a3e951c82f01358ad7d-0-20\" class=\"displacy-label\" startOffset=\"50%\" side=\"left\" fill=\"currentColor\" text-anchor=\"middle\">nk</textPath>\n",
       "    </text>\n",
       "    <path class=\"displacy-arrowhead\" d=\"M4445,529.0 L4437,517.0 4453,517.0\" fill=\"currentColor\"/>\n",
       "</g>\n",
       "\n",
       "<g class=\"displacy-arrow\">\n",
       "    <path class=\"displacy-arc\" id=\"arrow-be62406c30d14a3e951c82f01358ad7d-0-21\" stroke-width=\"2px\" d=\"M4270,527.0 C4270,352.0 4580.0,352.0 4580.0,527.0\" fill=\"none\" stroke=\"currentColor\"/>\n",
       "    <text dy=\"1.25em\" style=\"font-size: 0.8em; letter-spacing: 1px\">\n",
       "        <textPath xlink:href=\"#arrow-be62406c30d14a3e951c82f01358ad7d-0-21\" class=\"displacy-label\" startOffset=\"50%\" side=\"left\" fill=\"currentColor\" text-anchor=\"middle\">nk</textPath>\n",
       "    </text>\n",
       "    <path class=\"displacy-arrowhead\" d=\"M4580.0,529.0 L4588.0,517.0 4572.0,517.0\" fill=\"currentColor\"/>\n",
       "</g>\n",
       "\n",
       "<g class=\"displacy-arrow\">\n",
       "    <path class=\"displacy-arc\" id=\"arrow-be62406c30d14a3e951c82f01358ad7d-0-22\" stroke-width=\"2px\" d=\"M4795,527.0 C4795,439.5 4925.0,439.5 4925.0,527.0\" fill=\"none\" stroke=\"currentColor\"/>\n",
       "    <text dy=\"1.25em\" style=\"font-size: 0.8em; letter-spacing: 1px\">\n",
       "        <textPath xlink:href=\"#arrow-be62406c30d14a3e951c82f01358ad7d-0-22\" class=\"displacy-label\" startOffset=\"50%\" side=\"left\" fill=\"currentColor\" text-anchor=\"middle\">nk</textPath>\n",
       "    </text>\n",
       "    <path class=\"displacy-arrowhead\" d=\"M4795,529.0 L4787,517.0 4803,517.0\" fill=\"currentColor\"/>\n",
       "</g>\n",
       "\n",
       "<g class=\"displacy-arrow\">\n",
       "    <path class=\"displacy-arc\" id=\"arrow-be62406c30d14a3e951c82f01358ad7d-0-23\" stroke-width=\"2px\" d=\"M4620,527.0 C4620,352.0 4930.0,352.0 4930.0,527.0\" fill=\"none\" stroke=\"currentColor\"/>\n",
       "    <text dy=\"1.25em\" style=\"font-size: 0.8em; letter-spacing: 1px\">\n",
       "        <textPath xlink:href=\"#arrow-be62406c30d14a3e951c82f01358ad7d-0-23\" class=\"displacy-label\" startOffset=\"50%\" side=\"left\" fill=\"currentColor\" text-anchor=\"middle\">ag</textPath>\n",
       "    </text>\n",
       "    <path class=\"displacy-arrowhead\" d=\"M4930.0,529.0 L4938.0,517.0 4922.0,517.0\" fill=\"currentColor\"/>\n",
       "</g>\n",
       "\n",
       "<g class=\"displacy-arrow\">\n",
       "    <path class=\"displacy-arc\" id=\"arrow-be62406c30d14a3e951c82f01358ad7d-0-24\" stroke-width=\"2px\" d=\"M4970,527.0 C4970,439.5 5100.0,439.5 5100.0,527.0\" fill=\"none\" stroke=\"currentColor\"/>\n",
       "    <text dy=\"1.25em\" style=\"font-size: 0.8em; letter-spacing: 1px\">\n",
       "        <textPath xlink:href=\"#arrow-be62406c30d14a3e951c82f01358ad7d-0-24\" class=\"displacy-label\" startOffset=\"50%\" side=\"left\" fill=\"currentColor\" text-anchor=\"middle\">nk</textPath>\n",
       "    </text>\n",
       "    <path class=\"displacy-arrowhead\" d=\"M5100.0,529.0 L5108.0,517.0 5092.0,517.0\" fill=\"currentColor\"/>\n",
       "</g>\n",
       "\n",
       "<g class=\"displacy-arrow\">\n",
       "    <path class=\"displacy-arc\" id=\"arrow-be62406c30d14a3e951c82f01358ad7d-0-25\" stroke-width=\"2px\" d=\"M5320,527.0 C5320,264.5 5810.0,264.5 5810.0,527.0\" fill=\"none\" stroke=\"currentColor\"/>\n",
       "    <text dy=\"1.25em\" style=\"font-size: 0.8em; letter-spacing: 1px\">\n",
       "        <textPath xlink:href=\"#arrow-be62406c30d14a3e951c82f01358ad7d-0-25\" class=\"displacy-label\" startOffset=\"50%\" side=\"left\" fill=\"currentColor\" text-anchor=\"middle\">mo</textPath>\n",
       "    </text>\n",
       "    <path class=\"displacy-arrowhead\" d=\"M5320,529.0 L5312,517.0 5328,517.0\" fill=\"currentColor\"/>\n",
       "</g>\n",
       "\n",
       "<g class=\"displacy-arrow\">\n",
       "    <path class=\"displacy-arc\" id=\"arrow-be62406c30d14a3e951c82f01358ad7d-0-26\" stroke-width=\"2px\" d=\"M5320,527.0 C5320,439.5 5450.0,439.5 5450.0,527.0\" fill=\"none\" stroke=\"currentColor\"/>\n",
       "    <text dy=\"1.25em\" style=\"font-size: 0.8em; letter-spacing: 1px\">\n",
       "        <textPath xlink:href=\"#arrow-be62406c30d14a3e951c82f01358ad7d-0-26\" class=\"displacy-label\" startOffset=\"50%\" side=\"left\" fill=\"currentColor\" text-anchor=\"middle\">nk</textPath>\n",
       "    </text>\n",
       "    <path class=\"displacy-arrowhead\" d=\"M5450.0,529.0 L5458.0,517.0 5442.0,517.0\" fill=\"currentColor\"/>\n",
       "</g>\n",
       "\n",
       "<g class=\"displacy-arrow\">\n",
       "    <path class=\"displacy-arc\" id=\"arrow-be62406c30d14a3e951c82f01358ad7d-0-27\" stroke-width=\"2px\" d=\"M5495,527.0 C5495,439.5 5625.0,439.5 5625.0,527.0\" fill=\"none\" stroke=\"currentColor\"/>\n",
       "    <text dy=\"1.25em\" style=\"font-size: 0.8em; letter-spacing: 1px\">\n",
       "        <textPath xlink:href=\"#arrow-be62406c30d14a3e951c82f01358ad7d-0-27\" class=\"displacy-label\" startOffset=\"50%\" side=\"left\" fill=\"currentColor\" text-anchor=\"middle\">nk</textPath>\n",
       "    </text>\n",
       "    <path class=\"displacy-arrowhead\" d=\"M5625.0,529.0 L5633.0,517.0 5617.0,517.0\" fill=\"currentColor\"/>\n",
       "</g>\n",
       "\n",
       "<g class=\"displacy-arrow\">\n",
       "    <path class=\"displacy-arc\" id=\"arrow-be62406c30d14a3e951c82f01358ad7d-0-28\" stroke-width=\"2px\" d=\"M6020,527.0 C6020,439.5 6150.0,439.5 6150.0,527.0\" fill=\"none\" stroke=\"currentColor\"/>\n",
       "    <text dy=\"1.25em\" style=\"font-size: 0.8em; letter-spacing: 1px\">\n",
       "        <textPath xlink:href=\"#arrow-be62406c30d14a3e951c82f01358ad7d-0-28\" class=\"displacy-label\" startOffset=\"50%\" side=\"left\" fill=\"currentColor\" text-anchor=\"middle\">nk</textPath>\n",
       "    </text>\n",
       "    <path class=\"displacy-arrowhead\" d=\"M6020,529.0 L6012,517.0 6028,517.0\" fill=\"currentColor\"/>\n",
       "</g>\n",
       "\n",
       "<g class=\"displacy-arrow\">\n",
       "    <path class=\"displacy-arc\" id=\"arrow-be62406c30d14a3e951c82f01358ad7d-0-29\" stroke-width=\"2px\" d=\"M5845,527.0 C5845,352.0 6155.0,352.0 6155.0,527.0\" fill=\"none\" stroke=\"currentColor\"/>\n",
       "    <text dy=\"1.25em\" style=\"font-size: 0.8em; letter-spacing: 1px\">\n",
       "        <textPath xlink:href=\"#arrow-be62406c30d14a3e951c82f01358ad7d-0-29\" class=\"displacy-label\" startOffset=\"50%\" side=\"left\" fill=\"currentColor\" text-anchor=\"middle\">ag</textPath>\n",
       "    </text>\n",
       "    <path class=\"displacy-arrowhead\" d=\"M6155.0,529.0 L6163.0,517.0 6147.0,517.0\" fill=\"currentColor\"/>\n",
       "</g>\n",
       "\n",
       "<g class=\"displacy-arrow\">\n",
       "    <path class=\"displacy-arc\" id=\"arrow-be62406c30d14a3e951c82f01358ad7d-0-30\" stroke-width=\"2px\" d=\"M6545,527.0 C6545,439.5 6675.0,439.5 6675.0,527.0\" fill=\"none\" stroke=\"currentColor\"/>\n",
       "    <text dy=\"1.25em\" style=\"font-size: 0.8em; letter-spacing: 1px\">\n",
       "        <textPath xlink:href=\"#arrow-be62406c30d14a3e951c82f01358ad7d-0-30\" class=\"displacy-label\" startOffset=\"50%\" side=\"left\" fill=\"currentColor\" text-anchor=\"middle\">nk</textPath>\n",
       "    </text>\n",
       "    <path class=\"displacy-arrowhead\" d=\"M6545,529.0 L6537,517.0 6553,517.0\" fill=\"currentColor\"/>\n",
       "</g>\n",
       "\n",
       "<g class=\"displacy-arrow\">\n",
       "    <path class=\"displacy-arc\" id=\"arrow-be62406c30d14a3e951c82f01358ad7d-0-31\" stroke-width=\"2px\" d=\"M6370,527.0 C6370,352.0 6680.0,352.0 6680.0,527.0\" fill=\"none\" stroke=\"currentColor\"/>\n",
       "    <text dy=\"1.25em\" style=\"font-size: 0.8em; letter-spacing: 1px\">\n",
       "        <textPath xlink:href=\"#arrow-be62406c30d14a3e951c82f01358ad7d-0-31\" class=\"displacy-label\" startOffset=\"50%\" side=\"left\" fill=\"currentColor\" text-anchor=\"middle\">ag</textPath>\n",
       "    </text>\n",
       "    <path class=\"displacy-arrowhead\" d=\"M6680.0,529.0 L6688.0,517.0 6672.0,517.0\" fill=\"currentColor\"/>\n",
       "</g>\n",
       "\n",
       "<g class=\"displacy-arrow\">\n",
       "    <path class=\"displacy-arc\" id=\"arrow-be62406c30d14a3e951c82f01358ad7d-0-32\" stroke-width=\"2px\" d=\"M6370,527.0 C6370,264.5 6860.0,264.5 6860.0,527.0\" fill=\"none\" stroke=\"currentColor\"/>\n",
       "    <text dy=\"1.25em\" style=\"font-size: 0.8em; letter-spacing: 1px\">\n",
       "        <textPath xlink:href=\"#arrow-be62406c30d14a3e951c82f01358ad7d-0-32\" class=\"displacy-label\" startOffset=\"50%\" side=\"left\" fill=\"currentColor\" text-anchor=\"middle\">mnr</textPath>\n",
       "    </text>\n",
       "    <path class=\"displacy-arrowhead\" d=\"M6860.0,529.0 L6868.0,517.0 6852.0,517.0\" fill=\"currentColor\"/>\n",
       "</g>\n",
       "\n",
       "<g class=\"displacy-arrow\">\n",
       "    <path class=\"displacy-arc\" id=\"arrow-be62406c30d14a3e951c82f01358ad7d-0-33\" stroke-width=\"2px\" d=\"M6895,527.0 C6895,439.5 7025.0,439.5 7025.0,527.0\" fill=\"none\" stroke=\"currentColor\"/>\n",
       "    <text dy=\"1.25em\" style=\"font-size: 0.8em; letter-spacing: 1px\">\n",
       "        <textPath xlink:href=\"#arrow-be62406c30d14a3e951c82f01358ad7d-0-33\" class=\"displacy-label\" startOffset=\"50%\" side=\"left\" fill=\"currentColor\" text-anchor=\"middle\">nk</textPath>\n",
       "    </text>\n",
       "    <path class=\"displacy-arrowhead\" d=\"M7025.0,529.0 L7033.0,517.0 7017.0,517.0\" fill=\"currentColor\"/>\n",
       "</g>\n",
       "\n",
       "<g class=\"displacy-arrow\">\n",
       "    <path class=\"displacy-arc\" id=\"arrow-be62406c30d14a3e951c82f01358ad7d-0-34\" stroke-width=\"2px\" d=\"M7245,527.0 C7245,264.5 7735.0,264.5 7735.0,527.0\" fill=\"none\" stroke=\"currentColor\"/>\n",
       "    <text dy=\"1.25em\" style=\"font-size: 0.8em; letter-spacing: 1px\">\n",
       "        <textPath xlink:href=\"#arrow-be62406c30d14a3e951c82f01358ad7d-0-34\" class=\"displacy-label\" startOffset=\"50%\" side=\"left\" fill=\"currentColor\" text-anchor=\"middle\">nmc</textPath>\n",
       "    </text>\n",
       "    <path class=\"displacy-arrowhead\" d=\"M7245,529.0 L7237,517.0 7253,517.0\" fill=\"currentColor\"/>\n",
       "</g>\n",
       "\n",
       "<g class=\"displacy-arrow\">\n",
       "    <path class=\"displacy-arc\" id=\"arrow-be62406c30d14a3e951c82f01358ad7d-0-35\" stroke-width=\"2px\" d=\"M7245,527.0 C7245,439.5 7375.0,439.5 7375.0,527.0\" fill=\"none\" stroke=\"currentColor\"/>\n",
       "    <text dy=\"1.25em\" style=\"font-size: 0.8em; letter-spacing: 1px\">\n",
       "        <textPath xlink:href=\"#arrow-be62406c30d14a3e951c82f01358ad7d-0-35\" class=\"displacy-label\" startOffset=\"50%\" side=\"left\" fill=\"currentColor\" text-anchor=\"middle\">cd</textPath>\n",
       "    </text>\n",
       "    <path class=\"displacy-arrowhead\" d=\"M7375.0,529.0 L7383.0,517.0 7367.0,517.0\" fill=\"currentColor\"/>\n",
       "</g>\n",
       "\n",
       "<g class=\"displacy-arrow\">\n",
       "    <path class=\"displacy-arc\" id=\"arrow-be62406c30d14a3e951c82f01358ad7d-0-36\" stroke-width=\"2px\" d=\"M7420,527.0 C7420,439.5 7550.0,439.5 7550.0,527.0\" fill=\"none\" stroke=\"currentColor\"/>\n",
       "    <text dy=\"1.25em\" style=\"font-size: 0.8em; letter-spacing: 1px\">\n",
       "        <textPath xlink:href=\"#arrow-be62406c30d14a3e951c82f01358ad7d-0-36\" class=\"displacy-label\" startOffset=\"50%\" side=\"left\" fill=\"currentColor\" text-anchor=\"middle\">cj</textPath>\n",
       "    </text>\n",
       "    <path class=\"displacy-arrowhead\" d=\"M7550.0,529.0 L7558.0,517.0 7542.0,517.0\" fill=\"currentColor\"/>\n",
       "</g>\n",
       "\n",
       "<g class=\"displacy-arrow\">\n",
       "    <path class=\"displacy-arc\" id=\"arrow-be62406c30d14a3e951c82f01358ad7d-0-37\" stroke-width=\"2px\" d=\"M7770,527.0 C7770,352.0 8080.0,352.0 8080.0,527.0\" fill=\"none\" stroke=\"currentColor\"/>\n",
       "    <text dy=\"1.25em\" style=\"font-size: 0.8em; letter-spacing: 1px\">\n",
       "        <textPath xlink:href=\"#arrow-be62406c30d14a3e951c82f01358ad7d-0-37\" class=\"displacy-label\" startOffset=\"50%\" side=\"left\" fill=\"currentColor\" text-anchor=\"middle\">nk</textPath>\n",
       "    </text>\n",
       "    <path class=\"displacy-arrowhead\" d=\"M7770,529.0 L7762,517.0 7778,517.0\" fill=\"currentColor\"/>\n",
       "</g>\n",
       "\n",
       "<g class=\"displacy-arrow\">\n",
       "    <path class=\"displacy-arc\" id=\"arrow-be62406c30d14a3e951c82f01358ad7d-0-38\" stroke-width=\"2px\" d=\"M7945,527.0 C7945,439.5 8075.0,439.5 8075.0,527.0\" fill=\"none\" stroke=\"currentColor\"/>\n",
       "    <text dy=\"1.25em\" style=\"font-size: 0.8em; letter-spacing: 1px\">\n",
       "        <textPath xlink:href=\"#arrow-be62406c30d14a3e951c82f01358ad7d-0-38\" class=\"displacy-label\" startOffset=\"50%\" side=\"left\" fill=\"currentColor\" text-anchor=\"middle\">nk</textPath>\n",
       "    </text>\n",
       "    <path class=\"displacy-arrowhead\" d=\"M7945,529.0 L7937,517.0 7953,517.0\" fill=\"currentColor\"/>\n",
       "</g>\n",
       "\n",
       "<g class=\"displacy-arrow\">\n",
       "    <path class=\"displacy-arc\" id=\"arrow-be62406c30d14a3e951c82f01358ad7d-0-39\" stroke-width=\"2px\" d=\"M8120,527.0 C8120,439.5 8250.0,439.5 8250.0,527.0\" fill=\"none\" stroke=\"currentColor\"/>\n",
       "    <text dy=\"1.25em\" style=\"font-size: 0.8em; letter-spacing: 1px\">\n",
       "        <textPath xlink:href=\"#arrow-be62406c30d14a3e951c82f01358ad7d-0-39\" class=\"displacy-label\" startOffset=\"50%\" side=\"left\" fill=\"currentColor\" text-anchor=\"middle\">mnr</textPath>\n",
       "    </text>\n",
       "    <path class=\"displacy-arrowhead\" d=\"M8250.0,529.0 L8258.0,517.0 8242.0,517.0\" fill=\"currentColor\"/>\n",
       "</g>\n",
       "\n",
       "<g class=\"displacy-arrow\">\n",
       "    <path class=\"displacy-arc\" id=\"arrow-be62406c30d14a3e951c82f01358ad7d-0-40\" stroke-width=\"2px\" d=\"M8295,527.0 C8295,439.5 8425.0,439.5 8425.0,527.0\" fill=\"none\" stroke=\"currentColor\"/>\n",
       "    <text dy=\"1.25em\" style=\"font-size: 0.8em; letter-spacing: 1px\">\n",
       "        <textPath xlink:href=\"#arrow-be62406c30d14a3e951c82f01358ad7d-0-40\" class=\"displacy-label\" startOffset=\"50%\" side=\"left\" fill=\"currentColor\" text-anchor=\"middle\">nk</textPath>\n",
       "    </text>\n",
       "    <path class=\"displacy-arrowhead\" d=\"M8425.0,529.0 L8433.0,517.0 8417.0,517.0\" fill=\"currentColor\"/>\n",
       "</g>\n",
       "\n",
       "<g class=\"displacy-arrow\">\n",
       "    <path class=\"displacy-arc\" id=\"arrow-be62406c30d14a3e951c82f01358ad7d-0-41\" stroke-width=\"2px\" d=\"M8645,527.0 C8645,439.5 8775.0,439.5 8775.0,527.0\" fill=\"none\" stroke=\"currentColor\"/>\n",
       "    <text dy=\"1.25em\" style=\"font-size: 0.8em; letter-spacing: 1px\">\n",
       "        <textPath xlink:href=\"#arrow-be62406c30d14a3e951c82f01358ad7d-0-41\" class=\"displacy-label\" startOffset=\"50%\" side=\"left\" fill=\"currentColor\" text-anchor=\"middle\">nk</textPath>\n",
       "    </text>\n",
       "    <path class=\"displacy-arrowhead\" d=\"M8645,529.0 L8637,517.0 8653,517.0\" fill=\"currentColor\"/>\n",
       "</g>\n",
       "\n",
       "<g class=\"displacy-arrow\">\n",
       "    <path class=\"displacy-arc\" id=\"arrow-be62406c30d14a3e951c82f01358ad7d-0-42\" stroke-width=\"2px\" d=\"M8470,527.0 C8470,352.0 8780.0,352.0 8780.0,527.0\" fill=\"none\" stroke=\"currentColor\"/>\n",
       "    <text dy=\"1.25em\" style=\"font-size: 0.8em; letter-spacing: 1px\">\n",
       "        <textPath xlink:href=\"#arrow-be62406c30d14a3e951c82f01358ad7d-0-42\" class=\"displacy-label\" startOffset=\"50%\" side=\"left\" fill=\"currentColor\" text-anchor=\"middle\">ag</textPath>\n",
       "    </text>\n",
       "    <path class=\"displacy-arrowhead\" d=\"M8780.0,529.0 L8788.0,517.0 8772.0,517.0\" fill=\"currentColor\"/>\n",
       "</g>\n",
       "\n",
       "<g class=\"displacy-arrow\">\n",
       "    <path class=\"displacy-arc\" id=\"arrow-be62406c30d14a3e951c82f01358ad7d-0-43\" stroke-width=\"2px\" d=\"M8995,527.0 C8995,439.5 9125.0,439.5 9125.0,527.0\" fill=\"none\" stroke=\"currentColor\"/>\n",
       "    <text dy=\"1.25em\" style=\"font-size: 0.8em; letter-spacing: 1px\">\n",
       "        <textPath xlink:href=\"#arrow-be62406c30d14a3e951c82f01358ad7d-0-43\" class=\"displacy-label\" startOffset=\"50%\" side=\"left\" fill=\"currentColor\" text-anchor=\"middle\">nk</textPath>\n",
       "    </text>\n",
       "    <path class=\"displacy-arrowhead\" d=\"M9125.0,529.0 L9133.0,517.0 9117.0,517.0\" fill=\"currentColor\"/>\n",
       "</g>\n",
       "\n",
       "<g class=\"displacy-arrow\">\n",
       "    <path class=\"displacy-arc\" id=\"arrow-be62406c30d14a3e951c82f01358ad7d-0-44\" stroke-width=\"2px\" d=\"M8995,527.0 C8995,352.0 9305.0,352.0 9305.0,527.0\" fill=\"none\" stroke=\"currentColor\"/>\n",
       "    <text dy=\"1.25em\" style=\"font-size: 0.8em; letter-spacing: 1px\">\n",
       "        <textPath xlink:href=\"#arrow-be62406c30d14a3e951c82f01358ad7d-0-44\" class=\"displacy-label\" startOffset=\"50%\" side=\"left\" fill=\"currentColor\" text-anchor=\"middle\">mo</textPath>\n",
       "    </text>\n",
       "    <path class=\"displacy-arrowhead\" d=\"M9305.0,529.0 L9313.0,517.0 9297.0,517.0\" fill=\"currentColor\"/>\n",
       "</g>\n",
       "\n",
       "<g class=\"displacy-arrow\">\n",
       "    <path class=\"displacy-arc\" id=\"arrow-be62406c30d14a3e951c82f01358ad7d-0-45\" stroke-width=\"2px\" d=\"M9345,527.0 C9345,439.5 9475.0,439.5 9475.0,527.0\" fill=\"none\" stroke=\"currentColor\"/>\n",
       "    <text dy=\"1.25em\" style=\"font-size: 0.8em; letter-spacing: 1px\">\n",
       "        <textPath xlink:href=\"#arrow-be62406c30d14a3e951c82f01358ad7d-0-45\" class=\"displacy-label\" startOffset=\"50%\" side=\"left\" fill=\"currentColor\" text-anchor=\"middle\">nk</textPath>\n",
       "    </text>\n",
       "    <path class=\"displacy-arrowhead\" d=\"M9475.0,529.0 L9483.0,517.0 9467.0,517.0\" fill=\"currentColor\"/>\n",
       "</g>\n",
       "\n",
       "<g class=\"displacy-arrow\">\n",
       "    <path class=\"displacy-arc\" id=\"arrow-be62406c30d14a3e951c82f01358ad7d-0-46\" stroke-width=\"2px\" d=\"M9695,527.0 C9695,439.5 9825.0,439.5 9825.0,527.0\" fill=\"none\" stroke=\"currentColor\"/>\n",
       "    <text dy=\"1.25em\" style=\"font-size: 0.8em; letter-spacing: 1px\">\n",
       "        <textPath xlink:href=\"#arrow-be62406c30d14a3e951c82f01358ad7d-0-46\" class=\"displacy-label\" startOffset=\"50%\" side=\"left\" fill=\"currentColor\" text-anchor=\"middle\">nk</textPath>\n",
       "    </text>\n",
       "    <path class=\"displacy-arrowhead\" d=\"M9695,529.0 L9687,517.0 9703,517.0\" fill=\"currentColor\"/>\n",
       "</g>\n",
       "\n",
       "<g class=\"displacy-arrow\">\n",
       "    <path class=\"displacy-arc\" id=\"arrow-be62406c30d14a3e951c82f01358ad7d-0-47\" stroke-width=\"2px\" d=\"M8995,527.0 C8995,89.5 9845.0,89.5 9845.0,527.0\" fill=\"none\" stroke=\"currentColor\"/>\n",
       "    <text dy=\"1.25em\" style=\"font-size: 0.8em; letter-spacing: 1px\">\n",
       "        <textPath xlink:href=\"#arrow-be62406c30d14a3e951c82f01358ad7d-0-47\" class=\"displacy-label\" startOffset=\"50%\" side=\"left\" fill=\"currentColor\" text-anchor=\"middle\">pd</textPath>\n",
       "    </text>\n",
       "    <path class=\"displacy-arrowhead\" d=\"M9845.0,529.0 L9853.0,517.0 9837.0,517.0\" fill=\"currentColor\"/>\n",
       "</g>\n",
       "\n",
       "<g class=\"displacy-arrow\">\n",
       "    <path class=\"displacy-arc\" id=\"arrow-be62406c30d14a3e951c82f01358ad7d-0-48\" stroke-width=\"2px\" d=\"M9870,527.0 C9870,439.5 10000.0,439.5 10000.0,527.0\" fill=\"none\" stroke=\"currentColor\"/>\n",
       "    <text dy=\"1.25em\" style=\"font-size: 0.8em; letter-spacing: 1px\">\n",
       "        <textPath xlink:href=\"#arrow-be62406c30d14a3e951c82f01358ad7d-0-48\" class=\"displacy-label\" startOffset=\"50%\" side=\"left\" fill=\"currentColor\" text-anchor=\"middle\">mnr</textPath>\n",
       "    </text>\n",
       "    <path class=\"displacy-arrowhead\" d=\"M10000.0,529.0 L10008.0,517.0 9992.0,517.0\" fill=\"currentColor\"/>\n",
       "</g>\n",
       "\n",
       "<g class=\"displacy-arrow\">\n",
       "    <path class=\"displacy-arc\" id=\"arrow-be62406c30d14a3e951c82f01358ad7d-0-49\" stroke-width=\"2px\" d=\"M10045,527.0 C10045,439.5 10175.0,439.5 10175.0,527.0\" fill=\"none\" stroke=\"currentColor\"/>\n",
       "    <text dy=\"1.25em\" style=\"font-size: 0.8em; letter-spacing: 1px\">\n",
       "        <textPath xlink:href=\"#arrow-be62406c30d14a3e951c82f01358ad7d-0-49\" class=\"displacy-label\" startOffset=\"50%\" side=\"left\" fill=\"currentColor\" text-anchor=\"middle\">nk</textPath>\n",
       "    </text>\n",
       "    <path class=\"displacy-arrowhead\" d=\"M10175.0,529.0 L10183.0,517.0 10167.0,517.0\" fill=\"currentColor\"/>\n",
       "</g>\n",
       "\n",
       "<g class=\"displacy-arrow\">\n",
       "    <path class=\"displacy-arc\" id=\"arrow-be62406c30d14a3e951c82f01358ad7d-0-50\" stroke-width=\"2px\" d=\"M10395,527.0 C10395,439.5 10525.0,439.5 10525.0,527.0\" fill=\"none\" stroke=\"currentColor\"/>\n",
       "    <text dy=\"1.25em\" style=\"font-size: 0.8em; letter-spacing: 1px\">\n",
       "        <textPath xlink:href=\"#arrow-be62406c30d14a3e951c82f01358ad7d-0-50\" class=\"displacy-label\" startOffset=\"50%\" side=\"left\" fill=\"currentColor\" text-anchor=\"middle\">nk</textPath>\n",
       "    </text>\n",
       "    <path class=\"displacy-arrowhead\" d=\"M10525.0,529.0 L10533.0,517.0 10517.0,517.0\" fill=\"currentColor\"/>\n",
       "</g>\n",
       "\n",
       "<g class=\"displacy-arrow\">\n",
       "    <path class=\"displacy-arc\" id=\"arrow-be62406c30d14a3e951c82f01358ad7d-0-51\" stroke-width=\"2px\" d=\"M10570,527.0 C10570,439.5 10700.0,439.5 10700.0,527.0\" fill=\"none\" stroke=\"currentColor\"/>\n",
       "    <text dy=\"1.25em\" style=\"font-size: 0.8em; letter-spacing: 1px\">\n",
       "        <textPath xlink:href=\"#arrow-be62406c30d14a3e951c82f01358ad7d-0-51\" class=\"displacy-label\" startOffset=\"50%\" side=\"left\" fill=\"currentColor\" text-anchor=\"middle\">nk</textPath>\n",
       "    </text>\n",
       "    <path class=\"displacy-arrowhead\" d=\"M10700.0,529.0 L10708.0,517.0 10692.0,517.0\" fill=\"currentColor\"/>\n",
       "</g>\n",
       "\n",
       "<g class=\"displacy-arrow\">\n",
       "    <path class=\"displacy-arc\" id=\"arrow-be62406c30d14a3e951c82f01358ad7d-0-52\" stroke-width=\"2px\" d=\"M10920,527.0 C10920,439.5 11050.0,439.5 11050.0,527.0\" fill=\"none\" stroke=\"currentColor\"/>\n",
       "    <text dy=\"1.25em\" style=\"font-size: 0.8em; letter-spacing: 1px\">\n",
       "        <textPath xlink:href=\"#arrow-be62406c30d14a3e951c82f01358ad7d-0-52\" class=\"displacy-label\" startOffset=\"50%\" side=\"left\" fill=\"currentColor\" text-anchor=\"middle\">nk</textPath>\n",
       "    </text>\n",
       "    <path class=\"displacy-arrowhead\" d=\"M10920,529.0 L10912,517.0 10928,517.0\" fill=\"currentColor\"/>\n",
       "</g>\n",
       "\n",
       "<g class=\"displacy-arrow\">\n",
       "    <path class=\"displacy-arc\" id=\"arrow-be62406c30d14a3e951c82f01358ad7d-0-53\" stroke-width=\"2px\" d=\"M10395,527.0 C10395,177.0 11065.0,177.0 11065.0,527.0\" fill=\"none\" stroke=\"currentColor\"/>\n",
       "    <text dy=\"1.25em\" style=\"font-size: 0.8em; letter-spacing: 1px\">\n",
       "        <textPath xlink:href=\"#arrow-be62406c30d14a3e951c82f01358ad7d-0-53\" class=\"displacy-label\" startOffset=\"50%\" side=\"left\" fill=\"currentColor\" text-anchor=\"middle\">pd</textPath>\n",
       "    </text>\n",
       "    <path class=\"displacy-arrowhead\" d=\"M11065.0,529.0 L11073.0,517.0 11057.0,517.0\" fill=\"currentColor\"/>\n",
       "</g>\n",
       "\n",
       "<g class=\"displacy-arrow\">\n",
       "    <path class=\"displacy-arc\" id=\"arrow-be62406c30d14a3e951c82f01358ad7d-0-54\" stroke-width=\"2px\" d=\"M11270,527.0 C11270,439.5 11400.0,439.5 11400.0,527.0\" fill=\"none\" stroke=\"currentColor\"/>\n",
       "    <text dy=\"1.25em\" style=\"font-size: 0.8em; letter-spacing: 1px\">\n",
       "        <textPath xlink:href=\"#arrow-be62406c30d14a3e951c82f01358ad7d-0-54\" class=\"displacy-label\" startOffset=\"50%\" side=\"left\" fill=\"currentColor\" text-anchor=\"middle\">nk</textPath>\n",
       "    </text>\n",
       "    <path class=\"displacy-arrowhead\" d=\"M11270,529.0 L11262,517.0 11278,517.0\" fill=\"currentColor\"/>\n",
       "</g>\n",
       "\n",
       "<g class=\"displacy-arrow\">\n",
       "    <path class=\"displacy-arc\" id=\"arrow-be62406c30d14a3e951c82f01358ad7d-0-55\" stroke-width=\"2px\" d=\"M11095,527.0 C11095,352.0 11405.0,352.0 11405.0,527.0\" fill=\"none\" stroke=\"currentColor\"/>\n",
       "    <text dy=\"1.25em\" style=\"font-size: 0.8em; letter-spacing: 1px\">\n",
       "        <textPath xlink:href=\"#arrow-be62406c30d14a3e951c82f01358ad7d-0-55\" class=\"displacy-label\" startOffset=\"50%\" side=\"left\" fill=\"currentColor\" text-anchor=\"middle\">ag</textPath>\n",
       "    </text>\n",
       "    <path class=\"displacy-arrowhead\" d=\"M11405.0,529.0 L11413.0,517.0 11397.0,517.0\" fill=\"currentColor\"/>\n",
       "</g>\n",
       "\n",
       "<g class=\"displacy-arrow\">\n",
       "    <path class=\"displacy-arc\" id=\"arrow-be62406c30d14a3e951c82f01358ad7d-0-56\" stroke-width=\"2px\" d=\"M11095,527.0 C11095,264.5 11585.0,264.5 11585.0,527.0\" fill=\"none\" stroke=\"currentColor\"/>\n",
       "    <text dy=\"1.25em\" style=\"font-size: 0.8em; letter-spacing: 1px\">\n",
       "        <textPath xlink:href=\"#arrow-be62406c30d14a3e951c82f01358ad7d-0-56\" class=\"displacy-label\" startOffset=\"50%\" side=\"left\" fill=\"currentColor\" text-anchor=\"middle\">ag</textPath>\n",
       "    </text>\n",
       "    <path class=\"displacy-arrowhead\" d=\"M11585.0,529.0 L11593.0,517.0 11577.0,517.0\" fill=\"currentColor\"/>\n",
       "</g>\n",
       "</svg></span>"
      ],
      "text/plain": [
       "<IPython.core.display.HTML object>"
      ]
     },
     "metadata": {},
     "output_type": "display_data"
    }
   ],
   "source": [
    "displacy.render(doc, style=\"dep\")"
   ]
  },
  {
   "cell_type": "markdown",
   "id": "alike-casting",
   "metadata": {
    "slideshow": {
     "slide_type": "slide"
    }
   },
   "source": [
    "## Machine Learning\n",
    "\n",
    "The field of machine learning is too broad to be fully introduced here. Please, see [Google's machine learning crash course](https://developers.google.com/machine-learning/crash-course/ml-intro). We'll focus on a couple of examples and introduce ML libraries written in or providing a Python API.\n",
    "\n",
    "- [scikit-learn](https://scikit-learn.org/): popular Python ML framework covering regression, classification and clustering using various approaches\n",
    "- [fastText](https://fasttext.cc/): a library for text classification and word representation learning with Python bindings\n",
    "- [TensorFlow](https://www.tensorflow.org/): ML framework with Python bindings focused on deep neural networks\n",
    "- [Keras](https://keras.io/): high-level API to Tensorflow\n",
    "- [PyTorch](https://pytorch.org/): competitor of Tensorflow\n",
    "- [Transformers](https://huggingface.co/transformers/): library to use, train and adapt [transformer deep learning models](https://en.wikipedia.org/wiki/Transformer_(machine_learning_model))"
   ]
  },
  {
   "cell_type": "markdown",
   "id": "animated-advance",
   "metadata": {
    "slideshow": {
     "slide_type": "slide"
    }
   },
   "source": [
    "## Text Classification with fastText\n",
    "\n",
    "[fastText](https://fasttext.cc/) is a software library for text\n",
    "classification and word representation learning. See the fastText\n",
    "tutorials for\n",
    "\n",
    "- [text classification](https://fasttext.cc/docs/en/supervised-tutorial.html)\n",
    "- [word representation learning](https://fasttext.cc/docs/en/unsupervised-tutorial.html)\n",
    "\n",
    "We will now follow the [fastText text\n",
    "classification](https://fasttext.cc/docs/en/supervised-tutorial.html)\n",
    "tutorial (cf. documentation of the [Python module\n",
    "\"fasttext\"](https://pypi.org/project/fasttext/)) to train and apply\n",
    "a text classifier.\n"
   ]
  },
  {
   "cell_type": "markdown",
   "id": "atomic-activity",
   "metadata": {
    "slideshow": {
     "slide_type": "subslide"
    }
   },
   "source": [
    "The fastText tutorial uses the StackExchange cooking data set. We will use the [Kaggle Toxic Comment Classification Challenge](https://www.kaggle.com/c/jigsaw-toxic-comment-classification-challenge/overview) data set. In order to download the data set, you need to register at [Kaggle.com](https://www.kaggle.com/). Note: Kaggle is a good place to look and learn how other researchers and engineers tried to solve various ML problems.\n",
    "\n",
    "After the data set is downloaded and unpacked into the folder `data/kaggle-jigsaw-toxic`, you should see the tree files `train.csv`, `test.csv` and `test_labels.csv` in the mentioned folder. "
   ]
  },
  {
   "cell_type": "code",
   "execution_count": 6,
   "id": "excess-program",
   "metadata": {
    "slideshow": {
     "slide_type": "subslide"
    }
   },
   "outputs": [],
   "source": [
    "import pandas as pd\n",
    "\n",
    "df_train = pd.read_csv('data/kaggle-jigsaw-toxic/train.csv')\n",
    "\n",
    "#df.head()"
   ]
  },
  {
   "cell_type": "code",
   "execution_count": 7,
   "id": "green-tolerance",
   "metadata": {
    "slideshow": {
     "slide_type": "subslide"
    }
   },
   "outputs": [
    {
     "data": {
      "text/plain": [
       "toxic            0.095844\n",
       "severe_toxic     0.009996\n",
       "obscene          0.052948\n",
       "threat           0.002996\n",
       "insult           0.049364\n",
       "identity_hate    0.008805\n",
       "dtype: float64"
      ]
     },
     "execution_count": 7,
     "metadata": {},
     "output_type": "execute_result"
    }
   ],
   "source": [
    "labels = ['toxic', 'severe_toxic', 'obscene', 'threat', 'insult', 'identity_hate']\n",
    "\n",
    "df_train[labels].mean()"
   ]
  },
  {
   "cell_type": "markdown",
   "id": "stylish-zealand",
   "metadata": {
    "slideshow": {
     "slide_type": "subslide"
    }
   },
   "source": [
    "Only 10% of the comments are toxic. What does it mean for building a classifier?"
   ]
  },
  {
   "cell_type": "code",
   "execution_count": 8,
   "id": "inside-christianity",
   "metadata": {
    "slideshow": {
     "slide_type": "subslide"
    }
   },
   "outputs": [
    {
     "data": {
      "text/plain": [
       "\"you're a hero http://example.com/index.html\""
      ]
     },
     "execution_count": 8,
     "metadata": {},
     "output_type": "execute_result"
    }
   ],
   "source": [
    "# tokenize the comments\n",
    "import string\n",
    "\n",
    "from nltk.tokenize import TweetTokenizer\n",
    "\n",
    "tweet_tokenizer = TweetTokenizer(reduce_len=True)\n",
    "\n",
    "def tokenize(text):\n",
    "    global tweet_tokenizer\n",
    "    words = tweet_tokenizer.tokenize(text)\n",
    "    words = filter(lambda w: w != ''\n",
    "                             and w not in string.punctuation, words)\n",
    "    words = map(lambda w: w.lower(), words)\n",
    "    return ' '.join(words)\n",
    "\n",
    "tokenize(\"You're a hero! http://example.com/index.html\")"
   ]
  },
  {
   "cell_type": "code",
   "execution_count": 9,
   "id": "guilty-combining",
   "metadata": {
    "slideshow": {
     "slide_type": "subslide"
    }
   },
   "outputs": [],
   "source": [
    "# write data to fastText train file\n",
    "\n",
    "train_file = 'data/kaggle-jigsaw-toxic/train.txt'\n",
    "\n",
    "def write_line_fasttext(fp, row):\n",
    "    global labels\n",
    "    line = ''\n",
    "    for label in labels:\n",
    "        if row[label] == 1:\n",
    "            if line:\n",
    "                line += ' '\n",
    "            line += '__label__' + label\n",
    "    if line:\n",
    "        line += ' '\n",
    "    else:\n",
    "        line += '__label__none '\n",
    "    line += tokenize(row['comment_text'])\n",
    "    fp.write(line)\n",
    "    fp.write('\\n')\n",
    "\n",
    "with open(train_file, 'w') as fp:\n",
    "    df_train.apply(lambda row: write_line_fasttext(fp, row), axis=1)"
   ]
  },
  {
   "cell_type": "code",
   "execution_count": 10,
   "id": "photographic-manufacturer",
   "metadata": {},
   "outputs": [
    {
     "name": "stdout",
     "output_type": "stream",
     "text": [
      "Requirement already satisfied: fasttext in ./.venv/lib/python3.9/site-packages (0.9.2)\r\n",
      "Requirement already satisfied: pybind11>=2.2 in ./.venv/lib/python3.9/site-packages (from fasttext) (2.9.0)\r\n",
      "Requirement already satisfied: setuptools>=0.7.0 in ./.venv/lib/python3.9/site-packages (from fasttext) (44.1.1)\r\n",
      "Requirement already satisfied: numpy in ./.venv/lib/python3.9/site-packages (from fasttext) (1.22.1)\r\n"
     ]
    }
   ],
   "source": [
    "!pip install fasttext"
   ]
  },
  {
   "cell_type": "code",
   "execution_count": 11,
   "id": "varying-posting",
   "metadata": {
    "slideshow": {
     "slide_type": "subslide"
    }
   },
   "outputs": [],
   "source": [
    "# train a model\n",
    "\n",
    "import fasttext\n",
    "\n",
    "model = fasttext.train_supervised(input=train_file, wordNgrams=2, minCount=2)"
   ]
  },
  {
   "cell_type": "code",
   "execution_count": 38,
   "id": "external-garbage",
   "metadata": {
    "slideshow": {
     "slide_type": "subslide"
    }
   },
   "outputs": [
    {
     "data": {
      "text/plain": [
       "(('__label__obscene',\n",
       "  '__label__insult',\n",
       "  '__label__toxic',\n",
       "  '__label__severe_toxic',\n",
       "  '__label__identity_hate'),\n",
       " array([0.41425505, 0.32454872, 0.18850109, 0.06784596, 0.00485881]))"
      ]
     },
     "execution_count": 38,
     "metadata": {},
     "output_type": "execute_result"
    }
   ],
   "source": [
    "model.predict(tokenize(\"This is a well-written article.\"))\n",
    "# model.predict(tokenize(\"Fuck you!\"), k=5)"
   ]
  },
  {
   "cell_type": "code",
   "execution_count": 13,
   "id": "dominant-knife",
   "metadata": {
    "slideshow": {
     "slide_type": "subslide"
    }
   },
   "outputs": [
    {
     "data": {
      "text/plain": [
       "[(0.9997887015342712, 'stupid'),\n",
       " (0.9996612668037415, 'moron'),\n",
       " (0.9996005296707153, 'jerk'),\n",
       " (0.9994908571243286, 'arrogant'),\n",
       " (0.999340832233429, 'stupidity'),\n",
       " (0.999234139919281, 'pathetic'),\n",
       " (0.9992112517356873, 'coward'),\n",
       " (0.9991973042488098, 'fool'),\n",
       " (0.9991273880004883, 'ignorant'),\n",
       " (0.9991151690483093, 'disgusting'),\n",
       " (0.9990187883377075, 'idiotic'),\n",
       " (0.9989598393440247, 'jackass'),\n",
       " (0.9988994598388672, 'fascist'),\n",
       " (0.9988807439804077, 'morons'),\n",
       " (0.9988119602203369, 'fat'),\n",
       " (0.9987836480140686, 'hell'),\n",
       " (0.998756468296051, 'bloody'),\n",
       " (0.9987396001815796, 'sucked'),\n",
       " (0.9987378716468811, 'anal'),\n",
       " (0.9987097382545471, 'losers')]"
      ]
     },
     "execution_count": 13,
     "metadata": {},
     "output_type": "execute_result"
    }
   ],
   "source": [
    "# looking into the underlying word embeddings\n",
    "\n",
    "model.get_nearest_neighbors('idiot', k=20)"
   ]
  },
  {
   "cell_type": "code",
   "execution_count": 14,
   "id": "still-forward",
   "metadata": {
    "slideshow": {
     "slide_type": "subslide"
    }
   },
   "outputs": [],
   "source": [
    "# save the model\n",
    "model_file = 'data/kaggle-jigsaw-toxic/model.bin'\n",
    "\n",
    "model.save_model(model_file)"
   ]
  },
  {
   "cell_type": "code",
   "execution_count": 15,
   "id": "determined-mumbai",
   "metadata": {
    "slideshow": {
     "slide_type": "subslide"
    }
   },
   "outputs": [],
   "source": [
    "df_test = pd.read_csv('data/kaggle-jigsaw-toxic/test.csv')\n",
    "df_test_labels = pd.read_csv('data/kaggle-jigsaw-toxic/test_labels.csv')\n",
    "\n",
    "# join both tables\n",
    "df_test = df_test.merge(df_test_labels, on='id')\n",
    "\n",
    "# skip rows not labelled / not used\n",
    "df_test = df_test[df_test['toxic'] != -1]\n",
    "\n",
    "test_file = 'data/kaggle-jigsaw-toxic/test.txt'\n",
    "\n",
    "# write test set for fastText\n",
    "with open(test_file, 'w') as fp:\n",
    "    df_test.apply(lambda row: write_line_fasttext(fp, row), axis=1)"
   ]
  },
  {
   "cell_type": "markdown",
   "id": "aggregate-phrase",
   "metadata": {
    "slideshow": {
     "slide_type": "subslide"
    }
   },
   "source": [
    "### Model Validation\n",
    "\n",
    "See also: [precision and recall](https://en.wikipedia.org/wiki/Precision_and_recall)"
   ]
  },
  {
   "cell_type": "code",
   "execution_count": 16,
   "id": "handled-carpet",
   "metadata": {
    "slideshow": {
     "slide_type": "subslide"
    }
   },
   "outputs": [
    {
     "data": {
      "text/plain": [
       "(63978, 0.9302416455656632, 0.8239308903132917)"
      ]
     },
     "execution_count": 16,
     "metadata": {},
     "output_type": "execute_result"
    }
   ],
   "source": [
    "model.test(test_file)"
   ]
  },
  {
   "cell_type": "code",
   "execution_count": 17,
   "id": "assured-malawi",
   "metadata": {
    "slideshow": {
     "slide_type": "subslide"
    }
   },
   "outputs": [
    {
     "name": "stdout",
     "output_type": "stream",
     "text": [
      "('__label__threat', {'precision': nan, 'recall': 0.0, 'f1score': 0.0})\n",
      "('__label__identity_hate', {'precision': nan, 'recall': 0.0, 'f1score': 0.0})\n",
      "('__label__severe_toxic', {'precision': 0.3076923076923077, 'recall': 0.07629427792915532, 'f1score': 0.1222707423580786})\n",
      "('__label__insult', {'precision': 0.75, 'recall': 0.005252407353370295, 'f1score': 0.010431758910460736})\n",
      "('__label__obscene', {'precision': 0.9448275862068966, 'recall': 0.1113519371444053, 'f1score': 0.1992244304411052})\n",
      "('__label__toxic', {'precision': 0.5900198468953786, 'recall': 0.683415435139573, 'f1score': 0.6332927571515521})\n",
      "('__label__none', {'precision': 0.9737822400397347, 'recall': 0.9508270546462284, 'f1score': 0.9621677518863543})\n"
     ]
    }
   ],
   "source": [
    "res_per_label = model.test_label(test_file)\n",
    "\n",
    "for label in res_per_label.items():\n",
    "    print(label)"
   ]
  },
  {
   "cell_type": "code",
   "execution_count": 37,
   "id": "charitable-worst",
   "metadata": {
    "slideshow": {
     "slide_type": "subslide"
    }
   },
   "outputs": [
    {
     "name": "stdout",
     "output_type": "stream",
     "text": [
      "F1-Score : 0.962168  Precision : 0.973782  Recall : 0.950827   __label__none\r\n",
      "F1-Score : 0.633293  Precision : 0.590020  Recall : 0.683415   __label__toxic\r\n",
      "F1-Score : 0.199224  Precision : 0.944828  Recall : 0.111352   __label__obscene\r\n",
      "F1-Score : 0.010432  Precision : 0.750000  Recall : 0.005252   __label__insult\r\n",
      "F1-Score : 0.122271  Precision : 0.307692  Recall : 0.076294   __label__severe_toxic\r\n",
      "F1-Score : 0.000000  Precision : --------  Recall : 0.000000   __label__identity_hate\r\n",
      "F1-Score : 0.000000  Precision : --------  Recall : 0.000000   __label__threat\r\n",
      "N\t63978\r\n",
      "P@1\t0.930\r\n",
      "R@1\t0.824\r\n"
     ]
    }
   ],
   "source": [
    "# in case the fastText command-line tool is installed: it has a nice output formatter\n",
    "!fasttext test-label \\\n",
    "   data/kaggle-jigsaw-toxic/model.bin \\\n",
    "   data/kaggle-jigsaw-toxic/test.txt"
   ]
  },
  {
   "cell_type": "markdown",
   "id": "developmental-bankruptcy",
   "metadata": {
    "slideshow": {
     "slide_type": "slide"
    }
   },
   "source": [
    "## Transformer Language Models and the Transformers Library\n",
    "\n",
    "[Transformer language models](https://en.wikipedia.org/wiki/Transformer_(machine_learning_model)) are used to address a couple of NLP tasks -- text classification, text generation, translation and more. [Hugging Face's transformers library](https://huggingface.co/transformers/) provides an powerful and easy to learn interface to use transformers. Hugging Face also offers a large repository of transformer models shared by a growing community of researchers and organizations. For more details exceeding the examples below, see the [transformers course](https://huggingface.co/course).\n",
    "  \n",
    "Transformers can be \"fine-tuned\" to a specific task, see [training of transformers](https://huggingface.co/transformers/training.html). Adding a task-specific head to a transformer pre-trained on large amounts of training data (usually 100 GBs or even TBs of text) saves resources spent for training and can overcome the problem of not enough training data. Manually labelling training data is expensive and naturally puts a limit on the amount of training data. But even if the vocabulary in the training data is limited, there's a good chance that the pre-trained transformer has seen the unknown words in the huge data used for pre-training."
   ]
  },
  {
   "cell_type": "code",
   "execution_count": 19,
   "id": "vulnerable-canada",
   "metadata": {
    "slideshow": {
     "slide_type": "subslide"
    }
   },
   "outputs": [
    {
     "name": "stdout",
     "output_type": "stream",
     "text": [
      "Requirement already satisfied: transformers in ./.venv/lib/python3.9/site-packages (4.15.0)\n",
      "Requirement already satisfied: numpy>=1.17 in ./.venv/lib/python3.9/site-packages (from transformers) (1.22.1)\n",
      "Requirement already satisfied: tokenizers<0.11,>=0.10.1 in ./.venv/lib/python3.9/site-packages (from transformers) (0.10.3)\n",
      "Requirement already satisfied: regex!=2019.12.17 in ./.venv/lib/python3.9/site-packages (from transformers) (2022.1.18)\n",
      "Requirement already satisfied: requests in ./.venv/lib/python3.9/site-packages (from transformers) (2.27.1)\n",
      "Requirement already satisfied: sacremoses in ./.venv/lib/python3.9/site-packages (from transformers) (0.0.47)\n",
      "Requirement already satisfied: tqdm>=4.27 in ./.venv/lib/python3.9/site-packages (from transformers) (4.62.3)\n",
      "Requirement already satisfied: huggingface-hub<1.0,>=0.1.0 in ./.venv/lib/python3.9/site-packages (from transformers) (0.4.0)\n",
      "Requirement already satisfied: packaging>=20.0 in ./.venv/lib/python3.9/site-packages (from transformers) (21.3)\n",
      "Requirement already satisfied: pyyaml>=5.1 in ./.venv/lib/python3.9/site-packages (from transformers) (6.0)\n",
      "Requirement already satisfied: filelock in ./.venv/lib/python3.9/site-packages (from transformers) (3.4.2)\n",
      "Requirement already satisfied: typing-extensions>=3.7.4.3 in ./.venv/lib/python3.9/site-packages (from huggingface-hub<1.0,>=0.1.0->transformers) (4.0.1)\n",
      "Requirement already satisfied: pyparsing!=3.0.5,>=2.0.2 in ./.venv/lib/python3.9/site-packages (from packaging>=20.0->transformers) (3.0.6)\n",
      "Requirement already satisfied: charset-normalizer~=2.0.0 in ./.venv/lib/python3.9/site-packages (from requests->transformers) (2.0.10)\n",
      "Requirement already satisfied: certifi>=2017.4.17 in ./.venv/lib/python3.9/site-packages (from requests->transformers) (2021.10.8)\n",
      "Requirement already satisfied: idna<4,>=2.5 in ./.venv/lib/python3.9/site-packages (from requests->transformers) (3.3)\n",
      "Requirement already satisfied: urllib3<1.27,>=1.21.1 in ./.venv/lib/python3.9/site-packages (from requests->transformers) (1.26.8)\n",
      "Requirement already satisfied: click in ./.venv/lib/python3.9/site-packages (from sacremoses->transformers) (8.0.3)\n",
      "Requirement already satisfied: joblib in ./.venv/lib/python3.9/site-packages (from sacremoses->transformers) (1.1.0)\n",
      "Requirement already satisfied: six in ./.venv/lib/python3.9/site-packages (from sacremoses->transformers) (1.16.0)\n",
      "Requirement already satisfied: tensorflow in ./.venv/lib/python3.9/site-packages (2.7.0)\n",
      "Requirement already satisfied: grpcio<2.0,>=1.24.3 in ./.venv/lib/python3.9/site-packages (from tensorflow) (1.43.0)\n",
      "Requirement already satisfied: keras<2.8,>=2.7.0rc0 in ./.venv/lib/python3.9/site-packages (from tensorflow) (2.7.0)\n",
      "Requirement already satisfied: wrapt>=1.11.0 in ./.venv/lib/python3.9/site-packages (from tensorflow) (1.13.3)\n",
      "Requirement already satisfied: six>=1.12.0 in ./.venv/lib/python3.9/site-packages (from tensorflow) (1.16.0)\n",
      "Requirement already satisfied: protobuf>=3.9.2 in ./.venv/lib/python3.9/site-packages (from tensorflow) (3.19.3)\n",
      "Requirement already satisfied: h5py>=2.9.0 in ./.venv/lib/python3.9/site-packages (from tensorflow) (3.6.0)\n",
      "Requirement already satisfied: google-pasta>=0.1.1 in ./.venv/lib/python3.9/site-packages (from tensorflow) (0.2.0)\n",
      "Requirement already satisfied: tensorflow-io-gcs-filesystem>=0.21.0 in ./.venv/lib/python3.9/site-packages (from tensorflow) (0.23.1)\n",
      "Requirement already satisfied: wheel<1.0,>=0.32.0 in ./.venv/lib/python3.9/site-packages (from tensorflow) (0.34.2)\n",
      "Requirement already satisfied: flatbuffers<3.0,>=1.12 in ./.venv/lib/python3.9/site-packages (from tensorflow) (2.0)\n",
      "Requirement already satisfied: astunparse>=1.6.0 in ./.venv/lib/python3.9/site-packages (from tensorflow) (1.6.3)\n",
      "Requirement already satisfied: libclang>=9.0.1 in ./.venv/lib/python3.9/site-packages (from tensorflow) (12.0.0)\n",
      "Requirement already satisfied: numpy>=1.14.5 in ./.venv/lib/python3.9/site-packages (from tensorflow) (1.22.1)\n",
      "Requirement already satisfied: gast<0.5.0,>=0.2.1 in ./.venv/lib/python3.9/site-packages (from tensorflow) (0.4.0)\n",
      "Requirement already satisfied: typing-extensions>=3.6.6 in ./.venv/lib/python3.9/site-packages (from tensorflow) (4.0.1)\n",
      "Requirement already satisfied: opt-einsum>=2.3.2 in ./.venv/lib/python3.9/site-packages (from tensorflow) (3.3.0)\n",
      "Requirement already satisfied: tensorboard~=2.6 in ./.venv/lib/python3.9/site-packages (from tensorflow) (2.8.0)\n",
      "Requirement already satisfied: termcolor>=1.1.0 in ./.venv/lib/python3.9/site-packages (from tensorflow) (1.1.0)\n",
      "Requirement already satisfied: absl-py>=0.4.0 in ./.venv/lib/python3.9/site-packages (from tensorflow) (1.0.0)\n",
      "Requirement already satisfied: keras-preprocessing>=1.1.1 in ./.venv/lib/python3.9/site-packages (from tensorflow) (1.1.2)\n",
      "Requirement already satisfied: tensorflow-estimator<2.8,~=2.7.0rc0 in ./.venv/lib/python3.9/site-packages (from tensorflow) (2.7.0)\n",
      "Requirement already satisfied: google-auth<3,>=1.6.3 in ./.venv/lib/python3.9/site-packages (from tensorboard~=2.6->tensorflow) (2.3.3)\n",
      "Requirement already satisfied: tensorboard-plugin-wit>=1.6.0 in ./.venv/lib/python3.9/site-packages (from tensorboard~=2.6->tensorflow) (1.8.1)\n",
      "Requirement already satisfied: requests<3,>=2.21.0 in ./.venv/lib/python3.9/site-packages (from tensorboard~=2.6->tensorflow) (2.27.1)\n",
      "Requirement already satisfied: werkzeug>=0.11.15 in ./.venv/lib/python3.9/site-packages (from tensorboard~=2.6->tensorflow) (2.0.2)\n",
      "Requirement already satisfied: setuptools>=41.0.0 in ./.venv/lib/python3.9/site-packages (from tensorboard~=2.6->tensorflow) (44.1.1)\n",
      "Requirement already satisfied: google-auth-oauthlib<0.5,>=0.4.1 in ./.venv/lib/python3.9/site-packages (from tensorboard~=2.6->tensorflow) (0.4.6)\n",
      "Requirement already satisfied: tensorboard-data-server<0.7.0,>=0.6.0 in ./.venv/lib/python3.9/site-packages (from tensorboard~=2.6->tensorflow) (0.6.1)\n",
      "Requirement already satisfied: markdown>=2.6.8 in ./.venv/lib/python3.9/site-packages (from tensorboard~=2.6->tensorflow) (3.3.6)\n",
      "Requirement already satisfied: cachetools<5.0,>=2.0.0 in ./.venv/lib/python3.9/site-packages (from google-auth<3,>=1.6.3->tensorboard~=2.6->tensorflow) (4.2.4)\n",
      "Requirement already satisfied: pyasn1-modules>=0.2.1 in ./.venv/lib/python3.9/site-packages (from google-auth<3,>=1.6.3->tensorboard~=2.6->tensorflow) (0.2.8)\n",
      "Requirement already satisfied: rsa<5,>=3.1.4 in ./.venv/lib/python3.9/site-packages (from google-auth<3,>=1.6.3->tensorboard~=2.6->tensorflow) (4.8)\n",
      "Requirement already satisfied: requests-oauthlib>=0.7.0 in ./.venv/lib/python3.9/site-packages (from google-auth-oauthlib<0.5,>=0.4.1->tensorboard~=2.6->tensorflow) (1.3.0)\n",
      "Requirement already satisfied: importlib-metadata>=4.4 in ./.venv/lib/python3.9/site-packages (from markdown>=2.6.8->tensorboard~=2.6->tensorflow) (4.10.1)\n",
      "Requirement already satisfied: zipp>=0.5 in ./.venv/lib/python3.9/site-packages (from importlib-metadata>=4.4->markdown>=2.6.8->tensorboard~=2.6->tensorflow) (3.7.0)\n",
      "Requirement already satisfied: pyasn1<0.5.0,>=0.4.6 in ./.venv/lib/python3.9/site-packages (from pyasn1-modules>=0.2.1->google-auth<3,>=1.6.3->tensorboard~=2.6->tensorflow) (0.4.8)\n",
      "Requirement already satisfied: idna<4,>=2.5 in ./.venv/lib/python3.9/site-packages (from requests<3,>=2.21.0->tensorboard~=2.6->tensorflow) (3.3)\n",
      "Requirement already satisfied: urllib3<1.27,>=1.21.1 in ./.venv/lib/python3.9/site-packages (from requests<3,>=2.21.0->tensorboard~=2.6->tensorflow) (1.26.8)\n",
      "Requirement already satisfied: charset-normalizer~=2.0.0 in ./.venv/lib/python3.9/site-packages (from requests<3,>=2.21.0->tensorboard~=2.6->tensorflow) (2.0.10)\n",
      "Requirement already satisfied: certifi>=2017.4.17 in ./.venv/lib/python3.9/site-packages (from requests<3,>=2.21.0->tensorboard~=2.6->tensorflow) (2021.10.8)\n",
      "Requirement already satisfied: oauthlib>=3.0.0 in ./.venv/lib/python3.9/site-packages (from requests-oauthlib>=0.7.0->google-auth-oauthlib<0.5,>=0.4.1->tensorboard~=2.6->tensorflow) (3.1.1)\n",
      "Requirement already satisfied: transformers[sentencepiece] in ./.venv/lib/python3.9/site-packages (4.15.0)\n",
      "Requirement already satisfied: requests in ./.venv/lib/python3.9/site-packages (from transformers[sentencepiece]) (2.27.1)\n",
      "Requirement already satisfied: filelock in ./.venv/lib/python3.9/site-packages (from transformers[sentencepiece]) (3.4.2)\n",
      "Requirement already satisfied: packaging>=20.0 in ./.venv/lib/python3.9/site-packages (from transformers[sentencepiece]) (21.3)\n",
      "Requirement already satisfied: tqdm>=4.27 in ./.venv/lib/python3.9/site-packages (from transformers[sentencepiece]) (4.62.3)\n",
      "Requirement already satisfied: numpy>=1.17 in ./.venv/lib/python3.9/site-packages (from transformers[sentencepiece]) (1.22.1)\n",
      "Requirement already satisfied: pyyaml>=5.1 in ./.venv/lib/python3.9/site-packages (from transformers[sentencepiece]) (6.0)\n",
      "Requirement already satisfied: sacremoses in ./.venv/lib/python3.9/site-packages (from transformers[sentencepiece]) (0.0.47)\n",
      "Requirement already satisfied: huggingface-hub<1.0,>=0.1.0 in ./.venv/lib/python3.9/site-packages (from transformers[sentencepiece]) (0.4.0)\n",
      "Requirement already satisfied: tokenizers<0.11,>=0.10.1 in ./.venv/lib/python3.9/site-packages (from transformers[sentencepiece]) (0.10.3)\n",
      "Requirement already satisfied: regex!=2019.12.17 in ./.venv/lib/python3.9/site-packages (from transformers[sentencepiece]) (2022.1.18)\n",
      "Requirement already satisfied: sentencepiece!=0.1.92,>=0.1.91 in ./.venv/lib/python3.9/site-packages (from transformers[sentencepiece]) (0.1.96)\n",
      "Requirement already satisfied: protobuf in ./.venv/lib/python3.9/site-packages (from transformers[sentencepiece]) (3.19.3)\n"
     ]
    },
    {
     "name": "stdout",
     "output_type": "stream",
     "text": [
      "Requirement already satisfied: typing-extensions>=3.7.4.3 in ./.venv/lib/python3.9/site-packages (from huggingface-hub<1.0,>=0.1.0->transformers[sentencepiece]) (4.0.1)\n",
      "Requirement already satisfied: pyparsing!=3.0.5,>=2.0.2 in ./.venv/lib/python3.9/site-packages (from packaging>=20.0->transformers[sentencepiece]) (3.0.6)\n",
      "Requirement already satisfied: urllib3<1.27,>=1.21.1 in ./.venv/lib/python3.9/site-packages (from requests->transformers[sentencepiece]) (1.26.8)\n",
      "Requirement already satisfied: idna<4,>=2.5 in ./.venv/lib/python3.9/site-packages (from requests->transformers[sentencepiece]) (3.3)\n",
      "Requirement already satisfied: certifi>=2017.4.17 in ./.venv/lib/python3.9/site-packages (from requests->transformers[sentencepiece]) (2021.10.8)\n",
      "Requirement already satisfied: charset-normalizer~=2.0.0 in ./.venv/lib/python3.9/site-packages (from requests->transformers[sentencepiece]) (2.0.10)\n",
      "Requirement already satisfied: click in ./.venv/lib/python3.9/site-packages (from sacremoses->transformers[sentencepiece]) (8.0.3)\n",
      "Requirement already satisfied: six in ./.venv/lib/python3.9/site-packages (from sacremoses->transformers[sentencepiece]) (1.16.0)\n",
      "Requirement already satisfied: joblib in ./.venv/lib/python3.9/site-packages (from sacremoses->transformers[sentencepiece]) (1.1.0)\n"
     ]
    }
   ],
   "source": [
    "!pip install transformers\n",
    "!pip install tensorflow\n",
    "!pip install \"transformers[sentencepiece]\""
   ]
  },
  {
   "cell_type": "code",
   "execution_count": 20,
   "id": "liberal-essex",
   "metadata": {
    "slideshow": {
     "slide_type": "subslide"
    }
   },
   "outputs": [
    {
     "name": "stderr",
     "output_type": "stream",
     "text": [
      "Some weights of the model checkpoint at bert-base-german-cased were not used when initializing BertForMaskedLM: ['cls.seq_relationship.bias', 'cls.seq_relationship.weight']\n",
      "- This IS expected if you are initializing BertForMaskedLM from the checkpoint of a model trained on another task or with another architecture (e.g. initializing a BertForSequenceClassification model from a BertForPreTraining model).\n",
      "- This IS NOT expected if you are initializing BertForMaskedLM from the checkpoint of a model that you expect to be exactly identical (initializing a BertForSequenceClassification model from a BertForSequenceClassification model).\n"
     ]
    }
   ],
   "source": [
    "from transformers import pipeline\n",
    "\n",
    "p = pipeline('fill-mask', model='bert-base-german-cased')"
   ]
  },
  {
   "cell_type": "code",
   "execution_count": 21,
   "id": "tutorial-initial",
   "metadata": {
    "slideshow": {
     "slide_type": "subslide"
    }
   },
   "outputs": [
    {
     "name": "stdout",
     "output_type": "stream",
     "text": [
      "{'sequence': 'Er arbeitet als Rechtsanwalt.', 'score': 0.09919334203004837, 'token': 6143, 'token_str': 'Rechtsanwalt'}\n",
      "{'sequence': 'Er arbeitet als Trainer.', 'score': 0.07836302369832993, 'token': 3674, 'token_str': 'Trainer'}\n",
      "{'sequence': 'Er arbeitet als Journalist.', 'score': 0.0628521665930748, 'token': 10486, 'token_str': 'Journalist'}\n",
      "{'sequence': 'Er arbeitet als Anwalt.', 'score': 0.05725342780351639, 'token': 6938, 'token_str': 'Anwalt'}\n",
      "{'sequence': 'Er arbeitet als Schauspieler.', 'score': 0.05046413466334343, 'token': 5607, 'token_str': 'Schauspieler'}\n"
     ]
    }
   ],
   "source": [
    "for s in p(\"Er arbeitet als [MASK].\"): print(s)"
   ]
  },
  {
   "cell_type": "code",
   "execution_count": 22,
   "id": "biblical-kinase",
   "metadata": {
    "slideshow": {
     "slide_type": "subslide"
    }
   },
   "outputs": [
    {
     "name": "stderr",
     "output_type": "stream",
     "text": [
      "Some weights of the model checkpoint at bert-base-german-cased were not used when initializing BertForMaskedLM: ['cls.seq_relationship.bias', 'cls.seq_relationship.weight']\n",
      "- This IS expected if you are initializing BertForMaskedLM from the checkpoint of a model trained on another task or with another architecture (e.g. initializing a BertForSequenceClassification model from a BertForPreTraining model).\n",
      "- This IS NOT expected if you are initializing BertForMaskedLM from the checkpoint of a model that you expect to be exactly identical (initializing a BertForSequenceClassification model from a BertForSequenceClassification model).\n"
     ]
    }
   ],
   "source": [
    "pipeline_fill_mask = pipeline('fill-mask', model='bert-base-german-cased')\n",
    "\n",
    "def fill_mask(cloze):\n",
    "    global pipeline_fill_mask\n",
    "    for s in pipeline_fill_mask(cloze):\n",
    "        print('%-20s\\t%.5f' % (s['token_str'], s['score']))"
   ]
  },
  {
   "cell_type": "code",
   "execution_count": 23,
   "id": "understanding-association",
   "metadata": {
    "slideshow": {
     "slide_type": "subslide"
    }
   },
   "outputs": [
    {
     "name": "stdout",
     "output_type": "stream",
     "text": [
      "Arzt                \t0.61843\n",
      "Angestellter        \t0.04225\n",
      "Koch                \t0.03064\n",
      "Assistent           \t0.02001\n",
      "Mediziner           \t0.01900\n"
     ]
    }
   ],
   "source": [
    "fill_mask(\"Er arbeitet als [MASK] in einer Klinik.\")"
   ]
  },
  {
   "cell_type": "code",
   "execution_count": 24,
   "id": "funded-cotton",
   "metadata": {
    "slideshow": {
     "slide_type": "subslide"
    }
   },
   "outputs": [
    {
     "name": "stdout",
     "output_type": "stream",
     "text": [
      "Arzt                \t0.69560\n",
      "Angestellter        \t0.03423\n",
      "Chemiker            \t0.02711\n",
      "Facharzt            \t0.02113\n",
      "Mediziner           \t0.02024\n"
     ]
    }
   ],
   "source": [
    "fill_mask(\"Er arbeitet als [MASK] in einer Lungenklinik.\")"
   ]
  },
  {
   "cell_type": "code",
   "execution_count": 25,
   "id": "pending-linux",
   "metadata": {
    "slideshow": {
     "slide_type": "subslide"
    }
   },
   "outputs": [
    {
     "name": "stdout",
     "output_type": "stream",
     "text": [
      "Ingenieur           \t0.18871\n",
      "Berater             \t0.17160\n",
      "Manager             \t0.15090\n",
      "Geschäftsführer     \t0.07775\n",
      "Trainer             \t0.04951\n"
     ]
    }
   ],
   "source": [
    "fill_mask(\"Er arbeitet als [MASK] bei BMW.\")"
   ]
  },
  {
   "cell_type": "code",
   "execution_count": 26,
   "id": "driving-champagne",
   "metadata": {
    "slideshow": {
     "slide_type": "subslide"
    }
   },
   "outputs": [
    {
     "name": "stdout",
     "output_type": "stream",
     "text": [
      "Professor           \t0.74687\n",
      "Dozent              \t0.11445\n",
      "Hochschullehrer     \t0.08565\n",
      "Wissenschaftler     \t0.00667\n",
      "Assistent           \t0.00427\n"
     ]
    }
   ],
   "source": [
    "fill_mask(\"Er arbeitet als [MASK] an der Universität Konstanz.\")"
   ]
  },
  {
   "cell_type": "code",
   "execution_count": 27,
   "id": "painted-trunk",
   "metadata": {
    "slideshow": {
     "slide_type": "subslide"
    }
   },
   "outputs": [
    {
     "name": "stdout",
     "output_type": "stream",
     "text": [
      "Professor           \t0.52318\n",
      "Lehrerin            \t0.09859\n",
      "Dozent              \t0.08542\n",
      "Professur           \t0.04144\n",
      "Richterin           \t0.02292\n"
     ]
    }
   ],
   "source": [
    "fill_mask(\"Sie arbeitet als [MASK] an der Universität Konstanz.\")"
   ]
  },
  {
   "cell_type": "code",
   "execution_count": 28,
   "id": "hybrid-economy",
   "metadata": {
    "slideshow": {
     "slide_type": "subslide"
    }
   },
   "outputs": [
    {
     "name": "stdout",
     "output_type": "stream",
     "text": [
      "schön               \t0.11005\n",
      "jung                \t0.06098\n",
      "glücklich           \t0.05704\n",
      "toll                \t0.05053\n",
      "gut                 \t0.03495\n"
     ]
    }
   ],
   "source": [
    "fill_mask(\"Sie ist wirklich [MASK].\")"
   ]
  },
  {
   "cell_type": "code",
   "execution_count": 29,
   "id": "authorized-intention",
   "metadata": {
    "slideshow": {
     "slide_type": "subslide"
    }
   },
   "outputs": [
    {
     "name": "stdout",
     "output_type": "stream",
     "text": [
      "gut                 \t0.05452\n",
      "glücklich           \t0.05183\n",
      "da                  \t0.03765\n",
      "jung                \t0.03233\n",
      "tot                 \t0.03229\n"
     ]
    }
   ],
   "source": [
    "fill_mask(\"Er ist wirklich [MASK].\")"
   ]
  },
  {
   "cell_type": "code",
   "execution_count": 30,
   "id": "close-instrument",
   "metadata": {
    "slideshow": {
     "slide_type": "subslide"
    }
   },
   "outputs": [
    {
     "name": "stdout",
     "output_type": "stream",
     "text": [
      "Help on function pipeline in module transformers.pipelines:\n",
      "\n",
      "pipeline(task: str, model: Optional = None, config: Union[str, transformers.configuration_utils.PretrainedConfig, NoneType] = None, tokenizer: Union[str, transformers.tokenization_utils.PreTrainedTokenizer, NoneType] = None, feature_extractor: Union[str, ForwardRef('SequenceFeatureExtractor'), NoneType] = None, framework: Optional[str] = None, revision: Optional[str] = None, use_fast: bool = True, use_auth_token: Union[bool, str, NoneType] = None, model_kwargs: Dict[str, Any] = {'use_auth_token': None}, **kwargs) -> transformers.pipelines.base.Pipeline\n",
      "    Utility factory method to build a :class:`~transformers.Pipeline`.\n",
      "    \n",
      "    Pipelines are made of:\n",
      "    \n",
      "        - A :doc:`tokenizer <tokenizer>` in charge of mapping raw textual input to token.\n",
      "        - A :doc:`model <model>` to make predictions from the inputs.\n",
      "        - Some (optional) post processing for enhancing model's output.\n",
      "    \n",
      "    Args:\n",
      "        task (:obj:`str`):\n",
      "            The task defining which pipeline will be returned. Currently accepted tasks are:\n",
      "    \n",
      "            - :obj:`\"audio-classification\"`: will return a :class:`~transformers.AudioClassificationPipeline`:.\n",
      "            - :obj:`\"automatic-speech-recognition\"`: will return a\n",
      "              :class:`~transformers.AutomaticSpeechRecognitionPipeline`:.\n",
      "            - :obj:`\"conversational\"`: will return a :class:`~transformers.ConversationalPipeline`:.\n",
      "            - :obj:`\"feature-extraction\"`: will return a :class:`~transformers.FeatureExtractionPipeline`:.\n",
      "            - :obj:`\"fill-mask\"`: will return a :class:`~transformers.FillMaskPipeline`:.\n",
      "            - :obj:`\"image-classification\"`: will return a :class:`~transformers.ImageClassificationPipeline`:.\n",
      "            - :obj:`\"question-answering\"`: will return a :class:`~transformers.QuestionAnsweringPipeline`:.\n",
      "            - :obj:`\"table-question-answering\"`: will return a :class:`~transformers.TableQuestionAnsweringPipeline`:.\n",
      "            - :obj:`\"text2text-generation\"`: will return a :class:`~transformers.Text2TextGenerationPipeline`:.\n",
      "            - :obj:`\"text-classification\"` (alias :obj:`\"sentiment-analysis\" available): will return a\n",
      "              :class:`~transformers.TextClassificationPipeline`:.\n",
      "            - :obj:`\"text-generation\"`: will return a :class:`~transformers.TextGenerationPipeline`:.\n",
      "            - :obj:`\"token-classification\"` (alias :obj:`\"ner\"` available): will return a\n",
      "              :class:`~transformers.TokenClassificationPipeline`:.\n",
      "            - :obj:`\"translation\"`: will return a :class:`~transformers.TranslationPipeline`:.\n",
      "            - :obj:`\"translation_xx_to_yy\"`: will return a :class:`~transformers.TranslationPipeline`:.\n",
      "            - :obj:`\"summarization\"`: will return a :class:`~transformers.SummarizationPipeline`:.\n",
      "            - :obj:`\"zero-shot-classification\"`: will return a :class:`~transformers.ZeroShotClassificationPipeline`:.\n",
      "    \n",
      "        model (:obj:`str` or :obj:`~transformers.PreTrainedModel` or :obj:`~transformers.TFPreTrainedModel`, `optional`):\n",
      "            The model that will be used by the pipeline to make predictions. This can be a model identifier or an\n",
      "            actual instance of a pretrained model inheriting from :class:`~transformers.PreTrainedModel` (for PyTorch)\n",
      "            or :class:`~transformers.TFPreTrainedModel` (for TensorFlow).\n",
      "    \n",
      "            If not provided, the default for the :obj:`task` will be loaded.\n",
      "        config (:obj:`str` or :obj:`~transformers.PretrainedConfig`, `optional`):\n",
      "            The configuration that will be used by the pipeline to instantiate the model. This can be a model\n",
      "            identifier or an actual pretrained model configuration inheriting from\n",
      "            :class:`~transformers.PretrainedConfig`.\n",
      "    \n",
      "            If not provided, the default configuration file for the requested model will be used. That means that if\n",
      "            :obj:`model` is given, its default configuration will be used. However, if :obj:`model` is not supplied,\n",
      "            this :obj:`task`'s default model's config is used instead.\n",
      "        tokenizer (:obj:`str` or :obj:`~transformers.PreTrainedTokenizer`, `optional`):\n",
      "            The tokenizer that will be used by the pipeline to encode data for the model. This can be a model\n",
      "            identifier or an actual pretrained tokenizer inheriting from :class:`~transformers.PreTrainedTokenizer`.\n",
      "    \n",
      "            If not provided, the default tokenizer for the given :obj:`model` will be loaded (if it is a string). If\n",
      "            :obj:`model` is not specified or not a string, then the default tokenizer for :obj:`config` is loaded (if\n",
      "            it is a string). However, if :obj:`config` is also not given or not a string, then the default tokenizer\n",
      "            for the given :obj:`task` will be loaded.\n",
      "        feature_extractor (:obj:`str` or :obj:`~transformers.PreTrainedFeatureExtractor`, `optional`):\n",
      "            The feature extractor that will be used by the pipeline to encode data for the model. This can be a model\n",
      "            identifier or an actual pretrained feature extractor inheriting from\n",
      "            :class:`~transformers.PreTrainedFeatureExtractor`.\n",
      "    \n",
      "            Feature extractors are used for non-NLP models, such as Speech or Vision models as well as multi-modal\n",
      "            models. Multi-modal models will also require a tokenizer to be passed.\n",
      "    \n",
      "            If not provided, the default feature extractor for the given :obj:`model` will be loaded (if it is a\n",
      "            string). If :obj:`model` is not specified or not a string, then the default feature extractor for\n",
      "            :obj:`config` is loaded (if it is a string). However, if :obj:`config` is also not given or not a string,\n",
      "            then the default feature extractor for the given :obj:`task` will be loaded.\n",
      "        framework (:obj:`str`, `optional`):\n",
      "            The framework to use, either :obj:`\"pt\"` for PyTorch or :obj:`\"tf\"` for TensorFlow. The specified framework\n",
      "            must be installed.\n",
      "    \n",
      "            If no framework is specified, will default to the one currently installed. If no framework is specified and\n",
      "            both frameworks are installed, will default to the framework of the :obj:`model`, or to PyTorch if no model\n",
      "            is provided.\n",
      "        revision(:obj:`str`, `optional`, defaults to :obj:`\"main\"`):\n",
      "            When passing a task name or a string model identifier: The specific model version to use. It can be a\n",
      "            branch name, a tag name, or a commit id, since we use a git-based system for storing models and other\n",
      "            artifacts on huggingface.co, so ``revision`` can be any identifier allowed by git.\n",
      "        use_fast (:obj:`bool`, `optional`, defaults to :obj:`True`):\n",
      "            Whether or not to use a Fast tokenizer if possible (a :class:`~transformers.PreTrainedTokenizerFast`).\n",
      "        use_auth_token (:obj:`str` or `bool`, `optional`):\n",
      "            The token to use as HTTP bearer authorization for remote files. If :obj:`True`, will use the token\n",
      "            generated when running :obj:`transformers-cli login` (stored in :obj:`~/.huggingface`).\n",
      "            revision(:obj:`str`, `optional`, defaults to :obj:`\"main\"`):\n",
      "        model_kwargs:\n",
      "            Additional dictionary of keyword arguments passed along to the model's :obj:`from_pretrained(...,\n",
      "            **model_kwargs)` function.\n",
      "        kwargs:\n",
      "            Additional keyword arguments passed along to the specific pipeline init (see the documentation for the\n",
      "            corresponding pipeline class for possible values).\n",
      "    \n",
      "    Returns:\n",
      "        :class:`~transformers.Pipeline`: A suitable pipeline for the task.\n",
      "    \n",
      "    Examples::\n",
      "    \n",
      "        >>> from transformers import pipeline, AutoModelForTokenClassification, AutoTokenizer\n",
      "    \n",
      "        >>> # Sentiment analysis pipeline\n",
      "        >>> pipeline('sentiment-analysis')\n",
      "    \n",
      "        >>> # Question answering pipeline, specifying the checkpoint identifier\n",
      "        >>> pipeline('question-answering', model='distilbert-base-cased-distilled-squad', tokenizer='bert-base-cased')\n",
      "    \n",
      "        >>> # Named entity recognition pipeline, passing in a specific model and tokenizer\n",
      "        >>> model = AutoModelForTokenClassification.from_pretrained(\"dbmdz/bert-large-cased-finetuned-conll03-english\")\n",
      "        >>> tokenizer = AutoTokenizer.from_pretrained(\"bert-base-cased\")\n",
      "        >>> pipeline('ner', model=model, tokenizer=tokenizer)\n",
      "\n"
     ]
    }
   ],
   "source": [
    "help(pipeline)"
   ]
  },
  {
   "cell_type": "code",
   "execution_count": 31,
   "id": "present-essay",
   "metadata": {
    "slideshow": {
     "slide_type": "subslide"
    }
   },
   "outputs": [
    {
     "name": "stderr",
     "output_type": "stream",
     "text": [
      "No model was supplied, defaulted to distilbert-base-uncased-finetuned-sst-2-english (https://huggingface.co/distilbert-base-uncased-finetuned-sst-2-english)\n"
     ]
    },
    {
     "data": {
      "text/plain": [
       "[{'label': 'POSITIVE', 'score': 0.9998724460601807}]"
      ]
     },
     "execution_count": 31,
     "metadata": {},
     "output_type": "execute_result"
    }
   ],
   "source": [
    "p = pipeline('sentiment-analysis')\n",
    "\n",
    "p(\"I'm happy.\")"
   ]
  },
  {
   "cell_type": "code",
   "execution_count": 32,
   "id": "operational-cooling",
   "metadata": {
    "slideshow": {
     "slide_type": "subslide"
    }
   },
   "outputs": [
    {
     "data": {
      "text/plain": [
       "[{'label': 'NEGATIVE', 'score': 0.9994174242019653}]"
      ]
     },
     "execution_count": 32,
     "metadata": {},
     "output_type": "execute_result"
    }
   ],
   "source": [
    "p(\"I'm sad.\")"
   ]
  },
  {
   "cell_type": "code",
   "execution_count": 33,
   "id": "attended-domain",
   "metadata": {
    "slideshow": {
     "slide_type": "subslide"
    }
   },
   "outputs": [
    {
     "data": {
      "text/plain": [
       "[{'label': 'NEGATIVE', 'score': 0.9998021721839905}]"
      ]
     },
     "execution_count": 33,
     "metadata": {},
     "output_type": "execute_result"
    }
   ],
   "source": [
    "p(\"I'm not happy.\")"
   ]
  },
  {
   "cell_type": "code",
   "execution_count": 34,
   "id": "confidential-making",
   "metadata": {
    "slideshow": {
     "slide_type": "subslide"
    }
   },
   "outputs": [
    {
     "name": "stderr",
     "output_type": "stream",
     "text": [
      "No model was supplied, defaulted to dbmdz/bert-large-cased-finetuned-conll03-english (https://huggingface.co/dbmdz/bert-large-cased-finetuned-conll03-english)\n"
     ]
    },
    {
     "data": {
      "text/plain": [
       "[{'entity_group': 'PER',\n",
       "  'score': 0.9996402,\n",
       "  'word': 'Ulrich Glassmann',\n",
       "  'start': 35,\n",
       "  'end': 51},\n",
       " {'entity_group': 'ORG',\n",
       "  'score': 0.8913957,\n",
       "  'word': 'Europa - Universität Flensburg',\n",
       "  'start': 59,\n",
       "  'end': 89},\n",
       " {'entity_group': 'ORG',\n",
       "  'score': 0.988505,\n",
       "  'word': 'EUF',\n",
       "  'start': 92,\n",
       "  'end': 95},\n",
       " {'entity_group': 'ORG',\n",
       "  'score': 0.6957305,\n",
       "  'word': 'Cluster',\n",
       "  'start': 130,\n",
       "  'end': 137},\n",
       " {'entity_group': 'PER',\n",
       "  'score': 0.9996954,\n",
       "  'word': 'Ulrich',\n",
       "  'start': 139,\n",
       "  'end': 145}]"
      ]
     },
     "execution_count": 34,
     "metadata": {},
     "output_type": "execute_result"
    }
   ],
   "source": [
    "import transformers\n",
    "\n",
    "p = pipeline('ner', aggregation_strategy=transformers.pipelines.AggregationStrategy.SIMPLE)\n",
    "\n",
    "p(\"\"\"We would like to belatedly welcome Ulrich Glassmann of the Europa-Universität\n",
    "  Flensburg (#EUF), who is currently a guest at the Cluster. Ulrich has just decided\n",
    "  to extend his stay until the end of June, welcome news indeed!\"\"\")"
   ]
  },
  {
   "cell_type": "code",
   "execution_count": 35,
   "id": "environmental-birthday",
   "metadata": {
    "slideshow": {
     "slide_type": "subslide"
    }
   },
   "outputs": [
    {
     "data": {
      "text/plain": [
       "[{'translation_text': 'It is not only different calculations that cause headaches. Self-perception shows that in Germany there are massive misunderstandings about the extent and type of inequality.'}]"
      ]
     },
     "execution_count": 35,
     "metadata": {},
     "output_type": "execute_result"
    }
   ],
   "source": [
    "p = pipeline('translation', model='facebook/wmt19-de-en')\n",
    "\n",
    "p(\"\"\"Nicht nur unterschiedliche Berechnungen bereiten Kopfzerbrechen.\n",
    "  Bei der Eigenwahrnehmung zeigt sich: In Deutschland gibt es massive\n",
    "  Missverständnisse über Ausmaß und Art von Ungleichheit.\"\"\")"
   ]
  },
  {
   "cell_type": "code",
   "execution_count": 36,
   "id": "adapted-adams",
   "metadata": {
    "slideshow": {
     "slide_type": "subslide"
    }
   },
   "outputs": [
    {
     "data": {
      "text/plain": [
       "[{'translation_text': 'Mit Verspätung begrüßen wir Ulrich Glassmann von der Europa-Universität Flensburg (# EUF), der derzeit zu Gast im Cluster ist. Er hat sich gerade entschieden, seinen Aufenthalt bis Ende Juni zu verlängern, eine gute Nachricht!'}]"
      ]
     },
     "execution_count": 36,
     "metadata": {},
     "output_type": "execute_result"
    }
   ],
   "source": [
    "p = pipeline('translation', model='facebook/wmt19-en-de')\n",
    "\n",
    "p(\"\"\"We would like to belatedly welcome Ulrich Glassmann of the Europa-Universität\n",
    "  Flensburg (#EUF), who is currently a guest at the Cluster. Ulrich has just decided\n",
    "  to extend his stay until the end of June, welcome news indeed!\"\"\")"
   ]
  },
  {
   "cell_type": "markdown",
   "id": "opened-netscape",
   "metadata": {
    "slideshow": {
     "slide_type": "subslide"
    }
   },
   "source": [
    "For text generation capabilities of transformers, see the [demo page](https://transformer.huggingface.co/).\n",
    "\n",
    "Or run in the console:\n",
    "```python\n",
    "p = pipeline('text-generation', model='distilgpt2')\n",
    "p(\"In Germany there are massive misunderstandings about the extent and type of inequality.\")\n",
    "```"
   ]
  }
 ],
 "metadata": {
  "celltoolbar": "Slideshow",
  "kernelspec": {
   "display_name": "Python 3",
   "language": "python",
   "name": "python3"
  },
  "language_info": {
   "codemirror_mode": {
    "name": "ipython",
    "version": 3
   },
   "file_extension": ".py",
   "mimetype": "text/x-python",
   "name": "python",
   "nbconvert_exporter": "python",
   "pygments_lexer": "ipython3",
   "version": "3.9.7"
  }
 },
 "nbformat": 4,
 "nbformat_minor": 5
}
